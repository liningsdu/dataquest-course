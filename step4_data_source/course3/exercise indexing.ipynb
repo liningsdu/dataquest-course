{
 "cells": [
  {
   "cell_type": "code",
   "execution_count": 1,
   "metadata": {},
   "outputs": [],
   "source": [
    "import sqlite3"
   ]
  },
  {
   "cell_type": "code",
   "execution_count": 2,
   "metadata": {},
   "outputs": [
    {
     "name": "stdout",
     "output_type": "stream",
     "text": [
      "(0, 'id', 'INTEGER', 1, None, 1)\n",
      "(1, 'code', 'varchar(255)', 1, None, 0)\n",
      "(2, 'name', 'varchar(255)', 1, None, 0)\n",
      "(3, 'area', 'integer', 0, None, 0)\n",
      "(4, 'area_land', 'integer', 0, None, 0)\n",
      "(5, 'area_water', 'integer', 0, None, 0)\n",
      "(6, 'population', 'integer', 0, None, 0)\n",
      "(7, 'population_growth', 'float', 0, None, 0)\n",
      "(8, 'birth_rate', 'float', 0, None, 0)\n",
      "(9, 'death_rate', 'float', 0, None, 0)\n",
      "(10, 'migration_rate', 'float', 0, None, 0)\n",
      "(11, 'created_at', 'datetime', 0, None, 0)\n",
      "(12, 'updated_at', 'datetime', 0, None, 0)\n"
     ]
    }
   ],
   "source": [
    "conn = sqlite3.connect(\"factbook.db\")\n",
    "cur = conn.cursor()\n",
    "cur.execute(\"PRAGMA table_info(facts)\")\n",
    "schema = cur.fetchall()\n",
    "for row in schema:\n",
    "    print(row)\n",
    "conn.close()"
   ]
  },
  {
   "cell_type": "code",
   "execution_count": 5,
   "metadata": {},
   "outputs": [
    {
     "name": "stdout",
     "output_type": "stream",
     "text": [
      "[(2, 0, 0, 'SCAN TABLE facts')]\n"
     ]
    }
   ],
   "source": [
    "conn = sqlite3.connect('factbook.db')\n",
    "query_plan = conn.cursor().execute(\"EXPLAIN QUERY PLAN SELECT * FROM facts\").fetchall()\n",
    "print(query_plan)\n",
    "conn.close()"
   ]
  },
  {
   "cell_type": "code",
   "execution_count": 10,
   "metadata": {},
   "outputs": [
    {
     "name": "stdout",
     "output_type": "stream",
     "text": [
      "[(2, 0, 0, 'SCAN TABLE facts')]\n",
      "[(2, 0, 0, 'SCAN TABLE facts')]\n",
      "[(2, 0, 0, 'SCAN TABLE facts')]\n",
      "[(2, 0, 0, 'SEARCH TABLE facts USING INTEGER PRIMARY KEY (rowid=?)')]\n"
     ]
    }
   ],
   "source": [
    "conn = sqlite3.connect(\"factbook.db\")\n",
    "eqp = \"EXPLAIN QUERY PLAN \"\n",
    "query_plan_one = conn.cursor().execute(eqp+\"SELECT * FROM facts WHERE area > 40000;\").fetchall()\n",
    "query_plan_two = conn.execute(eqp + \"SELECT area FROM facts WHERE area > 40000;\").fetchall()\n",
    "query_plan_three = conn.execute(eqp + \"SELECT * FROM facts WHERE name = 'Czech Republic';\").fetchall()\n",
    "query_plan_four = conn.execute(\"EXPLAIN QUERY PLAN SELECT * FROM facts WHERE id = 15;\").fetchall()\n",
    "print(query_plan_one)\n",
    "print(query_plan_two)\n",
    "print(query_plan_three)\n",
    "print(query_plan_four)\n",
    "conn.close()"
   ]
  },
  {
   "cell_type": "markdown",
   "metadata": {},
   "source": [
    "SQLite can use binary search to quickly find the corresponding row at that id value. Instead of performing a full table scan, SQLite would:\n",
    "\n",
    "    use binary search to find the first row where the id value matches 15 in O(log N) time complexity and store this row in a temporary collection,\n",
    "    advance to the next row to look for any more rows with the same id values and add those rows to the temporary collection,\n",
    "    return the final collection of rows that matched.\n"
   ]
  },
  {
   "cell_type": "code",
   "execution_count": 9,
   "metadata": {},
   "outputs": [
    {
     "name": "stdout",
     "output_type": "stream",
     "text": [
      "[(1, 'af', 'Afghanistan', 652230, 652230, 0, 32564342, 2.32, 38.57, 13.89, 1.51, '2015-11-01 13:19:49.461734', '2015-11-01 13:19:49.461734')]\n"
     ]
    }
   ],
   "source": [
    "conn = sqlite3.connect(\"factbook.db\")\n",
    "print(conn.cursor().execute(\"SELECT * FROM facts LIMIT 1;\").fetchall())\n",
    "conn.close()"
   ]
  },
  {
   "cell_type": "code",
   "execution_count": 11,
   "metadata": {},
   "outputs": [
    {
     "name": "stdout",
     "output_type": "stream",
     "text": [
      "[(2, 0, 0, 'SCAN TABLE facts')]\n",
      "[(3, 0, 0, 'SEARCH TABLE facts USING INDEX pop_idx (population>?)')]\n"
     ]
    }
   ],
   "source": [
    "# CREATE INDEX IF NOT EXISTS area_indx ON facts(area);\n",
    "conn = sqlite3.connect(\"factbook.db\")\n",
    "query_plan_six = conn.cursor().execute(\"explain query plan SELECT * FROM facts WHERE population > 10000;\").fetchall()\n",
    "print(query_plan_six)\n",
    "conn.cursor().execute(\"CREATE INDEX IF NOT EXISTS pop_idx ON facts(population);\")\n",
    "query_plan_seven=conn.execute(\"explain query plan SELECT * FROM facts WHERE population > 10000;\").fetchall()\n",
    "print(query_plan_seven)\n",
    "conn.close()"
   ]
  },
  {
   "cell_type": "code",
   "execution_count": 12,
   "metadata": {},
   "outputs": [
    {
     "name": "stdout",
     "output_type": "stream",
     "text": [
      "[(3, 0, 0, 'SEARCH TABLE facts USING INDEX pop_idx (population>?)')]\n"
     ]
    }
   ],
   "source": [
    "conn = sqlite3.connect(\"factbook.db\")\n",
    "cur = conn.cursor()\n",
    "query = \"EXPLAIN QUERY PLAN SELECT * FROM facts WHERE population > 1000000 AND population_growth<0.05;\"\n",
    "query_plan_one = cur.execute(query).fetchall()\n",
    "print(query_plan_one)\n",
    "conn.close()"
   ]
  },
  {
   "cell_type": "code",
   "execution_count": 15,
   "metadata": {},
   "outputs": [
    {
     "name": "stdout",
     "output_type": "stream",
     "text": [
      "[(3, 0, 0, 'SEARCH TABLE facts USING INDEX pop_pop_growth_idx (population>?)')]\n"
     ]
    }
   ],
   "source": [
    "conn = sqlite3.connect('factbook.db')\n",
    "cur = conn.cursor()\n",
    "query = \"create index if not exists pop_pop_growth_idx on facts(population, population_growth);\"\n",
    "cur.execute(query)\n",
    "query_plan = cur.execute(\"explain query plan select * from facts where population > 1000000 and population_growth < 0.05;\").fetchall()\n",
    "print(query_plan)\n",
    "conn.close()\n",
    "                         "
   ]
  },
  {
   "cell_type": "code",
   "execution_count": null,
   "metadata": {},
   "outputs": [],
   "source": []
  }
 ],
 "metadata": {
  "kernelspec": {
   "display_name": "Python 3",
   "language": "python",
   "name": "python3"
  },
  "language_info": {
   "codemirror_mode": {
    "name": "ipython",
    "version": 3
   },
   "file_extension": ".py",
   "mimetype": "text/x-python",
   "name": "python",
   "nbconvert_exporter": "python",
   "pygments_lexer": "ipython3",
   "version": "3.7.0"
  }
 },
 "nbformat": 4,
 "nbformat_minor": 4
}
