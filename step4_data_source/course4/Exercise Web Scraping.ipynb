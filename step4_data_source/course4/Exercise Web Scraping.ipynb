{
 "cells": [
  {
   "cell_type": "code",
   "execution_count": 6,
   "metadata": {},
   "outputs": [],
   "source": [
    "import requests\n",
    "from bs4 import BeautifulSoup"
   ]
  },
  {
   "cell_type": "code",
   "execution_count": 8,
   "metadata": {},
   "outputs": [
    {
     "name": "stdout",
     "output_type": "stream",
     "text": [
      "b'<!DOCTYPE html>\\n<html>\\n    <head>\\n        <title>A simple example page</title>\\n    </head>\\n    <body>\\n        <p>Here is some simple content for this page.</p>\\n    </body>\\n</html>'\n"
     ]
    }
   ],
   "source": [
    "response = requests.get(\"http://dataquestio.github.io/web-scraping-pages/simple.html\")\n",
    "content = response.content\n",
    "print(content)"
   ]
  },
  {
   "cell_type": "code",
   "execution_count": 13,
   "metadata": {},
   "outputs": [],
   "source": [
    "# Initialize the parser, and pass in the content grabbed earlier\n",
    "parser = BeautifulSoup(content, 'html.parser')\n",
    "\n",
    "# Get the body tag from the document.\n",
    "# Since we passed in the top level of the document to the parser, we need to pick a branch off of the root.\n",
    "# With BeautifulSoup, we can access branches by using tag types as attributes.\n",
    "body = parser.body\n",
    "\n",
    "#Get the p tag from the body\n",
    "p = body.p\n",
    "\n",
    "# Get the text inside the title tag\n",
    "# Text is a property that gets the inside text of a tag\n",
    "title = parser.head.title\n",
    "title_text = title.text"
   ]
  },
  {
   "cell_type": "code",
   "execution_count": 35,
   "metadata": {},
   "outputs": [
    {
     "name": "stdout",
     "output_type": "stream",
     "text": [
      "[<body>\n",
      "<p>Here is some simple content for this page.</p>\n",
      "</body>]\n",
      "[<p>Here is some simple content for this page.</p>]\n",
      "Here is some simple content for this page.\n"
     ]
    }
   ],
   "source": [
    "type(title)\n",
    "title.find_all()\n",
    "parser.find_all()\n",
    "\n",
    "#Get a list of all occurrences of the body tag in the element\n",
    "body = parser.find_all('body') #return a list of Tag instances\n",
    "print(body)\n",
    "#Get the paragraph tag.\n",
    "p = body[0].find_all('p')\n",
    "print(p)\n",
    "#Get the text\n",
    "print(p[0].text)\n",
    "\n",
    "# Get the text inside the title tag\n",
    "title_text = parser.find_all('head')[0].find_all('title')[0].text"
   ]
  },
  {
   "cell_type": "code",
   "execution_count": 36,
   "metadata": {},
   "outputs": [
    {
     "data": {
      "text/plain": [
       "'A simple example page'"
      ]
     },
     "execution_count": 36,
     "metadata": {},
     "output_type": "execute_result"
    }
   ],
   "source": [
    "title_text"
   ]
  },
  {
   "cell_type": "code",
   "execution_count": 37,
   "metadata": {},
   "outputs": [
    {
     "data": {
      "text/plain": [
       "bs4.element.Tag"
      ]
     },
     "execution_count": 37,
     "metadata": {},
     "output_type": "execute_result"
    }
   ],
   "source": [
    "type(parser.find_all('head')[0])"
   ]
  },
  {
   "cell_type": "markdown",
   "metadata": {},
   "source": [
    "### HTML uses the div tag to create a divider that splits the page into logical units, like a \"box\" that contains content."
   ]
  },
  {
   "cell_type": "code",
   "execution_count": 38,
   "metadata": {},
   "outputs": [
    {
     "name": "stdout",
     "output_type": "stream",
     "text": [
      "\n",
      "                First paragraph.\n",
      "            \n"
     ]
    }
   ],
   "source": [
    "# Get the page content and set up a new parser\n",
    "response = requests.get(\"http://dataquestio.github.io/web-scraping-pages/simple_ids.html\")\n",
    "content = response.content\n",
    "parser = BeautifulSoup(content, 'html.parser')\n",
    "\n",
    "#Pass in the ID attribute to only get the element with that specific ID.\n",
    "first_paragraph = parser.find_all('p', id = 'first')[0]\n",
    "print(first_paragraph.text)"
   ]
  },
  {
   "cell_type": "code",
   "execution_count": 44,
   "metadata": {},
   "outputs": [
    {
     "data": {
      "text/plain": [
       "'\\n                First paragraph.\\n            '"
      ]
     },
     "execution_count": 44,
     "metadata": {},
     "output_type": "execute_result"
    }
   ],
   "source": [
    "parser.find_all('p', id = 'first')[0].text"
   ]
  },
  {
   "cell_type": "code",
   "execution_count": 53,
   "metadata": {},
   "outputs": [
    {
     "data": {
      "text/plain": [
       "'\\nA simple example page\\n'"
      ]
     },
     "execution_count": 53,
     "metadata": {},
     "output_type": "execute_result"
    }
   ],
   "source": [
    "a =parser.find_all('head')[0]\n",
    "b = a.text\n",
    "b"
   ]
  },
  {
   "cell_type": "code",
   "execution_count": 55,
   "metadata": {},
   "outputs": [
    {
     "data": {
      "text/plain": [
       "'\\n                First paragraph.\\n            '"
      ]
     },
     "execution_count": 55,
     "metadata": {},
     "output_type": "execute_result"
    }
   ],
   "source": [
    "parser.find_all(id = 'first')[0].text"
   ]
  },
  {
   "cell_type": "code",
   "execution_count": 57,
   "metadata": {},
   "outputs": [
    {
     "name": "stdout",
     "output_type": "stream",
     "text": [
      "\n",
      "\n",
      "                Second paragraph.\n",
      "            \n",
      "\n"
     ]
    }
   ],
   "source": [
    "second_paragraph_text = parser.find_all('p', id = 'second')[0].text\n",
    "print(second_paragraph_text)"
   ]
  },
  {
   "cell_type": "code",
   "execution_count": 58,
   "metadata": {},
   "outputs": [],
   "source": [
    "response = requests.get(\"http://dataquestio.github.io/web-scraping-pages/simple_classes.html\")\n",
    "content = response.content\n",
    "parser = BeautifulSoup(content, \"html.parser\")"
   ]
  },
  {
   "cell_type": "code",
   "execution_count": 64,
   "metadata": {},
   "outputs": [
    {
     "data": {
      "text/plain": [
       "'\\n                First paragraph.\\n            '"
      ]
     },
     "execution_count": 64,
     "metadata": {},
     "output_type": "execute_result"
    }
   ],
   "source": [
    "parser.find_all('p', class_ = 'inner-text')[0].text"
   ]
  },
  {
   "cell_type": "markdown",
   "metadata": {},
   "source": [
    "## Cascading Styple Sheets ---- CSS\n",
    "* A language for adding styles to HTML pages.\n",
    "* CSS uses selectors to add style to the elements and classes of element specified. Add background colors, text colors, borders, padding...\n",
    "* p{\n",
    "    color: red\n",
    "   } * all text inside all paragraph\n",
    " * p.inner-text{\n",
    "    color: red\n",
    "   }   *Select class with the dot symbol(.). Text for any paragraphs that have class inner-text\n",
    " * p#first{\n",
    "    color: red\n",
    "   } * Select IDs with pound or hash symbol(#). Text for any paragraphs that have the ID first.\n",
    " * #first{\n",
    "    color: red\n",
    "   } * Element with the ID first(not just paragraphs)\n",
    " * .inner-text{\n",
    "    color: red\n",
    "   } * Any element with the class inner-text\n",
    "   \n",
    "### Can use BeautifulSoup's .select method to work with CSS selectors."
   ]
  },
  {
   "cell_type": "code",
   "execution_count": 65,
   "metadata": {},
   "outputs": [],
   "source": [
    "response = requests.get(\"http://dataquestio.github.io/web-scraping-pages/ids_and_classes.html\")\n",
    "content = response.content\n",
    "parser = BeautifulSoup(content, 'html.parser')"
   ]
  },
  {
   "cell_type": "code",
   "execution_count": 72,
   "metadata": {},
   "outputs": [
    {
     "data": {
      "text/plain": [
       "[<p class=\"inner-text first-item\" id=\"first\">\n",
       "                 First paragraph.\n",
       "             </p>,\n",
       " <p class=\"outer-text first-item\" id=\"second\">\n",
       " <b>\n",
       "                 First outer paragraph.\n",
       "             </b>\n",
       " </p>]"
      ]
     },
     "execution_count": 72,
     "metadata": {},
     "output_type": "execute_result"
    }
   ],
   "source": [
    "# Select all of the elements that have the first-time class\n",
    "first_items = parser.find_all(class_ = 'first-item')\n",
    "first_items"
   ]
  },
  {
   "cell_type": "code",
   "execution_count": 75,
   "metadata": {},
   "outputs": [
    {
     "name": "stdout",
     "output_type": "stream",
     "text": [
      "\n",
      "                First paragraph.\n",
      "            \n"
     ]
    },
    {
     "data": {
      "text/plain": [
       "[<p class=\"inner-text first-item\" id=\"first\">\n",
       "                 First paragraph.\n",
       "             </p>,\n",
       " <p class=\"outer-text first-item\" id=\"second\">\n",
       " <b>\n",
       "                 First outer paragraph.\n",
       "             </b>\n",
       " </p>]"
      ]
     },
     "execution_count": 75,
     "metadata": {},
     "output_type": "execute_result"
    }
   ],
   "source": [
    "first_items = parser.select(\".first-item\")\n",
    "print(first_items[0].text)\n",
    "first_items"
   ]
  },
  {
   "cell_type": "code",
   "execution_count": 77,
   "metadata": {},
   "outputs": [
    {
     "data": {
      "text/plain": [
       "'\\n\\n                First outer paragraph.\\n            \\n'"
      ]
     },
     "execution_count": 77,
     "metadata": {},
     "output_type": "execute_result"
    }
   ],
   "source": [
    "first_outer_text = parser.select(\".outer-text\")[0].text\n",
    "second_text = parser.select(\"#second\")[0].text\n",
    "second_text"
   ]
  },
  {
   "cell_type": "markdown",
   "metadata": {},
   "source": [
    "## We can nest CSS selectors similar to the way HTML nests tags. For example, we could use selectors to find all of the paragraphs inside the body tag.\n",
    "* div p * any paragraph inside a div tag\n",
    "* div .first-item * any item inside a div tag that has teh class first-item\n",
    "* body div #first * Any item that's inside a div tag inside a body tag, but only if also has the ID first\n",
    "* .first-item #first ---------------Any items with the ID first that are inside any items with the class first-item"
   ]
  },
  {
   "cell_type": "code",
   "execution_count": 78,
   "metadata": {},
   "outputs": [],
   "source": [
    "response = requests.get(\"http://dataquestio.github.io/web-scraping-pages/2014_super_bowl.html\")\n",
    "parser = BeautifulSoup(response.content, 'html.parser')"
   ]
  },
  {
   "cell_type": "code",
   "execution_count": 87,
   "metadata": {},
   "outputs": [
    {
     "data": {
      "text/plain": [
       "'1'"
      ]
     },
     "execution_count": 87,
     "metadata": {},
     "output_type": "execute_result"
    }
   ],
   "source": [
    "# Find the number of turnovers the Seahawks committed\n",
    "turnovers = parser.select(\"#turnovers\")[0]\n",
    "seahawks_turnovers = turnovers.select(\"td\")[1]\n",
    "seahawks_turnovers_count = seahawks_turnovers.text\n",
    "seahawks_turnovers_count"
   ]
  },
  {
   "cell_type": "code",
   "execution_count": 91,
   "metadata": {},
   "outputs": [
    {
     "data": {
      "text/plain": [
       "'396'"
      ]
     },
     "execution_count": 91,
     "metadata": {},
     "output_type": "execute_result"
    }
   ],
   "source": [
    "# Total plays for the New England Patriots\n",
    "patriots_total_plays_count = parser.select(\"#total-plays\")[0].select(\"td\")[2].text\n",
    "total_yards = parser.select(\"#total-yards\")[0]\n",
    "seahawks_total_yards_count = total_yards.select(\"td\")[1].text\n",
    "seahawks_total_yards_count"
   ]
  },
  {
   "cell_type": "code",
   "execution_count": 97,
   "metadata": {},
   "outputs": [
    {
     "data": {
      "text/plain": [
       "[<tr id=\"total-yards\">\n",
       " <td>Total yards</td>\n",
       " <td>396</td>\n",
       " <td>377</td>\n",
       " </tr>]"
      ]
     },
     "execution_count": 97,
     "metadata": {},
     "output_type": "execute_result"
    }
   ],
   "source": [
    "parser.select('body #total-yards')"
   ]
  },
  {
   "cell_type": "code",
   "execution_count": 101,
   "metadata": {},
   "outputs": [],
   "source": [
    "response = requests.get(\"https://guides.github.com/activities/hello-world/\")\n",
    "parser= BeautifulSoup(response.content, 'html.parser')"
   ]
  },
  {
   "cell_type": "code",
   "execution_count": 109,
   "metadata": {},
   "outputs": [
    {
     "data": {
      "text/plain": [
       "[<p><a class=\"toc-item\" id=\"intro\" title=\"Intro\"></a></p>,\n",
       " <p>The <strong>Hello World</strong> project is a time-honored tradition in computer programming. It is a simple exercise that gets you started when learning something new. Let’s get started with GitHub!</p>,\n",
       " <p><strong>You’ll learn how to:</strong></p>,\n",
       " <p><a class=\"toc-item\" id=\"what\" title=\"What is GitHub?\"></a></p>,\n",
       " <p>GitHub is a code hosting platform for version control and collaboration. It lets you and others work together on projects from anywhere.</p>,\n",
       " <p>This tutorial teaches you GitHub essentials like <em>repositories</em>, <em>branches</em>, <em>commits</em>, and <em>Pull Requests</em>. You’ll create your own Hello World repository and learn GitHub’s Pull Request workflow, a popular way to create and review code.</p>,\n",
       " <p>To complete this tutorial, you need a <a href=\"http://github.com\">GitHub.com account</a> and Internet access. You don’t need to know how to code, use the command line, or install Git (the version control software GitHub is built on).</p>,\n",
       " <p><strong>Tip:</strong> Open this guide in a separate browser window (or tab) so you can see it while you complete the steps in the tutorial.</p>,\n",
       " <p><a class=\"toc-item\" id=\"repository\" title=\"Create a Repository\"></a></p>,\n",
       " <p>A <strong>repository</strong> is usually used to organize a single project. Repositories can contain folders and files, images, videos, spreadsheets, and data sets – anything your project needs. We recommend including a <em>README</em>, or a file with information about your project. GitHub makes it easy to add one at the same time you create your new repository. <em>It also offers other common options such as a license file.</em></p>,\n",
       " <p>Your <code class=\"language-plaintext highlighter-rouge\">hello-world</code> repository can be a place where you store ideas, resources, or even share and discuss things with others.</p>,\n",
       " <p><img alt=\"new-repo-form\" src=\"/activities/hello-world/create-new-repo.png\"/></p>,\n",
       " <p>Click <strong>Create repository</strong>.</p>,\n",
       " <p><a class=\"toc-item\" id=\"branch\" title=\"Create a Branch\"></a></p>,\n",
       " <p><strong>Branching</strong> is the way to work on different versions of a repository at one time.</p>,\n",
       " <p>By default your repository has one branch named <code class=\"language-plaintext highlighter-rouge\">master</code> which is considered to be the definitive branch. We use branches to experiment and make edits before committing them to <code class=\"language-plaintext highlighter-rouge\">master</code>.</p>,\n",
       " <p>When you create a branch off the <code class=\"language-plaintext highlighter-rouge\">master</code> branch, you’re making a copy, or snapshot, of <code class=\"language-plaintext highlighter-rouge\">master</code> as it was at that point in time. If someone else made changes to the <code class=\"language-plaintext highlighter-rouge\">master</code> branch while you were working on your branch, you could pull in those updates.</p>,\n",
       " <p>This diagram shows:</p>,\n",
       " <p><img alt=\"a branch\" src=\"/activities/hello-world/branching.png\"/></p>,\n",
       " <p>Have you ever saved different versions of a file? Something like:</p>,\n",
       " <p>Branches accomplish similar goals in GitHub repositories.</p>,\n",
       " <p>Here at GitHub, our developers, writers, and designers use branches for keeping bug fixes and feature work separate from our <code class=\"language-plaintext highlighter-rouge\">master</code> (production) branch. When a change is ready, they merge their branch into <code class=\"language-plaintext highlighter-rouge\">master</code>.</p>,\n",
       " <p><img alt=\"branch gif\" src=\"/activities/hello-world/readme-edits.gif\"/></p>,\n",
       " <p>Now you have two branches, <code class=\"language-plaintext highlighter-rouge\">master</code> and <code class=\"language-plaintext highlighter-rouge\">readme-edits</code>. They look exactly the same, but not for long! Next we’ll add our changes to the new branch.</p>,\n",
       " <p><a class=\"toc-item\" id=\"commit\" title=\"Make a Commit\"></a></p>,\n",
       " <p>Bravo! Now, you’re on the code view for your <code class=\"language-plaintext highlighter-rouge\">readme-edits</code> branch, which is a copy of <code class=\"language-plaintext highlighter-rouge\">master</code>. Let’s make some edits.</p>,\n",
       " <p>On GitHub, saved changes are called <em>commits</em>. Each commit has an associated <em>commit message</em>, which is a description explaining why a particular change was made. Commit messages capture the history of your changes, so other contributors can understand what you’ve done and why.</p>,\n",
       " <p><img alt=\"commit\" src=\"/activities/hello-world/commit.png\"/></p>,\n",
       " <p>These changes will be made to just the README file on your <code class=\"language-plaintext highlighter-rouge\">readme-edits</code> branch, so now this branch contains content that’s different from <code class=\"language-plaintext highlighter-rouge\">master</code>.</p>,\n",
       " <p><a class=\"toc-item\" id=\"pr\" title=\"Open a Pull Request\"></a></p>,\n",
       " <p>Nice edits! Now that you have changes in a branch off of <code class=\"language-plaintext highlighter-rouge\">master</code>, you can open a <em>pull request</em>.</p>,\n",
       " <p>Pull Requests are the heart of collaboration on GitHub. When you open a <em>pull request</em>, you’re proposing your changes and requesting that someone review and pull in your contribution and merge them into their branch. Pull requests show <em>diffs</em>, or differences, of the content from both branches. The changes, additions, and subtractions are shown in green and red.</p>,\n",
       " <p>As soon as you make a commit, you can open a pull request and start a discussion, even before the code is finished.</p>,\n",
       " <p>By using GitHub’s <a href=\"https://help.github.com/articles/about-writing-and-formatting-on-github/#text-formatting-toolbar\">@mention system</a> in your pull request message, you can ask for feedback from specific people or teams, whether they’re down the hall or 10 time zones away.</p>,\n",
       " <p>You can even open pull requests in your own repository and merge them yourself. It’s a great way to learn the GitHub flow before working on larger projects.</p>,\n",
       " <p><em>Click on the image for a larger version</em></p>,\n",
       " <p>When you’re done with your message, click <strong>Create pull request</strong>!</p>,\n",
       " <p><strong>Tip</strong>: You can use <a href=\"https://help.github.com/articles/basic-writing-and-formatting-syntax/#using-emoji\">emoji</a> and <a href=\"https://help.github.com/articles/file-attachments-on-issues-and-pull-requests/\">drag and drop images and gifs</a> onto comments and Pull Requests.</p>,\n",
       " <p><a class=\"toc-item\" id=\"merge\" title=\"Merge Pull Request\"></a></p>,\n",
       " <p>In this final step, it’s time to bring your changes together – merging your <code class=\"language-plaintext highlighter-rouge\">readme-edits</code> branch into the <code class=\"language-plaintext highlighter-rouge\">master</code> branch.</p>,\n",
       " <p><img alt=\"merge\" src=\"/activities/hello-world/merge-button.png\"/>\n",
       " <img alt=\"delete\" src=\"/activities/hello-world/delete-button.png\"/></p>,\n",
       " <p>By completing this tutorial, you’ve learned to create a project and make a pull request on GitHub!</p>,\n",
       " <p>Here’s what you accomplished in this tutorial:</p>,\n",
       " <p>Take a look at your GitHub profile and you’ll see your new <a href=\"https://help.github.com/articles/viewing-contributions\">contribution squares</a>!</p>,\n",
       " <p>To learn more about the power of Pull Requests, we recommend reading the <a href=\"http://guides.github.com/overviews/flow/\">GitHub flow Guide</a>. You might also visit <a href=\"http://github.com/explore\">GitHub Explore</a> and get involved in an Open Source project.</p>,\n",
       " <p><strong>Tip</strong>: Check out our other <a href=\"http://guides.github.com\">Guides</a>, <a href=\"http://youtube.com/githubguides\">YouTube Channel</a> and <a href=\"https://services.github.com/on-demand/\">On-Demand Training</a> for more on how to get started with GitHub.</p>,\n",
       " <p class=\"last-updated\">Last updated April 7, 2016</p>]"
      ]
     },
     "execution_count": 109,
     "metadata": {},
     "output_type": "execute_result"
    }
   ],
   "source": [
    "para = parser.select(\"body .content-body p\")\n",
    "para"
   ]
  },
  {
   "cell_type": "code",
   "execution_count": 114,
   "metadata": {},
   "outputs": [
    {
     "data": {
      "text/plain": [
       "['The Hello World project is a time-honored tradition in computer programming. It is a simple exercise that gets you started when learning something new. Let’s get started with GitHub!',\n",
       " 'You’ll learn how to:',\n",
       " 'GitHub is a code hosting platform for version control and collaboration. It lets you and others work together on projects from anywhere.',\n",
       " 'This tutorial teaches you GitHub essentials like repositories, branches, commits, and Pull Requests. You’ll create your own Hello World repository and learn GitHub’s Pull Request workflow, a popular way to create and review code.',\n",
       " 'To complete this tutorial, you need a GitHub.com account and Internet access. You don’t need to know how to code, use the command line, or install Git (the version control software GitHub is built on).',\n",
       " 'Tip: Open this guide in a separate browser window (or tab) so you can see it while you complete the steps in the tutorial.',\n",
       " 'A repository is usually used to organize a single project. Repositories can contain folders and files, images, videos, spreadsheets, and data sets – anything your project needs. We recommend including a README, or a file with information about your project. GitHub makes it easy to add one at the same time you create your new repository. It also offers other common options such as a license file.',\n",
       " 'Your hello-world repository can be a place where you store ideas, resources, or even share and discuss things with others.',\n",
       " 'Click Create repository.',\n",
       " 'Branching is the way to work on different versions of a repository at one time.',\n",
       " 'By default your repository has one branch named master which is considered to be the definitive branch. We use branches to experiment and make edits before committing them to master.',\n",
       " 'When you create a branch off the master branch, you’re making a copy, or snapshot, of master as it was at that point in time. If someone else made changes to the master branch while you were working on your branch, you could pull in those updates.',\n",
       " 'This diagram shows:',\n",
       " 'Have you ever saved different versions of a file? Something like:',\n",
       " 'Branches accomplish similar goals in GitHub repositories.',\n",
       " 'Here at GitHub, our developers, writers, and designers use branches for keeping bug fixes and feature work separate from our master (production) branch. When a change is ready, they merge their branch into master.',\n",
       " 'Now you have two branches, master and readme-edits. They look exactly the same, but not for long! Next we’ll add our changes to the new branch.',\n",
       " 'Bravo! Now, you’re on the code view for your readme-edits branch, which is a copy of master. Let’s make some edits.',\n",
       " 'On GitHub, saved changes are called commits. Each commit has an associated commit message, which is a description explaining why a particular change was made. Commit messages capture the history of your changes, so other contributors can understand what you’ve done and why.',\n",
       " 'These changes will be made to just the README file on your readme-edits branch, so now this branch contains content that’s different from master.',\n",
       " 'Nice edits! Now that you have changes in a branch off of master, you can open a pull request.',\n",
       " 'Pull Requests are the heart of collaboration on GitHub. When you open a pull request, you’re proposing your changes and requesting that someone review and pull in your contribution and merge them into their branch. Pull requests show diffs, or differences, of the content from both branches. The changes, additions, and subtractions are shown in green and red.',\n",
       " 'As soon as you make a commit, you can open a pull request and start a discussion, even before the code is finished.',\n",
       " 'By using GitHub’s @mention system in your pull request message, you can ask for feedback from specific people or teams, whether they’re down the hall or 10 time zones away.',\n",
       " 'You can even open pull requests in your own repository and merge them yourself. It’s a great way to learn the GitHub flow before working on larger projects.',\n",
       " 'Click on the image for a larger version',\n",
       " 'When you’re done with your message, click Create pull request!',\n",
       " 'Tip: You can use emoji and drag and drop images and gifs onto comments and Pull Requests.',\n",
       " 'In this final step, it’s time to bring your changes together – merging your readme-edits branch into the master branch.',\n",
       " '\\n',\n",
       " 'By completing this tutorial, you’ve learned to create a project and make a pull request on GitHub!',\n",
       " 'Here’s what you accomplished in this tutorial:',\n",
       " 'Take a look at your GitHub profile and you’ll see your new contribution squares!',\n",
       " 'To learn more about the power of Pull Requests, we recommend reading the GitHub flow Guide. You might also visit GitHub Explore and get involved in an Open Source project.',\n",
       " 'Tip: Check out our other Guides, YouTube Channel and On-Demand Training for more on how to get started with GitHub.',\n",
       " 'Last updated April 7, 2016']"
      ]
     },
     "execution_count": 114,
     "metadata": {},
     "output_type": "execute_result"
    }
   ],
   "source": [
    "[t.text for t in para if len(t.text) > 0]"
   ]
  },
  {
   "cell_type": "code",
   "execution_count": null,
   "metadata": {},
   "outputs": [],
   "source": []
  }
 ],
 "metadata": {
  "kernelspec": {
   "display_name": "Python 3",
   "language": "python",
   "name": "python3"
  },
  "language_info": {
   "codemirror_mode": {
    "name": "ipython",
    "version": 3
   },
   "file_extension": ".py",
   "mimetype": "text/x-python",
   "name": "python",
   "nbconvert_exporter": "python",
   "pygments_lexer": "ipython3",
   "version": "3.7.0"
  }
 },
 "nbformat": 4,
 "nbformat_minor": 4
}
