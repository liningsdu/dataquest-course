{
 "cells": [
  {
   "cell_type": "code",
   "execution_count": 1,
   "metadata": {},
   "outputs": [],
   "source": [
    "%%capture\n",
    "%load_ext sql\n",
    "%sql sqlite:///chinook.db"
   ]
  },
  {
   "cell_type": "code",
   "execution_count": 2,
   "metadata": {},
   "outputs": [
    {
     "name": "stdout",
     "output_type": "stream",
     "text": [
      " * sqlite:///chinook.db\n",
      "Done.\n"
     ]
    },
    {
     "data": {
      "text/html": [
       "<table>\n",
       "    <tr>\n",
       "        <th>invoice_line_id</th>\n",
       "        <th>invoice_id</th>\n",
       "        <th>track_id</th>\n",
       "        <th>unit_price</th>\n",
       "        <th>quantity</th>\n",
       "    </tr>\n",
       "    <tr>\n",
       "        <td>1</td>\n",
       "        <td>1</td>\n",
       "        <td>1158</td>\n",
       "        <td>0.99</td>\n",
       "        <td>1</td>\n",
       "    </tr>\n",
       "    <tr>\n",
       "        <td>2</td>\n",
       "        <td>1</td>\n",
       "        <td>1159</td>\n",
       "        <td>0.99</td>\n",
       "        <td>1</td>\n",
       "    </tr>\n",
       "</table>"
      ],
      "text/plain": [
       "[(1, 1, 1158, 0.99, 1), (2, 1, 1159, 0.99, 1)]"
      ]
     },
     "execution_count": 2,
     "metadata": {},
     "output_type": "execute_result"
    }
   ],
   "source": [
    "%%sql\n",
    "SELECT *\n",
    "    FROM invoice_line\n",
    "    LIMIT 2"
   ]
  },
  {
   "cell_type": "code",
   "execution_count": 3,
   "metadata": {},
   "outputs": [
    {
     "name": "stdout",
     "output_type": "stream",
     "text": [
      " * sqlite:///chinook.db\n",
      "Done.\n"
     ]
    },
    {
     "data": {
      "text/html": [
       "<table>\n",
       "    <tr>\n",
       "        <th>name</th>\n",
       "    </tr>\n",
       "    <tr>\n",
       "        <td>album</td>\n",
       "    </tr>\n",
       "    <tr>\n",
       "        <td>artist</td>\n",
       "    </tr>\n",
       "    <tr>\n",
       "        <td>customer</td>\n",
       "    </tr>\n",
       "    <tr>\n",
       "        <td>employee</td>\n",
       "    </tr>\n",
       "    <tr>\n",
       "        <td>genre</td>\n",
       "    </tr>\n",
       "    <tr>\n",
       "        <td>invoice</td>\n",
       "    </tr>\n",
       "    <tr>\n",
       "        <td>invoice_line</td>\n",
       "    </tr>\n",
       "    <tr>\n",
       "        <td>media_type</td>\n",
       "    </tr>\n",
       "    <tr>\n",
       "        <td>playlist</td>\n",
       "    </tr>\n",
       "    <tr>\n",
       "        <td>playlist_track</td>\n",
       "    </tr>\n",
       "    <tr>\n",
       "        <td>track</td>\n",
       "    </tr>\n",
       "</table>"
      ],
      "text/plain": [
       "[('album',),\n",
       " ('artist',),\n",
       " ('customer',),\n",
       " ('employee',),\n",
       " ('genre',),\n",
       " ('invoice',),\n",
       " ('invoice_line',),\n",
       " ('media_type',),\n",
       " ('playlist',),\n",
       " ('playlist_track',),\n",
       " ('track',)]"
      ]
     },
     "execution_count": 3,
     "metadata": {},
     "output_type": "execute_result"
    }
   ],
   "source": [
    "%%sql\n",
    "SELECT name\n",
    "    FROM sqlite_master\n",
    "    WHERE type IN ('table')"
   ]
  },
  {
   "cell_type": "code",
   "execution_count": null,
   "metadata": {},
   "outputs": [],
   "source": [
    "%%sql\n",
    "SELECT *\n",
    "    FROM invoice_line\n",
    "    LIMIT 2"
   ]
  },
  {
   "cell_type": "code",
   "execution_count": null,
   "metadata": {},
   "outputs": [],
   "source": [
    "%%sql\n",
    "SELECT *\n",
    "    FROM track\n",
    "    LIMIT 2"
   ]
  },
  {
   "cell_type": "code",
   "execution_count": null,
   "metadata": {},
   "outputs": [],
   "source": [
    "%%sql\n",
    "SELECT * FROM media_type LIMIT 2"
   ]
  },
  {
   "cell_type": "code",
   "execution_count": null,
   "metadata": {},
   "outputs": [],
   "source": [
    "%%sql\n",
    "SELECT COUNT(*) FROM invoice_line "
   ]
  },
  {
   "cell_type": "code",
   "execution_count": null,
   "metadata": {},
   "outputs": [],
   "source": [
    "%%sql\n",
    "SELeCT * FROM invoice_line WHERE invoice_id = 3"
   ]
  },
  {
   "cell_type": "code",
   "execution_count": null,
   "metadata": {},
   "outputs": [],
   "source": [
    "%%sql\n",
    "SELECT * FROM invoice_line il\n",
    "INNER JOIN track t ON t.track_id = il.track_id\n",
    "WHERE invoice_id = 3"
   ]
  },
  {
   "cell_type": "code",
   "execution_count": null,
   "metadata": {},
   "outputs": [],
   "source": [
    "%%sql\n",
    "SELECT *\n",
    "    FROM invoice_line il\n",
    "    INNER JOIN track t ON t.track_id = il.track_id\n",
    "    INNER JOIN media_type mt ON mt.media_type_id = t.media_type_id\n",
    "    WHERE invoice_id = 3"
   ]
  },
  {
   "cell_type": "code",
   "execution_count": null,
   "metadata": {},
   "outputs": [],
   "source": [
    "%%sql\n",
    "SELECT il.track_id, t.name AS track_name, at.name AS artist_name, mt.name AS track_type, il.unit_price, il.quantity\n",
    "    FROM invoice_line il\n",
    "    INNER JOIN track t ON t.track_id = il.track_id\n",
    "    INNER JOIN media_type mt ON mt.media_type_id = t.media_type_id\n",
    "    INNER JOIN album ab ON ab.album_id = t.album_id\n",
    "    INNER JOIN artist at ON at.artist_id = ab.artist_id\n",
    "    WHERE il.invoice_id = 4"
   ]
  },
  {
   "cell_type": "code",
   "execution_count": null,
   "metadata": {},
   "outputs": [],
   "source": [
    "%%sql\n",
    "SELECT t.track_id, ar.name artist_name\n",
    "    FROM track t\n",
    "    INNER JOIN album al on al.album_id = t.album_id\n",
    "    INNER JOIN artist ar ON ar.artist_id = al.artist_id\n",
    "    ORDER BY 1\n",
    "    LIMIT 5"
   ]
  },
  {
   "cell_type": "code",
   "execution_count": null,
   "metadata": {},
   "outputs": [],
   "source": [
    "%%sql\n",
    "SELECT il.invoice_line_id, il.track_id, ta.artist_name\n",
    "    FROM invoice_line il\n",
    "    INNER JOIN (\n",
    "                SELECT t.track_id, ar.name artist_name\n",
    "                FROM track t\n",
    "                INNER JOIN album al ON al.album_id = t.album_id\n",
    "                INNER JOIN artist ar ON ar.artist_id = al.artist_id)\n",
    "                ta ON ta.track_id = il.track_id\n",
    "    ORDER BY 1\n",
    "    LIMIT 5"
   ]
  },
  {
   "cell_type": "code",
   "execution_count": null,
   "metadata": {},
   "outputs": [],
   "source": [
    "%%sql\n",
    "SELECT ta.artist_name, COUNT(*) tracks_purchased\n",
    "    FROM invoice_line il\n",
    "    INNER JOIN (\n",
    "                SELECT t.track_id, ar.name artist_name\n",
    "                FROM track t\n",
    "                INNER JOIN album al ON al.album_id = t.album_id\n",
    "                INNER JOIN artist ar ON ar.artist_id = al.artist_id)\n",
    "                ta ON ta.track_id = il.track_id\n",
    "    GROUP BY 1\n",
    "    ORDER BY 2 DESC \n",
    "    \n",
    "    LIMIT 10"
   ]
  },
  {
   "cell_type": "code",
   "execution_count": null,
   "metadata": {},
   "outputs": [],
   "source": [
    "%%sql\n",
    "SELECT ta.album, ta.artist, SUM(il.quantity) AS tracks_purchased\n",
    "    FROM invoice_line il\n",
    "    INNER JOIN (SELECT t.track_id,al.title AS album, ar.name AS artist\n",
    "               FROM track t\n",
    "               INNER JOIN album al ON al.album_id = t.album_id\n",
    "               INNER JOIN artist ar ON ar.artist_id = al.artist_id)\n",
    "                ta ON ta.track_id = il.track_id\n",
    "    GROUP BY 1\n",
    "    ORDER BY 3 DESC\n",
    "    LIMIT 5"
   ]
  },
  {
   "cell_type": "code",
   "execution_count": null,
   "metadata": {},
   "outputs": [],
   "source": [
    "%%sql\n",
    "SELECT e1.employee_id, e2.employee_id supervisor_id\n",
    "    FROM employee e1\n",
    "    INNER JOIN employee e2 ON e1.reports_to = e2.employee_id\n",
    "    LIMIT 4;"
   ]
  },
  {
   "cell_type": "code",
   "execution_count": null,
   "metadata": {},
   "outputs": [],
   "source": [
    "%%sql\n",
    "SELECT album_id, artist_id, \"album id is\" || album_id col1, \"artist id is\" || artist_id col2, album_id || artist_id col3\n",
    "    FROM album LIMIT 3"
   ]
  },
  {
   "cell_type": "code",
   "execution_count": null,
   "metadata": {},
   "outputs": [],
   "source": [
    "%%sql\n",
    "SELECT e1.first_name || \" \" || e1.last_name AS employee_name, e1.title AS employee_title, \n",
    "       e2.first_name || \" \" || e2.last_name AS supervisor_name, e2.title AS supervisor_title\n",
    "    FROM employee e1\n",
    "    LEFT JOIN employee e2 ON e1.reports_to = e2.employee_id\n",
    "    ORDER BY employee_name\n",
    "    LIMIT 5"
   ]
  },
  {
   "cell_type": "code",
   "execution_count": null,
   "metadata": {},
   "outputs": [],
   "source": [
    "%%sql\n",
    "SELECT first_name, last_name, phone\n",
    "    FROM customer\n",
    "    WHERE first_name LIKE \"%Belle%\""
   ]
  },
  {
   "cell_type": "code",
   "execution_count": null,
   "metadata": {},
   "outputs": [],
   "source": [
    "%%sql\n",
    "SELECT media_type_id, name,\n",
    "        CASE \n",
    "            WHEN name LIKE \"%Protected%\" THEN 1\n",
    "            ELSE 0\n",
    "            END\n",
    "            AS Protected\n",
    "    FROM media_type"
   ]
  },
  {
   "cell_type": "code",
   "execution_count": null,
   "metadata": {},
   "outputs": [],
   "source": [
    "%%sql\n",
    "SELECT c.first_name||\" \"||c.last_name AS customer_name, COUNT(*) AS number_of_purchases, SUM(i.total) AS total_spent,\n",
    "     CASE \n",
    "        WHEN SUM(i.total) < 40 THEN \"small spender\"\n",
    "        WHEN SUM(i.total) <= 100 THEN \"regular\"\n",
    "        ELSE \"big spender\"\n",
    "        END\n",
    "        AS customer_category\n",
    "    FROM customer c\n",
    "    INNER JOIN invoice i ON i.customer_id = c.customer_id\n",
    "    GROUP BY 1\n",
    "    ORDER BY 1\n",
    "\n",
    "    "
   ]
  },
  {
   "cell_type": "code",
   "execution_count": null,
   "metadata": {},
   "outputs": [],
   "source": [
    "   "
   ]
  }
 ],
 "metadata": {
  "kernelspec": {
   "display_name": "Python 3",
   "language": "python",
   "name": "python3"
  },
  "language_info": {
   "codemirror_mode": {
    "name": "ipython",
    "version": 3
   },
   "file_extension": ".py",
   "mimetype": "text/x-python",
   "name": "python",
   "nbconvert_exporter": "python",
   "pygments_lexer": "ipython3",
   "version": "3.7.0"
  }
 },
 "nbformat": 4,
 "nbformat_minor": 4
}
