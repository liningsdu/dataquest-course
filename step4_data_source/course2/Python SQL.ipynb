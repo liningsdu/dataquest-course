{
 "cells": [
  {
   "cell_type": "code",
   "execution_count": 1,
   "metadata": {},
   "outputs": [],
   "source": [
    "import sqlite3"
   ]
  },
  {
   "cell_type": "code",
   "execution_count": 2,
   "metadata": {},
   "outputs": [],
   "source": [
    "conn = sqlite3.connect('jobs.db')"
   ]
  },
  {
   "cell_type": "markdown",
   "metadata": {},
   "source": [
    "* Before we can execute a query, we need to express SQL query as a string. \n",
    "* WE can use the Connection class to represent the database we're working with, we use the Cursor class to\n",
    "    * Run a query against the database\n",
    "    * Parse the results from the database\n",
    "    * Convert the results to native Python objects\n",
    "    * Store the results within the Cursor instance as a local variable\n",
    "* After running a query and converting the results to a list of tuples, the Cursor instance stores the list as a local variable."
   ]
  },
  {
   "cell_type": "code",
   "execution_count": 3,
   "metadata": {},
   "outputs": [],
   "source": [
    "cursor = conn.cursor()\n",
    "# REturn a Cursor instance correspongding to the database we want to query"
   ]
  },
  {
   "cell_type": "code",
   "execution_count": 4,
   "metadata": {},
   "outputs": [
    {
     "name": "stdout",
     "output_type": "stream",
     "text": [
      "[(0, 1, 2419, 'PETROLEUM ENGINEERING', 'Engineering', 2339, 36, 2057, 282, 0.120564344, 1976, 1849, 270, 1207, 37, 0.018380527, 110000, 95000, 125000, 1534, 364, 193), (1, 2, 2416, 'MINING AND MINERAL ENGINEERING', 'Engineering', 756, 7, 679, 77, 0.10185185199999999, 640, 556, 170, 388, 85, 0.117241379, 75000, 55000, 90000, 350, 257, 50), (2, 3, 2415, 'METALLURGICAL ENGINEERING', 'Engineering', 856, 3, 725, 131, 0.153037383, 648, 558, 133, 340, 16, 0.024096386, 73000, 50000, 105000, 456, 176, 0)]\n"
     ]
    }
   ],
   "source": [
    "#SQL Query as a string\n",
    "query = \"select * from recent_grads;\"\n",
    "# Execute the query, convert the results to tuples, and store as a local variable\n",
    "cursor.execute(query)\n",
    "# Fetch the full results set as as list of tuples\n",
    "results = cursor.fetchall()\n",
    "print(results[:3])"
   ]
  },
  {
   "cell_type": "code",
   "execution_count": 6,
   "metadata": {},
   "outputs": [
    {
     "name": "stdout",
     "output_type": "stream",
     "text": [
      "[('PETROLEUM ENGINEERING',), ('MINING AND MINERAL ENGINEERING',), ('METALLURGICAL ENGINEERING',)]\n"
     ]
    }
   ],
   "source": [
    "query = \"select Major from recent_grads;\"\n",
    "#cursor.execute(query)\n",
    "majors = cursor.execute(query).fetchall()\n",
    "print(majors[:3])"
   ]
  },
  {
   "cell_type": "code",
   "execution_count": 12,
   "metadata": {
    "scrolled": true
   },
   "outputs": [
    {
     "data": {
      "text/plain": [
       "[(0,\n",
       "  1,\n",
       "  2419,\n",
       "  'PETROLEUM ENGINEERING',\n",
       "  'Engineering',\n",
       "  2339,\n",
       "  36,\n",
       "  2057,\n",
       "  282,\n",
       "  0.120564344,\n",
       "  1976,\n",
       "  1849,\n",
       "  270,\n",
       "  1207,\n",
       "  37,\n",
       "  0.018380527,\n",
       "  110000,\n",
       "  95000,\n",
       "  125000,\n",
       "  1534,\n",
       "  364,\n",
       "  193),\n",
       " (1,\n",
       "  2,\n",
       "  2416,\n",
       "  'MINING AND MINERAL ENGINEERING',\n",
       "  'Engineering',\n",
       "  756,\n",
       "  7,\n",
       "  679,\n",
       "  77,\n",
       "  0.10185185199999999,\n",
       "  640,\n",
       "  556,\n",
       "  170,\n",
       "  388,\n",
       "  85,\n",
       "  0.117241379,\n",
       "  75000,\n",
       "  55000,\n",
       "  90000,\n",
       "  350,\n",
       "  257,\n",
       "  50)]"
      ]
     },
     "execution_count": 12,
     "metadata": {},
     "output_type": "execute_result"
    }
   ],
   "source": [
    "query = \"select * from recent_grads limit 5;\"\n",
    "conn.execute(query).fetchmany(2)"
   ]
  },
  {
   "cell_type": "code",
   "execution_count": 13,
   "metadata": {},
   "outputs": [
    {
     "name": "stdout",
     "output_type": "stream",
     "text": [
      "None\n"
     ]
    }
   ],
   "source": [
    "first_result = cursor.fetchone()\n",
    "second_result = cursor.fetchone()\n",
    "next_five_results = cursor.fetchmany(5)\n",
    "print(first_result)"
   ]
  },
  {
   "cell_type": "code",
   "execution_count": 14,
   "metadata": {},
   "outputs": [
    {
     "name": "stdout",
     "output_type": "stream",
     "text": [
      "[('PETROLEUM ENGINEERING', 'Engineering'), ('MINING AND MINERAL ENGINEERING', 'Engineering'), ('METALLURGICAL ENGINEERING', 'Engineering'), ('NAVAL ARCHITECTURE AND MARINE ENGINEERING', 'Engineering'), ('CHEMICAL ENGINEERING', 'Engineering')]\n"
     ]
    }
   ],
   "source": [
    "conn = sqlite3.connect(\"jobs.db\")\n",
    "cursor = conn.cursor()\n",
    "query = \"select Major, Major_category FROM recent_grads;\"\n",
    "cursor.execute(query)\n",
    "five_results = cursor.fetchmany(5)\n",
    "print(five_results)"
   ]
  },
  {
   "cell_type": "code",
   "execution_count": 15,
   "metadata": {},
   "outputs": [],
   "source": [
    "conn.close()"
   ]
  },
  {
   "cell_type": "code",
   "execution_count": 17,
   "metadata": {},
   "outputs": [],
   "source": [
    "conn = sqlite3.connect(\"jobs2.db\")\n",
    "cursor = conn.cursor()\n",
    "query = \"select Major from recent_grads order by 1 desc\"\n",
    "reverse_alphabetical = cursor.execute(query).fetchall()\n",
    "# conn.cursor().execute(query).fetchall()\n",
    "conn.close()"
   ]
  },
  {
   "cell_type": "code",
   "execution_count": 18,
   "metadata": {},
   "outputs": [
    {
     "data": {
      "text/plain": [
       "[('ZOOLOGY',), ('VISUAL AND PERFORMING ARTS',), ('UNITED STATES HISTORY',)]"
      ]
     },
     "execution_count": 18,
     "metadata": {},
     "output_type": "execute_result"
    }
   ],
   "source": [
    "reverse_alphabetical[:3]"
   ]
  }
 ],
 "metadata": {
  "kernelspec": {
   "display_name": "Python 3",
   "language": "python",
   "name": "python3"
  },
  "language_info": {
   "codemirror_mode": {
    "name": "ipython",
    "version": 3
   },
   "file_extension": ".py",
   "mimetype": "text/x-python",
   "name": "python",
   "nbconvert_exporter": "python",
   "pygments_lexer": "ipython3",
   "version": "3.7.0"
  }
 },
 "nbformat": 4,
 "nbformat_minor": 4
}
