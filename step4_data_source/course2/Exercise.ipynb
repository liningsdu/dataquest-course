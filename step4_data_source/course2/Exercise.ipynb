{
 "cells": [
  {
   "cell_type": "code",
   "execution_count": 1,
   "metadata": {},
   "outputs": [],
   "source": [
    "%%capture\n",
    "%load_ext sql\n",
    "%sql sqlite:///chinook.db"
   ]
  },
  {
   "cell_type": "code",
   "execution_count": 2,
   "metadata": {},
   "outputs": [
    {
     "name": "stdout",
     "output_type": "stream",
     "text": [
      " * sqlite:///chinook.db\n",
      "Done.\n"
     ]
    },
    {
     "data": {
      "text/html": [
       "<table>\n",
       "    <tr>\n",
       "        <th>invoice_line_id</th>\n",
       "        <th>invoice_id</th>\n",
       "        <th>track_id</th>\n",
       "        <th>unit_price</th>\n",
       "        <th>quantity</th>\n",
       "    </tr>\n",
       "    <tr>\n",
       "        <td>1</td>\n",
       "        <td>1</td>\n",
       "        <td>1158</td>\n",
       "        <td>0.99</td>\n",
       "        <td>1</td>\n",
       "    </tr>\n",
       "    <tr>\n",
       "        <td>2</td>\n",
       "        <td>1</td>\n",
       "        <td>1159</td>\n",
       "        <td>0.99</td>\n",
       "        <td>1</td>\n",
       "    </tr>\n",
       "</table>"
      ],
      "text/plain": [
       "[(1, 1, 1158, 0.99, 1), (2, 1, 1159, 0.99, 1)]"
      ]
     },
     "execution_count": 2,
     "metadata": {},
     "output_type": "execute_result"
    }
   ],
   "source": [
    "%%sql\n",
    "SELECT *\n",
    "    FROM invoice_line\n",
    "    LIMIT 2"
   ]
  },
  {
   "cell_type": "code",
   "execution_count": 3,
   "metadata": {},
   "outputs": [
    {
     "name": "stdout",
     "output_type": "stream",
     "text": [
      " * sqlite:///chinook.db\n",
      "Done.\n"
     ]
    },
    {
     "data": {
      "text/html": [
       "<table>\n",
       "    <tr>\n",
       "        <th>name</th>\n",
       "    </tr>\n",
       "    <tr>\n",
       "        <td>album</td>\n",
       "    </tr>\n",
       "    <tr>\n",
       "        <td>artist</td>\n",
       "    </tr>\n",
       "    <tr>\n",
       "        <td>customer</td>\n",
       "    </tr>\n",
       "    <tr>\n",
       "        <td>employee</td>\n",
       "    </tr>\n",
       "    <tr>\n",
       "        <td>genre</td>\n",
       "    </tr>\n",
       "    <tr>\n",
       "        <td>invoice</td>\n",
       "    </tr>\n",
       "    <tr>\n",
       "        <td>invoice_line</td>\n",
       "    </tr>\n",
       "    <tr>\n",
       "        <td>media_type</td>\n",
       "    </tr>\n",
       "    <tr>\n",
       "        <td>playlist</td>\n",
       "    </tr>\n",
       "    <tr>\n",
       "        <td>playlist_track</td>\n",
       "    </tr>\n",
       "    <tr>\n",
       "        <td>track</td>\n",
       "    </tr>\n",
       "</table>"
      ],
      "text/plain": [
       "[('album',),\n",
       " ('artist',),\n",
       " ('customer',),\n",
       " ('employee',),\n",
       " ('genre',),\n",
       " ('invoice',),\n",
       " ('invoice_line',),\n",
       " ('media_type',),\n",
       " ('playlist',),\n",
       " ('playlist_track',),\n",
       " ('track',)]"
      ]
     },
     "execution_count": 3,
     "metadata": {},
     "output_type": "execute_result"
    }
   ],
   "source": [
    "%%sql\n",
    "SELECT name\n",
    "    FROM sqlite_master\n",
    "    WHERE type IN ('table')"
   ]
  },
  {
   "cell_type": "code",
   "execution_count": 4,
   "metadata": {},
   "outputs": [
    {
     "name": "stdout",
     "output_type": "stream",
     "text": [
      " * sqlite:///chinook.db\n",
      "Done.\n"
     ]
    },
    {
     "data": {
      "text/html": [
       "<table>\n",
       "    <tr>\n",
       "        <th>invoice_line_id</th>\n",
       "        <th>invoice_id</th>\n",
       "        <th>track_id</th>\n",
       "        <th>unit_price</th>\n",
       "        <th>quantity</th>\n",
       "    </tr>\n",
       "    <tr>\n",
       "        <td>1</td>\n",
       "        <td>1</td>\n",
       "        <td>1158</td>\n",
       "        <td>0.99</td>\n",
       "        <td>1</td>\n",
       "    </tr>\n",
       "    <tr>\n",
       "        <td>2</td>\n",
       "        <td>1</td>\n",
       "        <td>1159</td>\n",
       "        <td>0.99</td>\n",
       "        <td>1</td>\n",
       "    </tr>\n",
       "</table>"
      ],
      "text/plain": [
       "[(1, 1, 1158, 0.99, 1), (2, 1, 1159, 0.99, 1)]"
      ]
     },
     "execution_count": 4,
     "metadata": {},
     "output_type": "execute_result"
    }
   ],
   "source": [
    "%%sql\n",
    "SELECT *\n",
    "    FROM invoice_line\n",
    "    LIMIT 2"
   ]
  },
  {
   "cell_type": "code",
   "execution_count": 5,
   "metadata": {},
   "outputs": [
    {
     "name": "stdout",
     "output_type": "stream",
     "text": [
      " * sqlite:///chinook.db\n",
      "Done.\n"
     ]
    },
    {
     "data": {
      "text/html": [
       "<table>\n",
       "    <tr>\n",
       "        <th>track_id</th>\n",
       "        <th>name</th>\n",
       "        <th>album_id</th>\n",
       "        <th>media_type_id</th>\n",
       "        <th>genre_id</th>\n",
       "        <th>composer</th>\n",
       "        <th>milliseconds</th>\n",
       "        <th>bytes</th>\n",
       "        <th>unit_price</th>\n",
       "    </tr>\n",
       "    <tr>\n",
       "        <td>1</td>\n",
       "        <td>For Those About To Rock (We Salute You)</td>\n",
       "        <td>1</td>\n",
       "        <td>1</td>\n",
       "        <td>1</td>\n",
       "        <td>Angus Young, Malcolm Young, Brian Johnson</td>\n",
       "        <td>343719</td>\n",
       "        <td>11170334</td>\n",
       "        <td>0.99</td>\n",
       "    </tr>\n",
       "    <tr>\n",
       "        <td>2</td>\n",
       "        <td>Balls to the Wall</td>\n",
       "        <td>2</td>\n",
       "        <td>2</td>\n",
       "        <td>1</td>\n",
       "        <td>None</td>\n",
       "        <td>342562</td>\n",
       "        <td>5510424</td>\n",
       "        <td>0.99</td>\n",
       "    </tr>\n",
       "</table>"
      ],
      "text/plain": [
       "[(1, 'For Those About To Rock (We Salute You)', 1, 1, 1, 'Angus Young, Malcolm Young, Brian Johnson', 343719, 11170334, 0.99),\n",
       " (2, 'Balls to the Wall', 2, 2, 1, None, 342562, 5510424, 0.99)]"
      ]
     },
     "execution_count": 5,
     "metadata": {},
     "output_type": "execute_result"
    }
   ],
   "source": [
    "%%sql\n",
    "SELECT *\n",
    "    FROM track\n",
    "    LIMIT 2"
   ]
  },
  {
   "cell_type": "code",
   "execution_count": 6,
   "metadata": {},
   "outputs": [
    {
     "name": "stdout",
     "output_type": "stream",
     "text": [
      " * sqlite:///chinook.db\n",
      "Done.\n"
     ]
    },
    {
     "data": {
      "text/html": [
       "<table>\n",
       "    <tr>\n",
       "        <th>media_type_id</th>\n",
       "        <th>name</th>\n",
       "    </tr>\n",
       "    <tr>\n",
       "        <td>1</td>\n",
       "        <td>MPEG audio file</td>\n",
       "    </tr>\n",
       "    <tr>\n",
       "        <td>2</td>\n",
       "        <td>Protected AAC audio file</td>\n",
       "    </tr>\n",
       "</table>"
      ],
      "text/plain": [
       "[(1, 'MPEG audio file'), (2, 'Protected AAC audio file')]"
      ]
     },
     "execution_count": 6,
     "metadata": {},
     "output_type": "execute_result"
    }
   ],
   "source": [
    "%%sql\n",
    "SELECT * FROM media_type LIMIT 2"
   ]
  },
  {
   "cell_type": "code",
   "execution_count": 7,
   "metadata": {},
   "outputs": [
    {
     "name": "stdout",
     "output_type": "stream",
     "text": [
      " * sqlite:///chinook.db\n",
      "Done.\n"
     ]
    },
    {
     "data": {
      "text/html": [
       "<table>\n",
       "    <tr>\n",
       "        <th>COUNT(*)</th>\n",
       "    </tr>\n",
       "    <tr>\n",
       "        <td>4757</td>\n",
       "    </tr>\n",
       "</table>"
      ],
      "text/plain": [
       "[(4757,)]"
      ]
     },
     "execution_count": 7,
     "metadata": {},
     "output_type": "execute_result"
    }
   ],
   "source": [
    "%%sql\n",
    "SELECT COUNT(*) FROM invoice_line "
   ]
  },
  {
   "cell_type": "code",
   "execution_count": 8,
   "metadata": {},
   "outputs": [
    {
     "name": "stdout",
     "output_type": "stream",
     "text": [
      " * sqlite:///chinook.db\n",
      "Done.\n"
     ]
    },
    {
     "data": {
      "text/html": [
       "<table>\n",
       "    <tr>\n",
       "        <th>invoice_line_id</th>\n",
       "        <th>invoice_id</th>\n",
       "        <th>track_id</th>\n",
       "        <th>unit_price</th>\n",
       "        <th>quantity</th>\n",
       "    </tr>\n",
       "    <tr>\n",
       "        <td>27</td>\n",
       "        <td>3</td>\n",
       "        <td>2516</td>\n",
       "        <td>0.99</td>\n",
       "        <td>1</td>\n",
       "    </tr>\n",
       "    <tr>\n",
       "        <td>28</td>\n",
       "        <td>3</td>\n",
       "        <td>2646</td>\n",
       "        <td>0.99</td>\n",
       "        <td>1</td>\n",
       "    </tr>\n",
       "</table>"
      ],
      "text/plain": [
       "[(27, 3, 2516, 0.99, 1), (28, 3, 2646, 0.99, 1)]"
      ]
     },
     "execution_count": 8,
     "metadata": {},
     "output_type": "execute_result"
    }
   ],
   "source": [
    "%%sql\n",
    "SELeCT * FROM invoice_line WHERE invoice_id = 3"
   ]
  },
  {
   "cell_type": "code",
   "execution_count": 9,
   "metadata": {},
   "outputs": [
    {
     "name": "stdout",
     "output_type": "stream",
     "text": [
      " * sqlite:///chinook.db\n",
      "Done.\n"
     ]
    },
    {
     "data": {
      "text/html": [
       "<table>\n",
       "    <tr>\n",
       "        <th>invoice_line_id</th>\n",
       "        <th>invoice_id</th>\n",
       "        <th>track_id</th>\n",
       "        <th>unit_price</th>\n",
       "        <th>quantity</th>\n",
       "        <th>track_id_1</th>\n",
       "        <th>name</th>\n",
       "        <th>album_id</th>\n",
       "        <th>media_type_id</th>\n",
       "        <th>genre_id</th>\n",
       "        <th>composer</th>\n",
       "        <th>milliseconds</th>\n",
       "        <th>bytes</th>\n",
       "        <th>unit_price_1</th>\n",
       "    </tr>\n",
       "    <tr>\n",
       "        <td>27</td>\n",
       "        <td>3</td>\n",
       "        <td>2516</td>\n",
       "        <td>0.99</td>\n",
       "        <td>1</td>\n",
       "        <td>2516</td>\n",
       "        <td>Black Hole Sun</td>\n",
       "        <td>203</td>\n",
       "        <td>1</td>\n",
       "        <td>1</td>\n",
       "        <td>Soundgarden</td>\n",
       "        <td>320365</td>\n",
       "        <td>10425229</td>\n",
       "        <td>0.99</td>\n",
       "    </tr>\n",
       "    <tr>\n",
       "        <td>28</td>\n",
       "        <td>3</td>\n",
       "        <td>2646</td>\n",
       "        <td>0.99</td>\n",
       "        <td>1</td>\n",
       "        <td>2646</td>\n",
       "        <td>I Looked At You</td>\n",
       "        <td>214</td>\n",
       "        <td>1</td>\n",
       "        <td>1</td>\n",
       "        <td>Robby Krieger, Ray Manzarek, John Densmore, Jim Morrison</td>\n",
       "        <td>142080</td>\n",
       "        <td>4663988</td>\n",
       "        <td>0.99</td>\n",
       "    </tr>\n",
       "</table>"
      ],
      "text/plain": [
       "[(27, 3, 2516, 0.99, 1, 2516, 'Black Hole Sun', 203, 1, 1, 'Soundgarden', 320365, 10425229, 0.99),\n",
       " (28, 3, 2646, 0.99, 1, 2646, 'I Looked At You', 214, 1, 1, 'Robby Krieger, Ray Manzarek, John Densmore, Jim Morrison', 142080, 4663988, 0.99)]"
      ]
     },
     "execution_count": 9,
     "metadata": {},
     "output_type": "execute_result"
    }
   ],
   "source": [
    "%%sql\n",
    "SELECT * FROM invoice_line il\n",
    "INNER JOIN track t ON t.track_id = il.track_id\n",
    "WHERE invoice_id = 3"
   ]
  },
  {
   "cell_type": "code",
   "execution_count": 10,
   "metadata": {},
   "outputs": [
    {
     "name": "stdout",
     "output_type": "stream",
     "text": [
      " * sqlite:///chinook.db\n",
      "Done.\n"
     ]
    },
    {
     "data": {
      "text/html": [
       "<table>\n",
       "    <tr>\n",
       "        <th>invoice_line_id</th>\n",
       "        <th>invoice_id</th>\n",
       "        <th>track_id</th>\n",
       "        <th>unit_price</th>\n",
       "        <th>quantity</th>\n",
       "        <th>track_id_1</th>\n",
       "        <th>name</th>\n",
       "        <th>album_id</th>\n",
       "        <th>media_type_id</th>\n",
       "        <th>genre_id</th>\n",
       "        <th>composer</th>\n",
       "        <th>milliseconds</th>\n",
       "        <th>bytes</th>\n",
       "        <th>unit_price_1</th>\n",
       "        <th>media_type_id_1</th>\n",
       "        <th>name_1</th>\n",
       "    </tr>\n",
       "    <tr>\n",
       "        <td>27</td>\n",
       "        <td>3</td>\n",
       "        <td>2516</td>\n",
       "        <td>0.99</td>\n",
       "        <td>1</td>\n",
       "        <td>2516</td>\n",
       "        <td>Black Hole Sun</td>\n",
       "        <td>203</td>\n",
       "        <td>1</td>\n",
       "        <td>1</td>\n",
       "        <td>Soundgarden</td>\n",
       "        <td>320365</td>\n",
       "        <td>10425229</td>\n",
       "        <td>0.99</td>\n",
       "        <td>1</td>\n",
       "        <td>MPEG audio file</td>\n",
       "    </tr>\n",
       "    <tr>\n",
       "        <td>28</td>\n",
       "        <td>3</td>\n",
       "        <td>2646</td>\n",
       "        <td>0.99</td>\n",
       "        <td>1</td>\n",
       "        <td>2646</td>\n",
       "        <td>I Looked At You</td>\n",
       "        <td>214</td>\n",
       "        <td>1</td>\n",
       "        <td>1</td>\n",
       "        <td>Robby Krieger, Ray Manzarek, John Densmore, Jim Morrison</td>\n",
       "        <td>142080</td>\n",
       "        <td>4663988</td>\n",
       "        <td>0.99</td>\n",
       "        <td>1</td>\n",
       "        <td>MPEG audio file</td>\n",
       "    </tr>\n",
       "</table>"
      ],
      "text/plain": [
       "[(27, 3, 2516, 0.99, 1, 2516, 'Black Hole Sun', 203, 1, 1, 'Soundgarden', 320365, 10425229, 0.99, 1, 'MPEG audio file'),\n",
       " (28, 3, 2646, 0.99, 1, 2646, 'I Looked At You', 214, 1, 1, 'Robby Krieger, Ray Manzarek, John Densmore, Jim Morrison', 142080, 4663988, 0.99, 1, 'MPEG audio file')]"
      ]
     },
     "execution_count": 10,
     "metadata": {},
     "output_type": "execute_result"
    }
   ],
   "source": [
    "%%sql\n",
    "SELECT *\n",
    "    FROM invoice_line il\n",
    "    INNER JOIN track t ON t.track_id = il.track_id\n",
    "    INNER JOIN media_type mt ON mt.media_type_id = t.media_type_id\n",
    "    WHERE invoice_id = 3"
   ]
  },
  {
   "cell_type": "code",
   "execution_count": 11,
   "metadata": {},
   "outputs": [
    {
     "name": "stdout",
     "output_type": "stream",
     "text": [
      " * sqlite:///chinook.db\n",
      "Done.\n"
     ]
    },
    {
     "data": {
      "text/html": [
       "<table>\n",
       "    <tr>\n",
       "        <th>track_id</th>\n",
       "        <th>track_name</th>\n",
       "        <th>artist_name</th>\n",
       "        <th>track_type</th>\n",
       "        <th>unit_price</th>\n",
       "        <th>quantity</th>\n",
       "    </tr>\n",
       "    <tr>\n",
       "        <td>3448</td>\n",
       "        <td>Lamentations of Jeremiah, First Set \\ Incipit Lamentatio</td>\n",
       "        <td>The King&#x27;s Singers</td>\n",
       "        <td>Protected AAC audio file</td>\n",
       "        <td>0.99</td>\n",
       "        <td>1</td>\n",
       "    </tr>\n",
       "    <tr>\n",
       "        <td>2560</td>\n",
       "        <td>Violent Pornography</td>\n",
       "        <td>System Of A Down</td>\n",
       "        <td>MPEG audio file</td>\n",
       "        <td>0.99</td>\n",
       "        <td>1</td>\n",
       "    </tr>\n",
       "    <tr>\n",
       "        <td>3336</td>\n",
       "        <td>War Pigs</td>\n",
       "        <td>Cake</td>\n",
       "        <td>Purchased AAC audio file</td>\n",
       "        <td>0.99</td>\n",
       "        <td>1</td>\n",
       "    </tr>\n",
       "    <tr>\n",
       "        <td>829</td>\n",
       "        <td>Let&#x27;s Get Rocked</td>\n",
       "        <td>Def Leppard</td>\n",
       "        <td>MPEG audio file</td>\n",
       "        <td>0.99</td>\n",
       "        <td>1</td>\n",
       "    </tr>\n",
       "    <tr>\n",
       "        <td>1872</td>\n",
       "        <td>Attitude</td>\n",
       "        <td>Metallica</td>\n",
       "        <td>MPEG audio file</td>\n",
       "        <td>0.99</td>\n",
       "        <td>1</td>\n",
       "    </tr>\n",
       "    <tr>\n",
       "        <td>748</td>\n",
       "        <td>Dealer</td>\n",
       "        <td>Deep Purple</td>\n",
       "        <td>MPEG audio file</td>\n",
       "        <td>0.99</td>\n",
       "        <td>1</td>\n",
       "    </tr>\n",
       "    <tr>\n",
       "        <td>1778</td>\n",
       "        <td>You&#x27;re What&#x27;s Happening (In The World Today)</td>\n",
       "        <td>Marvin Gaye</td>\n",
       "        <td>MPEG audio file</td>\n",
       "        <td>0.99</td>\n",
       "        <td>1</td>\n",
       "    </tr>\n",
       "    <tr>\n",
       "        <td>2514</td>\n",
       "        <td>Spoonman</td>\n",
       "        <td>Soundgarden</td>\n",
       "        <td>MPEG audio file</td>\n",
       "        <td>0.99</td>\n",
       "        <td>1</td>\n",
       "    </tr>\n",
       "</table>"
      ],
      "text/plain": [
       "[(3448, 'Lamentations of Jeremiah, First Set \\\\ Incipit Lamentatio', \"The King's Singers\", 'Protected AAC audio file', 0.99, 1),\n",
       " (2560, 'Violent Pornography', 'System Of A Down', 'MPEG audio file', 0.99, 1),\n",
       " (3336, 'War Pigs', 'Cake', 'Purchased AAC audio file', 0.99, 1),\n",
       " (829, \"Let's Get Rocked\", 'Def Leppard', 'MPEG audio file', 0.99, 1),\n",
       " (1872, 'Attitude', 'Metallica', 'MPEG audio file', 0.99, 1),\n",
       " (748, 'Dealer', 'Deep Purple', 'MPEG audio file', 0.99, 1),\n",
       " (1778, \"You're What's Happening (In The World Today)\", 'Marvin Gaye', 'MPEG audio file', 0.99, 1),\n",
       " (2514, 'Spoonman', 'Soundgarden', 'MPEG audio file', 0.99, 1)]"
      ]
     },
     "execution_count": 11,
     "metadata": {},
     "output_type": "execute_result"
    }
   ],
   "source": [
    "%%sql\n",
    "SELECT il.track_id, t.name AS track_name, at.name AS artist_name, mt.name AS track_type, il.unit_price, il.quantity\n",
    "    FROM invoice_line il\n",
    "    INNER JOIN track t ON t.track_id = il.track_id\n",
    "    INNER JOIN media_type mt ON mt.media_type_id = t.media_type_id\n",
    "    INNER JOIN album ab ON ab.album_id = t.album_id\n",
    "    INNER JOIN artist at ON at.artist_id = ab.artist_id\n",
    "    WHERE il.invoice_id = 4"
   ]
  },
  {
   "cell_type": "code",
   "execution_count": 12,
   "metadata": {},
   "outputs": [
    {
     "name": "stdout",
     "output_type": "stream",
     "text": [
      " * sqlite:///chinook.db\n",
      "Done.\n"
     ]
    },
    {
     "data": {
      "text/html": [
       "<table>\n",
       "    <tr>\n",
       "        <th>track_id</th>\n",
       "        <th>artist_name</th>\n",
       "    </tr>\n",
       "    <tr>\n",
       "        <td>1</td>\n",
       "        <td>AC/DC</td>\n",
       "    </tr>\n",
       "    <tr>\n",
       "        <td>2</td>\n",
       "        <td>Accept</td>\n",
       "    </tr>\n",
       "    <tr>\n",
       "        <td>3</td>\n",
       "        <td>Accept</td>\n",
       "    </tr>\n",
       "    <tr>\n",
       "        <td>4</td>\n",
       "        <td>Accept</td>\n",
       "    </tr>\n",
       "    <tr>\n",
       "        <td>5</td>\n",
       "        <td>Accept</td>\n",
       "    </tr>\n",
       "</table>"
      ],
      "text/plain": [
       "[(1, 'AC/DC'), (2, 'Accept'), (3, 'Accept'), (4, 'Accept'), (5, 'Accept')]"
      ]
     },
     "execution_count": 12,
     "metadata": {},
     "output_type": "execute_result"
    }
   ],
   "source": [
    "%%sql\n",
    "SELECT t.track_id, ar.name artist_name\n",
    "    FROM track t\n",
    "    INNER JOIN album al on al.album_id = t.album_id\n",
    "    INNER JOIN artist ar ON ar.artist_id = al.artist_id\n",
    "    ORDER BY 1\n",
    "    LIMIT 5"
   ]
  },
  {
   "cell_type": "code",
   "execution_count": 13,
   "metadata": {},
   "outputs": [
    {
     "name": "stdout",
     "output_type": "stream",
     "text": [
      " * sqlite:///chinook.db\n",
      "Done.\n"
     ]
    },
    {
     "data": {
      "text/html": [
       "<table>\n",
       "    <tr>\n",
       "        <th>invoice_line_id</th>\n",
       "        <th>track_id</th>\n",
       "        <th>artist_name</th>\n",
       "    </tr>\n",
       "    <tr>\n",
       "        <td>1</td>\n",
       "        <td>1158</td>\n",
       "        <td>Guns N&#x27; Roses</td>\n",
       "    </tr>\n",
       "    <tr>\n",
       "        <td>2</td>\n",
       "        <td>1159</td>\n",
       "        <td>Guns N&#x27; Roses</td>\n",
       "    </tr>\n",
       "    <tr>\n",
       "        <td>3</td>\n",
       "        <td>1160</td>\n",
       "        <td>Guns N&#x27; Roses</td>\n",
       "    </tr>\n",
       "    <tr>\n",
       "        <td>4</td>\n",
       "        <td>1161</td>\n",
       "        <td>Guns N&#x27; Roses</td>\n",
       "    </tr>\n",
       "    <tr>\n",
       "        <td>5</td>\n",
       "        <td>1162</td>\n",
       "        <td>Guns N&#x27; Roses</td>\n",
       "    </tr>\n",
       "</table>"
      ],
      "text/plain": [
       "[(1, 1158, \"Guns N' Roses\"),\n",
       " (2, 1159, \"Guns N' Roses\"),\n",
       " (3, 1160, \"Guns N' Roses\"),\n",
       " (4, 1161, \"Guns N' Roses\"),\n",
       " (5, 1162, \"Guns N' Roses\")]"
      ]
     },
     "execution_count": 13,
     "metadata": {},
     "output_type": "execute_result"
    }
   ],
   "source": [
    "%%sql\n",
    "SELECT il.invoice_line_id, il.track_id, ta.artist_name\n",
    "    FROM invoice_line il\n",
    "    INNER JOIN (\n",
    "                SELECT t.track_id, ar.name artist_name\n",
    "                FROM track t\n",
    "                INNER JOIN album al ON al.album_id = t.album_id\n",
    "                INNER JOIN artist ar ON ar.artist_id = al.artist_id)\n",
    "                ta ON ta.track_id = il.track_id\n",
    "    ORDER BY 1\n",
    "    LIMIT 5"
   ]
  },
  {
   "cell_type": "code",
   "execution_count": 14,
   "metadata": {},
   "outputs": [
    {
     "name": "stdout",
     "output_type": "stream",
     "text": [
      " * sqlite:///chinook.db\n",
      "Done.\n"
     ]
    },
    {
     "data": {
      "text/html": [
       "<table>\n",
       "    <tr>\n",
       "        <th>artist_name</th>\n",
       "        <th>tracks_purchased</th>\n",
       "    </tr>\n",
       "    <tr>\n",
       "        <td>Queen</td>\n",
       "        <td>192</td>\n",
       "    </tr>\n",
       "    <tr>\n",
       "        <td>Jimi Hendrix</td>\n",
       "        <td>187</td>\n",
       "    </tr>\n",
       "    <tr>\n",
       "        <td>Red Hot Chili Peppers</td>\n",
       "        <td>130</td>\n",
       "    </tr>\n",
       "    <tr>\n",
       "        <td>Nirvana</td>\n",
       "        <td>130</td>\n",
       "    </tr>\n",
       "    <tr>\n",
       "        <td>Pearl Jam</td>\n",
       "        <td>129</td>\n",
       "    </tr>\n",
       "    <tr>\n",
       "        <td>Guns N&#x27; Roses</td>\n",
       "        <td>124</td>\n",
       "    </tr>\n",
       "    <tr>\n",
       "        <td>AC/DC</td>\n",
       "        <td>124</td>\n",
       "    </tr>\n",
       "    <tr>\n",
       "        <td>Foo Fighters</td>\n",
       "        <td>121</td>\n",
       "    </tr>\n",
       "    <tr>\n",
       "        <td>The Rolling Stones</td>\n",
       "        <td>117</td>\n",
       "    </tr>\n",
       "    <tr>\n",
       "        <td>Metallica</td>\n",
       "        <td>106</td>\n",
       "    </tr>\n",
       "</table>"
      ],
      "text/plain": [
       "[('Queen', 192),\n",
       " ('Jimi Hendrix', 187),\n",
       " ('Red Hot Chili Peppers', 130),\n",
       " ('Nirvana', 130),\n",
       " ('Pearl Jam', 129),\n",
       " (\"Guns N' Roses\", 124),\n",
       " ('AC/DC', 124),\n",
       " ('Foo Fighters', 121),\n",
       " ('The Rolling Stones', 117),\n",
       " ('Metallica', 106)]"
      ]
     },
     "execution_count": 14,
     "metadata": {},
     "output_type": "execute_result"
    }
   ],
   "source": [
    "%%sql\n",
    "SELECT ta.artist_name, COUNT(*) tracks_purchased\n",
    "    FROM invoice_line il\n",
    "    INNER JOIN (\n",
    "                SELECT t.track_id, ar.name artist_name\n",
    "                FROM track t\n",
    "                INNER JOIN album al ON al.album_id = t.album_id\n",
    "                INNER JOIN artist ar ON ar.artist_id = al.artist_id)\n",
    "                ta ON ta.track_id = il.track_id\n",
    "    GROUP BY 1\n",
    "    ORDER BY 2 DESC \n",
    "    \n",
    "    LIMIT 10"
   ]
  },
  {
   "cell_type": "code",
   "execution_count": 15,
   "metadata": {},
   "outputs": [
    {
     "name": "stdout",
     "output_type": "stream",
     "text": [
      " * sqlite:///chinook.db\n",
      "Done.\n"
     ]
    },
    {
     "data": {
      "text/html": [
       "<table>\n",
       "    <tr>\n",
       "        <th>album</th>\n",
       "        <th>artist</th>\n",
       "        <th>tracks_purchased</th>\n",
       "    </tr>\n",
       "    <tr>\n",
       "        <td>Are You Experienced?</td>\n",
       "        <td>Jimi Hendrix</td>\n",
       "        <td>187</td>\n",
       "    </tr>\n",
       "    <tr>\n",
       "        <td>Faceless</td>\n",
       "        <td>Godsmack</td>\n",
       "        <td>96</td>\n",
       "    </tr>\n",
       "    <tr>\n",
       "        <td>Mezmerize</td>\n",
       "        <td>System Of A Down</td>\n",
       "        <td>93</td>\n",
       "    </tr>\n",
       "    <tr>\n",
       "        <td>Get Born</td>\n",
       "        <td>JET</td>\n",
       "        <td>90</td>\n",
       "    </tr>\n",
       "    <tr>\n",
       "        <td>The Doors</td>\n",
       "        <td>The Doors</td>\n",
       "        <td>83</td>\n",
       "    </tr>\n",
       "</table>"
      ],
      "text/plain": [
       "[('Are You Experienced?', 'Jimi Hendrix', 187),\n",
       " ('Faceless', 'Godsmack', 96),\n",
       " ('Mezmerize', 'System Of A Down', 93),\n",
       " ('Get Born', 'JET', 90),\n",
       " ('The Doors', 'The Doors', 83)]"
      ]
     },
     "execution_count": 15,
     "metadata": {},
     "output_type": "execute_result"
    }
   ],
   "source": [
    "%%sql\n",
    "SELECT ta.album, ta.artist, SUM(il.quantity) AS tracks_purchased\n",
    "    FROM invoice_line il\n",
    "    INNER JOIN (SELECT t.track_id,al.title AS album, ar.name AS artist\n",
    "               FROM track t\n",
    "               INNER JOIN album al ON al.album_id = t.album_id\n",
    "               INNER JOIN artist ar ON ar.artist_id = al.artist_id)\n",
    "                ta ON ta.track_id = il.track_id\n",
    "    GROUP BY 1\n",
    "    ORDER BY 3 DESC\n",
    "    LIMIT 5"
   ]
  },
  {
   "cell_type": "code",
   "execution_count": 16,
   "metadata": {},
   "outputs": [
    {
     "name": "stdout",
     "output_type": "stream",
     "text": [
      " * sqlite:///chinook.db\n",
      "Done.\n"
     ]
    },
    {
     "data": {
      "text/html": [
       "<table>\n",
       "    <tr>\n",
       "        <th>employee_id</th>\n",
       "        <th>supervisor_id</th>\n",
       "    </tr>\n",
       "    <tr>\n",
       "        <td>2</td>\n",
       "        <td>1</td>\n",
       "    </tr>\n",
       "    <tr>\n",
       "        <td>6</td>\n",
       "        <td>1</td>\n",
       "    </tr>\n",
       "    <tr>\n",
       "        <td>3</td>\n",
       "        <td>2</td>\n",
       "    </tr>\n",
       "    <tr>\n",
       "        <td>4</td>\n",
       "        <td>2</td>\n",
       "    </tr>\n",
       "</table>"
      ],
      "text/plain": [
       "[(2, 1), (6, 1), (3, 2), (4, 2)]"
      ]
     },
     "execution_count": 16,
     "metadata": {},
     "output_type": "execute_result"
    }
   ],
   "source": [
    "%%sql\n",
    "SELECT e1.employee_id, e2.employee_id supervisor_id\n",
    "    FROM employee e1\n",
    "    INNER JOIN employee e2 ON e1.reports_to = e2.employee_id\n",
    "    LIMIT 4;"
   ]
  },
  {
   "cell_type": "code",
   "execution_count": 17,
   "metadata": {},
   "outputs": [
    {
     "name": "stdout",
     "output_type": "stream",
     "text": [
      " * sqlite:///chinook.db\n",
      "Done.\n"
     ]
    },
    {
     "data": {
      "text/html": [
       "<table>\n",
       "    <tr>\n",
       "        <th>album_id</th>\n",
       "        <th>artist_id</th>\n",
       "        <th>col1</th>\n",
       "        <th>col2</th>\n",
       "        <th>col3</th>\n",
       "    </tr>\n",
       "    <tr>\n",
       "        <td>1</td>\n",
       "        <td>1</td>\n",
       "        <td>album id is1</td>\n",
       "        <td>artist id is1</td>\n",
       "        <td>11</td>\n",
       "    </tr>\n",
       "    <tr>\n",
       "        <td>4</td>\n",
       "        <td>1</td>\n",
       "        <td>album id is4</td>\n",
       "        <td>artist id is1</td>\n",
       "        <td>41</td>\n",
       "    </tr>\n",
       "    <tr>\n",
       "        <td>2</td>\n",
       "        <td>2</td>\n",
       "        <td>album id is2</td>\n",
       "        <td>artist id is2</td>\n",
       "        <td>22</td>\n",
       "    </tr>\n",
       "</table>"
      ],
      "text/plain": [
       "[(1, 1, 'album id is1', 'artist id is1', '11'),\n",
       " (4, 1, 'album id is4', 'artist id is1', '41'),\n",
       " (2, 2, 'album id is2', 'artist id is2', '22')]"
      ]
     },
     "execution_count": 17,
     "metadata": {},
     "output_type": "execute_result"
    }
   ],
   "source": [
    "%%sql\n",
    "SELECT album_id, artist_id, \"album id is\" || album_id col1, \"artist id is\" || artist_id col2, album_id || artist_id col3\n",
    "    FROM album LIMIT 3"
   ]
  },
  {
   "cell_type": "code",
   "execution_count": 18,
   "metadata": {},
   "outputs": [
    {
     "name": "stdout",
     "output_type": "stream",
     "text": [
      " * sqlite:///chinook.db\n",
      "Done.\n"
     ]
    },
    {
     "data": {
      "text/html": [
       "<table>\n",
       "    <tr>\n",
       "        <th>employee_name</th>\n",
       "        <th>employee_title</th>\n",
       "        <th>supervisor_name</th>\n",
       "        <th>supervisor_title</th>\n",
       "    </tr>\n",
       "    <tr>\n",
       "        <td>Andrew Adams</td>\n",
       "        <td>General Manager</td>\n",
       "        <td>None</td>\n",
       "        <td>None</td>\n",
       "    </tr>\n",
       "    <tr>\n",
       "        <td>Jane Peacock</td>\n",
       "        <td>Sales Support Agent</td>\n",
       "        <td>Nancy Edwards</td>\n",
       "        <td>Sales Manager</td>\n",
       "    </tr>\n",
       "    <tr>\n",
       "        <td>Laura Callahan</td>\n",
       "        <td>IT Staff</td>\n",
       "        <td>Michael Mitchell</td>\n",
       "        <td>IT Manager</td>\n",
       "    </tr>\n",
       "    <tr>\n",
       "        <td>Margaret Park</td>\n",
       "        <td>Sales Support Agent</td>\n",
       "        <td>Nancy Edwards</td>\n",
       "        <td>Sales Manager</td>\n",
       "    </tr>\n",
       "    <tr>\n",
       "        <td>Michael Mitchell</td>\n",
       "        <td>IT Manager</td>\n",
       "        <td>Andrew Adams</td>\n",
       "        <td>General Manager</td>\n",
       "    </tr>\n",
       "</table>"
      ],
      "text/plain": [
       "[('Andrew Adams', 'General Manager', None, None),\n",
       " ('Jane Peacock', 'Sales Support Agent', 'Nancy Edwards', 'Sales Manager'),\n",
       " ('Laura Callahan', 'IT Staff', 'Michael Mitchell', 'IT Manager'),\n",
       " ('Margaret Park', 'Sales Support Agent', 'Nancy Edwards', 'Sales Manager'),\n",
       " ('Michael Mitchell', 'IT Manager', 'Andrew Adams', 'General Manager')]"
      ]
     },
     "execution_count": 18,
     "metadata": {},
     "output_type": "execute_result"
    }
   ],
   "source": [
    "%%sql\n",
    "SELECT e1.first_name || \" \" || e1.last_name AS employee_name, e1.title AS employee_title, \n",
    "       e2.first_name || \" \" || e2.last_name AS supervisor_name, e2.title AS supervisor_title\n",
    "    FROM employee e1\n",
    "    LEFT JOIN employee e2 ON e1.reports_to = e2.employee_id\n",
    "    ORDER BY employee_name\n",
    "    LIMIT 5"
   ]
  },
  {
   "cell_type": "code",
   "execution_count": 19,
   "metadata": {},
   "outputs": [
    {
     "name": "stdout",
     "output_type": "stream",
     "text": [
      " * sqlite:///chinook.db\n",
      "Done.\n"
     ]
    },
    {
     "data": {
      "text/html": [
       "<table>\n",
       "    <tr>\n",
       "        <th>first_name</th>\n",
       "        <th>last_name</th>\n",
       "        <th>phone</th>\n",
       "    </tr>\n",
       "    <tr>\n",
       "        <td>Isabelle</td>\n",
       "        <td>Mercier</td>\n",
       "        <td>+33 03 80 73 66 99</td>\n",
       "    </tr>\n",
       "</table>"
      ],
      "text/plain": [
       "[('Isabelle', 'Mercier', '+33 03 80 73 66 99')]"
      ]
     },
     "execution_count": 19,
     "metadata": {},
     "output_type": "execute_result"
    }
   ],
   "source": [
    "%%sql\n",
    "SELECT first_name, last_name, phone\n",
    "    FROM customer\n",
    "    WHERE first_name LIKE \"%Belle%\""
   ]
  },
  {
   "cell_type": "code",
   "execution_count": 20,
   "metadata": {},
   "outputs": [
    {
     "name": "stdout",
     "output_type": "stream",
     "text": [
      " * sqlite:///chinook.db\n",
      "Done.\n"
     ]
    },
    {
     "data": {
      "text/html": [
       "<table>\n",
       "    <tr>\n",
       "        <th>media_type_id</th>\n",
       "        <th>name</th>\n",
       "        <th>Protected</th>\n",
       "    </tr>\n",
       "    <tr>\n",
       "        <td>1</td>\n",
       "        <td>MPEG audio file</td>\n",
       "        <td>0</td>\n",
       "    </tr>\n",
       "    <tr>\n",
       "        <td>2</td>\n",
       "        <td>Protected AAC audio file</td>\n",
       "        <td>1</td>\n",
       "    </tr>\n",
       "    <tr>\n",
       "        <td>3</td>\n",
       "        <td>Protected MPEG-4 video file</td>\n",
       "        <td>1</td>\n",
       "    </tr>\n",
       "    <tr>\n",
       "        <td>4</td>\n",
       "        <td>Purchased AAC audio file</td>\n",
       "        <td>0</td>\n",
       "    </tr>\n",
       "    <tr>\n",
       "        <td>5</td>\n",
       "        <td>AAC audio file</td>\n",
       "        <td>0</td>\n",
       "    </tr>\n",
       "</table>"
      ],
      "text/plain": [
       "[(1, 'MPEG audio file', 0),\n",
       " (2, 'Protected AAC audio file', 1),\n",
       " (3, 'Protected MPEG-4 video file', 1),\n",
       " (4, 'Purchased AAC audio file', 0),\n",
       " (5, 'AAC audio file', 0)]"
      ]
     },
     "execution_count": 20,
     "metadata": {},
     "output_type": "execute_result"
    }
   ],
   "source": [
    "%%sql\n",
    "SELECT media_type_id, name,\n",
    "        CASE \n",
    "            WHEN name LIKE \"%Protected%\" THEN 1\n",
    "            ELSE 0\n",
    "            END\n",
    "            AS Protected\n",
    "    FROM media_type"
   ]
  },
  {
   "cell_type": "code",
   "execution_count": 21,
   "metadata": {},
   "outputs": [
    {
     "name": "stdout",
     "output_type": "stream",
     "text": [
      " * sqlite:///chinook.db\n",
      "Done.\n"
     ]
    },
    {
     "data": {
      "text/html": [
       "<table>\n",
       "    <tr>\n",
       "        <th>customer_name</th>\n",
       "        <th>number_of_purchases</th>\n",
       "        <th>total_spent</th>\n",
       "        <th>customer_category</th>\n",
       "    </tr>\n",
       "    <tr>\n",
       "        <td>Aaron Mitchell</td>\n",
       "        <td>8</td>\n",
       "        <td>70.28999999999999</td>\n",
       "        <td>regular</td>\n",
       "    </tr>\n",
       "    <tr>\n",
       "        <td>Alexandre Rocha</td>\n",
       "        <td>10</td>\n",
       "        <td>69.3</td>\n",
       "        <td>regular</td>\n",
       "    </tr>\n",
       "    <tr>\n",
       "        <td>Astrid Gruber</td>\n",
       "        <td>9</td>\n",
       "        <td>69.3</td>\n",
       "        <td>regular</td>\n",
       "    </tr>\n",
       "    <tr>\n",
       "        <td>Bjørn Hansen</td>\n",
       "        <td>9</td>\n",
       "        <td>72.27000000000001</td>\n",
       "        <td>regular</td>\n",
       "    </tr>\n",
       "    <tr>\n",
       "        <td>Camille Bernard</td>\n",
       "        <td>9</td>\n",
       "        <td>79.2</td>\n",
       "        <td>regular</td>\n",
       "    </tr>\n",
       "</table>"
      ],
      "text/plain": [
       "[('Aaron Mitchell', 8, 70.28999999999999, 'regular'),\n",
       " ('Alexandre Rocha', 10, 69.3, 'regular'),\n",
       " ('Astrid Gruber', 9, 69.3, 'regular'),\n",
       " ('Bjørn Hansen', 9, 72.27000000000001, 'regular'),\n",
       " ('Camille Bernard', 9, 79.2, 'regular')]"
      ]
     },
     "execution_count": 21,
     "metadata": {},
     "output_type": "execute_result"
    }
   ],
   "source": [
    "%%sql\n",
    "SELECT c.first_name||\" \"||c.last_name AS customer_name, COUNT(*) AS number_of_purchases, SUM(i.total) AS total_spent,\n",
    "     CASE \n",
    "        WHEN SUM(i.total) < 40 THEN \"small spender\"\n",
    "        WHEN SUM(i.total) <= 100 THEN \"regular\"\n",
    "        ELSE \"big spender\"\n",
    "        END\n",
    "        AS customer_category\n",
    "    FROM customer c\n",
    "    INNER JOIN invoice i ON i.customer_id = c.customer_id\n",
    "    GROUP BY 1\n",
    "    ORDER BY 1\n",
    "    LIMIT 5\n",
    "\n",
    "    "
   ]
  },
  {
   "cell_type": "code",
   "execution_count": 22,
   "metadata": {},
   "outputs": [
    {
     "name": "stdout",
     "output_type": "stream",
     "text": [
      " * sqlite:///chinook.db\n",
      "Done.\n"
     ]
    },
    {
     "data": {
      "text/html": [
       "<table>\n",
       "    <tr>\n",
       "        <th>artist</th>\n",
       "        <th>tracks_sold</th>\n",
       "    </tr>\n",
       "    <tr>\n",
       "        <td>Queen</td>\n",
       "        <td>192</td>\n",
       "    </tr>\n",
       "    <tr>\n",
       "        <td>Jimi Hendrix</td>\n",
       "        <td>187</td>\n",
       "    </tr>\n",
       "    <tr>\n",
       "        <td>Red Hot Chili Peppers</td>\n",
       "        <td>130</td>\n",
       "    </tr>\n",
       "    <tr>\n",
       "        <td>Nirvana</td>\n",
       "        <td>130</td>\n",
       "    </tr>\n",
       "    <tr>\n",
       "        <td>Pearl Jam</td>\n",
       "        <td>129</td>\n",
       "    </tr>\n",
       "    <tr>\n",
       "        <td>Guns N&#x27; Roses</td>\n",
       "        <td>124</td>\n",
       "    </tr>\n",
       "    <tr>\n",
       "        <td>AC/DC</td>\n",
       "        <td>124</td>\n",
       "    </tr>\n",
       "    <tr>\n",
       "        <td>Foo Fighters</td>\n",
       "        <td>121</td>\n",
       "    </tr>\n",
       "    <tr>\n",
       "        <td>The Rolling Stones</td>\n",
       "        <td>117</td>\n",
       "    </tr>\n",
       "    <tr>\n",
       "        <td>Metallica</td>\n",
       "        <td>106</td>\n",
       "    </tr>\n",
       "</table>"
      ],
      "text/plain": [
       "[('Queen', 192),\n",
       " ('Jimi Hendrix', 187),\n",
       " ('Red Hot Chili Peppers', 130),\n",
       " ('Nirvana', 130),\n",
       " ('Pearl Jam', 129),\n",
       " (\"Guns N' Roses\", 124),\n",
       " ('AC/DC', 124),\n",
       " ('Foo Fighters', 121),\n",
       " ('The Rolling Stones', 117),\n",
       " ('Metallica', 106)]"
      ]
     },
     "execution_count": 22,
     "metadata": {},
     "output_type": "execute_result"
    }
   ],
   "source": [
    "%%sql\n",
    "    SELECT \n",
    "        ta.artist_name artist,\n",
    "        COUNT(*) tracks_sold\n",
    "    FROM invoice_line il\n",
    "    INNER JOIN (SELECT \n",
    "                   t.track_id,\n",
    "                   ar.name artist_name\n",
    "               FROM track t\n",
    "               INNER JOIN album al ON al.album_id = t.album_id\n",
    "               INNER JOIN artist ar ON ar.artist_id = al.artist_id\n",
    "               ) ta\n",
    "            ON ta.track_id = il.track_id\n",
    "    GROUP BY 1\n",
    "    ORDER BY 2 DESC LIMIT 10"
   ]
  },
  {
   "cell_type": "code",
   "execution_count": 23,
   "metadata": {},
   "outputs": [
    {
     "name": "stdout",
     "output_type": "stream",
     "text": [
      " * sqlite:///chinook.db\n",
      "Done.\n"
     ]
    },
    {
     "data": {
      "text/html": [
       "<table>\n",
       "    <tr>\n",
       "        <th>name</th>\n",
       "        <th>artist</th>\n",
       "        <th>album_name</th>\n",
       "        <th>media_type</th>\n",
       "        <th>genre</th>\n",
       "        <th>length_milliseconds</th>\n",
       "    </tr>\n",
       "    <tr>\n",
       "        <td>All I Really Want</td>\n",
       "        <td>Alanis Morissette</td>\n",
       "        <td>Jagged Little Pill</td>\n",
       "        <td>MPEG audio file</td>\n",
       "        <td>Rock</td>\n",
       "        <td>284891</td>\n",
       "    </tr>\n",
       "    <tr>\n",
       "        <td>You Oughta Know</td>\n",
       "        <td>Alanis Morissette</td>\n",
       "        <td>Jagged Little Pill</td>\n",
       "        <td>MPEG audio file</td>\n",
       "        <td>Rock</td>\n",
       "        <td>249234</td>\n",
       "    </tr>\n",
       "    <tr>\n",
       "        <td>Perfect</td>\n",
       "        <td>Alanis Morissette</td>\n",
       "        <td>Jagged Little Pill</td>\n",
       "        <td>MPEG audio file</td>\n",
       "        <td>Rock</td>\n",
       "        <td>188133</td>\n",
       "    </tr>\n",
       "    <tr>\n",
       "        <td>Hand In My Pocket</td>\n",
       "        <td>Alanis Morissette</td>\n",
       "        <td>Jagged Little Pill</td>\n",
       "        <td>MPEG audio file</td>\n",
       "        <td>Rock</td>\n",
       "        <td>221570</td>\n",
       "    </tr>\n",
       "    <tr>\n",
       "        <td>Right Through You</td>\n",
       "        <td>Alanis Morissette</td>\n",
       "        <td>Jagged Little Pill</td>\n",
       "        <td>MPEG audio file</td>\n",
       "        <td>Rock</td>\n",
       "        <td>176117</td>\n",
       "    </tr>\n",
       "    <tr>\n",
       "        <td>Forgiven</td>\n",
       "        <td>Alanis Morissette</td>\n",
       "        <td>Jagged Little Pill</td>\n",
       "        <td>MPEG audio file</td>\n",
       "        <td>Rock</td>\n",
       "        <td>300355</td>\n",
       "    </tr>\n",
       "    <tr>\n",
       "        <td>You Learn</td>\n",
       "        <td>Alanis Morissette</td>\n",
       "        <td>Jagged Little Pill</td>\n",
       "        <td>MPEG audio file</td>\n",
       "        <td>Rock</td>\n",
       "        <td>239699</td>\n",
       "    </tr>\n",
       "    <tr>\n",
       "        <td>Head Over Feet</td>\n",
       "        <td>Alanis Morissette</td>\n",
       "        <td>Jagged Little Pill</td>\n",
       "        <td>MPEG audio file</td>\n",
       "        <td>Rock</td>\n",
       "        <td>267493</td>\n",
       "    </tr>\n",
       "    <tr>\n",
       "        <td>Mary Jane</td>\n",
       "        <td>Alanis Morissette</td>\n",
       "        <td>Jagged Little Pill</td>\n",
       "        <td>MPEG audio file</td>\n",
       "        <td>Rock</td>\n",
       "        <td>280607</td>\n",
       "    </tr>\n",
       "    <tr>\n",
       "        <td>Ironic</td>\n",
       "        <td>Alanis Morissette</td>\n",
       "        <td>Jagged Little Pill</td>\n",
       "        <td>MPEG audio file</td>\n",
       "        <td>Rock</td>\n",
       "        <td>229825</td>\n",
       "    </tr>\n",
       "    <tr>\n",
       "        <td>Not The Doctor</td>\n",
       "        <td>Alanis Morissette</td>\n",
       "        <td>Jagged Little Pill</td>\n",
       "        <td>MPEG audio file</td>\n",
       "        <td>Rock</td>\n",
       "        <td>227631</td>\n",
       "    </tr>\n",
       "    <tr>\n",
       "        <td>Wake Up</td>\n",
       "        <td>Alanis Morissette</td>\n",
       "        <td>Jagged Little Pill</td>\n",
       "        <td>MPEG audio file</td>\n",
       "        <td>Rock</td>\n",
       "        <td>293485</td>\n",
       "    </tr>\n",
       "    <tr>\n",
       "        <td>You Oughta Know (Alternate)</td>\n",
       "        <td>Alanis Morissette</td>\n",
       "        <td>Jagged Little Pill</td>\n",
       "        <td>MPEG audio file</td>\n",
       "        <td>Rock</td>\n",
       "        <td>491885</td>\n",
       "    </tr>\n",
       "</table>"
      ],
      "text/plain": [
       "[('All I Really Want', 'Alanis Morissette', 'Jagged Little Pill', 'MPEG audio file', 'Rock', 284891),\n",
       " ('You Oughta Know', 'Alanis Morissette', 'Jagged Little Pill', 'MPEG audio file', 'Rock', 249234),\n",
       " ('Perfect', 'Alanis Morissette', 'Jagged Little Pill', 'MPEG audio file', 'Rock', 188133),\n",
       " ('Hand In My Pocket', 'Alanis Morissette', 'Jagged Little Pill', 'MPEG audio file', 'Rock', 221570),\n",
       " ('Right Through You', 'Alanis Morissette', 'Jagged Little Pill', 'MPEG audio file', 'Rock', 176117),\n",
       " ('Forgiven', 'Alanis Morissette', 'Jagged Little Pill', 'MPEG audio file', 'Rock', 300355),\n",
       " ('You Learn', 'Alanis Morissette', 'Jagged Little Pill', 'MPEG audio file', 'Rock', 239699),\n",
       " ('Head Over Feet', 'Alanis Morissette', 'Jagged Little Pill', 'MPEG audio file', 'Rock', 267493),\n",
       " ('Mary Jane', 'Alanis Morissette', 'Jagged Little Pill', 'MPEG audio file', 'Rock', 280607),\n",
       " ('Ironic', 'Alanis Morissette', 'Jagged Little Pill', 'MPEG audio file', 'Rock', 229825),\n",
       " ('Not The Doctor', 'Alanis Morissette', 'Jagged Little Pill', 'MPEG audio file', 'Rock', 227631),\n",
       " ('Wake Up', 'Alanis Morissette', 'Jagged Little Pill', 'MPEG audio file', 'Rock', 293485),\n",
       " ('You Oughta Know (Alternate)', 'Alanis Morissette', 'Jagged Little Pill', 'MPEG audio file', 'Rock', 491885)]"
      ]
     },
     "execution_count": 23,
     "metadata": {},
     "output_type": "execute_result"
    }
   ],
   "source": [
    "%%sql\n",
    "SELECT * FROM\n",
    "    (SELECT t.name,\n",
    "            ar.name artist,\n",
    "            al.title album_name,\n",
    "            mt.name media_type,\n",
    "            g.name genre,\n",
    "            t.milliseconds length_milliseconds\n",
    "    FROM track t\n",
    "    INNER JOIN media_type mt ON mt.media_type_id = t.media_type_id\n",
    "    INNER JOIN genre g ON g.genre_id = t.genre_id\n",
    "    INNER JOIN album al ON al.album_id = t.album_id\n",
    "    INNER JOIN artist ar ON ar.artist_id = al.artist_id\n",
    "    )\n",
    "WHERE album_name = 'Jagged Little Pill'"
   ]
  },
  {
   "cell_type": "code",
   "execution_count": 24,
   "metadata": {},
   "outputs": [
    {
     "name": "stdout",
     "output_type": "stream",
     "text": [
      " * sqlite:///chinook.db\n",
      "Done.\n"
     ]
    },
    {
     "data": {
      "text/html": [
       "<table>\n",
       "    <tr>\n",
       "        <th>name</th>\n",
       "        <th>artist</th>\n",
       "        <th>album_name</th>\n",
       "        <th>media_type</th>\n",
       "        <th>genre</th>\n",
       "        <th>length_milliseconds</th>\n",
       "    </tr>\n",
       "    <tr>\n",
       "        <td>All I Really Want</td>\n",
       "        <td>Alanis Morissette</td>\n",
       "        <td>Jagged Little Pill</td>\n",
       "        <td>MPEG audio file</td>\n",
       "        <td>Rock</td>\n",
       "        <td>284891</td>\n",
       "    </tr>\n",
       "    <tr>\n",
       "        <td>You Oughta Know</td>\n",
       "        <td>Alanis Morissette</td>\n",
       "        <td>Jagged Little Pill</td>\n",
       "        <td>MPEG audio file</td>\n",
       "        <td>Rock</td>\n",
       "        <td>249234</td>\n",
       "    </tr>\n",
       "    <tr>\n",
       "        <td>Perfect</td>\n",
       "        <td>Alanis Morissette</td>\n",
       "        <td>Jagged Little Pill</td>\n",
       "        <td>MPEG audio file</td>\n",
       "        <td>Rock</td>\n",
       "        <td>188133</td>\n",
       "    </tr>\n",
       "    <tr>\n",
       "        <td>Hand In My Pocket</td>\n",
       "        <td>Alanis Morissette</td>\n",
       "        <td>Jagged Little Pill</td>\n",
       "        <td>MPEG audio file</td>\n",
       "        <td>Rock</td>\n",
       "        <td>221570</td>\n",
       "    </tr>\n",
       "    <tr>\n",
       "        <td>Right Through You</td>\n",
       "        <td>Alanis Morissette</td>\n",
       "        <td>Jagged Little Pill</td>\n",
       "        <td>MPEG audio file</td>\n",
       "        <td>Rock</td>\n",
       "        <td>176117</td>\n",
       "    </tr>\n",
       "    <tr>\n",
       "        <td>Forgiven</td>\n",
       "        <td>Alanis Morissette</td>\n",
       "        <td>Jagged Little Pill</td>\n",
       "        <td>MPEG audio file</td>\n",
       "        <td>Rock</td>\n",
       "        <td>300355</td>\n",
       "    </tr>\n",
       "    <tr>\n",
       "        <td>You Learn</td>\n",
       "        <td>Alanis Morissette</td>\n",
       "        <td>Jagged Little Pill</td>\n",
       "        <td>MPEG audio file</td>\n",
       "        <td>Rock</td>\n",
       "        <td>239699</td>\n",
       "    </tr>\n",
       "    <tr>\n",
       "        <td>Head Over Feet</td>\n",
       "        <td>Alanis Morissette</td>\n",
       "        <td>Jagged Little Pill</td>\n",
       "        <td>MPEG audio file</td>\n",
       "        <td>Rock</td>\n",
       "        <td>267493</td>\n",
       "    </tr>\n",
       "    <tr>\n",
       "        <td>Mary Jane</td>\n",
       "        <td>Alanis Morissette</td>\n",
       "        <td>Jagged Little Pill</td>\n",
       "        <td>MPEG audio file</td>\n",
       "        <td>Rock</td>\n",
       "        <td>280607</td>\n",
       "    </tr>\n",
       "    <tr>\n",
       "        <td>Ironic</td>\n",
       "        <td>Alanis Morissette</td>\n",
       "        <td>Jagged Little Pill</td>\n",
       "        <td>MPEG audio file</td>\n",
       "        <td>Rock</td>\n",
       "        <td>229825</td>\n",
       "    </tr>\n",
       "    <tr>\n",
       "        <td>Not The Doctor</td>\n",
       "        <td>Alanis Morissette</td>\n",
       "        <td>Jagged Little Pill</td>\n",
       "        <td>MPEG audio file</td>\n",
       "        <td>Rock</td>\n",
       "        <td>227631</td>\n",
       "    </tr>\n",
       "    <tr>\n",
       "        <td>Wake Up</td>\n",
       "        <td>Alanis Morissette</td>\n",
       "        <td>Jagged Little Pill</td>\n",
       "        <td>MPEG audio file</td>\n",
       "        <td>Rock</td>\n",
       "        <td>293485</td>\n",
       "    </tr>\n",
       "    <tr>\n",
       "        <td>You Oughta Know (Alternate)</td>\n",
       "        <td>Alanis Morissette</td>\n",
       "        <td>Jagged Little Pill</td>\n",
       "        <td>MPEG audio file</td>\n",
       "        <td>Rock</td>\n",
       "        <td>491885</td>\n",
       "    </tr>\n",
       "</table>"
      ],
      "text/plain": [
       "[('All I Really Want', 'Alanis Morissette', 'Jagged Little Pill', 'MPEG audio file', 'Rock', 284891),\n",
       " ('You Oughta Know', 'Alanis Morissette', 'Jagged Little Pill', 'MPEG audio file', 'Rock', 249234),\n",
       " ('Perfect', 'Alanis Morissette', 'Jagged Little Pill', 'MPEG audio file', 'Rock', 188133),\n",
       " ('Hand In My Pocket', 'Alanis Morissette', 'Jagged Little Pill', 'MPEG audio file', 'Rock', 221570),\n",
       " ('Right Through You', 'Alanis Morissette', 'Jagged Little Pill', 'MPEG audio file', 'Rock', 176117),\n",
       " ('Forgiven', 'Alanis Morissette', 'Jagged Little Pill', 'MPEG audio file', 'Rock', 300355),\n",
       " ('You Learn', 'Alanis Morissette', 'Jagged Little Pill', 'MPEG audio file', 'Rock', 239699),\n",
       " ('Head Over Feet', 'Alanis Morissette', 'Jagged Little Pill', 'MPEG audio file', 'Rock', 267493),\n",
       " ('Mary Jane', 'Alanis Morissette', 'Jagged Little Pill', 'MPEG audio file', 'Rock', 280607),\n",
       " ('Ironic', 'Alanis Morissette', 'Jagged Little Pill', 'MPEG audio file', 'Rock', 229825),\n",
       " ('Not The Doctor', 'Alanis Morissette', 'Jagged Little Pill', 'MPEG audio file', 'Rock', 227631),\n",
       " ('Wake Up', 'Alanis Morissette', 'Jagged Little Pill', 'MPEG audio file', 'Rock', 293485),\n",
       " ('You Oughta Know (Alternate)', 'Alanis Morissette', 'Jagged Little Pill', 'MPEG audio file', 'Rock', 491885)]"
      ]
     },
     "execution_count": 24,
     "metadata": {},
     "output_type": "execute_result"
    }
   ],
   "source": [
    "%%sql\n",
    "WITH track_info AS\n",
    "    (SELECT t.name,\n",
    "            ar.name artist,\n",
    "            al.title album_name,\n",
    "            mt.name media_type,\n",
    "            g.name genre,\n",
    "            t.milliseconds length_milliseconds\n",
    "    FROM track t\n",
    "    INNER JOIN media_type mt ON mt.media_type_id = t.media_type_id\n",
    "    INNER JOIN genre g ON g.genre_id = t.genre_id\n",
    "    INNER JOIN album al ON al.album_id = t.album_id\n",
    "    INNER JOIN artist ar ON ar.artist_id = al.artist_id)\n",
    "SELECT * FROM track_info\n",
    "WHERE album_name = \"Jagged Little Pill\""
   ]
  },
  {
   "cell_type": "code",
   "execution_count": 25,
   "metadata": {},
   "outputs": [
    {
     "name": "stdout",
     "output_type": "stream",
     "text": [
      " * sqlite:///chinook.db\n",
      "Done.\n"
     ]
    },
    {
     "data": {
      "text/html": [
       "<table>\n",
       "    <tr>\n",
       "        <th>playlist_id</th>\n",
       "        <th>playlist_name</th>\n",
       "        <th>number_of_tracks</th>\n",
       "        <th>SUM(length_seconds)</th>\n",
       "    </tr>\n",
       "    <tr>\n",
       "        <td>1</td>\n",
       "        <td>Music</td>\n",
       "        <td>3290</td>\n",
       "        <td>876049</td>\n",
       "    </tr>\n",
       "    <tr>\n",
       "        <td>2</td>\n",
       "        <td>Movies</td>\n",
       "        <td>0</td>\n",
       "        <td>None</td>\n",
       "    </tr>\n",
       "    <tr>\n",
       "        <td>3</td>\n",
       "        <td>TV Shows</td>\n",
       "        <td>213</td>\n",
       "        <td>500987</td>\n",
       "    </tr>\n",
       "    <tr>\n",
       "        <td>4</td>\n",
       "        <td>Audiobooks</td>\n",
       "        <td>0</td>\n",
       "        <td>None</td>\n",
       "    </tr>\n",
       "    <tr>\n",
       "        <td>5</td>\n",
       "        <td>90’s Music</td>\n",
       "        <td>1477</td>\n",
       "        <td>397970</td>\n",
       "    </tr>\n",
       "    <tr>\n",
       "        <td>6</td>\n",
       "        <td>Audiobooks</td>\n",
       "        <td>0</td>\n",
       "        <td>None</td>\n",
       "    </tr>\n",
       "    <tr>\n",
       "        <td>7</td>\n",
       "        <td>Movies</td>\n",
       "        <td>0</td>\n",
       "        <td>None</td>\n",
       "    </tr>\n",
       "    <tr>\n",
       "        <td>8</td>\n",
       "        <td>Music</td>\n",
       "        <td>3290</td>\n",
       "        <td>876049</td>\n",
       "    </tr>\n",
       "    <tr>\n",
       "        <td>9</td>\n",
       "        <td>Music Videos</td>\n",
       "        <td>1</td>\n",
       "        <td>294</td>\n",
       "    </tr>\n",
       "    <tr>\n",
       "        <td>10</td>\n",
       "        <td>TV Shows</td>\n",
       "        <td>213</td>\n",
       "        <td>500987</td>\n",
       "    </tr>\n",
       "    <tr>\n",
       "        <td>11</td>\n",
       "        <td>Brazilian Music</td>\n",
       "        <td>39</td>\n",
       "        <td>9464</td>\n",
       "    </tr>\n",
       "    <tr>\n",
       "        <td>12</td>\n",
       "        <td>Classical</td>\n",
       "        <td>75</td>\n",
       "        <td>21736</td>\n",
       "    </tr>\n",
       "    <tr>\n",
       "        <td>13</td>\n",
       "        <td>Classical 101 - Deep Cuts</td>\n",
       "        <td>25</td>\n",
       "        <td>6742</td>\n",
       "    </tr>\n",
       "    <tr>\n",
       "        <td>14</td>\n",
       "        <td>Classical 101 - Next Steps</td>\n",
       "        <td>25</td>\n",
       "        <td>7565</td>\n",
       "    </tr>\n",
       "    <tr>\n",
       "        <td>15</td>\n",
       "        <td>Classical 101 - The Basics</td>\n",
       "        <td>25</td>\n",
       "        <td>7429</td>\n",
       "    </tr>\n",
       "    <tr>\n",
       "        <td>16</td>\n",
       "        <td>Grunge</td>\n",
       "        <td>15</td>\n",
       "        <td>4114</td>\n",
       "    </tr>\n",
       "    <tr>\n",
       "        <td>17</td>\n",
       "        <td>Heavy Metal Classic</td>\n",
       "        <td>26</td>\n",
       "        <td>8189</td>\n",
       "    </tr>\n",
       "    <tr>\n",
       "        <td>18</td>\n",
       "        <td>On-The-Go 1</td>\n",
       "        <td>1</td>\n",
       "        <td>197</td>\n",
       "    </tr>\n",
       "</table>"
      ],
      "text/plain": [
       "[(1, 'Music', 3290, 876049),\n",
       " (2, 'Movies', 0, None),\n",
       " (3, 'TV Shows', 213, 500987),\n",
       " (4, 'Audiobooks', 0, None),\n",
       " (5, '90’s Music', 1477, 397970),\n",
       " (6, 'Audiobooks', 0, None),\n",
       " (7, 'Movies', 0, None),\n",
       " (8, 'Music', 3290, 876049),\n",
       " (9, 'Music Videos', 1, 294),\n",
       " (10, 'TV Shows', 213, 500987),\n",
       " (11, 'Brazilian Music', 39, 9464),\n",
       " (12, 'Classical', 75, 21736),\n",
       " (13, 'Classical 101 - Deep Cuts', 25, 6742),\n",
       " (14, 'Classical 101 - Next Steps', 25, 7565),\n",
       " (15, 'Classical 101 - The Basics', 25, 7429),\n",
       " (16, 'Grunge', 15, 4114),\n",
       " (17, 'Heavy Metal Classic', 26, 8189),\n",
       " (18, 'On-The-Go 1', 1, 197)]"
      ]
     },
     "execution_count": 25,
     "metadata": {},
     "output_type": "execute_result"
    }
   ],
   "source": [
    "%%sql\n",
    "WITH playlist_info AS\n",
    "    (SELECT pl.playlist_id, \n",
    "            pl.name AS playlist_name, \n",
    "            t.name AS track_name, \n",
    "            t.milliseconds/ 1000 length_seconds\n",
    "     FROM playlist pl\n",
    "     LEFT JOIN playlist_track pt ON pt.playlist_id = pl.playlist_id\n",
    "     LEFT JOIN track t ON t.track_id = pt.track_id)\n",
    "SELECT playlist_id, playlist_name, COUNT(track_name) number_of_tracks, SUM(length_seconds)\n",
    "FROM playlist_info\n",
    "GROUP BY 1,2\n",
    "ORDER BY 1"
   ]
  },
  {
   "cell_type": "code",
   "execution_count": 26,
   "metadata": {},
   "outputs": [
    {
     "name": "stdout",
     "output_type": "stream",
     "text": [
      " * sqlite:///chinook.db\n",
      "Done.\n"
     ]
    },
    {
     "data": {
      "text/html": [
       "<table>\n",
       "    <tr>\n",
       "        <th>playlist_id</th>\n",
       "        <th>playlist_name</th>\n",
       "        <th>number_of_tracks</th>\n",
       "        <th>length_seconds</th>\n",
       "    </tr>\n",
       "    <tr>\n",
       "        <td>1</td>\n",
       "        <td>Music</td>\n",
       "        <td>3290</td>\n",
       "        <td>876049</td>\n",
       "    </tr>\n",
       "    <tr>\n",
       "        <td>2</td>\n",
       "        <td>Movies</td>\n",
       "        <td>0</td>\n",
       "        <td>None</td>\n",
       "    </tr>\n",
       "    <tr>\n",
       "        <td>3</td>\n",
       "        <td>TV Shows</td>\n",
       "        <td>213</td>\n",
       "        <td>500987</td>\n",
       "    </tr>\n",
       "    <tr>\n",
       "        <td>4</td>\n",
       "        <td>Audiobooks</td>\n",
       "        <td>0</td>\n",
       "        <td>None</td>\n",
       "    </tr>\n",
       "    <tr>\n",
       "        <td>5</td>\n",
       "        <td>90’s Music</td>\n",
       "        <td>1477</td>\n",
       "        <td>397970</td>\n",
       "    </tr>\n",
       "    <tr>\n",
       "        <td>6</td>\n",
       "        <td>Audiobooks</td>\n",
       "        <td>0</td>\n",
       "        <td>None</td>\n",
       "    </tr>\n",
       "    <tr>\n",
       "        <td>7</td>\n",
       "        <td>Movies</td>\n",
       "        <td>0</td>\n",
       "        <td>None</td>\n",
       "    </tr>\n",
       "    <tr>\n",
       "        <td>8</td>\n",
       "        <td>Music</td>\n",
       "        <td>3290</td>\n",
       "        <td>876049</td>\n",
       "    </tr>\n",
       "    <tr>\n",
       "        <td>9</td>\n",
       "        <td>Music Videos</td>\n",
       "        <td>1</td>\n",
       "        <td>294</td>\n",
       "    </tr>\n",
       "    <tr>\n",
       "        <td>10</td>\n",
       "        <td>TV Shows</td>\n",
       "        <td>213</td>\n",
       "        <td>500987</td>\n",
       "    </tr>\n",
       "    <tr>\n",
       "        <td>11</td>\n",
       "        <td>Brazilian Music</td>\n",
       "        <td>39</td>\n",
       "        <td>9464</td>\n",
       "    </tr>\n",
       "    <tr>\n",
       "        <td>12</td>\n",
       "        <td>Classical</td>\n",
       "        <td>75</td>\n",
       "        <td>21736</td>\n",
       "    </tr>\n",
       "    <tr>\n",
       "        <td>13</td>\n",
       "        <td>Classical 101 - Deep Cuts</td>\n",
       "        <td>25</td>\n",
       "        <td>6742</td>\n",
       "    </tr>\n",
       "    <tr>\n",
       "        <td>14</td>\n",
       "        <td>Classical 101 - Next Steps</td>\n",
       "        <td>25</td>\n",
       "        <td>7565</td>\n",
       "    </tr>\n",
       "    <tr>\n",
       "        <td>15</td>\n",
       "        <td>Classical 101 - The Basics</td>\n",
       "        <td>25</td>\n",
       "        <td>7429</td>\n",
       "    </tr>\n",
       "    <tr>\n",
       "        <td>16</td>\n",
       "        <td>Grunge</td>\n",
       "        <td>15</td>\n",
       "        <td>4114</td>\n",
       "    </tr>\n",
       "    <tr>\n",
       "        <td>17</td>\n",
       "        <td>Heavy Metal Classic</td>\n",
       "        <td>26</td>\n",
       "        <td>8189</td>\n",
       "    </tr>\n",
       "    <tr>\n",
       "        <td>18</td>\n",
       "        <td>On-The-Go 1</td>\n",
       "        <td>1</td>\n",
       "        <td>197</td>\n",
       "    </tr>\n",
       "</table>"
      ],
      "text/plain": [
       "[(1, 'Music', 3290, 876049),\n",
       " (2, 'Movies', 0, None),\n",
       " (3, 'TV Shows', 213, 500987),\n",
       " (4, 'Audiobooks', 0, None),\n",
       " (5, '90’s Music', 1477, 397970),\n",
       " (6, 'Audiobooks', 0, None),\n",
       " (7, 'Movies', 0, None),\n",
       " (8, 'Music', 3290, 876049),\n",
       " (9, 'Music Videos', 1, 294),\n",
       " (10, 'TV Shows', 213, 500987),\n",
       " (11, 'Brazilian Music', 39, 9464),\n",
       " (12, 'Classical', 75, 21736),\n",
       " (13, 'Classical 101 - Deep Cuts', 25, 6742),\n",
       " (14, 'Classical 101 - Next Steps', 25, 7565),\n",
       " (15, 'Classical 101 - The Basics', 25, 7429),\n",
       " (16, 'Grunge', 15, 4114),\n",
       " (17, 'Heavy Metal Classic', 26, 8189),\n",
       " (18, 'On-The-Go 1', 1, 197)]"
      ]
     },
     "execution_count": 26,
     "metadata": {},
     "output_type": "execute_result"
    }
   ],
   "source": [
    "%%sql\n",
    "WITH playlist_info AS\n",
    "    (\n",
    "     SELECT\n",
    "         p.playlist_id,\n",
    "         p.name playlist_name,\n",
    "         t.name track_name,\n",
    "         (t.milliseconds / 1000) length_seconds\n",
    "     FROM playlist p\n",
    "     LEFT JOIN playlist_track pt ON pt.playlist_id = p.playlist_id\n",
    "     LEFT JOIN track t ON t.track_id = pt.track_id\n",
    "    )\n",
    "\n",
    "SELECT\n",
    "    playlist_id,\n",
    "    playlist_name,\n",
    "    COUNT(track_name) number_of_tracks,\n",
    "    SUM(length_seconds) length_seconds\n",
    "FROM playlist_info\n",
    "GROUP BY 1, 2\n",
    "ORDER BY 1;"
   ]
  },
  {
   "cell_type": "code",
   "execution_count": 27,
   "metadata": {},
   "outputs": [
    {
     "name": "stdout",
     "output_type": "stream",
     "text": [
      " * sqlite:///chinook.db\n",
      "Done.\n",
      "Done.\n"
     ]
    },
    {
     "data": {
      "text/plain": [
       "[]"
      ]
     },
     "execution_count": 27,
     "metadata": {},
     "output_type": "execute_result"
    }
   ],
   "source": [
    "%%sql\n",
    "CREATE VIEW customer_2 AS\n",
    "    SELECT * FROM customer;\n",
    "DROP VIEW customer_2;"
   ]
  },
  {
   "cell_type": "code",
   "execution_count": 28,
   "metadata": {},
   "outputs": [
    {
     "name": "stdout",
     "output_type": "stream",
     "text": [
      " * sqlite:///chinook.db\n",
      "(sqlite3.OperationalError) table customer_usa already exists\n",
      "[SQL: CREATE VIEW customer_usa AS\n",
      "    SELECT * FROM customer\n",
      "    WHERE country = \"USA\";]\n",
      "(Background on this error at: http://sqlalche.me/e/e3q8)\n"
     ]
    }
   ],
   "source": [
    "%%sql \n",
    "CREATE VIEW customer_usa AS\n",
    "    SELECT * FROM customer\n",
    "    WHERE country = \"USA\";\n",
    "\n",
    "CREATE VIEW customer_gt_90_dollars AS\n",
    "    SELECT c.*\n",
    "        FROM customer c\n",
    "        INNER JOIN invoice i ON c.customer_id = i.customer_id\n",
    "        GROUP BY i.customer_id\n",
    "        HAVING SUM(i.total) > 90\n"
   ]
  },
  {
   "cell_type": "code",
   "execution_count": 29,
   "metadata": {},
   "outputs": [
    {
     "name": "stdout",
     "output_type": "stream",
     "text": [
      " * sqlite:///chinook.db\n",
      "Done.\n"
     ]
    },
    {
     "data": {
      "text/html": [
       "<table>\n",
       "    <tr>\n",
       "        <th>customer_id</th>\n",
       "        <th>first_name</th>\n",
       "        <th>last_name</th>\n",
       "        <th>company</th>\n",
       "        <th>address</th>\n",
       "        <th>city</th>\n",
       "        <th>state</th>\n",
       "        <th>country</th>\n",
       "        <th>postal_code</th>\n",
       "        <th>phone</th>\n",
       "        <th>fax</th>\n",
       "        <th>email</th>\n",
       "        <th>support_rep_id</th>\n",
       "    </tr>\n",
       "    <tr>\n",
       "        <td>1</td>\n",
       "        <td>Luís</td>\n",
       "        <td>Gonçalves</td>\n",
       "        <td>Embraer - Empresa Brasileira de Aeronáutica S.A.</td>\n",
       "        <td>Av. Brigadeiro Faria Lima, 2170</td>\n",
       "        <td>São José dos Campos</td>\n",
       "        <td>SP</td>\n",
       "        <td>Brazil</td>\n",
       "        <td>12227-000</td>\n",
       "        <td>+55 (12) 3923-5555</td>\n",
       "        <td>+55 (12) 3923-5566</td>\n",
       "        <td>luisg@embraer.com.br</td>\n",
       "        <td>3</td>\n",
       "    </tr>\n",
       "    <tr>\n",
       "        <td>3</td>\n",
       "        <td>François</td>\n",
       "        <td>Tremblay</td>\n",
       "        <td>None</td>\n",
       "        <td>1498 rue Bélanger</td>\n",
       "        <td>Montréal</td>\n",
       "        <td>QC</td>\n",
       "        <td>Canada</td>\n",
       "        <td>H2G 1A7</td>\n",
       "        <td>+1 (514) 721-4711</td>\n",
       "        <td>None</td>\n",
       "        <td>ftremblay@gmail.com</td>\n",
       "        <td>3</td>\n",
       "    </tr>\n",
       "    <tr>\n",
       "        <td>5</td>\n",
       "        <td>František</td>\n",
       "        <td>Wichterlová</td>\n",
       "        <td>JetBrains s.r.o.</td>\n",
       "        <td>Klanova 9/506</td>\n",
       "        <td>Prague</td>\n",
       "        <td>None</td>\n",
       "        <td>Czech Republic</td>\n",
       "        <td>14700</td>\n",
       "        <td>+420 2 4172 5555</td>\n",
       "        <td>+420 2 4172 5555</td>\n",
       "        <td>frantisekw@jetbrains.com</td>\n",
       "        <td>4</td>\n",
       "    </tr>\n",
       "</table>"
      ],
      "text/plain": [
       "[(1, 'Luís', 'Gonçalves', 'Embraer - Empresa Brasileira de Aeronáutica S.A.', 'Av. Brigadeiro Faria Lima, 2170', 'São José dos Campos', 'SP', 'Brazil', '12227-000', '+55 (12) 3923-5555', '+55 (12) 3923-5566', 'luisg@embraer.com.br', 3),\n",
       " (3, 'François', 'Tremblay', None, '1498 rue Bélanger', 'Montréal', 'QC', 'Canada', 'H2G 1A7', '+1 (514) 721-4711', None, 'ftremblay@gmail.com', 3),\n",
       " (5, 'František', 'Wichterlová', 'JetBrains s.r.o.', 'Klanova 9/506', 'Prague', None, 'Czech Republic', '14700', '+420 2 4172 5555', '+420 2 4172 5555', 'frantisekw@jetbrains.com', 4)]"
      ]
     },
     "execution_count": 29,
     "metadata": {},
     "output_type": "execute_result"
    }
   ],
   "source": [
    "%%sql\n",
    "SELECT c.*\n",
    "        FROM customer c\n",
    "        INNER JOIN invoice i ON c.customer_id = i.customer_id\n",
    "        GROUP BY i.customer_id\n",
    "        HAVING SUM(i.total) > 90\n",
    "        LIMIT 3"
   ]
  },
  {
   "cell_type": "code",
   "execution_count": 30,
   "metadata": {
    "scrolled": true
   },
   "outputs": [
    {
     "name": "stdout",
     "output_type": "stream",
     "text": [
      " * sqlite:///chinook.db\n",
      "Done.\n"
     ]
    },
    {
     "data": {
      "text/html": [
       "<table>\n",
       "    <tr>\n",
       "        <th>invoice_id</th>\n",
       "        <th>customer_id</th>\n",
       "        <th>invoice_date</th>\n",
       "        <th>billing_address</th>\n",
       "        <th>billing_city</th>\n",
       "        <th>billing_state</th>\n",
       "        <th>billing_country</th>\n",
       "        <th>billing_postal_code</th>\n",
       "        <th>total</th>\n",
       "        <th>SUM(total)</th>\n",
       "    </tr>\n",
       "    <tr>\n",
       "        <td>16</td>\n",
       "        <td>1</td>\n",
       "        <td>2017-01-26 00:00:00</td>\n",
       "        <td>Av. Brigadeiro Faria Lima, 2170</td>\n",
       "        <td>São José dos Campos</td>\n",
       "        <td>SP</td>\n",
       "        <td>Brazil</td>\n",
       "        <td>12227-000</td>\n",
       "        <td>8.91</td>\n",
       "        <td>108.89999999999998</td>\n",
       "    </tr>\n",
       "    <tr>\n",
       "        <td>31</td>\n",
       "        <td>3</td>\n",
       "        <td>2017-02-21 00:00:00</td>\n",
       "        <td>1498 rue Bélanger</td>\n",
       "        <td>Montréal</td>\n",
       "        <td>QC</td>\n",
       "        <td>Canada</td>\n",
       "        <td>H2G 1A7</td>\n",
       "        <td>19.8</td>\n",
       "        <td>99.99</td>\n",
       "    </tr>\n",
       "    <tr>\n",
       "        <td>78</td>\n",
       "        <td>5</td>\n",
       "        <td>2017-05-29 00:00:00</td>\n",
       "        <td>Klanova 9/506</td>\n",
       "        <td>Prague</td>\n",
       "        <td>None</td>\n",
       "        <td>Czech Republic</td>\n",
       "        <td>14700</td>\n",
       "        <td>8.91</td>\n",
       "        <td>144.54000000000002</td>\n",
       "    </tr>\n",
       "</table>"
      ],
      "text/plain": [
       "[(16, 1, '2017-01-26 00:00:00', 'Av. Brigadeiro Faria Lima, 2170', 'São José dos Campos', 'SP', 'Brazil', '12227-000', 8.91, 108.89999999999998),\n",
       " (31, 3, '2017-02-21 00:00:00', '1498 rue Bélanger', 'Montréal', 'QC', 'Canada', 'H2G 1A7', 19.8, 99.99),\n",
       " (78, 5, '2017-05-29 00:00:00', 'Klanova 9/506', 'Prague', 'None', 'Czech Republic', '14700', 8.91, 144.54000000000002)]"
      ]
     },
     "execution_count": 30,
     "metadata": {},
     "output_type": "execute_result"
    }
   ],
   "source": [
    "%%sql \n",
    "SELECT *, SUM(total) \n",
    "FROM invoice \n",
    "GROUP BY customer_id\n",
    "HAVING SUM(total) > 90\n",
    "LIMIT 3"
   ]
  },
  {
   "cell_type": "code",
   "execution_count": 31,
   "metadata": {
    "scrolled": true
   },
   "outputs": [
    {
     "name": "stdout",
     "output_type": "stream",
     "text": [
      " * sqlite:///chinook.db\n",
      "Done.\n"
     ]
    },
    {
     "data": {
      "text/html": [
       "<table>\n",
       "    <tr>\n",
       "        <th>customer_id</th>\n",
       "        <th>first_name</th>\n",
       "        <th>last_name</th>\n",
       "        <th>company</th>\n",
       "        <th>address</th>\n",
       "        <th>city</th>\n",
       "        <th>state</th>\n",
       "        <th>country</th>\n",
       "        <th>postal_code</th>\n",
       "        <th>phone</th>\n",
       "        <th>fax</th>\n",
       "        <th>email</th>\n",
       "        <th>support_rep_id</th>\n",
       "    </tr>\n",
       "    <tr>\n",
       "        <td>1</td>\n",
       "        <td>Luís</td>\n",
       "        <td>Gonçalves</td>\n",
       "        <td>Embraer - Empresa Brasileira de Aeronáutica S.A.</td>\n",
       "        <td>Av. Brigadeiro Faria Lima, 2170</td>\n",
       "        <td>São José dos Campos</td>\n",
       "        <td>SP</td>\n",
       "        <td>Brazil</td>\n",
       "        <td>12227-000</td>\n",
       "        <td>+55 (12) 3923-5555</td>\n",
       "        <td>+55 (12) 3923-5566</td>\n",
       "        <td>luisg@embraer.com.br</td>\n",
       "        <td>3</td>\n",
       "    </tr>\n",
       "    <tr>\n",
       "        <td>3</td>\n",
       "        <td>François</td>\n",
       "        <td>Tremblay</td>\n",
       "        <td>None</td>\n",
       "        <td>1498 rue Bélanger</td>\n",
       "        <td>Montréal</td>\n",
       "        <td>QC</td>\n",
       "        <td>Canada</td>\n",
       "        <td>H2G 1A7</td>\n",
       "        <td>+1 (514) 721-4711</td>\n",
       "        <td>None</td>\n",
       "        <td>ftremblay@gmail.com</td>\n",
       "        <td>3</td>\n",
       "    </tr>\n",
       "    <tr>\n",
       "        <td>5</td>\n",
       "        <td>František</td>\n",
       "        <td>Wichterlová</td>\n",
       "        <td>JetBrains s.r.o.</td>\n",
       "        <td>Klanova 9/506</td>\n",
       "        <td>Prague</td>\n",
       "        <td>None</td>\n",
       "        <td>Czech Republic</td>\n",
       "        <td>14700</td>\n",
       "        <td>+420 2 4172 5555</td>\n",
       "        <td>+420 2 4172 5555</td>\n",
       "        <td>frantisekw@jetbrains.com</td>\n",
       "        <td>4</td>\n",
       "    </tr>\n",
       "</table>"
      ],
      "text/plain": [
       "[(1, 'Luís', 'Gonçalves', 'Embraer - Empresa Brasileira de Aeronáutica S.A.', 'Av. Brigadeiro Faria Lima, 2170', 'São José dos Campos', 'SP', 'Brazil', '12227-000', '+55 (12) 3923-5555', '+55 (12) 3923-5566', 'luisg@embraer.com.br', 3),\n",
       " (3, 'François', 'Tremblay', None, '1498 rue Bélanger', 'Montréal', 'QC', 'Canada', 'H2G 1A7', '+1 (514) 721-4711', None, 'ftremblay@gmail.com', 3),\n",
       " (5, 'František', 'Wichterlová', 'JetBrains s.r.o.', 'Klanova 9/506', 'Prague', None, 'Czech Republic', '14700', '+420 2 4172 5555', '+420 2 4172 5555', 'frantisekw@jetbrains.com', 4)]"
      ]
     },
     "execution_count": 31,
     "metadata": {},
     "output_type": "execute_result"
    }
   ],
   "source": [
    "%%sql\n",
    "SELECT *\n",
    "    FROM customer_usa\n",
    "UNION\n",
    "SELECT *\n",
    "    FROM customer_gt_90_dollars\n",
    "LIMIT 3"
   ]
  },
  {
   "cell_type": "code",
   "execution_count": 32,
   "metadata": {
    "scrolled": true
   },
   "outputs": [
    {
     "name": "stdout",
     "output_type": "stream",
     "text": [
      " * sqlite:///chinook.db\n",
      "Done.\n"
     ]
    },
    {
     "data": {
      "text/html": [
       "<table>\n",
       "    <tr>\n",
       "        <th>customer_id</th>\n",
       "        <th>first_name</th>\n",
       "        <th>last_name</th>\n",
       "        <th>company</th>\n",
       "        <th>address</th>\n",
       "        <th>city</th>\n",
       "        <th>state</th>\n",
       "        <th>country</th>\n",
       "        <th>postal_code</th>\n",
       "        <th>phone</th>\n",
       "        <th>fax</th>\n",
       "        <th>email</th>\n",
       "        <th>support_rep_id</th>\n",
       "    </tr>\n",
       "    <tr>\n",
       "        <td>17</td>\n",
       "        <td>Jack</td>\n",
       "        <td>Smith</td>\n",
       "        <td>Microsoft Corporation</td>\n",
       "        <td>1 Microsoft Way</td>\n",
       "        <td>Redmond</td>\n",
       "        <td>WA</td>\n",
       "        <td>USA</td>\n",
       "        <td>98052-8300</td>\n",
       "        <td>+1 (425) 882-8080</td>\n",
       "        <td>+1 (425) 882-8081</td>\n",
       "        <td>jacksmith@microsoft.com</td>\n",
       "        <td>5</td>\n",
       "    </tr>\n",
       "    <tr>\n",
       "        <td>20</td>\n",
       "        <td>Dan</td>\n",
       "        <td>Miller</td>\n",
       "        <td>None</td>\n",
       "        <td>541 Del Medio Avenue</td>\n",
       "        <td>Mountain View</td>\n",
       "        <td>CA</td>\n",
       "        <td>USA</td>\n",
       "        <td>94040-111</td>\n",
       "        <td>+1 (650) 644-3358</td>\n",
       "        <td>None</td>\n",
       "        <td>dmiller@comcast.com</td>\n",
       "        <td>4</td>\n",
       "    </tr>\n",
       "    <tr>\n",
       "        <td>21</td>\n",
       "        <td>Kathy</td>\n",
       "        <td>Chase</td>\n",
       "        <td>None</td>\n",
       "        <td>801 W 4th Street</td>\n",
       "        <td>Reno</td>\n",
       "        <td>NV</td>\n",
       "        <td>USA</td>\n",
       "        <td>89503</td>\n",
       "        <td>+1 (775) 223-7665</td>\n",
       "        <td>None</td>\n",
       "        <td>kachase@hotmail.com</td>\n",
       "        <td>5</td>\n",
       "    </tr>\n",
       "    <tr>\n",
       "        <td>22</td>\n",
       "        <td>Heather</td>\n",
       "        <td>Leacock</td>\n",
       "        <td>None</td>\n",
       "        <td>120 S Orange Ave</td>\n",
       "        <td>Orlando</td>\n",
       "        <td>FL</td>\n",
       "        <td>USA</td>\n",
       "        <td>32801</td>\n",
       "        <td>+1 (407) 999-7788</td>\n",
       "        <td>None</td>\n",
       "        <td>hleacock@gmail.com</td>\n",
       "        <td>4</td>\n",
       "    </tr>\n",
       "</table>"
      ],
      "text/plain": [
       "[(17, 'Jack', 'Smith', 'Microsoft Corporation', '1 Microsoft Way', 'Redmond', 'WA', 'USA', '98052-8300', '+1 (425) 882-8080', '+1 (425) 882-8081', 'jacksmith@microsoft.com', 5),\n",
       " (20, 'Dan', 'Miller', None, '541 Del Medio Avenue', 'Mountain View', 'CA', 'USA', '94040-111', '+1 (650) 644-3358', None, 'dmiller@comcast.com', 4),\n",
       " (21, 'Kathy', 'Chase', None, '801 W 4th Street', 'Reno', 'NV', 'USA', '89503', '+1 (775) 223-7665', None, 'kachase@hotmail.com', 5),\n",
       " (22, 'Heather', 'Leacock', None, '120 S Orange Ave', 'Orlando', 'FL', 'USA', '32801', '+1 (407) 999-7788', None, 'hleacock@gmail.com', 4)]"
      ]
     },
     "execution_count": 32,
     "metadata": {},
     "output_type": "execute_result"
    }
   ],
   "source": [
    "%%sql\n",
    "SELECT * FROM customer_usa\n",
    "INTERSECT \n",
    "SELECT * FROM customer_gt_90_dollars"
   ]
  },
  {
   "cell_type": "code",
   "execution_count": 33,
   "metadata": {},
   "outputs": [
    {
     "name": "stdout",
     "output_type": "stream",
     "text": [
      " * sqlite:///chinook.db\n",
      "Done.\n"
     ]
    },
    {
     "data": {
      "text/html": [
       "<table>\n",
       "    <tr>\n",
       "        <th>customer_id</th>\n",
       "        <th>first_name</th>\n",
       "        <th>last_name</th>\n",
       "        <th>company</th>\n",
       "        <th>address</th>\n",
       "        <th>city</th>\n",
       "        <th>state</th>\n",
       "        <th>country</th>\n",
       "        <th>postal_code</th>\n",
       "        <th>phone</th>\n",
       "        <th>fax</th>\n",
       "        <th>email</th>\n",
       "        <th>support_rep_id</th>\n",
       "    </tr>\n",
       "    <tr>\n",
       "        <td>16</td>\n",
       "        <td>Frank</td>\n",
       "        <td>Harris</td>\n",
       "        <td>Google Inc.</td>\n",
       "        <td>1600 Amphitheatre Parkway</td>\n",
       "        <td>Mountain View</td>\n",
       "        <td>CA</td>\n",
       "        <td>USA</td>\n",
       "        <td>94043-1351</td>\n",
       "        <td>+1 (650) 253-0000</td>\n",
       "        <td>+1 (650) 253-0000</td>\n",
       "        <td>fharris@google.com</td>\n",
       "        <td>4</td>\n",
       "    </tr>\n",
       "    <tr>\n",
       "        <td>18</td>\n",
       "        <td>Michelle</td>\n",
       "        <td>Brooks</td>\n",
       "        <td>None</td>\n",
       "        <td>627 Broadway</td>\n",
       "        <td>New York</td>\n",
       "        <td>NY</td>\n",
       "        <td>USA</td>\n",
       "        <td>10012-2612</td>\n",
       "        <td>+1 (212) 221-3546</td>\n",
       "        <td>+1 (212) 221-4679</td>\n",
       "        <td>michelleb@aol.com</td>\n",
       "        <td>3</td>\n",
       "    </tr>\n",
       "    <tr>\n",
       "        <td>19</td>\n",
       "        <td>Tim</td>\n",
       "        <td>Goyer</td>\n",
       "        <td>Apple Inc.</td>\n",
       "        <td>1 Infinite Loop</td>\n",
       "        <td>Cupertino</td>\n",
       "        <td>CA</td>\n",
       "        <td>USA</td>\n",
       "        <td>95014</td>\n",
       "        <td>+1 (408) 996-1010</td>\n",
       "        <td>+1 (408) 996-1011</td>\n",
       "        <td>tgoyer@apple.com</td>\n",
       "        <td>3</td>\n",
       "    </tr>\n",
       "    <tr>\n",
       "        <td>23</td>\n",
       "        <td>John</td>\n",
       "        <td>Gordon</td>\n",
       "        <td>None</td>\n",
       "        <td>69 Salem Street</td>\n",
       "        <td>Boston</td>\n",
       "        <td>MA</td>\n",
       "        <td>USA</td>\n",
       "        <td>2113</td>\n",
       "        <td>+1 (617) 522-1333</td>\n",
       "        <td>None</td>\n",
       "        <td>johngordon22@yahoo.com</td>\n",
       "        <td>4</td>\n",
       "    </tr>\n",
       "    <tr>\n",
       "        <td>24</td>\n",
       "        <td>Frank</td>\n",
       "        <td>Ralston</td>\n",
       "        <td>None</td>\n",
       "        <td>162 E Superior Street</td>\n",
       "        <td>Chicago</td>\n",
       "        <td>IL</td>\n",
       "        <td>USA</td>\n",
       "        <td>60611</td>\n",
       "        <td>+1 (312) 332-3232</td>\n",
       "        <td>None</td>\n",
       "        <td>fralston@gmail.com</td>\n",
       "        <td>3</td>\n",
       "    </tr>\n",
       "    <tr>\n",
       "        <td>25</td>\n",
       "        <td>Victor</td>\n",
       "        <td>Stevens</td>\n",
       "        <td>None</td>\n",
       "        <td>319 N. Frances Street</td>\n",
       "        <td>Madison</td>\n",
       "        <td>WI</td>\n",
       "        <td>USA</td>\n",
       "        <td>53703</td>\n",
       "        <td>+1 (608) 257-0597</td>\n",
       "        <td>None</td>\n",
       "        <td>vstevens@yahoo.com</td>\n",
       "        <td>5</td>\n",
       "    </tr>\n",
       "    <tr>\n",
       "        <td>26</td>\n",
       "        <td>Richard</td>\n",
       "        <td>Cunningham</td>\n",
       "        <td>None</td>\n",
       "        <td>2211 W Berry Street</td>\n",
       "        <td>Fort Worth</td>\n",
       "        <td>TX</td>\n",
       "        <td>USA</td>\n",
       "        <td>76110</td>\n",
       "        <td>+1 (817) 924-7272</td>\n",
       "        <td>None</td>\n",
       "        <td>ricunningham@hotmail.com</td>\n",
       "        <td>4</td>\n",
       "    </tr>\n",
       "    <tr>\n",
       "        <td>27</td>\n",
       "        <td>Patrick</td>\n",
       "        <td>Gray</td>\n",
       "        <td>None</td>\n",
       "        <td>1033 N Park Ave</td>\n",
       "        <td>Tucson</td>\n",
       "        <td>AZ</td>\n",
       "        <td>USA</td>\n",
       "        <td>85719</td>\n",
       "        <td>+1 (520) 622-4200</td>\n",
       "        <td>None</td>\n",
       "        <td>patrick.gray@aol.com</td>\n",
       "        <td>4</td>\n",
       "    </tr>\n",
       "    <tr>\n",
       "        <td>28</td>\n",
       "        <td>Julia</td>\n",
       "        <td>Barnett</td>\n",
       "        <td>None</td>\n",
       "        <td>302 S 700 E</td>\n",
       "        <td>Salt Lake City</td>\n",
       "        <td>UT</td>\n",
       "        <td>USA</td>\n",
       "        <td>84102</td>\n",
       "        <td>+1 (801) 531-7272</td>\n",
       "        <td>None</td>\n",
       "        <td>jubarnett@gmail.com</td>\n",
       "        <td>5</td>\n",
       "    </tr>\n",
       "</table>"
      ],
      "text/plain": [
       "[(16, 'Frank', 'Harris', 'Google Inc.', '1600 Amphitheatre Parkway', 'Mountain View', 'CA', 'USA', '94043-1351', '+1 (650) 253-0000', '+1 (650) 253-0000', 'fharris@google.com', 4),\n",
       " (18, 'Michelle', 'Brooks', None, '627 Broadway', 'New York', 'NY', 'USA', '10012-2612', '+1 (212) 221-3546', '+1 (212) 221-4679', 'michelleb@aol.com', 3),\n",
       " (19, 'Tim', 'Goyer', 'Apple Inc.', '1 Infinite Loop', 'Cupertino', 'CA', 'USA', '95014', '+1 (408) 996-1010', '+1 (408) 996-1011', 'tgoyer@apple.com', 3),\n",
       " (23, 'John', 'Gordon', None, '69 Salem Street', 'Boston', 'MA', 'USA', '2113', '+1 (617) 522-1333', None, 'johngordon22@yahoo.com', 4),\n",
       " (24, 'Frank', 'Ralston', None, '162 E Superior Street', 'Chicago', 'IL', 'USA', '60611', '+1 (312) 332-3232', None, 'fralston@gmail.com', 3),\n",
       " (25, 'Victor', 'Stevens', None, '319 N. Frances Street', 'Madison', 'WI', 'USA', '53703', '+1 (608) 257-0597', None, 'vstevens@yahoo.com', 5),\n",
       " (26, 'Richard', 'Cunningham', None, '2211 W Berry Street', 'Fort Worth', 'TX', 'USA', '76110', '+1 (817) 924-7272', None, 'ricunningham@hotmail.com', 4),\n",
       " (27, 'Patrick', 'Gray', None, '1033 N Park Ave', 'Tucson', 'AZ', 'USA', '85719', '+1 (520) 622-4200', None, 'patrick.gray@aol.com', 4),\n",
       " (28, 'Julia', 'Barnett', None, '302 S 700 E', 'Salt Lake City', 'UT', 'USA', '84102', '+1 (801) 531-7272', None, 'jubarnett@gmail.com', 5)]"
      ]
     },
     "execution_count": 33,
     "metadata": {},
     "output_type": "execute_result"
    }
   ],
   "source": [
    "%%sql\n",
    "SELECT * FROM customer_usa\n",
    "EXCEPT\n",
    "SELECT * FROM customer_gt_90_dollars"
   ]
  },
  {
   "cell_type": "code",
   "execution_count": 34,
   "metadata": {},
   "outputs": [
    {
     "name": "stdout",
     "output_type": "stream",
     "text": [
      " * sqlite:///chinook.db\n",
      "Done.\n"
     ]
    },
    {
     "data": {
      "text/html": [
       "<table>\n",
       "    <tr>\n",
       "        <th>employee_name</th>\n",
       "        <th>customers_usa_gt_90</th>\n",
       "    </tr>\n",
       "    <tr>\n",
       "        <td>Jane Peacock</td>\n",
       "        <td>0</td>\n",
       "    </tr>\n",
       "    <tr>\n",
       "        <td>Margaret Park</td>\n",
       "        <td>2</td>\n",
       "    </tr>\n",
       "    <tr>\n",
       "        <td>Steve Johnson</td>\n",
       "        <td>2</td>\n",
       "    </tr>\n",
       "</table>"
      ],
      "text/plain": [
       "[('Jane Peacock', 0), ('Margaret Park', 2), ('Steve Johnson', 2)]"
      ]
     },
     "execution_count": 34,
     "metadata": {},
     "output_type": "execute_result"
    }
   ],
   "source": [
    "%%sql \n",
    "SELECT e.first_name || \" \" || e.last_name AS employee_name, COUNT(usa90.customer_id) AS customers_usa_gt_90\n",
    "    FROM employee e\n",
    "    LEFT JOIN (SELECT * FROM customer_usa INTERSECT SELECT * FROM customer_gt_90_dollars) usa90 \n",
    "                ON e.employee_id = usa90.support_rep_id\n",
    "    WHERE e.title = 'Sales Support Agent'\n",
    "    GROUP BY usa90.support_rep_id\n",
    "    ORDER BY 1;"
   ]
  },
  {
   "cell_type": "code",
   "execution_count": 35,
   "metadata": {},
   "outputs": [
    {
     "name": "stdout",
     "output_type": "stream",
     "text": [
      " * sqlite:///chinook.db\n",
      "Done.\n"
     ]
    },
    {
     "data": {
      "text/html": [
       "<table>\n",
       "    <tr>\n",
       "        <th>employee_name</th>\n",
       "        <th>customer_usa_gt_90</th>\n",
       "    </tr>\n",
       "    <tr>\n",
       "        <td>Jane Peacock</td>\n",
       "        <td>0</td>\n",
       "    </tr>\n",
       "    <tr>\n",
       "        <td>Margaret Park</td>\n",
       "        <td>2</td>\n",
       "    </tr>\n",
       "    <tr>\n",
       "        <td>Steve Johnson</td>\n",
       "        <td>2</td>\n",
       "    </tr>\n",
       "</table>"
      ],
      "text/plain": [
       "[('Jane Peacock', 0), ('Margaret Park', 2), ('Steve Johnson', 2)]"
      ]
     },
     "execution_count": 35,
     "metadata": {},
     "output_type": "execute_result"
    }
   ],
   "source": [
    "%%sql\n",
    "WITH customers_usa_gt_90 AS\n",
    "    (SELECT * FROM customer_usa\n",
    "     INTERSECT \n",
    "     SELECT * FROM customer_gt_90_dollars)\n",
    "SELECT \n",
    "    e.first_name||\" \"||e.last_name employee_name,\n",
    "    COUNT(c.customer_id) customer_usa_gt_90\n",
    "FROM employee e\n",
    "LEFT JOIN customers_usa_gt_90 c ON c.support_rep_id = e.employee_id\n",
    "WHERE e.title = 'Sales Support Agent'\n",
    "GROUP BY 1 ORDER BY 1;"
   ]
  },
  {
   "cell_type": "code",
   "execution_count": 36,
   "metadata": {},
   "outputs": [
    {
     "name": "stdout",
     "output_type": "stream",
     "text": [
      " * sqlite:///chinook.db\n",
      "Done.\n"
     ]
    },
    {
     "data": {
      "text/html": [
       "<table>\n",
       "    <tr>\n",
       "        <th>first_name</th>\n",
       "        <th>last_name</th>\n",
       "        <th>country</th>\n",
       "        <th>state</th>\n",
       "    </tr>\n",
       "    <tr>\n",
       "        <td>Tim</td>\n",
       "        <td>Goyer</td>\n",
       "        <td>USA</td>\n",
       "        <td>CA</td>\n",
       "    </tr>\n",
       "</table>"
      ],
      "text/plain": [
       "[('Tim', 'Goyer', 'USA', 'CA')]"
      ]
     },
     "execution_count": 36,
     "metadata": {},
     "output_type": "execute_result"
    }
   ],
   "source": [
    "%%sql\n",
    "WITH \n",
    "    usa AS\n",
    "     (SELECT * FROM customer\n",
    "      WHERE country = \"USA\"),\n",
    "    last_name_g AS\n",
    "    (SELECT * FROM usa \n",
    "        WHERE last_name LIKE \"G%\"),\n",
    "    state_ca AS\n",
    "        (SELECT * FROM last_name_g\n",
    "        WHERE state = 'CA')\n",
    "SELECT \n",
    "    first_name,\n",
    "    last_name,\n",
    "    country,\n",
    "    state\n",
    "FROM state_ca"
   ]
  },
  {
   "cell_type": "code",
   "execution_count": 37,
   "metadata": {},
   "outputs": [
    {
     "name": "stdout",
     "output_type": "stream",
     "text": [
      " * sqlite:///chinook.db\n",
      "Done.\n"
     ]
    },
    {
     "data": {
      "text/html": [
       "<table>\n",
       "    <tr>\n",
       "        <th>customer_name</th>\n",
       "        <th>total_purchases</th>\n",
       "    </tr>\n",
       "    <tr>\n",
       "        <td>Manoj Pareek</td>\n",
       "        <td>111.86999999999999</td>\n",
       "    </tr>\n",
       "    <tr>\n",
       "        <td>Puja Srivastava</td>\n",
       "        <td>71.28</td>\n",
       "    </tr>\n",
       "</table>"
      ],
      "text/plain": [
       "[('Manoj Pareek', 111.86999999999999), ('Puja Srivastava', 71.28)]"
      ]
     },
     "execution_count": 37,
     "metadata": {},
     "output_type": "execute_result"
    }
   ],
   "source": [
    "%%sql\n",
    "WITH \n",
    "    india AS \n",
    "        (SELECT * FROM customer\n",
    "        WHERE country = \"India\"),\n",
    "    sales_per_customer AS\n",
    "        (SELECT customer_id, SUM(total) AS total\n",
    "         FROM invoice\n",
    "            GROUP BY 1)\n",
    "SELECT i.first_name||\" \"||i.last_name customer_name, spc.total AS total_purchases\n",
    "FROM india i\n",
    "LEFT JOIN sales_per_customer spc ON i.customer_id = spc.customer_id\n",
    "ORDER BY 1;"
   ]
  },
  {
   "cell_type": "markdown",
   "metadata": {},
   "source": [
    "## A query to find the customer from each country that has spent the most money at store"
   ]
  },
  {
   "cell_type": "code",
   "execution_count": 38,
   "metadata": {},
   "outputs": [
    {
     "name": "stdout",
     "output_type": "stream",
     "text": [
      " * sqlite:///chinook.db\n",
      "Done.\n"
     ]
    },
    {
     "data": {
      "text/html": [
       "<table>\n",
       "    <tr>\n",
       "        <th>country</th>\n",
       "        <th>customer_name</th>\n",
       "        <th>total_purchased</th>\n",
       "    </tr>\n",
       "    <tr>\n",
       "        <td>Argentina</td>\n",
       "        <td>Diego Gutiérrez</td>\n",
       "        <td>39.6</td>\n",
       "    </tr>\n",
       "    <tr>\n",
       "        <td>Australia</td>\n",
       "        <td>Mark Taylor</td>\n",
       "        <td>81.18</td>\n",
       "    </tr>\n",
       "    <tr>\n",
       "        <td>Austria</td>\n",
       "        <td>Astrid Gruber</td>\n",
       "        <td>69.3</td>\n",
       "    </tr>\n",
       "    <tr>\n",
       "        <td>Belgium</td>\n",
       "        <td>Daan Peeters</td>\n",
       "        <td>60.38999999999999</td>\n",
       "    </tr>\n",
       "    <tr>\n",
       "        <td>Brazil</td>\n",
       "        <td>Luís Gonçalves</td>\n",
       "        <td>108.89999999999998</td>\n",
       "    </tr>\n",
       "    <tr>\n",
       "        <td>Canada</td>\n",
       "        <td>François Tremblay</td>\n",
       "        <td>99.99</td>\n",
       "    </tr>\n",
       "    <tr>\n",
       "        <td>Chile</td>\n",
       "        <td>Luis Rojas</td>\n",
       "        <td>97.02000000000001</td>\n",
       "    </tr>\n",
       "    <tr>\n",
       "        <td>Czech Republic</td>\n",
       "        <td>František Wichterlová</td>\n",
       "        <td>144.54000000000002</td>\n",
       "    </tr>\n",
       "    <tr>\n",
       "        <td>Denmark</td>\n",
       "        <td>Kara Nielsen</td>\n",
       "        <td>37.61999999999999</td>\n",
       "    </tr>\n",
       "    <tr>\n",
       "        <td>Finland</td>\n",
       "        <td>Terhi Hämäläinen</td>\n",
       "        <td>79.2</td>\n",
       "    </tr>\n",
       "    <tr>\n",
       "        <td>France</td>\n",
       "        <td>Wyatt Girard</td>\n",
       "        <td>99.99</td>\n",
       "    </tr>\n",
       "    <tr>\n",
       "        <td>Germany</td>\n",
       "        <td>Fynn Zimmermann</td>\n",
       "        <td>94.05000000000001</td>\n",
       "    </tr>\n",
       "    <tr>\n",
       "        <td>Hungary</td>\n",
       "        <td>Ladislav Kovács</td>\n",
       "        <td>78.21</td>\n",
       "    </tr>\n",
       "    <tr>\n",
       "        <td>India</td>\n",
       "        <td>Manoj Pareek</td>\n",
       "        <td>111.86999999999999</td>\n",
       "    </tr>\n",
       "    <tr>\n",
       "        <td>Ireland</td>\n",
       "        <td>Hugh O&#x27;Reilly</td>\n",
       "        <td>114.83999999999997</td>\n",
       "    </tr>\n",
       "    <tr>\n",
       "        <td>Italy</td>\n",
       "        <td>Lucas Mancini</td>\n",
       "        <td>50.49</td>\n",
       "    </tr>\n",
       "    <tr>\n",
       "        <td>Netherlands</td>\n",
       "        <td>Johannes Van der Berg</td>\n",
       "        <td>65.34</td>\n",
       "    </tr>\n",
       "    <tr>\n",
       "        <td>Norway</td>\n",
       "        <td>Bjørn Hansen</td>\n",
       "        <td>72.27000000000001</td>\n",
       "    </tr>\n",
       "    <tr>\n",
       "        <td>Poland</td>\n",
       "        <td>Stanisław Wójcik</td>\n",
       "        <td>76.22999999999999</td>\n",
       "    </tr>\n",
       "    <tr>\n",
       "        <td>Portugal</td>\n",
       "        <td>João Fernandes</td>\n",
       "        <td>102.96000000000001</td>\n",
       "    </tr>\n",
       "    <tr>\n",
       "        <td>Spain</td>\n",
       "        <td>Enrique Muñoz</td>\n",
       "        <td>98.01</td>\n",
       "    </tr>\n",
       "    <tr>\n",
       "        <td>Sweden</td>\n",
       "        <td>Joakim Johansson</td>\n",
       "        <td>75.24</td>\n",
       "    </tr>\n",
       "    <tr>\n",
       "        <td>USA</td>\n",
       "        <td>Jack Smith</td>\n",
       "        <td>98.01</td>\n",
       "    </tr>\n",
       "    <tr>\n",
       "        <td>United Kingdom</td>\n",
       "        <td>Phil Hughes</td>\n",
       "        <td>98.01</td>\n",
       "    </tr>\n",
       "</table>"
      ],
      "text/plain": [
       "[('Argentina', 'Diego Gutiérrez', 39.6),\n",
       " ('Australia', 'Mark Taylor', 81.18),\n",
       " ('Austria', 'Astrid Gruber', 69.3),\n",
       " ('Belgium', 'Daan Peeters', 60.38999999999999),\n",
       " ('Brazil', 'Luís Gonçalves', 108.89999999999998),\n",
       " ('Canada', 'François Tremblay', 99.99),\n",
       " ('Chile', 'Luis Rojas', 97.02000000000001),\n",
       " ('Czech Republic', 'František Wichterlová', 144.54000000000002),\n",
       " ('Denmark', 'Kara Nielsen', 37.61999999999999),\n",
       " ('Finland', 'Terhi Hämäläinen', 79.2),\n",
       " ('France', 'Wyatt Girard', 99.99),\n",
       " ('Germany', 'Fynn Zimmermann', 94.05000000000001),\n",
       " ('Hungary', 'Ladislav Kovács', 78.21),\n",
       " ('India', 'Manoj Pareek', 111.86999999999999),\n",
       " ('Ireland', \"Hugh O'Reilly\", 114.83999999999997),\n",
       " ('Italy', 'Lucas Mancini', 50.49),\n",
       " ('Netherlands', 'Johannes Van der Berg', 65.34),\n",
       " ('Norway', 'Bjørn Hansen', 72.27000000000001),\n",
       " ('Poland', 'Stanisław Wójcik', 76.22999999999999),\n",
       " ('Portugal', 'João Fernandes', 102.96000000000001),\n",
       " ('Spain', 'Enrique Muñoz', 98.01),\n",
       " ('Sweden', 'Joakim Johansson', 75.24),\n",
       " ('USA', 'Jack Smith', 98.01),\n",
       " ('United Kingdom', 'Phil Hughes', 98.01)]"
      ]
     },
     "execution_count": 38,
     "metadata": {},
     "output_type": "execute_result"
    }
   ],
   "source": [
    "%%sql\n",
    "WITH  sales_per_customer AS\n",
    "    (SELECT customer_id, SUM(total) total\n",
    "     FROM invoice\n",
    "     GROUP BY customer_id)\n",
    "SELECT c.country country, c.first_name||\" \"||c.last_name customer_name, spc.total total_purchased\n",
    "    FROM customer c\n",
    "    INNER JOIN sales_per_customer spc ON c.customer_id = spc.customer_id\n",
    "    GROUP BY 1\n",
    "    HAVING total_purchased = MAX(spc.total)\n",
    "    ORDER BY 1"
   ]
  },
  {
   "cell_type": "code",
   "execution_count": 39,
   "metadata": {
    "scrolled": true
   },
   "outputs": [
    {
     "name": "stdout",
     "output_type": "stream",
     "text": [
      " * sqlite:///chinook.db\n",
      "Done.\n"
     ]
    },
    {
     "data": {
      "text/html": [
       "<table>\n",
       "    <tr>\n",
       "        <th>country</th>\n",
       "        <th>customer_name</th>\n",
       "        <th>total_purchased</th>\n",
       "    </tr>\n",
       "    <tr>\n",
       "        <td>Argentina</td>\n",
       "        <td>Diego Gutiérrez</td>\n",
       "        <td>39.6</td>\n",
       "    </tr>\n",
       "    <tr>\n",
       "        <td>Australia</td>\n",
       "        <td>Mark Taylor</td>\n",
       "        <td>81.18</td>\n",
       "    </tr>\n",
       "    <tr>\n",
       "        <td>Austria</td>\n",
       "        <td>Astrid Gruber</td>\n",
       "        <td>69.3</td>\n",
       "    </tr>\n",
       "    <tr>\n",
       "        <td>Belgium</td>\n",
       "        <td>Daan Peeters</td>\n",
       "        <td>60.38999999999999</td>\n",
       "    </tr>\n",
       "    <tr>\n",
       "        <td>Brazil</td>\n",
       "        <td>Luís Gonçalves</td>\n",
       "        <td>108.89999999999998</td>\n",
       "    </tr>\n",
       "</table>"
      ],
      "text/plain": [
       "[('Argentina', 'Diego Gutiérrez', 39.6),\n",
       " ('Australia', 'Mark Taylor', 81.18),\n",
       " ('Austria', 'Astrid Gruber', 69.3),\n",
       " ('Belgium', 'Daan Peeters', 60.38999999999999),\n",
       " ('Brazil', 'Luís Gonçalves', 108.89999999999998)]"
      ]
     },
     "execution_count": 39,
     "metadata": {},
     "output_type": "execute_result"
    }
   ],
   "source": [
    "%%sql\n",
    "WITH\n",
    "    customer_country_purchases AS\n",
    "        (SELECT \n",
    "            i.customer_id,\n",
    "            c.country,\n",
    "            SUM(i.total) total_purchases\n",
    "         FROM invoice i\n",
    "         INNER JOIN customer c ON i.customer_id = c.customer_id\n",
    "         GROUP BY 1, 2),\n",
    "    country_max_purchase AS\n",
    "        (SELECT \n",
    "            country, \n",
    "            MAX(total_purchases) max_purchase\n",
    "         FROM customer_country_purchases\n",
    "         GROUP BY 1),\n",
    "    country_best_customer AS\n",
    "        (SELECT \n",
    "            cmp.country,\n",
    "            cmp.max_purchase,\n",
    "            (SELECT ccp.customer_id\n",
    "             FROM customer_country_purchases ccp\n",
    "             WHERE ccp.country = cmp.COUNTRY AND cmp.max_purchase = ccp.total_purchases\n",
    "            ) customer_id\n",
    "        FROM country_max_purchase cmp\n",
    "        )\n",
    "SELECT \n",
    "    cbc.country country,\n",
    "    c.first_name||\" \"||c.last_name customer_name,\n",
    "    cbc.max_purchase total_purchased\n",
    "FROM customer c\n",
    "INNER JOIN country_best_customer cbc ON cbc.customer_id = c.customer_id\n",
    "ORDER BY 1 ASC\n",
    "LIMIT 5"
   ]
  },
  {
   "cell_type": "code",
   "execution_count": 40,
   "metadata": {},
   "outputs": [
    {
     "name": "stdout",
     "output_type": "stream",
     "text": [
      " * sqlite:///chinook.db\n",
      "Done.\n"
     ]
    },
    {
     "data": {
      "text/html": [
       "<table>\n",
       "    <tr>\n",
       "        <th>customer_id</th>\n",
       "        <th>country</th>\n",
       "        <th>total_purchases</th>\n",
       "    </tr>\n",
       "    <tr>\n",
       "        <td>1</td>\n",
       "        <td>Brazil</td>\n",
       "        <td>108.89999999999998</td>\n",
       "    </tr>\n",
       "    <tr>\n",
       "        <td>2</td>\n",
       "        <td>Germany</td>\n",
       "        <td>82.17</td>\n",
       "    </tr>\n",
       "    <tr>\n",
       "        <td>3</td>\n",
       "        <td>Canada</td>\n",
       "        <td>99.99</td>\n",
       "    </tr>\n",
       "    <tr>\n",
       "        <td>4</td>\n",
       "        <td>Norway</td>\n",
       "        <td>72.27000000000001</td>\n",
       "    </tr>\n",
       "    <tr>\n",
       "        <td>5</td>\n",
       "        <td>Czech Republic</td>\n",
       "        <td>144.54000000000002</td>\n",
       "    </tr>\n",
       "</table>"
      ],
      "text/plain": [
       "[(1, 'Brazil', 108.89999999999998),\n",
       " (2, 'Germany', 82.17),\n",
       " (3, 'Canada', 99.99),\n",
       " (4, 'Norway', 72.27000000000001),\n",
       " (5, 'Czech Republic', 144.54000000000002)]"
      ]
     },
     "execution_count": 40,
     "metadata": {},
     "output_type": "execute_result"
    }
   ],
   "source": [
    "%%sql\n",
    "SELECT i.customer_id, c.country, SUM(i.total) total_purchases\n",
    "    FROM invoice i\n",
    "    INNER JOIN customer c ON i.customer_id = c.customer_id\n",
    "    GROUP BY 1,2\n",
    "    LIMIT 5"
   ]
  },
  {
   "cell_type": "code",
   "execution_count": 41,
   "metadata": {
    "scrolled": true
   },
   "outputs": [
    {
     "name": "stdout",
     "output_type": "stream",
     "text": [
      " * sqlite:///chinook.db\n",
      "Done.\n"
     ]
    },
    {
     "data": {
      "text/html": [
       "<table>\n",
       "    <tr>\n",
       "        <th>employee_id</th>\n",
       "        <th>last_name</th>\n",
       "        <th>first_name</th>\n",
       "        <th>title</th>\n",
       "        <th>reports_to</th>\n",
       "        <th>birthdate</th>\n",
       "        <th>hire_date</th>\n",
       "        <th>address</th>\n",
       "        <th>city</th>\n",
       "        <th>state</th>\n",
       "        <th>country</th>\n",
       "        <th>postal_code</th>\n",
       "        <th>phone</th>\n",
       "        <th>fax</th>\n",
       "        <th>email</th>\n",
       "    </tr>\n",
       "    <tr>\n",
       "        <td>1</td>\n",
       "        <td>Adams</td>\n",
       "        <td>Andrew</td>\n",
       "        <td>General Manager</td>\n",
       "        <td>None</td>\n",
       "        <td>1962-02-18 00:00:00</td>\n",
       "        <td>2016-08-14 00:00:00</td>\n",
       "        <td>11120 Jasper Ave NW</td>\n",
       "        <td>Edmonton</td>\n",
       "        <td>AB</td>\n",
       "        <td>Canada</td>\n",
       "        <td>T5K 2N1</td>\n",
       "        <td>+1 (780) 428-9482</td>\n",
       "        <td>+1 (780) 428-3457</td>\n",
       "        <td>andrew@chinookcorp.com</td>\n",
       "    </tr>\n",
       "    <tr>\n",
       "        <td>2</td>\n",
       "        <td>Edwards</td>\n",
       "        <td>Nancy</td>\n",
       "        <td>Sales Manager</td>\n",
       "        <td>1</td>\n",
       "        <td>1958-12-08 00:00:00</td>\n",
       "        <td>2016-05-01 00:00:00</td>\n",
       "        <td>825 8 Ave SW</td>\n",
       "        <td>Calgary</td>\n",
       "        <td>AB</td>\n",
       "        <td>Canada</td>\n",
       "        <td>T2P 2T3</td>\n",
       "        <td>+1 (403) 262-3443</td>\n",
       "        <td>+1 (403) 262-3322</td>\n",
       "        <td>nancy@chinookcorp.com</td>\n",
       "    </tr>\n",
       "    <tr>\n",
       "        <td>7</td>\n",
       "        <td>King</td>\n",
       "        <td>Robert</td>\n",
       "        <td>IT Staff</td>\n",
       "        <td>6</td>\n",
       "        <td>1970-05-29 00:00:00</td>\n",
       "        <td>2017-01-02 00:00:00</td>\n",
       "        <td>590 Columbia Boulevard West</td>\n",
       "        <td>Lethbridge</td>\n",
       "        <td>AB</td>\n",
       "        <td>Canada</td>\n",
       "        <td>T1K 5N8</td>\n",
       "        <td>+1 (403) 456-9986</td>\n",
       "        <td>+1 (403) 456-8485</td>\n",
       "        <td>robert@chinookcorp.com</td>\n",
       "    </tr>\n",
       "    <tr>\n",
       "        <td>3</td>\n",
       "        <td>Peacock</td>\n",
       "        <td>Jane</td>\n",
       "        <td>Sales Support Agent</td>\n",
       "        <td>2</td>\n",
       "        <td>1973-08-29 00:00:00</td>\n",
       "        <td>2017-04-01 00:00:00</td>\n",
       "        <td>1111 6 Ave SW</td>\n",
       "        <td>Calgary</td>\n",
       "        <td>AB</td>\n",
       "        <td>Canada</td>\n",
       "        <td>T2P 5M5</td>\n",
       "        <td>+1 (403) 262-3443</td>\n",
       "        <td>+1 (403) 262-6712</td>\n",
       "        <td>jane@chinookcorp.com</td>\n",
       "    </tr>\n",
       "</table>"
      ],
      "text/plain": [
       "[(1, 'Adams', 'Andrew', 'General Manager', None, '1962-02-18 00:00:00', '2016-08-14 00:00:00', '11120 Jasper Ave NW', 'Edmonton', 'AB', 'Canada', 'T5K 2N1', '+1 (780) 428-9482', '+1 (780) 428-3457', 'andrew@chinookcorp.com'),\n",
       " (2, 'Edwards', 'Nancy', 'Sales Manager', 1, '1958-12-08 00:00:00', '2016-05-01 00:00:00', '825 8 Ave SW', 'Calgary', 'AB', 'Canada', 'T2P 2T3', '+1 (403) 262-3443', '+1 (403) 262-3322', 'nancy@chinookcorp.com'),\n",
       " (7, 'King', 'Robert', 'IT Staff', 6, '1970-05-29 00:00:00', '2017-01-02 00:00:00', '590 Columbia Boulevard West', 'Lethbridge', 'AB', 'Canada', 'T1K 5N8', '+1 (403) 456-9986', '+1 (403) 456-8485', 'robert@chinookcorp.com'),\n",
       " (3, 'Peacock', 'Jane', 'Sales Support Agent', 2, '1973-08-29 00:00:00', '2017-04-01 00:00:00', '1111 6 Ave SW', 'Calgary', 'AB', 'Canada', 'T2P 5M5', '+1 (403) 262-3443', '+1 (403) 262-6712', 'jane@chinookcorp.com')]"
      ]
     },
     "execution_count": 41,
     "metadata": {},
     "output_type": "execute_result"
    }
   ],
   "source": [
    "%%sql\n",
    "SELECT *\n",
    "FROM employee\n",
    "GROUP BY city, reports_to\n",
    "ORDER BY last_name, reports_to"
   ]
  },
  {
   "cell_type": "code",
   "execution_count": 42,
   "metadata": {
    "scrolled": true
   },
   "outputs": [
    {
     "name": "stdout",
     "output_type": "stream",
     "text": [
      " * sqlite:///chinook.db\n",
      "Done.\n"
     ]
    },
    {
     "data": {
      "text/html": [
       "<table>\n",
       "    <tr>\n",
       "        <th>artist_id</th>\n",
       "        <th>name</th>\n",
       "    </tr>\n",
       "    <tr>\n",
       "        <td>127</td>\n",
       "        <td>Red Hot Chili Peppers</td>\n",
       "    </tr>\n",
       "    <tr>\n",
       "        <td>178</td>\n",
       "        <td>Regina Spektor</td>\n",
       "    </tr>\n",
       "</table>"
      ],
      "text/plain": [
       "[(127, 'Red Hot Chili Peppers'), (178, 'Regina Spektor')]"
      ]
     },
     "execution_count": 42,
     "metadata": {},
     "output_type": "execute_result"
    }
   ],
   "source": [
    "%%sql\n",
    "SELECT * FROM artist \n",
    "WHERE name LIKE \"Re%\""
   ]
  },
  {
   "cell_type": "code",
   "execution_count": 64,
   "metadata": {
    "scrolled": true
   },
   "outputs": [
    {
     "name": "stdout",
     "output_type": "stream",
     "text": [
      " * sqlite:///chinook.db\n",
      "Done.\n",
      "Done.\n"
     ]
    },
    {
     "data": {
      "text/html": [
       "<table>\n",
       "    <tr>\n",
       "        <th>first_name</th>\n",
       "        <th>count</th>\n",
       "    </tr>\n",
       "    <tr>\n",
       "        <td>Frank</td>\n",
       "        <td>2</td>\n",
       "    </tr>\n",
       "    <tr>\n",
       "        <td>Mark</td>\n",
       "        <td>2</td>\n",
       "    </tr>\n",
       "    <tr>\n",
       "        <td>Aaron</td>\n",
       "        <td>1</td>\n",
       "    </tr>\n",
       "    <tr>\n",
       "        <td>Alexandre</td>\n",
       "        <td>1</td>\n",
       "    </tr>\n",
       "    <tr>\n",
       "        <td>Astrid</td>\n",
       "        <td>1</td>\n",
       "    </tr>\n",
       "</table>"
      ],
      "text/plain": [
       "[('Frank', 2), ('Mark', 2), ('Aaron', 1), ('Alexandre', 1), ('Astrid', 1)]"
      ]
     },
     "execution_count": 64,
     "metadata": {},
     "output_type": "execute_result"
    }
   ],
   "source": [
    "%%sql \n",
    "CREATE VIEW top_5_names AS \n",
    "    SELECT first_name, COUNT(customer_id) count\n",
    "    FROM customer\n",
    "    GROUP BY 1\n",
    "    ORDER BY 2 DESC,1\n",
    "    LIMIT 5;\n",
    "SELECT * FROM top_5_names;"
   ]
  },
  {
   "cell_type": "markdown",
   "metadata": {},
   "source": [
    "## Force a row to last"
   ]
  },
  {
   "cell_type": "code",
   "execution_count": 69,
   "metadata": {},
   "outputs": [
    {
     "name": "stdout",
     "output_type": "stream",
     "text": [
      " * sqlite:///chinook.db\n",
      "Done.\n"
     ]
    },
    {
     "data": {
      "text/html": [
       "<table>\n",
       "    <tr>\n",
       "        <th>first_name</th>\n",
       "        <th>count</th>\n",
       "        <th>sort</th>\n",
       "    </tr>\n",
       "    <tr>\n",
       "        <td>Frank</td>\n",
       "        <td>2</td>\n",
       "        <td>0</td>\n",
       "    </tr>\n",
       "    <tr>\n",
       "        <td>Aaron</td>\n",
       "        <td>1</td>\n",
       "        <td>0</td>\n",
       "    </tr>\n",
       "    <tr>\n",
       "        <td>Alexandre</td>\n",
       "        <td>1</td>\n",
       "        <td>0</td>\n",
       "    </tr>\n",
       "    <tr>\n",
       "        <td>Astrid</td>\n",
       "        <td>1</td>\n",
       "        <td>0</td>\n",
       "    </tr>\n",
       "    <tr>\n",
       "        <td>Mark</td>\n",
       "        <td>2</td>\n",
       "        <td>1</td>\n",
       "    </tr>\n",
       "</table>"
      ],
      "text/plain": [
       "[('Frank', 2, 0),\n",
       " ('Aaron', 1, 0),\n",
       " ('Alexandre', 1, 0),\n",
       " ('Astrid', 1, 0),\n",
       " ('Mark', 2, 1)]"
      ]
     },
     "execution_count": 69,
     "metadata": {},
     "output_type": "execute_result"
    }
   ],
   "source": [
    "%%sql\n",
    "SELECT \n",
    "    *\n",
    "FROM \n",
    "    (\n",
    "    SELECT \n",
    "        t5.*,\n",
    "        CASE \n",
    "            WHEN t5.first_name = \"Mark\" THEN 1\n",
    "            ELSE 0\n",
    "        END AS sort\n",
    "    FROM top_5_names t5\n",
    "    )\n",
    "ORDER BY sort ASC"
   ]
  },
  {
   "cell_type": "code",
   "execution_count": 87,
   "metadata": {},
   "outputs": [
    {
     "name": "stdout",
     "output_type": "stream",
     "text": [
      " * sqlite:///chinook.db\n",
      "Done.\n"
     ]
    },
    {
     "data": {
      "text/html": [
       "<table>\n",
       "    <tr>\n",
       "        <th>first_name</th>\n",
       "        <th>count</th>\n",
       "        <th>sort</th>\n",
       "    </tr>\n",
       "    <tr>\n",
       "        <td>Frank</td>\n",
       "        <td>2</td>\n",
       "        <td>0</td>\n",
       "    </tr>\n",
       "    <tr>\n",
       "        <td>Aaron</td>\n",
       "        <td>1</td>\n",
       "        <td>0</td>\n",
       "    </tr>\n",
       "    <tr>\n",
       "        <td>Alexandre</td>\n",
       "        <td>1</td>\n",
       "        <td>0</td>\n",
       "    </tr>\n",
       "    <tr>\n",
       "        <td>Astrid</td>\n",
       "        <td>1</td>\n",
       "        <td>0</td>\n",
       "    </tr>\n",
       "    <tr>\n",
       "        <td>Mark</td>\n",
       "        <td>2</td>\n",
       "        <td>1</td>\n",
       "    </tr>\n",
       "</table>"
      ],
      "text/plain": [
       "[('Frank', 2, 0),\n",
       " ('Aaron', 1, 0),\n",
       " ('Alexandre', 1, 0),\n",
       " ('Astrid', 1, 0),\n",
       " ('Mark', 2, 1)]"
      ]
     },
     "execution_count": 87,
     "metadata": {},
     "output_type": "execute_result"
    }
   ],
   "source": [
    "%%sql\n",
    " SELECT \n",
    "        t5.*,\n",
    "        CASE \n",
    "            WHEN t5.first_name = \"Mark\" THEN 1\n",
    "            ELSE 0\n",
    "        END AS sort\n",
    "    FROM top_5_names t5\n",
    "ORDER BY sort ASC"
   ]
  }
 ],
 "metadata": {
  "kernelspec": {
   "display_name": "Python 3",
   "language": "python",
   "name": "python3"
  },
  "language_info": {
   "codemirror_mode": {
    "name": "ipython",
    "version": 3
   },
   "file_extension": ".py",
   "mimetype": "text/x-python",
   "name": "python",
   "nbconvert_exporter": "python",
   "pygments_lexer": "ipython3",
   "version": "3.7.0"
  }
 },
 "nbformat": 4,
 "nbformat_minor": 4
}
