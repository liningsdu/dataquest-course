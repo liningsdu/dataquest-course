{
 "cells": [
  {
   "cell_type": "code",
   "execution_count": 29,
   "metadata": {},
   "outputs": [],
   "source": [
    "import pandas as pd\n",
    "import numpy as np\n",
    "import matplotlib.pyplot as plt\n",
    "import datetime as dt\n",
    "%matplotlib inline"
   ]
  },
  {
   "cell_type": "code",
   "execution_count": 13,
   "metadata": {},
   "outputs": [
    {
     "data": {
      "text/html": [
       "<div>\n",
       "<style scoped>\n",
       "    .dataframe tbody tr th:only-of-type {\n",
       "        vertical-align: middle;\n",
       "    }\n",
       "\n",
       "    .dataframe tbody tr th {\n",
       "        vertical-align: top;\n",
       "    }\n",
       "\n",
       "    .dataframe thead th {\n",
       "        text-align: right;\n",
       "    }\n",
       "</style>\n",
       "<table border=\"1\" class=\"dataframe\">\n",
       "  <thead>\n",
       "    <tr style=\"text-align: right;\">\n",
       "      <th></th>\n",
       "      <th>customer_id</th>\n",
       "      <th>trans_date</th>\n",
       "      <th>tran_amount</th>\n",
       "    </tr>\n",
       "  </thead>\n",
       "  <tbody>\n",
       "    <tr>\n",
       "      <th>0</th>\n",
       "      <td>FM5295</td>\n",
       "      <td>2017-11-11</td>\n",
       "      <td>35</td>\n",
       "    </tr>\n",
       "    <tr>\n",
       "      <th>1</th>\n",
       "      <td>FM4768</td>\n",
       "      <td>2019-12-15</td>\n",
       "      <td>39</td>\n",
       "    </tr>\n",
       "    <tr>\n",
       "      <th>2</th>\n",
       "      <td>FM2122</td>\n",
       "      <td>2017-11-26</td>\n",
       "      <td>52</td>\n",
       "    </tr>\n",
       "    <tr>\n",
       "      <th>3</th>\n",
       "      <td>FM1217</td>\n",
       "      <td>2016-08-16</td>\n",
       "      <td>99</td>\n",
       "    </tr>\n",
       "    <tr>\n",
       "      <th>4</th>\n",
       "      <td>FM1850</td>\n",
       "      <td>2018-08-20</td>\n",
       "      <td>78</td>\n",
       "    </tr>\n",
       "  </tbody>\n",
       "</table>\n",
       "</div>"
      ],
      "text/plain": [
       "  customer_id trans_date  tran_amount\n",
       "0      FM5295 2017-11-11           35\n",
       "1      FM4768 2019-12-15           39\n",
       "2      FM2122 2017-11-26           52\n",
       "3      FM1217 2016-08-16           99\n",
       "4      FM1850 2018-08-20           78"
      ]
     },
     "execution_count": 13,
     "metadata": {},
     "output_type": "execute_result"
    }
   ],
   "source": [
    "df = pd.read_csv(\"rfm_xmas19.txt\", delimiter = \",\", parse_dates=[\"trans_date\"])\n",
    "df.head()"
   ]
  },
  {
   "cell_type": "code",
   "execution_count": 14,
   "metadata": {},
   "outputs": [
    {
     "data": {
      "text/plain": [
       "(125000, 3)"
      ]
     },
     "execution_count": 14,
     "metadata": {},
     "output_type": "execute_result"
    }
   ],
   "source": [
    "df.shape"
   ]
  },
  {
   "cell_type": "code",
   "execution_count": 15,
   "metadata": {},
   "outputs": [
    {
     "data": {
      "text/plain": [
       "customer_id\n",
       "FM1112    1012\n",
       "FM1113    1490\n",
       "FM1114    1432\n",
       "FM1115    1659\n",
       "FM1116     857\n",
       "          ... \n",
       "FM8996     582\n",
       "FM8997     543\n",
       "FM8998     624\n",
       "FM8999     383\n",
       "FM9000     533\n",
       "Name: tran_amount, Length: 6889, dtype: int64"
      ]
     },
     "execution_count": 15,
     "metadata": {},
     "output_type": "execute_result"
    }
   ],
   "source": [
    "df.groupby('customer_id').tran_amount.agg(func = np.sum)"
   ]
  },
  {
   "cell_type": "markdown",
   "metadata": {},
   "source": [
    "### Reason behind the request\n",
    "* Surverying the best customer to understand the reasons why they are the best custormers\n",
    "* Investing in digital marketing for a specific segment\n",
    "* Creating a rewards program for the best customers\n",
    "\n",
    "* nebulous language"
   ]
  },
  {
   "cell_type": "code",
   "execution_count": 21,
   "metadata": {},
   "outputs": [
    {
     "name": "stdout",
     "output_type": "stream",
     "text": [
      "<class 'pandas.core.frame.DataFrame'>\n",
      "RangeIndex: 125000 entries, 0 to 124999\n",
      "Data columns (total 3 columns):\n",
      " #   Column       Non-Null Count   Dtype         \n",
      "---  ------       --------------   -----         \n",
      " 0   customer_id  125000 non-null  object        \n",
      " 1   trans_date   125000 non-null  datetime64[ns]\n",
      " 2   tran_amount  125000 non-null  int64         \n",
      "dtypes: datetime64[ns](1), int64(1), object(1)\n",
      "memory usage: 2.9+ MB\n"
     ]
    }
   ],
   "source": [
    "df.info()\n",
    "# Data has been properly cleaned, no missing values"
   ]
  },
  {
   "cell_type": "markdown",
   "metadata": {},
   "source": [
    "## Find churned customers who haven't purchased anything in over three months"
   ]
  },
  {
   "cell_type": "code",
   "execution_count": 23,
   "metadata": {},
   "outputs": [
    {
     "data": {
      "text/plain": [
       "customer_id\n",
       "FM7322   2019-05-26\n",
       "FM8193   2019-02-25\n",
       "FM5903   2019-07-20\n",
       "FM1305   2019-09-01\n",
       "FM3418   2019-11-07\n",
       "Name: trans_date, dtype: datetime64[ns]"
      ]
     },
     "execution_count": 23,
     "metadata": {},
     "output_type": "execute_result"
    }
   ],
   "source": [
    "# Find the latest purchase for each customer\n",
    "group_by_customer = df.groupby('customer_id')\n",
    "last_transaction = group_by_customer['trans_date'].max()\n",
    "last_transaction.sample(5)"
   ]
  },
  {
   "cell_type": "code",
   "execution_count": 26,
   "metadata": {},
   "outputs": [
    {
     "data": {
      "text/plain": [
       "customer_id\n",
       "FM7759   2019-08-29\n",
       "FM8745   2019-07-14\n",
       "FM4218   2019-11-19\n",
       "FM8981   2019-01-20\n",
       "FM5107   2019-11-21\n",
       "Name: trans_date, dtype: datetime64[ns]"
      ]
     },
     "execution_count": 26,
     "metadata": {},
     "output_type": "execute_result"
    }
   ],
   "source": [
    "last_transaction.sample(5)"
   ]
  },
  {
   "cell_type": "markdown",
   "metadata": {},
   "source": [
    "Recall that in this scenario, a churned customer is one who hasn't purchased anything since October 16 (three months).\n",
    "\n",
    "*    Begin by using pd.DataFrame() to have the data in last_transaction as a dataframe. Assign it to best_churn.\n",
    "*    Add a column called churned that should have the value of 1 if the customer has churned and 0 otherwise.\n",
    "*        Create a datetime object representing October 16, 2019. Assign it to cutoff_day.\n",
    "*        Use best_churn[\"trans_date\"].apply() with an appropriate function to code the rationale in the instruction.\n"
   ]
  },
  {
   "cell_type": "code",
   "execution_count": 31,
   "metadata": {},
   "outputs": [],
   "source": [
    "best_churn = pd.DataFrame(last_transaction)\n",
    "cutoff_day = dt.datetime(2019,10,16)\n",
    "best_churn['churned'] = best_churn['trans_date'].apply(lambda x : 1 if x < cutoff_day else 0)"
   ]
  },
  {
   "cell_type": "markdown",
   "metadata": {},
   "source": [
    "## Simple weighted sum model to classify customers"
   ]
  },
  {
   "cell_type": "code",
   "execution_count": 33,
   "metadata": {},
   "outputs": [
    {
     "data": {
      "text/html": [
       "<div>\n",
       "<style scoped>\n",
       "    .dataframe tbody tr th:only-of-type {\n",
       "        vertical-align: middle;\n",
       "    }\n",
       "\n",
       "    .dataframe tbody tr th {\n",
       "        vertical-align: top;\n",
       "    }\n",
       "\n",
       "    .dataframe thead th {\n",
       "        text-align: right;\n",
       "    }\n",
       "</style>\n",
       "<table border=\"1\" class=\"dataframe\">\n",
       "  <thead>\n",
       "    <tr style=\"text-align: right;\">\n",
       "      <th></th>\n",
       "      <th>trans_date</th>\n",
       "      <th>churned</th>\n",
       "      <th>nr_of_transactions</th>\n",
       "    </tr>\n",
       "    <tr>\n",
       "      <th>customer_id</th>\n",
       "      <th></th>\n",
       "      <th></th>\n",
       "      <th></th>\n",
       "    </tr>\n",
       "  </thead>\n",
       "  <tbody>\n",
       "    <tr>\n",
       "      <th>FM2905</th>\n",
       "      <td>2019-09-20</td>\n",
       "      <td>1</td>\n",
       "      <td>17</td>\n",
       "    </tr>\n",
       "    <tr>\n",
       "      <th>FM7138</th>\n",
       "      <td>2019-12-03</td>\n",
       "      <td>0</td>\n",
       "      <td>15</td>\n",
       "    </tr>\n",
       "    <tr>\n",
       "      <th>FM4324</th>\n",
       "      <td>2019-11-03</td>\n",
       "      <td>0</td>\n",
       "      <td>20</td>\n",
       "    </tr>\n",
       "    <tr>\n",
       "      <th>FM1632</th>\n",
       "      <td>2019-12-08</td>\n",
       "      <td>0</td>\n",
       "      <td>17</td>\n",
       "    </tr>\n",
       "    <tr>\n",
       "      <th>FM4046</th>\n",
       "      <td>2019-09-13</td>\n",
       "      <td>1</td>\n",
       "      <td>11</td>\n",
       "    </tr>\n",
       "  </tbody>\n",
       "</table>\n",
       "</div>"
      ],
      "text/plain": [
       "            trans_date  churned  nr_of_transactions\n",
       "customer_id                                        \n",
       "FM2905      2019-09-20        1                  17\n",
       "FM7138      2019-12-03        0                  15\n",
       "FM4324      2019-11-03        0                  20\n",
       "FM1632      2019-12-08        0                  17\n",
       "FM4046      2019-09-13        1                  11"
      ]
     },
     "execution_count": 33,
     "metadata": {},
     "output_type": "execute_result"
    }
   ],
   "source": [
    "best_churn['nr_of_transactions'] = group_by_customer.size()\n",
    "best_churn.sample(5)"
   ]
  },
  {
   "cell_type": "code",
   "execution_count": 37,
   "metadata": {},
   "outputs": [
    {
     "data": {
      "text/plain": [
       "6889"
      ]
     },
     "execution_count": 37,
     "metadata": {},
     "output_type": "execute_result"
    }
   ],
   "source": [
    "len(group_by_customer.size())"
   ]
  },
  {
   "cell_type": "code",
   "execution_count": 38,
   "metadata": {},
   "outputs": [
    {
     "data": {
      "text/html": [
       "<div>\n",
       "<style scoped>\n",
       "    .dataframe tbody tr th:only-of-type {\n",
       "        vertical-align: middle;\n",
       "    }\n",
       "\n",
       "    .dataframe tbody tr th {\n",
       "        vertical-align: top;\n",
       "    }\n",
       "\n",
       "    .dataframe thead th {\n",
       "        text-align: right;\n",
       "    }\n",
       "</style>\n",
       "<table border=\"1\" class=\"dataframe\">\n",
       "  <thead>\n",
       "    <tr style=\"text-align: right;\">\n",
       "      <th></th>\n",
       "      <th>trans_date</th>\n",
       "      <th>churned</th>\n",
       "      <th>nr_of_transactions</th>\n",
       "    </tr>\n",
       "    <tr>\n",
       "      <th>customer_id</th>\n",
       "      <th></th>\n",
       "      <th></th>\n",
       "      <th></th>\n",
       "    </tr>\n",
       "  </thead>\n",
       "  <tbody>\n",
       "    <tr>\n",
       "      <th>FM3423</th>\n",
       "      <td>2019-11-18</td>\n",
       "      <td>0</td>\n",
       "      <td>17</td>\n",
       "    </tr>\n",
       "    <tr>\n",
       "      <th>FM3277</th>\n",
       "      <td>2019-10-16</td>\n",
       "      <td>0</td>\n",
       "      <td>20</td>\n",
       "    </tr>\n",
       "    <tr>\n",
       "      <th>FM8626</th>\n",
       "      <td>2019-04-05</td>\n",
       "      <td>1</td>\n",
       "      <td>7</td>\n",
       "    </tr>\n",
       "    <tr>\n",
       "      <th>FM2616</th>\n",
       "      <td>2019-12-16</td>\n",
       "      <td>0</td>\n",
       "      <td>9</td>\n",
       "    </tr>\n",
       "    <tr>\n",
       "      <th>FM3908</th>\n",
       "      <td>2019-10-29</td>\n",
       "      <td>0</td>\n",
       "      <td>20</td>\n",
       "    </tr>\n",
       "  </tbody>\n",
       "</table>\n",
       "</div>"
      ],
      "text/plain": [
       "            trans_date  churned  nr_of_transactions\n",
       "customer_id                                        \n",
       "FM3423      2019-11-18        0                  17\n",
       "FM3277      2019-10-16        0                  20\n",
       "FM8626      2019-04-05        1                   7\n",
       "FM2616      2019-12-16        0                   9\n",
       "FM3908      2019-10-29        0                  20"
      ]
     },
     "execution_count": 38,
     "metadata": {},
     "output_type": "execute_result"
    }
   ],
   "source": [
    "best_churn.sample(5)"
   ]
  },
  {
   "cell_type": "code",
   "execution_count": 39,
   "metadata": {},
   "outputs": [
    {
     "data": {
      "text/html": [
       "<div>\n",
       "<style scoped>\n",
       "    .dataframe tbody tr th:only-of-type {\n",
       "        vertical-align: middle;\n",
       "    }\n",
       "\n",
       "    .dataframe tbody tr th {\n",
       "        vertical-align: top;\n",
       "    }\n",
       "\n",
       "    .dataframe thead th {\n",
       "        text-align: right;\n",
       "    }\n",
       "</style>\n",
       "<table border=\"1\" class=\"dataframe\">\n",
       "  <thead>\n",
       "    <tr style=\"text-align: right;\">\n",
       "      <th></th>\n",
       "      <th>trans_date</th>\n",
       "      <th>churned</th>\n",
       "      <th>nr_of_transactions</th>\n",
       "      <th>amount_spent</th>\n",
       "    </tr>\n",
       "    <tr>\n",
       "      <th>customer_id</th>\n",
       "      <th></th>\n",
       "      <th></th>\n",
       "      <th></th>\n",
       "      <th></th>\n",
       "    </tr>\n",
       "  </thead>\n",
       "  <tbody>\n",
       "    <tr>\n",
       "      <th>FM5676</th>\n",
       "      <td>2019-10-17</td>\n",
       "      <td>0</td>\n",
       "      <td>21</td>\n",
       "      <td>1311</td>\n",
       "    </tr>\n",
       "    <tr>\n",
       "      <th>FM8981</th>\n",
       "      <td>2019-01-20</td>\n",
       "      <td>1</td>\n",
       "      <td>9</td>\n",
       "      <td>453</td>\n",
       "    </tr>\n",
       "    <tr>\n",
       "      <th>FM5193</th>\n",
       "      <td>2019-11-28</td>\n",
       "      <td>0</td>\n",
       "      <td>24</td>\n",
       "      <td>1586</td>\n",
       "    </tr>\n",
       "    <tr>\n",
       "      <th>FM6096</th>\n",
       "      <td>2019-09-21</td>\n",
       "      <td>1</td>\n",
       "      <td>19</td>\n",
       "      <td>1386</td>\n",
       "    </tr>\n",
       "    <tr>\n",
       "      <th>FM3706</th>\n",
       "      <td>2019-12-05</td>\n",
       "      <td>0</td>\n",
       "      <td>29</td>\n",
       "      <td>1929</td>\n",
       "    </tr>\n",
       "  </tbody>\n",
       "</table>\n",
       "</div>"
      ],
      "text/plain": [
       "            trans_date  churned  nr_of_transactions  amount_spent\n",
       "customer_id                                                      \n",
       "FM5676      2019-10-17        0                  21          1311\n",
       "FM8981      2019-01-20        1                   9           453\n",
       "FM5193      2019-11-28        0                  24          1586\n",
       "FM6096      2019-09-21        1                  19          1386\n",
       "FM3706      2019-12-05        0                  29          1929"
      ]
     },
     "execution_count": 39,
     "metadata": {},
     "output_type": "execute_result"
    }
   ],
   "source": [
    "best_churn['amount_spent'] = group_by_customer.sum()\n",
    "best_churn.sample(5)"
   ]
  },
  {
   "cell_type": "code",
   "execution_count": 41,
   "metadata": {},
   "outputs": [
    {
     "data": {
      "text/html": [
       "<div>\n",
       "<style scoped>\n",
       "    .dataframe tbody tr th:only-of-type {\n",
       "        vertical-align: middle;\n",
       "    }\n",
       "\n",
       "    .dataframe tbody tr th {\n",
       "        vertical-align: top;\n",
       "    }\n",
       "\n",
       "    .dataframe thead th {\n",
       "        text-align: right;\n",
       "    }\n",
       "</style>\n",
       "<table border=\"1\" class=\"dataframe\">\n",
       "  <thead>\n",
       "    <tr style=\"text-align: right;\">\n",
       "      <th></th>\n",
       "      <th>churned</th>\n",
       "      <th>nr_of_transactions</th>\n",
       "      <th>amount_spent</th>\n",
       "    </tr>\n",
       "    <tr>\n",
       "      <th>customer_id</th>\n",
       "      <th></th>\n",
       "      <th></th>\n",
       "      <th></th>\n",
       "    </tr>\n",
       "  </thead>\n",
       "  <tbody>\n",
       "    <tr>\n",
       "      <th>FM7149</th>\n",
       "      <td>1</td>\n",
       "      <td>19</td>\n",
       "      <td>857</td>\n",
       "    </tr>\n",
       "    <tr>\n",
       "      <th>FM4470</th>\n",
       "      <td>1</td>\n",
       "      <td>24</td>\n",
       "      <td>1688</td>\n",
       "    </tr>\n",
       "    <tr>\n",
       "      <th>FM6040</th>\n",
       "      <td>0</td>\n",
       "      <td>15</td>\n",
       "      <td>1001</td>\n",
       "    </tr>\n",
       "    <tr>\n",
       "      <th>FM2584</th>\n",
       "      <td>1</td>\n",
       "      <td>25</td>\n",
       "      <td>1814</td>\n",
       "    </tr>\n",
       "    <tr>\n",
       "      <th>FM7569</th>\n",
       "      <td>1</td>\n",
       "      <td>9</td>\n",
       "      <td>478</td>\n",
       "    </tr>\n",
       "  </tbody>\n",
       "</table>\n",
       "</div>"
      ],
      "text/plain": [
       "             churned  nr_of_transactions  amount_spent\n",
       "customer_id                                           \n",
       "FM7149             1                  19           857\n",
       "FM4470             1                  24          1688\n",
       "FM6040             0                  15          1001\n",
       "FM2584             1                  25          1814\n",
       "FM7569             1                   9           478"
      ]
     },
     "execution_count": 41,
     "metadata": {},
     "output_type": "execute_result"
    }
   ],
   "source": [
    "best_churn.drop('trans_date',axis = 1, inplace=True)\n",
    "best_churn.sample(5)"
   ]
  },
  {
   "cell_type": "code",
   "execution_count": 45,
   "metadata": {},
   "outputs": [
    {
     "data": {
      "text/html": [
       "<div>\n",
       "<style scoped>\n",
       "    .dataframe tbody tr th:only-of-type {\n",
       "        vertical-align: middle;\n",
       "    }\n",
       "\n",
       "    .dataframe tbody tr th {\n",
       "        vertical-align: top;\n",
       "    }\n",
       "\n",
       "    .dataframe thead th {\n",
       "        text-align: right;\n",
       "    }\n",
       "</style>\n",
       "<table border=\"1\" class=\"dataframe\">\n",
       "  <thead>\n",
       "    <tr style=\"text-align: right;\">\n",
       "      <th></th>\n",
       "      <th>nr_of_transactions</th>\n",
       "      <th>amount_spent</th>\n",
       "    </tr>\n",
       "  </thead>\n",
       "  <tbody>\n",
       "    <tr>\n",
       "      <th>min</th>\n",
       "      <td>4.0</td>\n",
       "      <td>149.0</td>\n",
       "    </tr>\n",
       "    <tr>\n",
       "      <th>max</th>\n",
       "      <td>39.0</td>\n",
       "      <td>2933.0</td>\n",
       "    </tr>\n",
       "  </tbody>\n",
       "</table>\n",
       "</div>"
      ],
      "text/plain": [
       "     nr_of_transactions  amount_spent\n",
       "min                 4.0         149.0\n",
       "max                39.0        2933.0"
      ]
     },
     "execution_count": 45,
     "metadata": {},
     "output_type": "execute_result"
    }
   ],
   "source": [
    "best_churn[['nr_of_transactions', 'amount_spent']].describe().loc[['min', 'max'], :]"
   ]
  },
  {
   "cell_type": "markdown",
   "metadata": {},
   "source": [
    "## Min-max feature scaling"
   ]
  },
  {
   "cell_type": "code",
   "execution_count": 48,
   "metadata": {},
   "outputs": [
    {
     "data": {
      "text/html": [
       "<div>\n",
       "<style scoped>\n",
       "    .dataframe tbody tr th:only-of-type {\n",
       "        vertical-align: middle;\n",
       "    }\n",
       "\n",
       "    .dataframe tbody tr th {\n",
       "        vertical-align: top;\n",
       "    }\n",
       "\n",
       "    .dataframe thead th {\n",
       "        text-align: right;\n",
       "    }\n",
       "</style>\n",
       "<table border=\"1\" class=\"dataframe\">\n",
       "  <thead>\n",
       "    <tr style=\"text-align: right;\">\n",
       "      <th></th>\n",
       "      <th>churned</th>\n",
       "      <th>nr_of_transactions</th>\n",
       "      <th>amount_spent</th>\n",
       "      <th>scaled_tran</th>\n",
       "      <th>scaled_amount</th>\n",
       "    </tr>\n",
       "    <tr>\n",
       "      <th>customer_id</th>\n",
       "      <th></th>\n",
       "      <th></th>\n",
       "      <th></th>\n",
       "      <th></th>\n",
       "      <th></th>\n",
       "    </tr>\n",
       "  </thead>\n",
       "  <tbody>\n",
       "    <tr>\n",
       "      <th>FM2585</th>\n",
       "      <td>0</td>\n",
       "      <td>21</td>\n",
       "      <td>1484</td>\n",
       "      <td>0.485714</td>\n",
       "      <td>0.479526</td>\n",
       "    </tr>\n",
       "    <tr>\n",
       "      <th>FM4096</th>\n",
       "      <td>0</td>\n",
       "      <td>20</td>\n",
       "      <td>1481</td>\n",
       "      <td>0.457143</td>\n",
       "      <td>0.478448</td>\n",
       "    </tr>\n",
       "    <tr>\n",
       "      <th>FM4109</th>\n",
       "      <td>0</td>\n",
       "      <td>20</td>\n",
       "      <td>1284</td>\n",
       "      <td>0.457143</td>\n",
       "      <td>0.407687</td>\n",
       "    </tr>\n",
       "    <tr>\n",
       "      <th>FM3453</th>\n",
       "      <td>0</td>\n",
       "      <td>25</td>\n",
       "      <td>1726</td>\n",
       "      <td>0.600000</td>\n",
       "      <td>0.566451</td>\n",
       "    </tr>\n",
       "    <tr>\n",
       "      <th>FM1203</th>\n",
       "      <td>0</td>\n",
       "      <td>21</td>\n",
       "      <td>1536</td>\n",
       "      <td>0.485714</td>\n",
       "      <td>0.498204</td>\n",
       "    </tr>\n",
       "  </tbody>\n",
       "</table>\n",
       "</div>"
      ],
      "text/plain": [
       "             churned  nr_of_transactions  amount_spent  scaled_tran  \\\n",
       "customer_id                                                           \n",
       "FM2585             0                  21          1484     0.485714   \n",
       "FM4096             0                  20          1481     0.457143   \n",
       "FM4109             0                  20          1284     0.457143   \n",
       "FM3453             0                  25          1726     0.600000   \n",
       "FM1203             0                  21          1536     0.485714   \n",
       "\n",
       "             scaled_amount  \n",
       "customer_id                 \n",
       "FM2585            0.479526  \n",
       "FM4096            0.478448  \n",
       "FM4109            0.407687  \n",
       "FM3453            0.566451  \n",
       "FM1203            0.498204  "
      ]
     },
     "execution_count": 48,
     "metadata": {},
     "output_type": "execute_result"
    }
   ],
   "source": [
    "best_churn['scaled_tran'] = (best_churn.nr_of_transactions - best_churn.nr_of_transactions.min()) / (\n",
    "                            best_churn.nr_of_transactions.max() - best_churn.nr_of_transactions.min())\n",
    "best_churn['scaled_amount'] = (best_churn.amount_spent - best_churn.amount_spent.min()) / (\n",
    "                            best_churn.amount_spent.max() - best_churn.amount_spent.min())\n",
    "best_churn.sample(5)"
   ]
  },
  {
   "cell_type": "code",
   "execution_count": 49,
   "metadata": {},
   "outputs": [
    {
     "data": {
      "text/html": [
       "<div>\n",
       "<style scoped>\n",
       "    .dataframe tbody tr th:only-of-type {\n",
       "        vertical-align: middle;\n",
       "    }\n",
       "\n",
       "    .dataframe tbody tr th {\n",
       "        vertical-align: top;\n",
       "    }\n",
       "\n",
       "    .dataframe thead th {\n",
       "        text-align: right;\n",
       "    }\n",
       "</style>\n",
       "<table border=\"1\" class=\"dataframe\">\n",
       "  <thead>\n",
       "    <tr style=\"text-align: right;\">\n",
       "      <th></th>\n",
       "      <th>churned</th>\n",
       "      <th>nr_of_transactions</th>\n",
       "      <th>amount_spent</th>\n",
       "      <th>scaled_tran</th>\n",
       "      <th>scaled_amount</th>\n",
       "      <th>score</th>\n",
       "    </tr>\n",
       "    <tr>\n",
       "      <th>customer_id</th>\n",
       "      <th></th>\n",
       "      <th></th>\n",
       "      <th></th>\n",
       "      <th></th>\n",
       "      <th></th>\n",
       "      <th></th>\n",
       "    </tr>\n",
       "  </thead>\n",
       "  <tbody>\n",
       "    <tr>\n",
       "      <th>FM4590</th>\n",
       "      <td>0</td>\n",
       "      <td>24</td>\n",
       "      <td>1625</td>\n",
       "      <td>0.571429</td>\n",
       "      <td>0.530172</td>\n",
       "      <td>55.080049</td>\n",
       "    </tr>\n",
       "    <tr>\n",
       "      <th>FM4735</th>\n",
       "      <td>0</td>\n",
       "      <td>18</td>\n",
       "      <td>1311</td>\n",
       "      <td>0.400000</td>\n",
       "      <td>0.417385</td>\n",
       "      <td>40.869253</td>\n",
       "    </tr>\n",
       "    <tr>\n",
       "      <th>FM3451</th>\n",
       "      <td>0</td>\n",
       "      <td>23</td>\n",
       "      <td>1736</td>\n",
       "      <td>0.542857</td>\n",
       "      <td>0.570043</td>\n",
       "      <td>55.645012</td>\n",
       "    </tr>\n",
       "    <tr>\n",
       "      <th>FM2276</th>\n",
       "      <td>1</td>\n",
       "      <td>14</td>\n",
       "      <td>1071</td>\n",
       "      <td>0.285714</td>\n",
       "      <td>0.331178</td>\n",
       "      <td>30.844622</td>\n",
       "    </tr>\n",
       "    <tr>\n",
       "      <th>FM7736</th>\n",
       "      <td>1</td>\n",
       "      <td>11</td>\n",
       "      <td>535</td>\n",
       "      <td>0.200000</td>\n",
       "      <td>0.138649</td>\n",
       "      <td>16.932471</td>\n",
       "    </tr>\n",
       "  </tbody>\n",
       "</table>\n",
       "</div>"
      ],
      "text/plain": [
       "             churned  nr_of_transactions  amount_spent  scaled_tran  \\\n",
       "customer_id                                                           \n",
       "FM4590             0                  24          1625     0.571429   \n",
       "FM4735             0                  18          1311     0.400000   \n",
       "FM3451             0                  23          1736     0.542857   \n",
       "FM2276             1                  14          1071     0.285714   \n",
       "FM7736             1                  11           535     0.200000   \n",
       "\n",
       "             scaled_amount      score  \n",
       "customer_id                            \n",
       "FM4590            0.530172  55.080049  \n",
       "FM4735            0.417385  40.869253  \n",
       "FM3451            0.570043  55.645012  \n",
       "FM2276            0.331178  30.844622  \n",
       "FM7736            0.138649  16.932471  "
      ]
     },
     "execution_count": 49,
     "metadata": {},
     "output_type": "execute_result"
    }
   ],
   "source": [
    "best_churn['score'] = 100 * (0.5 * best_churn.scaled_tran + 0.5 * best_churn.scaled_amount)\n",
    "best_churn.sample(5)"
   ]
  },
  {
   "cell_type": "markdown",
   "metadata": {},
   "source": [
    "best_churn.sort_values(by='score', inplace=True, ascending=False)\n",
    "best_churn.head()"
   ]
  },
  {
   "cell_type": "markdown",
   "metadata": {},
   "source": [
    "## Decide on a threshold to determine which customers are \"the best\"\n",
    "* k-means clustering, hierarchical clustering... but waste of time\n",
    "\n",
    "* Here are some factors that you decided to take into account:\n",
    "\n",
    "    The budget is $1,000.\n",
    "    No indication was given about how much each coupon would be worth — it's for you to decide.\n",
    "    The coupons need to be good enough to prompt people to actually use them.\n",
    "    They can't be too high because:\n",
    "        That reduces the number of customers who get them.\n",
    "        It would be like giving away money.\n",
    "        Due to price dumping, it could be illegal.\n",
    "    From your experience, you know that a 30% discount is already very enticing;\n",
    " *   With all this in mind, you decide to employ the following strategy to determine the cutoff point:\n",
    "\n",
    "    Find the mean of the transactions and compute 30% of that. Make this the value of the coupon;\n",
    "    Divide the budget by the value obtained above to get the number of coupons you're going to be sending out;\n",
    "    Pick the first \n",
    "\n",
    "churned customers where is the result of the calculation done in the previous step. This is your cutoff point.\n"
   ]
  },
  {
   "cell_type": "code",
   "execution_count": 54,
   "metadata": {},
   "outputs": [
    {
     "data": {
      "text/plain": [
       "51.28843314123969"
      ]
     },
     "execution_count": 54,
     "metadata": {},
     "output_type": "execute_result"
    }
   ],
   "source": [
    "# Number of customers to obtain coupon\n",
    "coupon = df.tran_amount.mean() * 0.3\n",
    "nr_of_customers = 1000 / coupon\n",
    "nr_of_customers"
   ]
  },
  {
   "cell_type": "code",
   "execution_count": 55,
   "metadata": {},
   "outputs": [
    {
     "name": "stdout",
     "output_type": "stream",
     "text": [
      "19.4975736\n",
      "51.28843314123969\n"
     ]
    }
   ],
   "source": [
    "print(coupon, nr_of_customers, sep = \"\\n\")"
   ]
  },
  {
   "cell_type": "markdown",
   "metadata": {},
   "source": [
    "* Send the coupon to the top 50 churned customers\n",
    "* Once you complete this urgent request, you email your manager the text file and bring up the following points:\n",
    "\n",
    "    Given the budget, you decided to send $20 coupons to the 50 best customers.\n",
    "    A brief mention that you ranked customers on number of purchases made and amount spent — without getting into too much detail.\n",
    "    The deliverable has more than just the customer IDs, but the recipients should not worry about the other columns.\n"
   ]
  },
  {
   "cell_type": "code",
   "execution_count": 58,
   "metadata": {},
   "outputs": [
    {
     "name": "stdout",
     "output_type": "stream",
     "text": [
      "<class 'pandas.core.frame.DataFrame'>\n",
      "Index: 50 entries, FM4320 to FM1332\n",
      "Data columns (total 6 columns):\n",
      " #   Column              Non-Null Count  Dtype  \n",
      "---  ------              --------------  -----  \n",
      " 0   churned             50 non-null     int64  \n",
      " 1   nr_of_transactions  50 non-null     int64  \n",
      " 2   amount_spent        50 non-null     int64  \n",
      " 3   scaled_tran         50 non-null     float64\n",
      " 4   scaled_amount       50 non-null     float64\n",
      " 5   score               50 non-null     float64\n",
      "dtypes: float64(3), int64(3)\n",
      "memory usage: 2.7+ KB\n"
     ]
    }
   ],
   "source": [
    "top_50_churned = best_churn[best_churn.churned == 1].iloc[:50, :]\n",
    "top_50_churned.info()"
   ]
  },
  {
   "cell_type": "code",
   "execution_count": 59,
   "metadata": {},
   "outputs": [],
   "source": [
    "top_50_churned.to_csv('best_customers.txt')"
   ]
  },
  {
   "cell_type": "code",
   "execution_count": null,
   "metadata": {},
   "outputs": [],
   "source": []
  }
 ],
 "metadata": {
  "kernelspec": {
   "display_name": "Python 3",
   "language": "python",
   "name": "python3"
  },
  "language_info": {
   "codemirror_mode": {
    "name": "ipython",
    "version": 3
   },
   "file_extension": ".py",
   "mimetype": "text/x-python",
   "name": "python",
   "nbconvert_exporter": "python",
   "pygments_lexer": "ipython3",
   "version": "3.7.0"
  }
 },
 "nbformat": 4,
 "nbformat_minor": 4
}
