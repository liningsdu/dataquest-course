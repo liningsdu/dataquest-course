{
 "cells": [
  {
   "cell_type": "markdown",
   "metadata": {},
   "source": [
    "# Linear Systems"
   ]
  },
  {
   "cell_type": "code",
   "execution_count": 1,
   "metadata": {},
   "outputs": [],
   "source": [
    "import numpy as np\n",
    "import matplotlib.pyplot as plt\n",
    "%matplotlib inline"
   ]
  },
  {
   "cell_type": "code",
   "execution_count": 2,
   "metadata": {},
   "outputs": [
    {
     "data": {
      "image/png": "[encoded data removed]",
      "text/plain": [
       "<Figure size 432x288 with 1 Axes>"
      ]
     },
     "metadata": {
      "needs_background": "light"
     },
     "output_type": "display_data"
    }
   ],
   "source": [
    "x = np.linspace(0, 50, 1000)\n",
    "y1 = 30 * x + 1000\n",
    "y2 = 50 * x + 100\n",
    "plt.plot(x, y1, c = 'orange')\n",
    "plt.plot(x, y2, c = 'blue')\n",
    "plt.show()"
   ]
  },
  {
   "cell_type": "code",
   "execution_count": 3,
   "metadata": {},
   "outputs": [
    {
     "data": {
      "text/plain": [
       "[<matplotlib.lines.Line2D at 0x7faa7f9fc5c0>]"
      ]
     },
     "execution_count": 3,
     "metadata": {},
     "output_type": "execute_result"
    },
    {
     "data": {
      "image/png": "[encoded data removed]",
      "text/plain": [
       "<Figure size 432x288 with 1 Axes>"
      ]
     },
     "metadata": {
      "needs_background": "light"
     },
     "output_type": "display_data"
    }
   ],
   "source": [
    "plt.plot(y1)\n",
    "plt.plot(y2)"
   ]
  },
  {
   "cell_type": "markdown",
   "metadata": {},
   "source": [
    "## linear algebra, Gaussian elimination\n",
    "\n",
    "* Linear algebra provides a way to represent a linear system compactly, known as **matrix**, and a set of rules for manipulating that representation, also known as an **algebra**.\n",
    "## linear functions in slope-intercept form: y=mx+b. general form: Ax+By = c\n",
    "* In the general form, the variables and their coefficients are on the left side, while the constant term is on the right side.\n",
    "* To represent both linear functions in a system, we used an **augmented matrix**.\n",
    "\n",
    "30x - y = -1000\n",
    "\n",
    "50x - y = -100\n",
    "\\begin{equation}\n",
    "\\left[\\begin{array}{rr|r}\n",
    "30 & -1 & -1000 \\\\ \n",
    "50 & -1 & -100\n",
    "\\end{array}\\right]\n",
    "\\end{equation}\n",
    "\n",
    "<img src='equation_to_matrix.svg'>"
   ]
  },
  {
   "cell_type": "code",
   "execution_count": 10,
   "metadata": {},
   "outputs": [],
   "source": [
    "matrix_one = np.asarray([[30,-1, -1000], [50, -1, -100]], dtype = np.float32)"
   ]
  },
  {
   "cell_type": "code",
   "execution_count": 5,
   "metadata": {},
   "outputs": [
    {
     "data": {
      "text/plain": [
       "numpy.ndarray"
      ]
     },
     "execution_count": 5,
     "metadata": {},
     "output_type": "execute_result"
    }
   ],
   "source": [
    "type(matrix_one)"
   ]
  },
  {
   "cell_type": "code",
   "execution_count": 6,
   "metadata": {},
   "outputs": [
    {
     "data": {
      "text/plain": [
       "array([[50.,  2.],\n",
       "       [ 1.,  3.]], dtype=float32)"
      ]
     },
     "execution_count": 6,
     "metadata": {},
     "output_type": "execute_result"
    }
   ],
   "source": [
    "matrix = np.asarray([\n",
    "    [1,3],\n",
    "    [50,2]\n",
    "], dtype = np.float32)\n",
    "#swqp the second row (at index value 1) with the first row (at index value 0).\n",
    "matrix = matrix[[1,0]]\n",
    "matrix"
   ]
  },
  {
   "cell_type": "code",
   "execution_count": 7,
   "metadata": {},
   "outputs": [
    {
     "data": {
      "text/plain": [
       "array([[50.,  2.],\n",
       "       [ 2.,  6.]], dtype=float32)"
      ]
     },
     "execution_count": 7,
     "metadata": {},
     "output_type": "execute_result"
    }
   ],
   "source": [
    "# Multiply the second row by 2\n",
    "matrix[1] = 2 * matrix[1]\n",
    "matrix"
   ]
  },
  {
   "cell_type": "code",
   "execution_count": 8,
   "metadata": {},
   "outputs": [
    {
     "data": {
      "text/plain": [
       "array([[50.,  2.],\n",
       "       [52.,  8.]], dtype=float32)"
      ]
     },
     "execution_count": 8,
     "metadata": {},
     "output_type": "execute_result"
    }
   ],
   "source": [
    "# Add the second row to the first row\n",
    "matrix[1] = matrix[1] + matrix[0]\n",
    "matrix"
   ]
  },
  {
   "cell_type": "code",
   "execution_count": 11,
   "metadata": {},
   "outputs": [
    {
     "data": {
      "text/plain": [
       "array([[ 1.0000000e+00, -3.3333335e-02, -3.3333332e+01],\n",
       "       [ 5.0000000e+01, -1.0000000e+00, -1.0000000e+02]], dtype=float32)"
      ]
     },
     "execution_count": 11,
     "metadata": {},
     "output_type": "execute_result"
    }
   ],
   "source": [
    "matrix_one[0] = matrix_one[0] / 30\n",
    "matrix_one"
   ]
  },
  {
   "cell_type": "markdown",
   "metadata": {},
   "source": [
    "## matrix into echelon form\n",
    "* In this form, the values on the diagonal locations are all equal to 1 and the values below the diagonal are all equal to 0.\n",
    "\\begin{equation}\n",
    "\\left[\\begin{array}{rr|r}\n",
    "1 & ? & ? \\\\ \n",
    "0 & 1 & ?\n",
    "\\end{array}\\right]\n",
    "\\end{equation}\n",
    "\n",
    "## row reduced echelon form\n",
    "\\begin{equation}\n",
    "\\left[\\begin{array}{rr|r}\n",
    "1 & 0 & ? \\\\ \n",
    "0 & 1 & ?\n",
    "\\end{array}\\right]\n",
    "\\end{equation}"
   ]
  },
  {
   "cell_type": "code",
   "execution_count": 14,
   "metadata": {},
   "outputs": [
    {
     "data": {
      "text/plain": [
       "array([[1.0000000e+00, 0.0000000e+00, 4.5000004e+01],\n",
       "       [0.0000000e+00, 1.0000000e+00, 2.3500000e+03]], dtype=float32)"
      ]
     },
     "execution_count": 14,
     "metadata": {},
     "output_type": "execute_result"
    }
   ],
   "source": [
    "matrix_three = np.asarray([\n",
    "    [1, -1/30, -1000/30],\n",
    "    [0, 1, 2350]\n",
    "], dtype = np.float32)\n",
    "#matrix_three[0] = ((matrix_three[0] * 30) + matrix_three[1])/30\n",
    "matrix_three[0] += matrix_three[1] / 30\n",
    "matrix_three"
   ]
  },
  {
   "cell_type": "markdown",
   "metadata": {},
   "source": [
    "# Vectors\n",
    "* A list of numbers is known as a **vector**. A row from a matrix is known as a **row vector**, while column is known as a **column vector**.\n",
    "* Generally, the word **vector** refers to the column vector.\n",
    "* 2 key properties of a vector -- **direction** and **magnitude**.\n",
    "* The direction of a vector describes the way its pointing while the magnitude describes ite length.\n",
    "\n",
    "## pyplot.quiver(X,Y,U,V,angles, scale_units, scale)"
   ]
  },
  {
   "cell_type": "code",
   "execution_count": 20,
   "metadata": {},
   "outputs": [
    {
     "data": {
      "text/plain": [
       "(-4, 4)"
      ]
     },
     "execution_count": 20,
     "metadata": {},
     "output_type": "execute_result"
    },
    {
     "data": {
      "image/png": "[encoded data removed]",
      "text/plain": [
       "<Figure size 432x288 with 1 Axes>"
      ]
     },
     "metadata": {
      "needs_background": "light"
     },
     "output_type": "display_data"
    }
   ],
   "source": [
    "#plt.quiver(0,0,1,2)\n",
    "plt.quiver(0,0,1,2,angles='xy', scale_units = 'xy', scale = 1, color = 'blue')\n",
    "plt.quiver(0,0, -2,-3, angles = 'xy', scale_units= 'xy', scale = 1, color = 'orange')\n",
    "plt.axhline(0, c = 'black', lw = 0.5)\n",
    "plt.axvline(0, c = 'black', lw = 0.5)\n",
    "plt.xlim(-3,3)\n",
    "plt.ylim(-4,4)"
   ]
  },
  {
   "cell_type": "code",
   "execution_count": 24,
   "metadata": {},
   "outputs": [
    {
     "data": {
      "text/plain": [
       "<matplotlib.quiver.Quiver at 0x7faa7dfe1f28>"
      ]
     },
     "execution_count": 24,
     "metadata": {},
     "output_type": "execute_result"
    },
    {
     "data": {
      "image/png": "[encoded data removed]",
      "text/plain": [
       "<Figure size 432x288 with 1 Axes>"
      ]
     },
     "metadata": {
      "needs_background": "light"
     },
     "output_type": "display_data"
    }
   ],
   "source": [
    "plt.axvline(0, color = 'black', lw = 1)\n",
    "plt.axhline(0, color = 'black', lw = 0.5)\n",
    "plt.xlim(-4,4)\n",
    "plt.ylim(-4,4)\n",
    "\n",
    "plt.quiver(0,0,3,1, angles = 'xy', scale_units = 'xy', scale = 1, color = 'black')\n",
    "plt.quiver(3,1, 1,2, angles = 'xy', scale_units = 'xy', scale = 1, color = 'black')\n",
    "plt.quiver(0,0, 4,3, angles = 'xy', scale_units = 'xy', scale = 1, color = 'green')"
   ]
  },
  {
   "cell_type": "code",
   "execution_count": 26,
   "metadata": {},
   "outputs": [
    {
     "data": {
      "text/plain": [
       "<matplotlib.quiver.Quiver at 0x7faa7d1e89e8>"
      ]
     },
     "execution_count": 26,
     "metadata": {},
     "output_type": "execute_result"
    },
    {
     "data": {
      "image/png": "[encoded data removed]",
      "text/plain": [
       "<Figure size 432x288 with 1 Axes>"
      ]
     },
     "metadata": {
      "needs_background": "light"
     },
     "output_type": "display_data"
    }
   ],
   "source": [
    "plt.axhline(0, color = 'black', lw = 0.5)\n",
    "plt.axvline(0, color = 'black', lw = 0.5)\n",
    "plt.xlim(-4,4)\n",
    "plt.ylim(-4,4)\n",
    "\n",
    "plt.quiver(0,0,3,1, angles = 'xy', scale_units = 'xy', scale = 1, color = 'black')\n",
    "plt.quiver(3,1, -1, -2, angles = 'xy', scale_units = 'xy', scale = 1, color = 'black')\n",
    "plt.quiver(0,0,2,-1, angles = 'xy', scale_units = 'xy', scale = 1, color = 'green')"
   ]
  },
  {
   "cell_type": "markdown",
   "metadata": {},
   "source": [
    "\\begin{equation}\n",
    "\\begin{bmatrix}\n",
    "3\\\\ \n",
    "1\n",
    "\\end{bmatrix}+ 3*\\begin{bmatrix}\n",
    "1\\\\ \n",
    "0\n",
    "\\end{bmatrix} = \n",
    "\\begin{bmatrix}\n",
    "6\\\\ \n",
    "1\n",
    "\\end{bmatrix}\n",
    "\\end{equation}"
   ]
  },
  {
   "cell_type": "code",
   "execution_count": 27,
   "metadata": {},
   "outputs": [
    {
     "data": {
      "text/plain": [
       "array([[2.5],\n",
       "       [5. ],\n",
       "       [2.5]], dtype=float32)"
      ]
     },
     "execution_count": 27,
     "metadata": {},
     "output_type": "execute_result"
    }
   ],
   "source": [
    "vector_one = np.asarray([\n",
    "    [1],\n",
    "    [2],\n",
    "    [1]\n",
    "], dtype = np.float32)\n",
    "vector_two = 2 * vector_one + 0.5 * vector_one\n",
    "vector_two"
   ]
  },
  {
   "cell_type": "markdown",
   "metadata": {},
   "source": [
    "## dot product.\n",
    "* Both of the vectors need to to contain the same number of elements.\n",
    "\\begin{equation}\n",
    "\\vec{a} * \\vec{b} = \\sum_{i=1}^{n}a_i b_i = a_1b_1 + a_2b_2 + \\ldots + a_nb_n\n",
    "\\end{equation}\n",
    "\n",
    "* Unlike the other vector operations, the result of a dot product is a scalar value, not a vector.\n",
    "* Use **numpy.dot()** function to compute the dot product between 2 vectors.\n",
    "* Numpy.dot() accepts 2 NumPy ndarray objects, the main quirk is that one of the two vectors need to be represented as a row vector while the other a column vector."
   ]
  },
  {
   "cell_type": "code",
   "execution_count": 29,
   "metadata": {},
   "outputs": [],
   "source": [
    "vector_dp = np.dot(vector_one[:,0], vector_two)"
   ]
  },
  {
   "cell_type": "code",
   "execution_count": 30,
   "metadata": {},
   "outputs": [
    {
     "data": {
      "text/plain": [
       "array([15.], dtype=float32)"
      ]
     },
     "execution_count": 30,
     "metadata": {},
     "output_type": "execute_result"
    }
   ],
   "source": [
    "vector_dp"
   ]
  },
  {
   "cell_type": "code",
   "execution_count": 32,
   "metadata": {},
   "outputs": [
    {
     "data": {
      "text/plain": [
       "array([1., 2., 1.], dtype=float32)"
      ]
     },
     "execution_count": 32,
     "metadata": {},
     "output_type": "execute_result"
    }
   ],
   "source": [
    "vector_one[:, 0]"
   ]
  },
  {
   "cell_type": "markdown",
   "metadata": {},
   "source": [
    "* Being able to scale vectors using scalar multiplication then adding or subtracting these scaled vectors is known as **linear combination**.\n",
    "\n",
    "## Matrix equation\n",
    "* The matrix equation is the representation of a linear system using **only matrices and vectors**.\n",
    "\n",
    "***\n",
    "\\begin{equation}\n",
    "A\\vec{x} = \\vec{b}\n",
    "\\end{equation}\n",
    "where A represents the coefficient matrix, $\\vec{x}$ represents the solution vector, and $\\vec{b}$ represents the constants. Note that  can't be a vector containing all zeroes, also known as the zero factor and represented using $\\vec{0}$.\n",
    "\n",
    "* the rules that describe how matrices can be combined\n",
    "* how to multipy a matrix with a vector\n",
    "* how to calculate the solution vector  without using Gaussian elimination."
   ]
  },
  {
   "cell_type": "markdown",
   "metadata": {},
   "source": [
    "# Part 3: Matrix Algebra\n",
    "* **Matrix-vector multiplication**, combine each row in the matrix with the column vector.\n",
    "<img src = 'matrix_vector_multiplication.svg'>\n",
    "\n",
    "* To multiply a matrix by a vector, the number of columns in the matrix needs to match the number of rows in the vector.\n",
    "<img src = 'valid_matrix_products.svg'>"
   ]
  },
  {
   "cell_type": "code",
   "execution_count": 33,
   "metadata": {},
   "outputs": [
    {
     "data": {
      "text/plain": [
       "array([[15.7],\n",
       "       [14.7],\n",
       "       [20.7]], dtype=float32)"
      ]
     },
     "execution_count": 33,
     "metadata": {},
     "output_type": "execute_result"
    }
   ],
   "source": [
    "matrix_a = np.asarray([\n",
    "    [0.7, 3, 9],\n",
    "    [1.7, 2, 9],\n",
    "    [0.7, 9, 2]\n",
    "], dtype = np.float32)\n",
    "vector_b = np.asarray([\n",
    "    [1],\n",
    "    [2],\n",
    "    [1]\n",
    "], dtype = np.float32)\n",
    "\n",
    "ab_product = np.dot(matrix_a, vector_b)\n",
    "ab_product"
   ]
  },
  {
   "cell_type": "markdown",
   "metadata": {},
   "source": [
    "<img src = 'matrix_multiplication.svg'>\n",
    "<img src = 'matrix_multiplication_2.svg'>"
   ]
  },
  {
   "cell_type": "code",
   "execution_count": 34,
   "metadata": {},
   "outputs": [
    {
     "name": "stdout",
     "output_type": "stream",
     "text": [
      "[[ 82.1         2.1        10.       ]\n",
      " [194.1         5.1000004  19.       ]\n",
      " [ 88.1         2.1        16.       ]]\n",
      "[[ 91.2 435. ]\n",
      " [  1.4  12. ]]\n"
     ]
    }
   ],
   "source": [
    "matrix_a = np.asarray([\n",
    "    [0.7, 3],\n",
    "    [1.7, 2],\n",
    "    [0.7, 9]\n",
    "], dtype=np.float32)\n",
    "\n",
    "matrix_b = np.asarray([\n",
    "    [113, 3, 10],\n",
    "    [1, 0, 1],\n",
    "], dtype=np.float32)\n",
    "\n",
    "product_ab = np.dot(matrix_a, matrix_b)\n",
    "product_ba = np.dot(matrix_b, matrix_a)\n",
    "\n",
    "print(product_ab)\n",
    "print(product_ba)"
   ]
  },
  {
   "cell_type": "markdown",
   "metadata": {},
   "source": [
    "## Matrix transpose is to switch the rows and columns of a matrix, like a rotation.\n",
    "\\begin{equation}\n",
    "A^T + B^T = C\n",
    "\\\\\n",
    "(A+B)^T = A^T + B^T\n",
    "\\\\\n",
    "(AB)^T = B^TA^T\n",
    "\\end{equation}\n",
    "## numpy.transpose"
   ]
  },
  {
   "cell_type": "code",
   "execution_count": 37,
   "metadata": {},
   "outputs": [
    {
     "name": "stdout",
     "output_type": "stream",
     "text": [
      "[[0.7 1.7 0.7]\n",
      " [3.  2.  9. ]]\n",
      "[[0.7 3. ]\n",
      " [1.7 2. ]\n",
      " [0.7 9. ]]\n",
      "[[ 91.2   1.4]\n",
      " [435.   12. ]]\n",
      "[[ 82.1       194.1        88.1      ]\n",
      " [  2.1         5.1000004   2.1      ]\n",
      " [ 10.         19.         16.       ]]\n",
      "[[ 82.1         2.1        10.       ]\n",
      " [194.1         5.1000004  19.       ]\n",
      " [ 88.1         2.1        16.       ]]\n",
      "[[ 82.1       194.1        88.1      ]\n",
      " [  2.1         5.1000004   2.1      ]\n",
      " [ 10.         19.         16.       ]]\n"
     ]
    }
   ],
   "source": [
    "transpose_a = np.transpose(matrix_a)\n",
    "print(transpose_a)\n",
    "print(np.transpose(transpose_a))\n",
    "trans_ba = np.dot(np.transpose(matrix_b), np.transpose(matrix_a))\n",
    "trans_ab = np.dot(np.transpose(matrix_a), np.transpose(matrix_b))\n",
    "product_ab = np.dot(matrix_a, matrix_b)\n",
    "print(trans_ab)\n",
    "print(trans_ba)\n",
    "print(product_ab)\n",
    "print(np.transpose(product_ab))"
   ]
  },
  {
   "cell_type": "markdown",
   "metadata": {},
   "source": [
    "## Identity matrix contains 1 along the diagonals and 0 elsewhere.\n",
    "\\begin{equation}\n",
    "I_2 = \\begin{bmatrix} 1 & 0 \\\\ 0 & 1 \\end{bmatrix}\n",
    "\\\\\n",
    "I_2\\vec{x} = \\vec{x}\n",
    "\\end{equation}\n",
    "<img src = 'identity_matrix.svg'>\n",
    "\n",
    "## $A\\vec{x} = \\vec{b}$\n",
    "* If we can transform matrix A and convert it into the identity matrix, then only the solution vector will remain $\\vec{x}$.\n",
    "\n",
    "## numpy.identity() to create any $I_n$ identity matrix."
   ]
  },
  {
   "cell_type": "code",
   "execution_count": 39,
   "metadata": {},
   "outputs": [],
   "source": [
    "i_2 = np.identity(2)\n",
    "i_3 = np.identity(3)\n",
    "matrix_33 = np.asarray([\n",
    "    [1,2,3],\n",
    "    [4,5,6],\n",
    "    [7,8,9]\n",
    "], dtype = np.float32)\n",
    "matrix_23 = np.asarray([\n",
    "    [1,2,3],\n",
    "    [4,5,6]\n",
    "], dtype = np.float32)\n",
    "\n",
    "identity_33 = np.dot(i_3, matrix_33)\n",
    "identity_23 = np.dot(i_2, matrix_23)"
   ]
  },
  {
   "cell_type": "markdown",
   "metadata": {},
   "source": [
    "## How to transform $A$ into the identity matrix $I$. Multiply the $inverse$ of a matrix by the matrix accomplishes this task.\n",
    "\\begin{equation}\n",
    "A^{-1}A\\vec{x} = A^{-1}\\vec{b}\n",
    "\\\\\n",
    "I\\vec{x} = A^{-1}\\vec{b}\n",
    "\\\\\n",
    "\\vec{x} = A^{-1}\\vec{b}\n",
    "\\end{equation}\n",
    "\n",
    "## If $A = \\begin{bmatrix} a & b \\\\ c & d \\end{bmatrix}$ then $A^{-1} = \\frac{1}{{ad-bc}}\\begin{bmatrix} d & {-b} \\\\ {-c} & a \\end{bmatrix}$\n",
    "* The term $ad-bc$ is known as the **determinant** and is often written as $det(A) = ad - bc$ or as $|A| = ad - bc$. \n",
    "* ## a 2 x 2 matrix is only invertible if the determinant is not equal to 0."
   ]
  },
  {
   "cell_type": "code",
   "execution_count": 50,
   "metadata": {},
   "outputs": [],
   "source": [
    "def matrix_inverse_two(matrix):\n",
    "    # matrix is a 2 x 2 matrix\n",
    "    determinant = matrix[0,0] * matrix[1,1] - matrix[0,1] * matrix[1,0]\n",
    "    if determinant == 0:\n",
    "        raise ValueError(\"The matrix isn't invertible\")\n",
    "    return np.dot((1/determinant), np.asarray([\n",
    "        [matrix[1,1], -1 * matrix[0,1]],\n",
    "        [-1 * matrix[1,0], matrix[0,0]]\n",
    "    ]))"
   ]
  },
  {
   "cell_type": "code",
   "execution_count": 51,
   "metadata": {},
   "outputs": [
    {
     "name": "stdout",
     "output_type": "stream",
     "text": [
      "[[1. 0.]\n",
      " [0. 1.]]\n",
      "[[1. 0.]\n",
      " [0. 1.]]\n"
     ]
    }
   ],
   "source": [
    "matrix_a = np.asarray([\n",
    "    [1.5,3],\n",
    "    [1,4]\n",
    "])\n",
    "inverse_a = matrix_inverse_two(matrix_a)\n",
    "i_2 = np.dot(inverse_a, matrix_a)\n",
    "i_22 = np.dot(matrix_a, inverse_a)\n",
    "print(i_2)\n",
    "print(i_22)"
   ]
  },
  {
   "cell_type": "code",
   "execution_count": 52,
   "metadata": {},
   "outputs": [
    {
     "data": {
      "text/plain": [
       "array([[  45.],\n",
       "       [2350.]])"
      ]
     },
     "execution_count": 52,
     "metadata": {},
     "output_type": "execute_result"
    }
   ],
   "source": [
    "matrix_coefficient = np.asarray([\n",
    "    [30,-1],\n",
    "    [50,-1]\n",
    "], dtype = np.float32)\n",
    "matrix_constant = np.asarray([\n",
    "    [-1000],\n",
    "    [-100]\n",
    "], dtype = np.float32)\n",
    "\n",
    "A_inverse = matrix_inverse_two(matrix_coefficient)\n",
    "np.dot(A_inverse, matrix_constant)"
   ]
  },
  {
   "cell_type": "markdown",
   "metadata": {},
   "source": [
    "## numpy.linalg.inv()"
   ]
  },
  {
   "cell_type": "code",
   "execution_count": 54,
   "metadata": {},
   "outputs": [
    {
     "data": {
      "text/plain": [
       "array([[  45.],\n",
       "       [2350.]], dtype=float32)"
      ]
     },
     "execution_count": 54,
     "metadata": {},
     "output_type": "execute_result"
    }
   ],
   "source": [
    "A_inverse = np.linalg.inv(matrix_coefficient)\n",
    "np.dot(A_inverse, matrix_constant)"
   ]
  },
  {
   "cell_type": "markdown",
   "metadata": {},
   "source": [
    "## Matrices that contain the same number of rows and columns are squared matrices, we can only compute the determinant and matrix inverse for square matrices, and the determinant is not equal to **0**.\n",
    "\n",
    "## To find the determinant of a higher dimensional square matrix.\n",
    "<img src = '3d_determinant_one.svg'>\n",
    "## Break down the full matrix into minor matrices.\n",
    "<img src = '3d_determinant_two.svg'>\n",
    "***\n",
    "<img src = '3d_determinant_three.svg'>\n",
    "\n",
    "## To compute the determinant in Numpy, use numpy.linalg.det()"
   ]
  },
  {
   "cell_type": "code",
   "execution_count": 55,
   "metadata": {},
   "outputs": [
    {
     "name": "stdout",
     "output_type": "stream",
     "text": [
      "0.0 -4.999999999999997\n"
     ]
    }
   ],
   "source": [
    "matrix_22 = np.asarray([\n",
    "    [8, 4],\n",
    "    [4, 2]\n",
    "])\n",
    "\n",
    "matrix_33 = np.asarray([\n",
    "    [1, 1, 1],\n",
    "    [1, 1, 6],\n",
    "    [7, 8, 9]\n",
    "])\n",
    "det_22 = np.linalg.det(matrix_22)\n",
    "det_33 = np.linalg.det(matrix_33)\n",
    "print(det_22, det_33)"
   ]
  },
  {
   "cell_type": "markdown",
   "metadata": {},
   "source": [
    "## More general form of the matrix inverse equation.\n",
    "<img src = '3d_matrix_inverse.svg'>"
   ]
  },
  {
   "cell_type": "markdown",
   "metadata": {},
   "source": [
    "# Part 4: Solution Sets\n",
    "## Two ways to find solution sets: Gaussian elimination to echelon form, reduced echelon form  and to compute the matrix inverse of $A$\n",
    "## Specical situations to deal with for $A\\vec{x} = \\vec{b}$:\n",
    "* the solution set for a linear system doesn't exist\n",
    "* the solution set for a linear system isn't just a single vector\n",
    "* b is equal to $\\vec{0}$\n",
    "\n",
    "***\n",
    "* Not all systems of equations have a solution, these systems are **inconsistent**"
   ]
  },
  {
   "cell_type": "code",
   "execution_count": 57,
   "metadata": {},
   "outputs": [
    {
     "data": {
      "image/png": "[encoded data removed]",
      "text/plain": [
       "<Figure size 432x288 with 1 Axes>"
      ]
     },
     "metadata": {
      "needs_background": "light"
     },
     "output_type": "display_data"
    }
   ],
   "source": [
    "# y = 5/4 - 2x, y = 5 / 2 - 2x\n",
    "x = np.linspace(0,20,1000)\n",
    "y1 = 5/4 - 2*x\n",
    "y2 = 5/2 - 2*x\n",
    "\n",
    "plt.plot(x, y1, color = 'blue')\n",
    "plt.plot(x, y2, color = 'blue')\n",
    "\n",
    "plt.axvline(0, color = 'black', lw= 0.5)\n",
    "plt.axhline(0, color = 'black', lw = 0.5)\n",
    "plt.xlim(-20,20)\n",
    "plt.ylim(-40,40)\n",
    "plt.show()"
   ]
  },
  {
   "cell_type": "markdown",
   "metadata": {},
   "source": [
    "## A square matrix, if the determinant is equal to 0, we say that the matrix is singular, or contains no inverse, the linear system doesn't contain a solution."
   ]
  },
  {
   "cell_type": "markdown",
   "metadata": {},
   "source": [
    "## Linear systems where the constants vector ($\\vec{b}$) doesn't contain all zeroes, these linear systems are known as nonhomogenous systems.\n",
    "## When the constant vector is equal to zero vector, it's a homogenous system. Homogenous system always have a solution, the zero vector.\n",
    "\n",
    "## For square, nonhomogenous systems, there are 3 possible solutions:\n",
    "* no solution\n",
    "* a single solution\n",
    "* infinitely many solutions\n",
    "\n",
    "## For a rectangular (nonsquare), nonhomogenous systems, there are 2 possible solutions:\n",
    "* no solution\n",
    "* infinitely many solutions, **solution space**"
   ]
  },
  {
   "cell_type": "markdown",
   "metadata": {},
   "source": [
    "## We can solve any homogenous system, $A\\vec{x} = 0$, by setting $x$ to the zero vector $\\vec{0}$, this is known as the **trival solution**, since it isn't a particularly useful solution for us.\n",
    "\n",
    "## When the solution is a solution space (and not just a unique set of values), it's common to rewrite it into parametric vector form:\n",
    "\\begin{equation}\n",
    "\\vec{x} = x_3 \\cdot \\begin{bmatrix}4/3 \\\\ 0 \\\\ 1 \\end{bmatrix}\n",
    "\\end{equation}"
   ]
  },
  {
   "cell_type": "code",
   "execution_count": 58,
   "metadata": {},
   "outputs": [],
   "source": [
    "def test_homog(x3):\n",
    "    x1 = 4 / 3 * x3\n",
    "    x2 = 0\n",
    "    return (x1 + 0 - 4/3*x3) == 0 and x2 == 0"
   ]
  },
  {
   "cell_type": "code",
   "execution_count": 59,
   "metadata": {},
   "outputs": [
    {
     "name": "stdout",
     "output_type": "stream",
     "text": [
      "True True\n"
     ]
    }
   ],
   "source": [
    "b_one = test_homog(1)\n",
    "b_two = test_homog(-10)\n",
    "print(b_one, b_two)"
   ]
  },
  {
   "cell_type": "markdown",
   "metadata": {},
   "source": [
    "## Square vs. Rectangular\n",
    "\n",
    "When $A$ is a square matrix, we can compute the determinant to determine if there's a solution and the matrix inverse if the determinant isn't equal to $0$. Unfortunately, computing the determinant and matrix inverse are very computationally intensive and should only be used for low dimensional matrices. These techniques are incredibly useful when working with small linear systems by hand, however.\n",
    "\n",
    "When $A$ is a rectangular matrix, we're looking to determine if the system has no solutions or infinitely many solutions using Gaussian elimination. If the latter, it's common to express the solution space in parametric vector form.\n",
    "\n",
    "\n",
    "## Nonhomogenous vs. Homogenous\n",
    "\n",
    "When $A$ is nonhomogenous, the linear system can contain zero, one, or infinitely many solutions. However, if $A$ is rectangular and nonhomogenous, it can't contain just a unique solution (there will always be a free variable).\n",
    "\n",
    "When $A$ is homogenous, the linear system always contains the trivial solution (the zero vector). To determine if there's a solution space, we need to use Gaussian elimination to see if there are any inconsistent equations. If not, we can express the solution space in parametric form using the free variable."
   ]
  },
  {
   "cell_type": "code",
   "execution_count": null,
   "metadata": {},
   "outputs": [],
   "source": []
  }
 ],
 "metadata": {
  "kernelspec": {
   "display_name": "Python 3",
   "language": "python",
   "name": "python3"
  },
  "language_info": {
   "codemirror_mode": {
    "name": "ipython",
    "version": 3
   },
   "file_extension": ".py",
   "mimetype": "text/x-python",
   "name": "python",
   "nbconvert_exporter": "python",
   "pygments_lexer": "ipython3",
   "version": "3.7.0"
  }
 },
 "nbformat": 4,
 "nbformat_minor": 4
}
