{
 "cells": [
  {
   "cell_type": "code",
   "execution_count": 54,
   "metadata": {},
   "outputs": [],
   "source": [
    "import numpy as np\n",
    "import pandas as pd\n",
    "import json\n",
    "import re"
   ]
  },
  {
   "cell_type": "markdown",
   "metadata": {},
   "source": [
    "* JSON JavaScript Object Notation"
   ]
  },
  {
   "cell_type": "code",
   "execution_count": 9,
   "metadata": {},
   "outputs": [
    {
     "data": {
      "text/plain": [
       "list"
      ]
     },
     "execution_count": 9,
     "metadata": {},
     "output_type": "execute_result"
    }
   ],
   "source": [
    "json_string = \"\"\"\n",
    "[\n",
    "{\"name\": \"Sabine\",\n",
    "\"age\": 36,\n",
    "\"favorite_foods\": [\"Pumpkin\", \"Oatmeal\"]},\n",
    "{\"name\":\"Zoe\",\n",
    "\"age\":40,\n",
    "\"favorite_foods\":[\"Chicken\", \"Pizza\", \"Chocolate\"]\n",
    "},\n",
    "{\n",
    "\"name\":\"Heidi\",\n",
    "\"age\":40,\n",
    "\"favorite_foods\":[\"Caesar Salad\"]\n",
    "}\n",
    "]\"\"\"\n",
    "\n",
    "\n",
    "json_obj = json.loads(json_string)\n",
    "type(json_obj)"
   ]
  },
  {
   "cell_type": "code",
   "execution_count": 11,
   "metadata": {},
   "outputs": [
    {
     "name": "stdout",
     "output_type": "stream",
     "text": [
      "[{'name': 'Sabine', 'age': 36, 'favorite_foods': ['Pumpkin', 'Oatmeal']}, {'name': 'Zoe', 'age': 40, 'favorite_foods': ['Chicken', 'Pizza', 'Chocolate']}, {'name': 'Heidi', 'age': 40, 'favorite_foods': ['Caesar Salad']}]\n"
     ]
    }
   ],
   "source": [
    "print(json_obj)"
   ]
  },
  {
   "cell_type": "markdown",
   "metadata": {},
   "source": [
    "* json.load() to load from a file\n",
    "* json.loads() to load from a string, load string --> loads"
   ]
  },
  {
   "cell_type": "code",
   "execution_count": 12,
   "metadata": {},
   "outputs": [
    {
     "data": {
      "text/plain": [
       "list"
      ]
     },
     "execution_count": 12,
     "metadata": {},
     "output_type": "execute_result"
    }
   ],
   "source": [
    "with open('hn_2014.json') as f:\n",
    "    hn = json.load(f)\n",
    "type(hn)"
   ]
  },
  {
   "cell_type": "code",
   "execution_count": 13,
   "metadata": {},
   "outputs": [
    {
     "data": {
      "text/plain": [
       "35806"
      ]
     },
     "execution_count": 13,
     "metadata": {},
     "output_type": "execute_result"
    }
   ],
   "source": [
    "len(hn)"
   ]
  },
  {
   "cell_type": "code",
   "execution_count": 14,
   "metadata": {},
   "outputs": [
    {
     "data": {
      "text/plain": [
       "dict"
      ]
     },
     "execution_count": 14,
     "metadata": {},
     "output_type": "execute_result"
    }
   ],
   "source": [
    "type(hn[0])"
   ]
  },
  {
   "cell_type": "code",
   "execution_count": 15,
   "metadata": {},
   "outputs": [
    {
     "name": "stdout",
     "output_type": "stream",
     "text": [
      "dict_keys(['author', 'numComments', 'points', 'url', 'storyText', 'createdAt', 'tags', 'createdAtI', 'title', 'objectId'])\n"
     ]
    }
   ],
   "source": [
    "print(hn[0].keys())"
   ]
  },
  {
   "cell_type": "code",
   "execution_count": 16,
   "metadata": {},
   "outputs": [
    {
     "data": {
      "text/plain": [
       "{'author': 'dragongraphics',\n",
       " 'numComments': 0,\n",
       " 'points': 2,\n",
       " 'url': 'http://ashleynolan.co.uk/blog/are-we-getting-too-sassy',\n",
       " 'storyText': '',\n",
       " 'createdAt': '2014-05-29T08:07:50Z',\n",
       " 'tags': ['story', 'author_dragongraphics', 'story_7815238'],\n",
       " 'createdAtI': 1401350870,\n",
       " 'title': 'Are we getting too Sassy? Weighing up micro-optimisation vs. maintainability',\n",
       " 'objectId': '7815238'}"
      ]
     },
     "execution_count": 16,
     "metadata": {},
     "output_type": "execute_result"
    }
   ],
   "source": [
    "hn[0]"
   ]
  },
  {
   "cell_type": "markdown",
   "metadata": {},
   "source": [
    "#### json.dumps()\n",
    "* json.dumps() (\"dump string\") does the opposite of the json.loads() function - it takes a JSON object and returns a string version of it."
   ]
  },
  {
   "cell_type": "code",
   "execution_count": 19,
   "metadata": {},
   "outputs": [],
   "source": [
    "def jprint(obj):\n",
    "    # create a formatted string of the Python JSON object\n",
    "    text = json.dumps(obj, sort_keys=True, indent = 4)\n",
    "    print(text)"
   ]
  },
  {
   "cell_type": "code",
   "execution_count": 20,
   "metadata": {},
   "outputs": [
    {
     "name": "stdout",
     "output_type": "stream",
     "text": [
      "{\n",
      "    \"author\": \"dragongraphics\",\n",
      "    \"createdAt\": \"2014-05-29T08:07:50Z\",\n",
      "    \"createdAtI\": 1401350870,\n",
      "    \"numComments\": 0,\n",
      "    \"objectId\": \"7815238\",\n",
      "    \"points\": 2,\n",
      "    \"storyText\": \"\",\n",
      "    \"tags\": [\n",
      "        \"story\",\n",
      "        \"author_dragongraphics\",\n",
      "        \"story_7815238\"\n",
      "    ],\n",
      "    \"title\": \"Are we getting too Sassy? Weighing up micro-optimisation vs. maintainability\",\n",
      "    \"url\": \"http://ashleynolan.co.uk/blog/are-we-getting-too-sassy\"\n",
      "}\n"
     ]
    }
   ],
   "source": [
    "first_story = hn[0]\n",
    "jprint(first_story)"
   ]
  },
  {
   "cell_type": "code",
   "execution_count": 26,
   "metadata": {},
   "outputs": [],
   "source": [
    "def del_key(dict_, key):\n",
    "    # create a copy so we don't modify the original dict\n",
    "    modified_dict = dict_.copy()\n",
    "    del modified_dict[key]\n",
    "    return modified_dict"
   ]
  },
  {
   "cell_type": "code",
   "execution_count": 28,
   "metadata": {},
   "outputs": [
    {
     "name": "stdout",
     "output_type": "stream",
     "text": [
      "{\n",
      "    \"author\": \"dragongraphics\",\n",
      "    \"createdAt\": \"2014-05-29T08:07:50Z\",\n",
      "    \"numComments\": 0,\n",
      "    \"objectId\": \"7815238\",\n",
      "    \"points\": 2,\n",
      "    \"storyText\": \"\",\n",
      "    \"tags\": [\n",
      "        \"story\",\n",
      "        \"author_dragongraphics\",\n",
      "        \"story_7815238\"\n",
      "    ],\n",
      "    \"title\": \"Are we getting too Sassy? Weighing up micro-optimisation vs. maintainability\",\n",
      "    \"url\": \"http://ashleynolan.co.uk/blog/are-we-getting-too-sassy\"\n",
      "}\n"
     ]
    }
   ],
   "source": [
    "first_story = del_key(first_story, 'createdAtI')\n",
    "jprint(first_story)"
   ]
  },
  {
   "cell_type": "code",
   "execution_count": 29,
   "metadata": {},
   "outputs": [],
   "source": [
    "hn_clean = []\n",
    "for ele in hn:\n",
    "    hn_clean.append(del_key(ele, 'createdAtI'))"
   ]
  },
  {
   "cell_type": "code",
   "execution_count": 31,
   "metadata": {},
   "outputs": [
    {
     "name": "stdout",
     "output_type": "stream",
     "text": [
      "{\n",
      "    \"author\": \"dragongraphics\",\n",
      "    \"createdAt\": \"2014-05-29T08:07:50Z\",\n",
      "    \"numComments\": 0,\n",
      "    \"objectId\": \"7815238\",\n",
      "    \"points\": 2,\n",
      "    \"storyText\": \"\",\n",
      "    \"tags\": [\n",
      "        \"story\",\n",
      "        \"author_dragongraphics\",\n",
      "        \"story_7815238\"\n",
      "    ],\n",
      "    \"title\": \"Are we getting too Sassy? Weighing up micro-optimisation vs. maintainability\",\n",
      "    \"url\": \"http://ashleynolan.co.uk/blog/are-we-getting-too-sassy\"\n",
      "}\n"
     ]
    }
   ],
   "source": [
    "jprint(hn_clean[0])"
   ]
  },
  {
   "cell_type": "code",
   "execution_count": 33,
   "metadata": {},
   "outputs": [
    {
     "data": {
      "text/plain": [
       "{'author': 'dragongraphics',\n",
       " 'numComments': 0,\n",
       " 'points': 2,\n",
       " 'url': 'http://ashleynolan.co.uk/blog/are-we-getting-too-sassy',\n",
       " 'storyText': '',\n",
       " 'createdAt': '2014-05-29T08:07:50Z',\n",
       " 'tags': ['story', 'author_dragongraphics', 'story_7815238'],\n",
       " 'title': 'Are we getting too Sassy? Weighing up micro-optimisation vs. maintainability',\n",
       " 'objectId': '7815238'}"
      ]
     },
     "execution_count": 33,
     "metadata": {},
     "output_type": "execute_result"
    }
   ],
   "source": [
    "[del_key(ele, 'createdAtI') for ele in hn][0]"
   ]
  },
  {
   "cell_type": "code",
   "execution_count": 34,
   "metadata": {},
   "outputs": [
    {
     "data": {
      "text/plain": [
       "['col_1', 'col_2', 'col_3', 'col_4']"
      ]
     },
     "execution_count": 34,
     "metadata": {},
     "output_type": "execute_result"
    }
   ],
   "source": [
    "[\"col_{}\".format(i) for i in range(1,5)]"
   ]
  },
  {
   "cell_type": "code",
   "execution_count": 36,
   "metadata": {},
   "outputs": [
    {
     "data": {
      "text/plain": [
       "35806"
      ]
     },
     "execution_count": 36,
     "metadata": {},
     "output_type": "execute_result"
    }
   ],
   "source": [
    "urls = [ele['url'] for ele in hn_clean]\n",
    "len(urls)"
   ]
  },
  {
   "cell_type": "code",
   "execution_count": 37,
   "metadata": {},
   "outputs": [],
   "source": [
    "thousand_points = [ele for ele in hn_clean if ele['points'] > 1000]\n",
    "num_thousand_points = len(thousand_points)"
   ]
  },
  {
   "cell_type": "code",
   "execution_count": 39,
   "metadata": {},
   "outputs": [
    {
     "name": "stdout",
     "output_type": "stream",
     "text": [
      "[\n",
      "    {\n",
      "        \"age\": 36,\n",
      "        \"favorite_foods\": [\n",
      "            \"Pumpkin\",\n",
      "            \"Oatmeal\"\n",
      "        ],\n",
      "        \"name\": \"Sabine\"\n",
      "    },\n",
      "    {\n",
      "        \"age\": 40,\n",
      "        \"favorite_foods\": [\n",
      "            \"Chicken\",\n",
      "            \"Pizza\",\n",
      "            \"Chocolate\"\n",
      "        ],\n",
      "        \"name\": \"Zoe\"\n",
      "    },\n",
      "    {\n",
      "        \"age\": 40,\n",
      "        \"favorite_foods\": [\n",
      "            \"Caesar Salad\"\n",
      "        ],\n",
      "        \"name\": \"Heidi\"\n",
      "    }\n",
      "]\n"
     ]
    }
   ],
   "source": [
    "jprint(json_obj)"
   ]
  },
  {
   "cell_type": "code",
   "execution_count": 40,
   "metadata": {},
   "outputs": [
    {
     "data": {
      "text/plain": [
       "builtin_function_or_method"
      ]
     },
     "execution_count": 40,
     "metadata": {},
     "output_type": "execute_result"
    }
   ],
   "source": [
    "type(min)"
   ]
  },
  {
   "cell_type": "code",
   "execution_count": 44,
   "metadata": {},
   "outputs": [
    {
     "name": "stdout",
     "output_type": "stream",
     "text": [
      "RUNNING FUNCTION: <function greet at 0x7ff0a5160620>\n"
     ]
    },
    {
     "data": {
      "text/plain": [
       "'greet'"
      ]
     },
     "execution_count": 44,
     "metadata": {},
     "output_type": "execute_result"
    }
   ],
   "source": [
    "def greet():\n",
    "    return \"greet\"\n",
    "def run_func(func):\n",
    "    print(\"RUNNING FUNCTION: {}\".format(func))\n",
    "    return func()\n",
    "run_func(greet)"
   ]
  },
  {
   "cell_type": "code",
   "execution_count": 45,
   "metadata": {},
   "outputs": [],
   "source": [
    "def get_age(json_dict):\n",
    "    return json_dict['age']"
   ]
  },
  {
   "cell_type": "code",
   "execution_count": 51,
   "metadata": {},
   "outputs": [
    {
     "data": {
      "text/plain": [
       "[{'name': 'Sabine', 'age': 36, 'favorite_foods': ['Pumpkin', 'Oatmeal']},\n",
       " {'name': 'Zoe',\n",
       "  'age': 40,\n",
       "  'favorite_foods': ['Chicken', 'Pizza', 'Chocolate']},\n",
       " {'name': 'Heidi', 'age': 40, 'favorite_foods': ['Caesar Salad']}]"
      ]
     },
     "execution_count": 51,
     "metadata": {},
     "output_type": "execute_result"
    }
   ],
   "source": [
    "sorted(json_obj, key = get_age)"
   ]
  },
  {
   "cell_type": "code",
   "execution_count": 52,
   "metadata": {},
   "outputs": [
    {
     "data": {
      "text/plain": [
       "{'name': 'Sabine', 'age': 36, 'favorite_foods': ['Pumpkin', 'Oatmeal']}"
      ]
     },
     "execution_count": 52,
     "metadata": {},
     "output_type": "execute_result"
    }
   ],
   "source": [
    "min(json_obj, key = get_age)"
   ]
  },
  {
   "cell_type": "code",
   "execution_count": 53,
   "metadata": {},
   "outputs": [
    {
     "data": {
      "text/plain": [
       "{'author': 'platz',\n",
       " 'numComments': 1208,\n",
       " 'points': 889,\n",
       " 'url': 'https://blog.mozilla.org/blog/2014/04/03/brendan-eich-steps-down-as-mozilla-ceo/',\n",
       " 'storyText': None,\n",
       " 'createdAt': '2014-04-03T19:02:53Z',\n",
       " 'tags': ['story', 'author_platz', 'story_7525198'],\n",
       " 'title': 'Brendan Eich Steps Down as Mozilla CEO',\n",
       " 'objectId': '7525198'}"
      ]
     },
     "execution_count": 53,
     "metadata": {},
     "output_type": "execute_result"
    }
   ],
   "source": [
    "def get_num(json_dict):\n",
    "    return json_dict['numComments']\n",
    "most_comments = max(hn_clean, key = get_num)\n",
    "most_comments"
   ]
  },
  {
   "cell_type": "code",
   "execution_count": 55,
   "metadata": {},
   "outputs": [
    {
     "data": {
      "text/plain": [
       "<function __main__.<lambda>(string)>"
      ]
     },
     "execution_count": 55,
     "metadata": {},
     "output_type": "execute_result"
    }
   ],
   "source": [
    "def extract_and_increment(string):\n",
    "    digits = re.search(r\"\\d+\", string).group()\n",
    "    return int(digits) + 1\n",
    "lambda string: int(re.search(r\"\\d+\", string).group()) + 1"
   ]
  },
  {
   "cell_type": "code",
   "execution_count": 56,
   "metadata": {},
   "outputs": [
    {
     "data": {
      "text/plain": [
       "[{'name': 'Heidi', 'age': 40, 'favorite_foods': ['Caesar Salad']},\n",
       " {'name': 'Sabine', 'age': 36, 'favorite_foods': ['Pumpkin', 'Oatmeal']},\n",
       " {'name': 'Zoe',\n",
       "  'age': 40,\n",
       "  'favorite_foods': ['Chicken', 'Pizza', 'Chocolate']}]"
      ]
     },
     "execution_count": 56,
     "metadata": {},
     "output_type": "execute_result"
    }
   ],
   "source": [
    "sorted(json_obj, key = lambda d : d['name'])"
   ]
  },
  {
   "cell_type": "code",
   "execution_count": 57,
   "metadata": {},
   "outputs": [
    {
     "data": {
      "text/plain": [
       "{'name': 'Sabine', 'age': 36, 'favorite_foods': ['Pumpkin', 'Oatmeal']}"
      ]
     },
     "execution_count": 57,
     "metadata": {},
     "output_type": "execute_result"
    }
   ],
   "source": [
    "min(json_obj, key = lambda d : d['age'])"
   ]
  },
  {
   "cell_type": "code",
   "execution_count": 60,
   "metadata": {},
   "outputs": [
    {
     "data": {
      "text/plain": [
       "['2048',\n",
       " 'Today is The Day We Fight Back',\n",
       " 'Wozniak: “Actually, the movie was largely a lie about me”',\n",
       " 'Microsoft Open Sources C# Compiler',\n",
       " 'Elon Musk: To the People of New Jersey']"
      ]
     },
     "execution_count": 60,
     "metadata": {},
     "output_type": "execute_result"
    }
   ],
   "source": [
    "hn_sorted_points = sorted(hn_clean, key = lambda x : x['points'], reverse = True)\n",
    "top_5_titles = [ele['title'] for ele in hn_sorted_points[:5]]\n",
    "top_5_titles"
   ]
  },
  {
   "cell_type": "markdown",
   "metadata": {},
   "source": [
    "### JSON data can  be converted to pandas dataframe\n",
    "* pandas.read_json() is designed to read JSON from either a file or a JSON string\n"
   ]
  },
  {
   "cell_type": "code",
   "execution_count": 61,
   "metadata": {},
   "outputs": [
    {
     "name": "stdout",
     "output_type": "stream",
     "text": [
      "[\n",
      "    {\n",
      "        \"age\": 36,\n",
      "        \"favorite_foods\": [\n",
      "            \"Pumpkin\",\n",
      "            \"Oatmeal\"\n",
      "        ],\n",
      "        \"name\": \"Sabine\"\n",
      "    },\n",
      "    {\n",
      "        \"age\": 40,\n",
      "        \"favorite_foods\": [\n",
      "            \"Chicken\",\n",
      "            \"Pizza\",\n",
      "            \"Chocolate\"\n",
      "        ],\n",
      "        \"name\": \"Zoe\"\n",
      "    },\n",
      "    {\n",
      "        \"age\": 40,\n",
      "        \"favorite_foods\": [\n",
      "            \"Caesar Salad\"\n",
      "        ],\n",
      "        \"name\": \"Heidi\"\n",
      "    }\n",
      "]\n"
     ]
    }
   ],
   "source": [
    "jprint(json_obj)"
   ]
  },
  {
   "cell_type": "code",
   "execution_count": 63,
   "metadata": {},
   "outputs": [
    {
     "data": {
      "text/html": [
       "<div>\n",
       "<style scoped>\n",
       "    .dataframe tbody tr th:only-of-type {\n",
       "        vertical-align: middle;\n",
       "    }\n",
       "\n",
       "    .dataframe tbody tr th {\n",
       "        vertical-align: top;\n",
       "    }\n",
       "\n",
       "    .dataframe thead th {\n",
       "        text-align: right;\n",
       "    }\n",
       "</style>\n",
       "<table border=\"1\" class=\"dataframe\">\n",
       "  <thead>\n",
       "    <tr style=\"text-align: right;\">\n",
       "      <th></th>\n",
       "      <th>name</th>\n",
       "      <th>age</th>\n",
       "      <th>favorite_foods</th>\n",
       "    </tr>\n",
       "  </thead>\n",
       "  <tbody>\n",
       "    <tr>\n",
       "      <th>0</th>\n",
       "      <td>Sabine</td>\n",
       "      <td>36</td>\n",
       "      <td>[Pumpkin, Oatmeal]</td>\n",
       "    </tr>\n",
       "    <tr>\n",
       "      <th>1</th>\n",
       "      <td>Zoe</td>\n",
       "      <td>40</td>\n",
       "      <td>[Chicken, Pizza, Chocolate]</td>\n",
       "    </tr>\n",
       "    <tr>\n",
       "      <th>2</th>\n",
       "      <td>Heidi</td>\n",
       "      <td>40</td>\n",
       "      <td>[Caesar Salad]</td>\n",
       "    </tr>\n",
       "  </tbody>\n",
       "</table>\n",
       "</div>"
      ],
      "text/plain": [
       "     name  age               favorite_foods\n",
       "0  Sabine   36           [Pumpkin, Oatmeal]\n",
       "1     Zoe   40  [Chicken, Pizza, Chocolate]\n",
       "2   Heidi   40               [Caesar Salad]"
      ]
     },
     "execution_count": 63,
     "metadata": {},
     "output_type": "execute_result"
    }
   ],
   "source": [
    "json_df = pd.DataFrame(json_obj)\n",
    "json_df"
   ]
  },
  {
   "cell_type": "code",
   "execution_count": 64,
   "metadata": {},
   "outputs": [],
   "source": [
    "hn_df = pd.DataFrame(hn_clean)"
   ]
  },
  {
   "cell_type": "code",
   "execution_count": 65,
   "metadata": {},
   "outputs": [
    {
     "data": {
      "text/html": [
       "<div>\n",
       "<style scoped>\n",
       "    .dataframe tbody tr th:only-of-type {\n",
       "        vertical-align: middle;\n",
       "    }\n",
       "\n",
       "    .dataframe tbody tr th {\n",
       "        vertical-align: top;\n",
       "    }\n",
       "\n",
       "    .dataframe thead th {\n",
       "        text-align: right;\n",
       "    }\n",
       "</style>\n",
       "<table border=\"1\" class=\"dataframe\">\n",
       "  <thead>\n",
       "    <tr style=\"text-align: right;\">\n",
       "      <th></th>\n",
       "      <th>author</th>\n",
       "      <th>numComments</th>\n",
       "      <th>points</th>\n",
       "      <th>url</th>\n",
       "      <th>storyText</th>\n",
       "      <th>createdAt</th>\n",
       "      <th>tags</th>\n",
       "      <th>title</th>\n",
       "      <th>objectId</th>\n",
       "    </tr>\n",
       "  </thead>\n",
       "  <tbody>\n",
       "    <tr>\n",
       "      <th>0</th>\n",
       "      <td>dragongraphics</td>\n",
       "      <td>0</td>\n",
       "      <td>2</td>\n",
       "      <td>http://ashleynolan.co.uk/blog/are-we-getting-t...</td>\n",
       "      <td></td>\n",
       "      <td>2014-05-29T08:07:50Z</td>\n",
       "      <td>[story, author_dragongraphics, story_7815238]</td>\n",
       "      <td>Are we getting too Sassy? Weighing up micro-op...</td>\n",
       "      <td>7815238</td>\n",
       "    </tr>\n",
       "    <tr>\n",
       "      <th>1</th>\n",
       "      <td>jcr</td>\n",
       "      <td>0</td>\n",
       "      <td>1</td>\n",
       "      <td>http://spectrum.ieee.org/automaton/robotics/ho...</td>\n",
       "      <td></td>\n",
       "      <td>2014-05-29T08:05:58Z</td>\n",
       "      <td>[story, author_jcr, story_7815234]</td>\n",
       "      <td>Telemba Turns Your Old Roomba and Tablet Into ...</td>\n",
       "      <td>7815234</td>\n",
       "    </tr>\n",
       "    <tr>\n",
       "      <th>2</th>\n",
       "      <td>callum85</td>\n",
       "      <td>0</td>\n",
       "      <td>1</td>\n",
       "      <td>http://online.wsj.com/articles/apple-to-buy-be...</td>\n",
       "      <td></td>\n",
       "      <td>2014-05-29T08:05:06Z</td>\n",
       "      <td>[story, author_callum85, story_7815230]</td>\n",
       "      <td>Apple Agrees to Buy Beats for $3 Billion</td>\n",
       "      <td>7815230</td>\n",
       "    </tr>\n",
       "    <tr>\n",
       "      <th>3</th>\n",
       "      <td>d3v3r0</td>\n",
       "      <td>0</td>\n",
       "      <td>1</td>\n",
       "      <td>http://alexsblog.org/2014/05/29/dont-wait-for-...</td>\n",
       "      <td></td>\n",
       "      <td>2014-05-29T08:00:08Z</td>\n",
       "      <td>[story, author_d3v3r0, story_7815222]</td>\n",
       "      <td>Don’t wait for inspiration</td>\n",
       "      <td>7815222</td>\n",
       "    </tr>\n",
       "    <tr>\n",
       "      <th>4</th>\n",
       "      <td>timmipetit</td>\n",
       "      <td>0</td>\n",
       "      <td>1</td>\n",
       "      <td>http://techcrunch.com/2014/05/28/hackerone-get...</td>\n",
       "      <td></td>\n",
       "      <td>2014-05-29T07:46:19Z</td>\n",
       "      <td>[story, author_timmipetit, story_7815191]</td>\n",
       "      <td>HackerOne Get $9M In Series A Funding To Build...</td>\n",
       "      <td>7815191</td>\n",
       "    </tr>\n",
       "  </tbody>\n",
       "</table>\n",
       "</div>"
      ],
      "text/plain": [
       "           author  numComments  points  \\\n",
       "0  dragongraphics            0       2   \n",
       "1             jcr            0       1   \n",
       "2        callum85            0       1   \n",
       "3          d3v3r0            0       1   \n",
       "4      timmipetit            0       1   \n",
       "\n",
       "                                                 url storyText  \\\n",
       "0  http://ashleynolan.co.uk/blog/are-we-getting-t...             \n",
       "1  http://spectrum.ieee.org/automaton/robotics/ho...             \n",
       "2  http://online.wsj.com/articles/apple-to-buy-be...             \n",
       "3  http://alexsblog.org/2014/05/29/dont-wait-for-...             \n",
       "4  http://techcrunch.com/2014/05/28/hackerone-get...             \n",
       "\n",
       "              createdAt                                           tags  \\\n",
       "0  2014-05-29T08:07:50Z  [story, author_dragongraphics, story_7815238]   \n",
       "1  2014-05-29T08:05:58Z             [story, author_jcr, story_7815234]   \n",
       "2  2014-05-29T08:05:06Z        [story, author_callum85, story_7815230]   \n",
       "3  2014-05-29T08:00:08Z          [story, author_d3v3r0, story_7815222]   \n",
       "4  2014-05-29T07:46:19Z      [story, author_timmipetit, story_7815191]   \n",
       "\n",
       "                                               title objectId  \n",
       "0  Are we getting too Sassy? Weighing up micro-op...  7815238  \n",
       "1  Telemba Turns Your Old Roomba and Tablet Into ...  7815234  \n",
       "2           Apple Agrees to Buy Beats for $3 Billion  7815230  \n",
       "3                         Don’t wait for inspiration  7815222  \n",
       "4  HackerOne Get $9M In Series A Funding To Build...  7815191  "
      ]
     },
     "execution_count": 65,
     "metadata": {},
     "output_type": "execute_result"
    }
   ],
   "source": [
    "hn_df.head()"
   ]
  },
  {
   "cell_type": "code",
   "execution_count": 66,
   "metadata": {},
   "outputs": [
    {
     "data": {
      "text/plain": [
       "dtype('O')"
      ]
     },
     "execution_count": 66,
     "metadata": {},
     "output_type": "execute_result"
    }
   ],
   "source": [
    "tags = hn_df.tags\n",
    "tags.dtype"
   ]
  },
  {
   "cell_type": "code",
   "execution_count": 67,
   "metadata": {},
   "outputs": [
    {
     "data": {
      "text/plain": [
       "<class 'list'>    35806\n",
       "Name: tags, dtype: int64"
      ]
     },
     "execution_count": 67,
     "metadata": {},
     "output_type": "execute_result"
    }
   ],
   "source": [
    "tag_types = tags.apply(type)\n",
    "type_counts = tag_types.value_counts(dropna=False)\n",
    "type_counts"
   ]
  },
  {
   "cell_type": "code",
   "execution_count": 68,
   "metadata": {},
   "outputs": [
    {
     "data": {
      "text/plain": [
       "3    33459\n",
       "4     2347\n",
       "Name: tags, dtype: int64"
      ]
     },
     "execution_count": 68,
     "metadata": {},
     "output_type": "execute_result"
    }
   ],
   "source": [
    "# Check tags length\n",
    "tags.apply(len).value_counts(dropna=False)"
   ]
  },
  {
   "cell_type": "code",
   "execution_count": 71,
   "metadata": {},
   "outputs": [
    {
     "data": {
      "text/plain": [
       "43     [story, author_alamgir_mand, story_7813869, sh...\n",
       "86       [story, author_cweagans, story_7812404, ask_hn]\n",
       "104    [story, author_nightstrike789, story_7812099, ...\n",
       "107    [story, author_ISeemToBeAVerb, story_7812048, ...\n",
       "109       [story, author_Swizec, story_7812018, show_hn]\n",
       "Name: tags, dtype: object"
      ]
     },
     "execution_count": 71,
     "metadata": {},
     "output_type": "execute_result"
    }
   ],
   "source": [
    "four_tags = tags[tags.apply(len) == 4]\n",
    "four_tags.head()"
   ]
  },
  {
   "cell_type": "code",
   "execution_count": 73,
   "metadata": {},
   "outputs": [],
   "source": [
    "def extract_tag(l):\n",
    "    if len(l) == 4:\n",
    "        return l[-1]\n",
    "    return None\n",
    "# l[-1] if len(l) == 4 else None"
   ]
  },
  {
   "cell_type": "code",
   "execution_count": null,
   "metadata": {},
   "outputs": [],
   "source": [
    "cleaned_tags = tags.apply(lambda l : l[-1] if len(l) == 4 else None)\n"
   ]
  }
 ],
 "metadata": {
  "kernelspec": {
   "display_name": "Python 3",
   "language": "python",
   "name": "python3"
  },
  "language_info": {
   "codemirror_mode": {
    "name": "ipython",
    "version": 3
   },
   "file_extension": ".py",
   "mimetype": "text/x-python",
   "name": "python",
   "nbconvert_exporter": "python",
   "pygments_lexer": "ipython3",
   "version": "3.7.0"
  }
 },
 "nbformat": 4,
 "nbformat_minor": 4
}
