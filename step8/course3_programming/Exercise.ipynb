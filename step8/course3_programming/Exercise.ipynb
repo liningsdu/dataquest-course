{
 "cells": [
  {
   "cell_type": "markdown",
   "metadata": {},
   "source": [
    "# Part 1 Object-Oriented Programming"
   ]
  },
  {
   "cell_type": "code",
   "execution_count": 1,
   "metadata": {},
   "outputs": [],
   "source": [
    "import pandas as pd\n",
    "pd.options.display.max_columns = 100"
   ]
  },
  {
   "cell_type": "code",
   "execution_count": 2,
   "metadata": {
    "scrolled": true
   },
   "outputs": [
    {
     "data": {
      "text/html": [
       "<div>\n",
       "<style scoped>\n",
       "    .dataframe tbody tr th:only-of-type {\n",
       "        vertical-align: middle;\n",
       "    }\n",
       "\n",
       "    .dataframe tbody tr th {\n",
       "        vertical-align: top;\n",
       "    }\n",
       "\n",
       "    .dataframe thead th {\n",
       "        text-align: right;\n",
       "    }\n",
       "</style>\n",
       "<table border=\"1\" class=\"dataframe\">\n",
       "  <thead>\n",
       "    <tr style=\"text-align: right;\">\n",
       "      <th></th>\n",
       "      <th>player</th>\n",
       "      <th>pos</th>\n",
       "      <th>age</th>\n",
       "      <th>team</th>\n",
       "      <th>g</th>\n",
       "      <th>gs</th>\n",
       "      <th>mp</th>\n",
       "      <th>fg</th>\n",
       "      <th>fga</th>\n",
       "      <th>fg.</th>\n",
       "      <th>x3p</th>\n",
       "      <th>x3pa</th>\n",
       "      <th>x3p.</th>\n",
       "      <th>x2p</th>\n",
       "      <th>x2pa</th>\n",
       "      <th>x2p.</th>\n",
       "      <th>efg.</th>\n",
       "      <th>ft</th>\n",
       "      <th>fta</th>\n",
       "      <th>ft.</th>\n",
       "      <th>orb</th>\n",
       "      <th>drb</th>\n",
       "      <th>trb</th>\n",
       "      <th>ast</th>\n",
       "      <th>stl</th>\n",
       "      <th>blk</th>\n",
       "      <th>tov</th>\n",
       "      <th>pf</th>\n",
       "      <th>pts</th>\n",
       "      <th>season</th>\n",
       "      <th>season_end</th>\n",
       "    </tr>\n",
       "  </thead>\n",
       "  <tbody>\n",
       "    <tr>\n",
       "      <th>0</th>\n",
       "      <td>Quincy Acy</td>\n",
       "      <td>SF</td>\n",
       "      <td>23</td>\n",
       "      <td>TOT</td>\n",
       "      <td>63</td>\n",
       "      <td>0</td>\n",
       "      <td>847</td>\n",
       "      <td>66</td>\n",
       "      <td>141</td>\n",
       "      <td>0.468</td>\n",
       "      <td>4</td>\n",
       "      <td>15</td>\n",
       "      <td>0.266667</td>\n",
       "      <td>62</td>\n",
       "      <td>126</td>\n",
       "      <td>0.492063</td>\n",
       "      <td>0.482</td>\n",
       "      <td>35</td>\n",
       "      <td>53</td>\n",
       "      <td>0.660</td>\n",
       "      <td>72</td>\n",
       "      <td>144</td>\n",
       "      <td>216</td>\n",
       "      <td>28</td>\n",
       "      <td>23</td>\n",
       "      <td>26</td>\n",
       "      <td>30</td>\n",
       "      <td>122</td>\n",
       "      <td>171</td>\n",
       "      <td>2013-2014</td>\n",
       "      <td>2013</td>\n",
       "    </tr>\n",
       "    <tr>\n",
       "      <th>1</th>\n",
       "      <td>Steven Adams</td>\n",
       "      <td>C</td>\n",
       "      <td>20</td>\n",
       "      <td>Oklahoma City Thunder</td>\n",
       "      <td>81</td>\n",
       "      <td>20</td>\n",
       "      <td>1197</td>\n",
       "      <td>93</td>\n",
       "      <td>185</td>\n",
       "      <td>0.503</td>\n",
       "      <td>0</td>\n",
       "      <td>0</td>\n",
       "      <td>NaN</td>\n",
       "      <td>93</td>\n",
       "      <td>185</td>\n",
       "      <td>0.502703</td>\n",
       "      <td>0.503</td>\n",
       "      <td>79</td>\n",
       "      <td>136</td>\n",
       "      <td>0.581</td>\n",
       "      <td>142</td>\n",
       "      <td>190</td>\n",
       "      <td>332</td>\n",
       "      <td>43</td>\n",
       "      <td>40</td>\n",
       "      <td>57</td>\n",
       "      <td>71</td>\n",
       "      <td>203</td>\n",
       "      <td>265</td>\n",
       "      <td>2013-2014</td>\n",
       "      <td>2013</td>\n",
       "    </tr>\n",
       "    <tr>\n",
       "      <th>2</th>\n",
       "      <td>Jeff Adrien</td>\n",
       "      <td>PF</td>\n",
       "      <td>27</td>\n",
       "      <td>TOT</td>\n",
       "      <td>53</td>\n",
       "      <td>12</td>\n",
       "      <td>961</td>\n",
       "      <td>143</td>\n",
       "      <td>275</td>\n",
       "      <td>0.520</td>\n",
       "      <td>0</td>\n",
       "      <td>0</td>\n",
       "      <td>NaN</td>\n",
       "      <td>143</td>\n",
       "      <td>275</td>\n",
       "      <td>0.520000</td>\n",
       "      <td>0.520</td>\n",
       "      <td>76</td>\n",
       "      <td>119</td>\n",
       "      <td>0.639</td>\n",
       "      <td>102</td>\n",
       "      <td>204</td>\n",
       "      <td>306</td>\n",
       "      <td>38</td>\n",
       "      <td>24</td>\n",
       "      <td>36</td>\n",
       "      <td>39</td>\n",
       "      <td>108</td>\n",
       "      <td>362</td>\n",
       "      <td>2013-2014</td>\n",
       "      <td>2013</td>\n",
       "    </tr>\n",
       "  </tbody>\n",
       "</table>\n",
       "</div>"
      ],
      "text/plain": [
       "         player pos  age                   team   g  gs    mp   fg  fga  \\\n",
       "0    Quincy Acy  SF   23                    TOT  63   0   847   66  141   \n",
       "1  Steven Adams   C   20  Oklahoma City Thunder  81  20  1197   93  185   \n",
       "2   Jeff Adrien  PF   27                    TOT  53  12   961  143  275   \n",
       "\n",
       "     fg.  x3p  x3pa      x3p.  x2p  x2pa      x2p.   efg.  ft  fta    ft.  \\\n",
       "0  0.468    4    15  0.266667   62   126  0.492063  0.482  35   53  0.660   \n",
       "1  0.503    0     0       NaN   93   185  0.502703  0.503  79  136  0.581   \n",
       "2  0.520    0     0       NaN  143   275  0.520000  0.520  76  119  0.639   \n",
       "\n",
       "   orb  drb  trb  ast  stl  blk  tov   pf  pts     season  season_end  \n",
       "0   72  144  216   28   23   26   30  122  171  2013-2014        2013  \n",
       "1  142  190  332   43   40   57   71  203  265  2013-2014        2013  \n",
       "2  102  204  306   38   24   36   39  108  362  2013-2014        2013  "
      ]
     },
     "execution_count": 2,
     "metadata": {},
     "output_type": "execute_result"
    }
   ],
   "source": [
    "df = pd.read_csv('nba_players_2013.csv')\n",
    "df.head(3)"
   ]
  },
  {
   "cell_type": "code",
   "execution_count": 3,
   "metadata": {},
   "outputs": [
    {
     "data": {
      "text/plain": [
       "[['Quincy Acy', 'SF', '23', 'TOT'],\n",
       " ['Steven Adams', 'C', '20', 'Oklahoma City Thunder'],\n",
       " ['Jeff Adrien', 'PF', '27', 'TOT']]"
      ]
     },
     "execution_count": 3,
     "metadata": {},
     "output_type": "execute_result"
    }
   ],
   "source": [
    "with open('nba_players_2013.csv') as f:\n",
    "    f_list = f.readlines()\n",
    "    header = f_list[0].split(',')[:4]\n",
    "    nba = [e.split(',')[:4] for e in f_list[1:]]\n",
    "\n",
    "nba[:3]"
   ]
  },
  {
   "cell_type": "code",
   "execution_count": 4,
   "metadata": {},
   "outputs": [
    {
     "data": {
      "text/plain": [
       "['player', 'pos', 'age', 'team']"
      ]
     },
     "execution_count": 4,
     "metadata": {},
     "output_type": "execute_result"
    }
   ],
   "source": [
    "header"
   ]
  },
  {
   "cell_type": "code",
   "execution_count": 5,
   "metadata": {},
   "outputs": [],
   "source": [
    "import math\n",
    "\n",
    "class Player():\n",
    "    # The special __init__ function runs whenever a class is instantiated\n",
    "    # The init function can take arguments, but self is always the first one\n",
    "    # Self is just a reference to the instance of the class\n",
    "    # It is automatically paassed in when you instantiate an instance of the class\n",
    "    def __init__(self, data_row):\n",
    "        self.player_name = data_row[0]\n",
    "        self.position = data_row[1]\n",
    "        self.age = int(data_row[2])\n",
    "        self.team = data_row[3]\n",
    "        \n",
    "first_player = Player(nba[0])\n",
    "\n",
    "class Team():\n",
    "    def __init__(self, team_name):\n",
    "        self.team_name = team_name\n",
    "        self.roster = []\n",
    "        for row in nba:\n",
    "            player = Player(row)\n",
    "            if player.team == team_name:\n",
    "                self.roster.append(player)\n",
    "    def num_players(self):\n",
    "        count = 0\n",
    "        for player in self.roster:\n",
    "            count += 1\n",
    "        return count\n",
    "    #def average_age(self):\n",
    "    #    total = 0\n",
    "    #    for player in self.roster:\n",
    "    #        player_age = int(player.age)\n",
    "    #        total += player_age\n",
    "    #    return total / self.num_players()\n",
    "    def average_age(self):\n",
    "        return math.fsum([player.age for player in self.roster]) / self.num_players()\n",
    "    \n",
    "    @classmethod\n",
    "    def older_team(self, team1, team2):\n",
    "        return team1 if team1.average_age() > team2.average_age() else team2"
   ]
  },
  {
   "cell_type": "code",
   "execution_count": 6,
   "metadata": {},
   "outputs": [
    {
     "name": "stdout",
     "output_type": "stream",
     "text": [
      "[<__main__.Player object at 0x7fac15a67da0>, <__main__.Player object at 0x7fac15a67d68>, <__main__.Player object at 0x7fac15a73048>, <__main__.Player object at 0x7fac15a67b70>, <__main__.Player object at 0x7fac15a730f0>, <__main__.Player object at 0x7fac15a73080>, <__main__.Player object at 0x7fac15a73160>, <__main__.Player object at 0x7fac15a73208>, <__main__.Player object at 0x7fac15a73198>, <__main__.Player object at 0x7fac15a73128>, <__main__.Player object at 0x7fac15a731d0>, <__main__.Player object at 0x7fac15a730b8>, <__main__.Player object at 0x7fac15a73278>, <__main__.Player object at 0x7fac15a73358>]\n"
     ]
    }
   ],
   "source": [
    "spurs = Team('San Antonio Spurs')\n",
    "print(spurs.roster)"
   ]
  },
  {
   "cell_type": "code",
   "execution_count": 7,
   "metadata": {},
   "outputs": [],
   "source": [
    "spurs_num_players = spurs.num_players()\n",
    "spurs_avg_age = spurs.average_age()"
   ]
  },
  {
   "cell_type": "markdown",
   "metadata": {},
   "source": [
    "## math.fsum method takes an iterable (i.e., a list or list - like) argument, and sums the values in the list to produce a result\n",
    "\n",
    "## @classmethod -- the method is a class method"
   ]
  },
  {
   "cell_type": "code",
   "execution_count": 8,
   "metadata": {},
   "outputs": [
    {
     "data": {
      "text/plain": [
       "'Miami Heat'"
      ]
     },
     "execution_count": 8,
     "metadata": {},
     "output_type": "execute_result"
    }
   ],
   "source": [
    "old_team = Team.older_team(Team('New York Knicks'), Team('Miami Heat'))\n",
    "old_team.team_name"
   ]
  },
  {
   "cell_type": "markdown",
   "metadata": {},
   "source": [
    "## In Python3, every class is a subclass of a generic object class.\n",
    "\n",
    "In object-oriented programming, the concept of inheritance enables us to organize classes in a tree-like hierarchy, where the parent class has some traits that it passes on to its descendants. When we define a class, we specify a parent class from which it inherits. Inheriting from a class means that the behavior of the parent also exists in the child, but that the child can still define its own additional behavior.\n",
    "\n",
    "## Overloading, to overwrite parent's behavior"
   ]
  },
  {
   "cell_type": "code",
   "execution_count": 9,
   "metadata": {},
   "outputs": [],
   "source": [
    "class Player(object):\n",
    "    def __init__(self, data_row):\n",
    "        self.player_name = data_row[0]\n",
    "        self.position = data_row[1]\n",
    "        self.age = int(data_row[2])\n",
    "        self.team = data_row[3]\n",
    "        \n",
    "    def __lt__(self, other):\n",
    "        ## less than\n",
    "        return self.age < other.age\n",
    "    \n",
    "    def __gt__(self, other):\n",
    "        ## great than\n",
    "        return self.age > other.age\n",
    "    \n",
    "    def __le__(self, other):\n",
    "        return self.age <= other.age\n",
    "    def __ge__(self, other):\n",
    "        return self.age >= other.age\n",
    "    def __eq__(self, other):\n",
    "        return self.age == other.age\n",
    "    def __ne__(self, other):\n",
    "        ## not equal\n",
    "        return self.age != other.age"
   ]
  },
  {
   "cell_type": "code",
   "execution_count": 10,
   "metadata": {},
   "outputs": [
    {
     "data": {
      "text/plain": [
       "True"
      ]
     },
     "execution_count": 10,
     "metadata": {},
     "output_type": "execute_result"
    }
   ],
   "source": [
    "carmelo = Player(nba[17])\n",
    "kobe = Player(nba[68])\n",
    "\n",
    "carmelo <= kobe"
   ]
  },
  {
   "cell_type": "code",
   "execution_count": 11,
   "metadata": {},
   "outputs": [],
   "source": [
    "import math\n",
    "\n",
    "class Team(object):\n",
    "    def __init__(self, team_name):\n",
    "        self.team_name = team_name\n",
    "        self.roster = []\n",
    "        for row in nba:\n",
    "            if row[3] == self.team_name:\n",
    "                self.roster.append(Player(row))\n",
    "    def num_players(self):\n",
    "        count = 0\n",
    "        for player in self.roster:\n",
    "            count += 1\n",
    "        return count\n",
    "    def average_age(self):\n",
    "        return math.fsum([player.age for player in self.roster]) / self.num_players()\n",
    "    \n",
    "    def __lt__(self, other):\n",
    "        return self.average_age() < other.average_age()\n",
    "    def __gt__(self, other):\n",
    "        return self.average_age() > other.average_age()\n",
    "    def __le__(self, other):\n",
    "        return self.average_age() <= other.average_age()\n",
    "    def __ge__(self, other):\n",
    "        return self.average_age() >= other.average_age()\n",
    "    def __eq__(self, other):\n",
    "        return self.average_age() == other.average_age()\n",
    "    def __ne__(self, other):\n",
    "        return self.average_age() != other.average_age()"
   ]
  },
  {
   "cell_type": "code",
   "execution_count": 12,
   "metadata": {},
   "outputs": [],
   "source": [
    "older_team = Team('Utah Jazz') if Team('Utah Jazz') > Team('Detroit Pistons') else Team('Detroit Pistons')\n",
    "older_team = max([Team('Utah Jazz'), Team('Detroit Pistons')])"
   ]
  },
  {
   "cell_type": "code",
   "execution_count": 13,
   "metadata": {},
   "outputs": [],
   "source": [
    "team_names = [\"Boston Celtics\", \"Brooklyn Nets\", \"New York Knicks\", \"Philadelphia 76ers\", \"Toronto Raptors\", \n",
    "         \"Chicago Bulls\", \"Cleveland Cavaliers\", \"Detroit Pistons\", \"Indiana Pacers\", \"Milwaukee Bucks\",\n",
    "         \"Atlanta Hawks\", \"Charlotte Hornets\", \"Miami Heat\", \"Orlando Magic\", \"Washington Wizards\",\n",
    "         \"Dallas Mavericks\", \"Houston Rockets\", \"Memphis Grizzlies\", \"New Orleans Pelicans\", \"San Antonio Spurs\",\n",
    "         \"Denver Nuggets\", \"Minnesota Timberwolves\", \"Oklahoma City Thunder\", \"Portland Trail Blazers\", \"Utah Jazz\",\n",
    "         \"Golden State Warriors\", \"Los Angeles Clippers\", \"Los Angeles Lakers\", \"Phoenix Suns\", \"Sacramento Kings\"]"
   ]
  },
  {
   "cell_type": "code",
   "execution_count": 14,
   "metadata": {},
   "outputs": [],
   "source": [
    "teams = [Team(team_name) for team_name in team_names]\n",
    "oldest_team = max(teams)\n",
    "youngest_team = min(teams)\n",
    "sorted_teams = sorted(teams)"
   ]
  },
  {
   "cell_type": "markdown",
   "metadata": {},
   "source": [
    "# Part 2. Exception Handling"
   ]
  },
  {
   "cell_type": "code",
   "execution_count": 15,
   "metadata": {},
   "outputs": [
    {
     "data": {
      "text/plain": [
       "['\"Food.Pinching.Effeciency\"', '\"Individual\"', '\"Chopstick.Length\"']"
      ]
     },
     "execution_count": 15,
     "metadata": {},
     "output_type": "execute_result"
    }
   ],
   "source": [
    "with open('chopsticks.csv') as f:\n",
    "    f_list = f.readlines()\n",
    "    header = f_list[0].strip().split(',')\n",
    "    chopsticks = [row.strip().split(',') for row in f_list[1:]]\n",
    "header"
   ]
  },
  {
   "cell_type": "code",
   "execution_count": 16,
   "metadata": {},
   "outputs": [],
   "source": [
    "class Trial(object):\n",
    "    def __init__(self, data_row):\n",
    "        try:\n",
    "            self.efficiency = float(data_row[0])\n",
    "        except ValueError:\n",
    "            self.efficiency = -1.0\n",
    "        try:\n",
    "            self.individual = int(data_row[1])\n",
    "        except ValueError:\n",
    "            self.individual = -1\n",
    "        try:\n",
    "            self.chopstick_length = int(data_row[2])\n",
    "        except ValueError:\n",
    "            self.chopstick_length = -1\n",
    "first_trial = Trial(chopsticks[0])"
   ]
  },
  {
   "cell_type": "code",
   "execution_count": 17,
   "metadata": {},
   "outputs": [],
   "source": [
    "class Chopstick(object):\n",
    "    def __init__(self, length):\n",
    "        self.length = length\n",
    "        \n",
    "        self.trials = []\n",
    "        for row in chopsticks:\n",
    "            if int(row[2]) == self.length:\n",
    "                trial = Trial(row)\n",
    "                if trial.efficiency != -1 and trial.individual != -1 and trial.chopstick_length != -1:\n",
    "                    self.trials.append(trial) # Instance of Trial\n",
    "                \n",
    "    def num_trials(self):\n",
    "        count = 0\n",
    "        for trial in self.trials:\n",
    "            count += 1\n",
    "        return count\n",
    "    \n",
    "    def avg_efficiency(self):\n",
    "        total_efficiency = 0\n",
    "        for trial in self.trials:\n",
    "            total_efficiency += trial.efficiency\n",
    "        avg_efficiency = -1.0\n",
    "        try:\n",
    "            avg_efficiency = total_efficiency / self.num_trials()\n",
    "        except ZeroDivisionError:\n",
    "            return -1.0\n",
    "        return avg_efficiency\n",
    "    \n",
    "    def __lt__(self, other):\n",
    "        return self.avg_efficiency() < other.avg_efficiency()\n",
    "    def __gt__(self, other):\n",
    "        return self.avg_efficiency() > other.avg_efficiency()\n",
    "    def __le__(self, other):\n",
    "        return self.avg_efficiency() <= other.avg_efficiency()\n",
    "    def __ge__(self, other):\n",
    "        return self.avg_efficiency() >= other.avg_efficiency()\n",
    "    def __eq__(self, other):\n",
    "        return self.avg_efficiency() == other.avg_efficiency()\n",
    "    def __ne__(sefl, other):\n",
    "        return self.avg_efficiency() != other.avg_efficiency()"
   ]
  },
  {
   "cell_type": "code",
   "execution_count": 18,
   "metadata": {},
   "outputs": [],
   "source": [
    "medium_chopstick = Chopstick(240)"
   ]
  },
  {
   "cell_type": "code",
   "execution_count": 19,
   "metadata": {},
   "outputs": [],
   "source": [
    "avg_eff_210 = Chopstick(210).avg_efficiency()"
   ]
  },
  {
   "cell_type": "markdown",
   "metadata": {},
   "source": [
    "## Exceptions occur during the execution of the program, wheres syntax errors such as forgetting a colon or misspelling a variable don't, because your code won't run to begin with."
   ]
  },
  {
   "cell_type": "code",
   "execution_count": 20,
   "metadata": {},
   "outputs": [],
   "source": [
    "chopstick_lengths = [180, 195, 210, 225, 240, 255, 270, 285, 300, 315, 330]\n",
    "\n",
    "chopstick_list = [Chopstick(l) for l in chopstick_lengths]\n",
    "most_efficient = max(chopstick_list)"
   ]
  },
  {
   "cell_type": "markdown",
   "metadata": {},
   "source": [
    "# Part 3: Lambda Functions"
   ]
  },
  {
   "cell_type": "code",
   "execution_count": 21,
   "metadata": {},
   "outputs": [
    {
     "data": {
      "text/plain": [
       "'07606374520'"
      ]
     },
     "execution_count": 21,
     "metadata": {},
     "output_type": "execute_result"
    }
   ],
   "source": [
    "with open('passwords.txt', 'r') as f:\n",
    "    f_list = f.readlines()\n",
    "passwords = [row.strip() for row in f_list]\n",
    "passwords[0]    "
   ]
  },
  {
   "cell_type": "code",
   "execution_count": 22,
   "metadata": {},
   "outputs": [],
   "source": [
    "def easy_patterns(pattern):\n",
    "    count = 0\n",
    "    for password in passwords:\n",
    "        if pattern in password:\n",
    "            count += 1\n",
    "    return count"
   ]
  },
  {
   "cell_type": "code",
   "execution_count": 23,
   "metadata": {},
   "outputs": [
    {
     "data": {
      "text/plain": [
       "22"
      ]
     },
     "execution_count": 23,
     "metadata": {},
     "output_type": "execute_result"
    }
   ],
   "source": [
    "countup_passwords = easy_patterns('1234')\n",
    "countup_passwords"
   ]
  },
  {
   "cell_type": "markdown",
   "metadata": {},
   "source": [
    "## Python treats functions as first-class citizens. This means we can pass functions in as arguments to other functions, just like we can with objects.\n",
    "\n",
    "## map()"
   ]
  },
  {
   "cell_type": "code",
   "execution_count": 24,
   "metadata": {},
   "outputs": [
    {
     "name": "stdout",
     "output_type": "stream",
     "text": [
      "[1, 2, 199, 56]\n"
     ]
    }
   ],
   "source": [
    "ints = list(map(int, [1.5,2.4,199.7,56.0]))\n",
    "print(ints)"
   ]
  },
  {
   "cell_type": "code",
   "execution_count": 25,
   "metadata": {},
   "outputs": [],
   "source": [
    "password_lengths = list(map(len, passwords))\n",
    "avg_password_length = sum(password_lengths) / len(password_lengths)"
   ]
  },
  {
   "cell_type": "markdown",
   "metadata": {},
   "source": [
    "## filter(), takes a func argument and an ls argument, returns a list of all of the elements in ls for which func evaluates to True. Like map(), we need to cast the result of a filter() to a list using the list() function."
   ]
  },
  {
   "cell_type": "markdown",
   "metadata": {},
   "source": [
    "palindrome_passwords = list(filter(lambda a: a == a[::-1], passwords))\n",
    "palindrome_passwords"
   ]
  },
  {
   "cell_type": "code",
   "execution_count": 26,
   "metadata": {},
   "outputs": [],
   "source": [
    "weak_passwords = [password for password in passwords if len(password) < 6]\n",
    "medium_passwords = list(filter(lambda x: 6 <= len(x) <= 10, passwords))\n",
    "strong_passwords = list(filter(lambda x: len(x) > 10, passwords))"
   ]
  },
  {
   "cell_type": "markdown",
   "metadata": {},
   "source": [
    "# Part 1: Introduction to Computer Architecture\n",
    "\n",
    "## Take input; Produce output; Store data; Perform computation\n",
    "\n",
    "## There are two main types of data storage: Memory, usually called random-access memory, or RAM, other type memory is disk storage. Data usually exists on disk storage as files, and is much slower to access than RAM.\n",
    "\n",
    "****\n",
    "## sys.getsizeof()"
   ]
  },
  {
   "cell_type": "code",
   "execution_count": 27,
   "metadata": {},
   "outputs": [
    {
     "data": {
      "text/plain": [
       "140377818075856"
      ]
     },
     "execution_count": 27,
     "metadata": {},
     "output_type": "execute_result"
    }
   ],
   "source": [
    "id('H') ## Memory address"
   ]
  },
  {
   "cell_type": "code",
   "execution_count": 28,
   "metadata": {},
   "outputs": [
    {
     "name": "stdout",
     "output_type": "stream",
     "text": [
      "0\n",
      "3\n"
     ]
    }
   ],
   "source": [
    "import sys\n",
    "my_int = 200\n",
    "size_of_my_int = sys.getsizeof(my_int)\n",
    "print(sys.getsizeof(20) - sys.getsizeof(200000))\n",
    "\n",
    "print(sys.getsizeof(\"Hello\") - sys.getsizeof(\"Hi\"))"
   ]
  },
  {
   "cell_type": "markdown",
   "metadata": {},
   "source": [
    "## Integers require the same amount of memory, only when integers become very large that we need more memory to represent them. Allocated first\n",
    "\n",
    "## Some set amount of memory was automatically allocated for strings, each character in the string required exactly one byte of memory.\n",
    "\n",
    "## time.clock()"
   ]
  },
  {
   "cell_type": "code",
   "execution_count": 34,
   "metadata": {},
   "outputs": [
    {
     "data": {
      "text/plain": [
       "0.03533123500000013"
      ]
     },
     "execution_count": 34,
     "metadata": {},
     "output_type": "execute_result"
    }
   ],
   "source": [
    "import time\n",
    "time1 = time.process_time()\n",
    "[i ** 2 for i in range(100000)]\n",
    "time.process_time() - time1"
   ]
  },
  {
   "cell_type": "markdown",
   "metadata": {},
   "source": [
    "## Bits and Bytes\n",
    "* A **byte** of memory consists of eight **bits**. A **bit** has a value of either 1 or 0, which is represented in hardware by a capacitor that's either charged or uncharged (charged = 1, uncharged = 0).\n",
    "\n",
    "* Because there are 8 bits in a byte and two possible values for each bit, we have $2^8$, or 256, possible values for every byte.\n",
    "\n",
    "***\n",
    "Binary is a number system where every digit has a value of either 0 or 1. Some programmers refer to it as a base-2 number system. We use a base-10 number system on a daily basis. That means that each digit corresponds to a power of 10. The rightmost digit is multiplied by $10^0$, the next digit by $10^1$, and so on to achieve each number's value.\n",
    "***\n",
    "## Central processing unit(CPU\n",
    "* When we execute a **program**, the computer reads it from disk into memory. The program is stored in memory as a sequence of **machine instructions**, which are the primitive operations the CPU understands. The CPU reads through this program like a book, keeping a sort of \"finger\" on every \"word.\" We call the finger the **program counter**, and at any given time it points to the next **instruction** the CPU should execute. An instruction indicates the fundamental operation that the CPU should perform at a specific step in the program.\n",
    " \n",
    "## A processing unit that executes one instruction at a time is called a core. A multi-core processor can execute more than one set of instructions at a time."
   ]
  },
  {
   "cell_type": "markdown",
   "metadata": {},
   "source": [
    "# Part 5: Parallel Processing\n",
    "\n",
    "## A multi-core CPU has the ability to tun multiple instructions simultaneously. The desire to take advantage of modern, multi-core CPUs has given rise to a technique called parrel processing."
   ]
  },
  {
   "cell_type": "code",
   "execution_count": 35,
   "metadata": {},
   "outputs": [],
   "source": [
    "class Counter():\n",
    "    def __init__(self):\n",
    "        self.count = 0\n",
    "    def increment(self):\n",
    "        self.count += 1\n",
    "    def get_count(self):\n",
    "        return self.count\n",
    "    \n",
    "def count_up_100000(counter):\n",
    "    for i in range(100000):\n",
    "        counter.increment()"
   ]
  },
  {
   "cell_type": "code",
   "execution_count": 37,
   "metadata": {},
   "outputs": [],
   "source": [
    "counter = Counter()\n",
    "initial_count = counter.get_count()"
   ]
  },
  {
   "cell_type": "code",
   "execution_count": 38,
   "metadata": {},
   "outputs": [],
   "source": [
    "count_up_100000(counter)\n",
    "final_count = counter.get_count()"
   ]
  },
  {
   "cell_type": "code",
   "execution_count": 39,
   "metadata": {},
   "outputs": [
    {
     "data": {
      "text/plain": [
       "100000"
      ]
     },
     "execution_count": 39,
     "metadata": {},
     "output_type": "execute_result"
    }
   ],
   "source": [
    "final_count"
   ]
  },
  {
   "cell_type": "markdown",
   "metadata": {},
   "source": [
    "## multithreading\n",
    "* A **thread** is one path of execution in  a program. We typically have one \"main thread\" that we think of as our single process program. We can also create new threads, and run them concurrently with the main thread.\n",
    "\n",
    "## threading module. threading.Thread() to create an instance of the Thread class, which execute a given function as a separate process."
   ]
  },
  {
   "cell_type": "code",
   "execution_count": 41,
   "metadata": {},
   "outputs": [],
   "source": [
    "import threading\n",
    "thread = threading.Thread(target = count_up_100000, args = [counter])\n",
    "thread.start()\n",
    "thread.join()"
   ]
  },
  {
   "cell_type": "markdown",
   "metadata": {},
   "source": [
    "## Waiting for a condition like the termination of a thread is called blocking."
   ]
  },
  {
   "cell_type": "code",
   "execution_count": 42,
   "metadata": {},
   "outputs": [
    {
     "name": "stdout",
     "output_type": "stream",
     "text": [
      "100000\n"
     ]
    }
   ],
   "source": [
    "counter = Counter()\n",
    "counter_thread = threading.Thread(target=count_up_100000, args = [counter])\n",
    "counter_thread.start()\n",
    "counter_thread.join()\n",
    "\n",
    "after_join = counter.get_count()\n",
    "print(after_join)"
   ]
  },
  {
   "cell_type": "markdown",
   "metadata": {},
   "source": [
    "* In programming, we say that a program is **deterministic** if we can precisely predict its output for a particular input. Most single-threaded operations are deterministic because we can walk through the code for any input step by step, and predict the output.\n",
    "* When we can't reliably predict the outcome of running a piece of code, we call that the code **nondeterministic**."
   ]
  },
  {
   "cell_type": "code",
   "execution_count": 43,
   "metadata": {},
   "outputs": [],
   "source": [
    "def conduct_trial():\n",
    "    counter = Counter()\n",
    "    count_thread = threading.Thread(target=count_up_100000, args=[counter])\n",
    "    count_thread.start()\n",
    "    middle_count = counter.get_count()\n",
    "    count_thread.join()\n",
    "    return middle_count"
   ]
  },
  {
   "cell_type": "code",
   "execution_count": 44,
   "metadata": {},
   "outputs": [
    {
     "name": "stdout",
     "output_type": "stream",
     "text": [
      "47404 27322 24172\n"
     ]
    }
   ],
   "source": [
    "trial1 = conduct_trial()\n",
    "trial2 = conduct_trial()\n",
    "trial3 = conduct_trial()\n",
    "print(trial1, trial2, trial3)"
   ]
  },
  {
   "cell_type": "markdown",
   "metadata": {},
   "source": [
    "## threading.Lock. \n",
    "* A **lock** is a way to conditionally block the execution of some threads. At any given time, we can think of a lock as being either **available** or **acquired**. A thread can acquire an available lock, but if a thread tries to acquire an acquired lock (that another thread is using), it will be blocked unitl that lock becomes available."
   ]
  },
  {
   "cell_type": "code",
   "execution_count": 45,
   "metadata": {},
   "outputs": [],
   "source": [
    "def count_up_100000(counter, lock):\n",
    "    for i in range(10000):\n",
    "        lock.acquire()\n",
    "        for i in range(10):\n",
    "            counter.increment()\n",
    "        lock.release()\n",
    "            \n",
    "def conduct_trial():\n",
    "    counter = Counter()\n",
    "    lock = threading.Lock()\n",
    "    count_thread = threading.Thread(target=count_up_100000, args = [counter, lock])\n",
    "    count_thread.start()\n",
    "    lock.acquire()\n",
    "    intermediate_value = counter.get_count()\n",
    "    lock.release()\n",
    "    count_thread.join()\n",
    "    return intermediate_value\n"
   ]
  },
  {
   "cell_type": "code",
   "execution_count": 46,
   "metadata": {},
   "outputs": [
    {
     "name": "stdout",
     "output_type": "stream",
     "text": [
      "46700\n",
      "44480\n",
      "25180\n"
     ]
    }
   ],
   "source": [
    "trial1 = conduct_trial()\n",
    "print(trial1)\n",
    "trial2 = conduct_trial()\n",
    "print(trial2)\n",
    "trial3 = conduct_trial()\n",
    "print(trial3)"
   ]
  },
  {
   "cell_type": "code",
   "execution_count": 48,
   "metadata": {},
   "outputs": [
    {
     "name": "stdout",
     "output_type": "stream",
     "text": [
      "200000\n"
     ]
    }
   ],
   "source": [
    "def count_up_100000(counter):\n",
    "    for i in range(100000):\n",
    "        counter.increment()\n",
    "        \n",
    "counter = Counter()\n",
    "count_up_100000(counter)\n",
    "count_up_100000(counter)\n",
    "final_count = counter.get_count()\n",
    "print(final_count)\n",
    "\n",
    "## Single thread to implement the solution, outcome shouldbe **deterministic**."
   ]
  },
  {
   "cell_type": "markdown",
   "metadata": {},
   "source": [
    "## multi-thread implementation"
   ]
  },
  {
   "cell_type": "code",
   "execution_count": 49,
   "metadata": {},
   "outputs": [],
   "source": [
    "def count_up_100000(counter):\n",
    "    for i in range(100000):\n",
    "        counter.increment()\n",
    "        \n",
    "def conduct_trial():\n",
    "    counter = Counter()\n",
    "    count_thread1 = threading.Thread(target=count_up_100000, args = [counter])\n",
    "    count_thread2 = threading.Thread(target = count_up_100000, args = [counter])\n",
    "    \n",
    "    count_thread1.start()\n",
    "    count_thread2.start()\n",
    "    count_thread1.join()\n",
    "    count_thread2.join()\n",
    "    \n",
    "    final_count = counter.get_count()\n",
    "    return final_count"
   ]
  },
  {
   "cell_type": "code",
   "execution_count": 50,
   "metadata": {},
   "outputs": [
    {
     "name": "stdout",
     "output_type": "stream",
     "text": [
      "117715 200000 200000\n"
     ]
    }
   ],
   "source": [
    "trial1 = conduct_trial()\n",
    "trial2 = conduct_trial()\n",
    "trial3 = conduct_trial()\n",
    "print(trial1, trial2, trial3)"
   ]
  },
  {
   "cell_type": "markdown",
   "metadata": {},
   "source": [
    "## atomic operation\n",
    "* An **atomic** operation is an operation that finishes executing before any other operation can occur, regardless of multithreading.\n",
    "\n",
    "* We can use locks to imitate atomicity."
   ]
  },
  {
   "cell_type": "code",
   "execution_count": 57,
   "metadata": {},
   "outputs": [],
   "source": [
    "import threading\n",
    "class Counter():\n",
    "    def __init__(self):\n",
    "        self.count = 0\n",
    "        self.lock = threading.Lock()\n",
    "    def increment(self):\n",
    "        self.lock.acquire()\n",
    "        old_count = self.count\n",
    "        self.count = old_count + 1\n",
    "        self.lock.release()\n",
    "    def get_count(self):\n",
    "        return self.count\n",
    "        \n",
    "def count_up_100000(counter):\n",
    "    for i in range(100000):\n",
    "        counter.increment()\n",
    "        \n",
    "def conduct_trial():\n",
    "    counter = Counter()\n",
    "    count_thread1 = threading.Thread(target=count_up_100000, args = [counter])\n",
    "    count_thread2 = threading.Thread(target = count_up_100000, args = [counter])\n",
    "    \n",
    "    count_thread1.start()\n",
    "    count_thread2.start()\n",
    "    count_thread1.join()\n",
    "    count_thread2.join()\n",
    "    \n",
    "    final_count = counter.get_count()\n",
    "    return final_count"
   ]
  },
  {
   "cell_type": "code",
   "execution_count": 58,
   "metadata": {},
   "outputs": [
    {
     "name": "stdout",
     "output_type": "stream",
     "text": [
      "200000 200000 200000\n"
     ]
    }
   ],
   "source": [
    "trial1 = conduct_trial()\n",
    "trial2 = conduct_trial()\n",
    "trial3 = conduct_trial()\n",
    "print(trial1, trial2, trial3)"
   ]
  },
  {
   "cell_type": "code",
   "execution_count": null,
   "metadata": {},
   "outputs": [],
   "source": []
  }
 ],
 "metadata": {
  "kernelspec": {
   "display_name": "Python 3",
   "language": "python",
   "name": "python3"
  },
  "language_info": {
   "codemirror_mode": {
    "name": "ipython",
    "version": 3
   },
   "file_extension": ".py",
   "mimetype": "text/x-python",
   "name": "python",
   "nbconvert_exporter": "python",
   "pygments_lexer": "ipython3",
   "version": "3.7.0"
  }
 },
 "nbformat": 4,
 "nbformat_minor": 4
}
