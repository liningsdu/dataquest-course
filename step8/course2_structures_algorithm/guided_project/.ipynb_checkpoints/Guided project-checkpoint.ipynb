{
 "cells": [
  {
   "cell_type": "code",
   "execution_count": 1,
   "metadata": {},
   "outputs": [
    {
     "name": "stdout",
     "output_type": "stream",
     "text": [
      "Event Id | Investigation Type | Accident Number | Event Date | Location | Country | Latitude | Longitude | Airport Code | Airport Name | Injury Severity | Aircraft Damage | Aircraft Category | Registration Number | Make | Model | Amateur Built | Number of Engines | Engine Type | FAR Description | Schedule | Purpose of Flight | Air Carrier | Total Fatal Injuries | Total Serious Injuries | Total Minor Injuries | Total Uninjured | Weather Condition | Broad Phase of Flight | Report Status | Publication Date | \r",
      "\r\n",
      "20150908X74637 | Accident | CEN15LA402 | 09/08/2015 | Freeport, IL | United States | 42.246111 | -89.581945 | KFEP | albertus Airport | Non-Fatal | Substantial | Unknown | N24TL | CLARKE REGINALD W | DRAGONFLY MK |  |  |  | Part 91: General Aviation |  | Personal |  |  | 1 |  |  | VMC | TAKEOFF | Preliminary | 09/09/2015 | \r",
      "\r\n",
      "20150906X32704 | Accident | ERA15LA339 | 09/05/2015 | Laconia, NH | United States | 43.606389 | -71.452778 | LCI | Laconia Municipal Airport | Fatal(1) | Substantial | Weight-Shift | N2264X | EVOLUTION AIRCRAFT INC | REVO | No | 1 | Reciprocating | Part 91: General Aviation |  | Personal |  | 1 |  |  |  | VMC | MANEUVERING | Preliminary | 09/10/2015 | \r",
      "\r\n"
     ]
    }
   ],
   "source": [
    "!head -n 3 AviationData.txt"
   ]
  },
  {
   "cell_type": "code",
   "execution_count": 3,
   "metadata": {},
   "outputs": [],
   "source": [
    "with open('AviationData.txt') as f:\n",
    "    aviation_data = f.readlines()\n",
    "aviation_list = [row.split('|') for row in aviation_data]"
   ]
  },
  {
   "cell_type": "code",
   "execution_count": 8,
   "metadata": {},
   "outputs": [
    {
     "name": "stdout",
     "output_type": "stream",
     "text": [
      "['20150901X92332', 'Accident', 'CEN15LA392', '08/31/2015', 'Houston, TX', 'United States', '29.809444', '-95.668889', 'IWS', 'WEST HOUSTON', 'Non-Fatal', 'Substantial', 'Airplane', 'N452CS', 'CESSNA', 'T240', 'No', '', '', 'Part 91: General Aviation', '', 'Instructional', '', '', '', '', '2', 'VMC', 'LANDING', 'Preliminary', '09/04/2015', '']\n"
     ]
    }
   ],
   "source": [
    "for row in aviation_list:\n",
    "    for i in range(len(row)):\n",
    "        row[i] = row[i].strip()\n",
    "print(aviation_list[10])"
   ]
  },
  {
   "cell_type": "code",
   "execution_count": 10,
   "metadata": {},
   "outputs": [
    {
     "name": "stdout",
     "output_type": "stream",
     "text": [
      "['20001218X45447', 'Accident', 'LAX94LA336', '07/19/1962', 'BRIDGEPORT, CA', 'United States', '', '', '', '', 'Fatal(4)', 'Destroyed', '', 'N5069P', 'PIPER', 'PA24-180', 'No', '1', 'Reciprocating', '', '', 'Personal', '', '4', '0', '0', '0', 'UNK', 'UNKNOWN', 'Probable Cause', '09/19/1996', '']\n"
     ]
    }
   ],
   "source": [
    "code_lax = None\n",
    "for row in aviation_list:\n",
    "    if 'LAX94LA336' in row:\n",
    "        code_lax = row\n",
    "print(code_lax)\n",
    "\n",
    "## Linear"
   ]
  },
  {
   "cell_type": "code",
   "execution_count": 21,
   "metadata": {},
   "outputs": [],
   "source": [
    "import pandas as pd\n",
    "pd.options.display.max_columns = 100\n",
    "df = pd.read_csv('AviationData.txt', sep = '|')\n",
    "df = df.apply(lambda x: x.str.strip())"
   ]
  },
  {
   "cell_type": "code",
   "execution_count": 22,
   "metadata": {},
   "outputs": [],
   "source": [
    "df.columns = [column.strip() for column in df.columns]"
   ]
  },
  {
   "cell_type": "code",
   "execution_count": 23,
   "metadata": {},
   "outputs": [
    {
     "data": {
      "text/plain": [
       "Accident    74227\n",
       "Incident     3054\n",
       "Name: Investigation Type, dtype: int64"
      ]
     },
     "execution_count": 23,
     "metadata": {},
     "output_type": "execute_result"
    }
   ],
   "source": [
    "df['Investigation Type'].value_counts(dropna = False)"
   ]
  },
  {
   "cell_type": "code",
   "execution_count": 37,
   "metadata": {},
   "outputs": [
    {
     "data": {
      "text/html": [
       "<div>\n",
       "<style scoped>\n",
       "    .dataframe tbody tr th:only-of-type {\n",
       "        vertical-align: middle;\n",
       "    }\n",
       "\n",
       "    .dataframe tbody tr th {\n",
       "        vertical-align: top;\n",
       "    }\n",
       "\n",
       "    .dataframe thead th {\n",
       "        text-align: right;\n",
       "    }\n",
       "</style>\n",
       "<table border=\"1\" class=\"dataframe\">\n",
       "  <thead>\n",
       "    <tr style=\"text-align: right;\">\n",
       "      <th></th>\n",
       "      <th>Event Id</th>\n",
       "      <th>Investigation Type</th>\n",
       "      <th>Accident Number</th>\n",
       "      <th>Event Date</th>\n",
       "      <th>Location</th>\n",
       "      <th>Country</th>\n",
       "      <th>Latitude</th>\n",
       "      <th>Longitude</th>\n",
       "      <th>Airport Code</th>\n",
       "      <th>Airport Name</th>\n",
       "      <th>Injury Severity</th>\n",
       "      <th>Aircraft Damage</th>\n",
       "      <th>Aircraft Category</th>\n",
       "      <th>Registration Number</th>\n",
       "      <th>Make</th>\n",
       "      <th>Model</th>\n",
       "      <th>Amateur Built</th>\n",
       "      <th>Number of Engines</th>\n",
       "      <th>Engine Type</th>\n",
       "      <th>FAR Description</th>\n",
       "      <th>Schedule</th>\n",
       "      <th>Purpose of Flight</th>\n",
       "      <th>Air Carrier</th>\n",
       "      <th>Total Fatal Injuries</th>\n",
       "      <th>Total Serious Injuries</th>\n",
       "      <th>Total Minor Injuries</th>\n",
       "      <th>Total Uninjured</th>\n",
       "      <th>Weather Condition</th>\n",
       "      <th>Broad Phase of Flight</th>\n",
       "      <th>Report Status</th>\n",
       "      <th>Publication Date</th>\n",
       "      <th></th>\n",
       "    </tr>\n",
       "  </thead>\n",
       "  <tbody>\n",
       "    <tr>\n",
       "      <th>0</th>\n",
       "      <td>20150908X74637</td>\n",
       "      <td>Accident</td>\n",
       "      <td>CEN15LA402</td>\n",
       "      <td>09/08/2015</td>\n",
       "      <td>Freeport, IL</td>\n",
       "      <td>United States</td>\n",
       "      <td>42.246111</td>\n",
       "      <td>-89.581945</td>\n",
       "      <td>KFEP</td>\n",
       "      <td>albertus Airport</td>\n",
       "      <td>Non-Fatal</td>\n",
       "      <td>Substantial</td>\n",
       "      <td>Unknown</td>\n",
       "      <td>N24TL</td>\n",
       "      <td>CLARKE REGINALD W</td>\n",
       "      <td>DRAGONFLY MK</td>\n",
       "      <td></td>\n",
       "      <td></td>\n",
       "      <td></td>\n",
       "      <td>Part 91: General Aviation</td>\n",
       "      <td></td>\n",
       "      <td>Personal</td>\n",
       "      <td></td>\n",
       "      <td></td>\n",
       "      <td>1</td>\n",
       "      <td></td>\n",
       "      <td></td>\n",
       "      <td>VMC</td>\n",
       "      <td>TAKEOFF</td>\n",
       "      <td>Preliminary</td>\n",
       "      <td>09/09/2015</td>\n",
       "      <td></td>\n",
       "    </tr>\n",
       "    <tr>\n",
       "      <th>1</th>\n",
       "      <td>20150906X32704</td>\n",
       "      <td>Accident</td>\n",
       "      <td>ERA15LA339</td>\n",
       "      <td>09/05/2015</td>\n",
       "      <td>Laconia, NH</td>\n",
       "      <td>United States</td>\n",
       "      <td>43.606389</td>\n",
       "      <td>-71.452778</td>\n",
       "      <td>LCI</td>\n",
       "      <td>Laconia Municipal Airport</td>\n",
       "      <td>Fatal(1)</td>\n",
       "      <td>Substantial</td>\n",
       "      <td>Weight-Shift</td>\n",
       "      <td>N2264X</td>\n",
       "      <td>EVOLUTION AIRCRAFT INC</td>\n",
       "      <td>REVO</td>\n",
       "      <td>No</td>\n",
       "      <td>1</td>\n",
       "      <td>Reciprocating</td>\n",
       "      <td>Part 91: General Aviation</td>\n",
       "      <td></td>\n",
       "      <td>Personal</td>\n",
       "      <td></td>\n",
       "      <td>1</td>\n",
       "      <td></td>\n",
       "      <td></td>\n",
       "      <td></td>\n",
       "      <td>VMC</td>\n",
       "      <td>MANEUVERING</td>\n",
       "      <td>Preliminary</td>\n",
       "      <td>09/10/2015</td>\n",
       "      <td></td>\n",
       "    </tr>\n",
       "  </tbody>\n",
       "</table>\n",
       "</div>"
      ],
      "text/plain": [
       "         Event Id Investigation Type Accident Number  Event Date  \\\n",
       "0  20150908X74637           Accident      CEN15LA402  09/08/2015   \n",
       "1  20150906X32704           Accident      ERA15LA339  09/05/2015   \n",
       "\n",
       "       Location        Country   Latitude   Longitude Airport Code  \\\n",
       "0  Freeport, IL  United States  42.246111  -89.581945         KFEP   \n",
       "1   Laconia, NH  United States  43.606389  -71.452778          LCI   \n",
       "\n",
       "                Airport Name Injury Severity Aircraft Damage  \\\n",
       "0           albertus Airport       Non-Fatal     Substantial   \n",
       "1  Laconia Municipal Airport        Fatal(1)     Substantial   \n",
       "\n",
       "  Aircraft Category Registration Number                    Make         Model  \\\n",
       "0           Unknown               N24TL       CLARKE REGINALD W  DRAGONFLY MK   \n",
       "1      Weight-Shift              N2264X  EVOLUTION AIRCRAFT INC          REVO   \n",
       "\n",
       "  Amateur Built Number of Engines    Engine Type            FAR Description  \\\n",
       "0                                                 Part 91: General Aviation   \n",
       "1            No                 1  Reciprocating  Part 91: General Aviation   \n",
       "\n",
       "  Schedule Purpose of Flight Air Carrier Total Fatal Injuries  \\\n",
       "0                   Personal                                    \n",
       "1                   Personal                                1   \n",
       "\n",
       "  Total Serious Injuries Total Minor Injuries Total Uninjured  \\\n",
       "0                      1                                        \n",
       "1                                                               \n",
       "\n",
       "  Weather Condition Broad Phase of Flight Report Status Publication Date    \n",
       "0               VMC               TAKEOFF   Preliminary       09/09/2015    \n",
       "1               VMC           MANEUVERING   Preliminary       09/10/2015    "
      ]
     },
     "execution_count": 37,
     "metadata": {},
     "output_type": "execute_result"
    }
   ],
   "source": [
    "df.head(2)"
   ]
  },
  {
   "cell_type": "markdown",
   "metadata": {},
   "source": [
    "## a list of dictionaries"
   ]
  },
  {
   "cell_type": "code",
   "execution_count": 46,
   "metadata": {},
   "outputs": [],
   "source": [
    "aviation_dict_list = []\n",
    "header = aviation_data[0].split(' | ')\n",
    "for row in aviation_data[1:]:\n",
    "    row_list = row.split(' | ')\n",
    "    row_dict = {}\n",
    "    for i in range(len(header) - 1):\n",
    "        row_dict[header[i]] = row_list[i]\n",
    "    aviation_dict_list.append(row_dict)"
   ]
  },
  {
   "cell_type": "code",
   "execution_count": 59,
   "metadata": {},
   "outputs": [
    {
     "data": {
      "text/plain": [
       "[{'Event Id': '20001206X02089',\n",
       "  'Investigation Type': 'Accident',\n",
       "  'Accident Number': 'LAX94LA335',\n",
       "  'Event Date': '08/20/1994',\n",
       "  'Location': 'SIMI VALLEY, CA',\n",
       "  'Country': 'United States',\n",
       "  'Latitude': '',\n",
       "  'Longitude': '',\n",
       "  'Airport Code': '',\n",
       "  'Airport Name': '',\n",
       "  'Injury Severity': 'Non-Fatal',\n",
       "  'Aircraft Damage': 'Substantial',\n",
       "  'Aircraft Category': '',\n",
       "  'Registration Number': 'N739VY',\n",
       "  'Make': 'CESSNA',\n",
       "  'Model': '172N',\n",
       "  'Amateur Built': 'No',\n",
       "  'Number of Engines': '1',\n",
       "  'Engine Type': 'Reciprocating',\n",
       "  'FAR Description': '',\n",
       "  'Schedule': '',\n",
       "  'Purpose of Flight': 'Instructional',\n",
       "  'Air Carrier': '',\n",
       "  'Total Fatal Injuries': '0',\n",
       "  'Total Serious Injuries': '1',\n",
       "  'Total Minor Injuries': '1',\n",
       "  'Total Uninjured': '1',\n",
       "  'Weather Condition': 'VMC',\n",
       "  'Broad Phase of Flight': 'CRUISE',\n",
       "  'Report Status': 'Probable Cause',\n",
       "  'Publication Date': '07/24/1995'}]"
      ]
     },
     "execution_count": 59,
     "metadata": {},
     "output_type": "execute_result"
    }
   ],
   "source": [
    "lax_dict = []\n",
    "for item in aviation_dict_list:\n",
    "    for key in item.keys():\n",
    "        if item[key] == 'LAX94LA335':\n",
    "            lax_dict.append(item)\n",
    "            break\n",
    "    if len(lax_dict) == 1:\n",
    "        break\n",
    "lax_dict"
   ]
  },
  {
   "cell_type": "markdown",
   "metadata": {},
   "source": [
    "## How many accidents occured in each U.S. state"
   ]
  },
  {
   "cell_type": "code",
   "execution_count": 73,
   "metadata": {},
   "outputs": [],
   "source": [
    "state_accidents = {}\n",
    "for row in aviation_dict_list:\n",
    "    if row['Country'] == 'United States':\n",
    "        state = row['Location'].split(', ')[-1]\n",
    "        if state in state_accidents:\n",
    "            state_accidents[state] += 1\n",
    "        else:\n",
    "            state_accidents[state] = 1\n"
   ]
  },
  {
   "cell_type": "code",
   "execution_count": null,
   "metadata": {},
   "outputs": [],
   "source": []
  },
  {
   "cell_type": "code",
   "execution_count": 71,
   "metadata": {},
   "outputs": [
    {
     "data": {
      "text/plain": [
       "CA    8030\n",
       "FL    5118\n",
       "TX    5112\n",
       "AK    5049\n",
       "AZ    2502\n",
       "CO    2460\n",
       "WA    2354\n",
       "IL    1874\n",
       "MI    1863\n",
       "GA    1747\n",
       "NY    1716\n",
       "OH    1616\n",
       "PA    1573\n",
       "OR    1559\n",
       "NC    1433\n",
       "MO    1404\n",
       "AR    1389\n",
       "WI    1389\n",
       "MN    1317\n",
       "ID    1228\n",
       "NM    1219\n",
       "IN    1169\n",
       "UT    1162\n",
       "OK    1110\n",
       "VA    1108\n",
       "LA    1073\n",
       "NJ    1068\n",
       "NV    1054\n",
       "AL    1032\n",
       "KS     981\n",
       "TN     951\n",
       "MT     936\n",
       "MA     896\n",
       "SC     850\n",
       "MS     746\n",
       "IA     731\n",
       "MD     720\n",
       "WY     663\n",
       "NE     642\n",
       "KY     577\n",
       "ND     514\n",
       "ME     458\n",
       "CT     447\n",
       "HI     434\n",
       "SD     393\n",
       "WV     362\n",
       "NH     326\n",
       "VT     213\n",
       "RI     147\n",
       "DE     100\n",
       "Name: Location, dtype: int64"
      ]
     },
     "execution_count": 71,
     "metadata": {},
     "output_type": "execute_result"
    }
   ],
   "source": [
    "df[df['Country'] == 'United States']['Location'].str.split(', ').str[-1].value_counts()[:50]"
   ]
  },
  {
   "cell_type": "code",
   "execution_count": null,
   "metadata": {},
   "outputs": [],
   "source": []
  }
 ],
 "metadata": {
  "kernelspec": {
   "display_name": "Python 3",
   "language": "python",
   "name": "python3"
  },
  "language_info": {
   "codemirror_mode": {
    "name": "ipython",
    "version": 3
   },
   "file_extension": ".py",
   "mimetype": "text/x-python",
   "name": "python",
   "nbconvert_exporter": "python",
   "pygments_lexer": "ipython3",
   "version": "3.7.0"
  }
 },
 "nbformat": 4,
 "nbformat_minor": 4
}
