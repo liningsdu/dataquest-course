{
 "cells": [
  {
   "cell_type": "markdown",
   "metadata": {},
   "source": [
    "#  Part 4: Data Structure"
   ]
  },
  {
   "cell_type": "markdown",
   "metadata": {},
   "source": [
    "* The most basic data strucure is an **array**. An array is a list that contains items.\n",
    "* **Dynamic arrays** are a flavor of array that we can expand to fit as many elements as we'd like.\n",
    "\n",
    "## In data science, we call 1D arrays vectors and 2D arrays matrices.\n",
    "\n",
    "## O(m * n) for the time complexity of a 2D array traversal.\n",
    "\n",
    "## A hash table is a useful data structure that stores data based on key-value pairs.\n",
    "\n",
    "Behind the scenes, a hash table is just a large array. Recall that accessing the elements in an array by index is very quick. A hash table is a clever construct that takes advantage of this property by converting keys to indexes using a hash function. A hash function accepts a key as input and converts it to an integer index. This way, we can find the appropriate index for any key.\n",
    "\n",
    "## By using hash table, we're increasing time efficiency at the expense of space efficiency.\n",
    "\n",
    "## An array is a list that can contain items, which occupy a specific slot. Arrays cannot expand beyond their initial size.\n",
    "\n",
    "## Dynamic arrays are  a type of array that we can expand to fit as many elements as we'd like"
   ]
  },
  {
   "cell_type": "code",
   "execution_count": 1,
   "metadata": {},
   "outputs": [
    {
     "data": {
      "text/plain": [
       "<method-wrapper '__hash__' of str object at 0x7f1fb38b6a08>"
      ]
     },
     "execution_count": 1,
     "metadata": {},
     "output_type": "execute_result"
    }
   ],
   "source": [
    "'Tok'.__hash__"
   ]
  },
  {
   "cell_type": "markdown",
   "metadata": {},
   "source": [
    "# Part 5: Recursion and Advanced Data Structures\n",
    "\n",
    "***\n",
    "* **Recursion** is a method of repeating code without using loops. It usually takes the form of a function that calls itself during its execution."
   ]
  },
  {
   "cell_type": "code",
   "execution_count": 8,
   "metadata": {},
   "outputs": [],
   "source": [
    "def factorial(n):\n",
    "    if n == 0:\n",
    "        return 1\n",
    "    return n * factorial(n-1)"
   ]
  },
  {
   "cell_type": "code",
   "execution_count": 9,
   "metadata": {},
   "outputs": [
    {
     "data": {
      "text/plain": [
       "120"
      ]
     },
     "execution_count": 9,
     "metadata": {},
     "output_type": "execute_result"
    }
   ],
   "source": [
    "factorial(5)"
   ]
  },
  {
   "cell_type": "code",
   "execution_count": 14,
   "metadata": {},
   "outputs": [],
   "source": [
    "def fib(n):\n",
    "    if n == 0 or n == 1:\n",
    "        return 1\n",
    "    return fib(n-1) + fib(n-2)"
   ]
  },
  {
   "cell_type": "code",
   "execution_count": 15,
   "metadata": {},
   "outputs": [
    {
     "data": {
      "text/plain": [
       "3"
      ]
     },
     "execution_count": 15,
     "metadata": {},
     "output_type": "execute_result"
    }
   ],
   "source": [
    "fib(3)"
   ]
  },
  {
   "cell_type": "markdown",
   "metadata": {},
   "source": [
    "## Linked list\n",
    "\n",
    "## Linked lists are a recursive data structure. Each node contains the data, the then points to another linked list (the next node). The base case is the empty linked list, which represented withe the Python None value."
   ]
  },
  {
   "cell_type": "code",
   "execution_count": 18,
   "metadata": {},
   "outputs": [],
   "source": [
    "## Getting the length of the linked list using iteration\n",
    "def length_iterative(ls):\n",
    "    count = 0\n",
    "    while not ls.is_empty():\n",
    "        count += 1\n",
    "        ls = ls.tail()\n",
    "    return count\n",
    "\n",
    "def length_recursive(ls):\n",
    "    if ls.is_empty():\n",
    "        return 0\n",
    "    return 1 + length_recursive(ls.tail())\n",
    "\n",
    "#ls.tail() returns the rest of the linked list except head node"
   ]
  },
  {
   "cell_type": "code",
   "execution_count": 19,
   "metadata": {},
   "outputs": [],
   "source": [
    "## Time complexity for operating linked list\n",
    "# Retrieving an item in the linked list by index\n",
    "retrieval_by_index = \"linear\"\n",
    "\n",
    "# Retrieving an item in the linked list by value\n",
    "retrieval_by_value = \"linear\"\n",
    "\n",
    "# Deleting an item from the linked list, with access to the item and \n",
    "#     the item before it\n",
    "deletion = \"constant\"\n",
    "\n",
    "# Inserting an item into the linked list, with access to the location\n",
    "#     where we are inserting\n",
    "insertion = \"constant\"\n",
    "\n",
    "# Calculating the length of a linked list using a loop\n",
    "length_iterative = \"linear\"\n",
    "\n",
    "# Calculating the length of a linked list using recursion\n",
    "length_recursive = \"linear\""
   ]
  },
  {
   "cell_type": "code",
   "execution_count": null,
   "metadata": {},
   "outputs": [],
   "source": []
  }
 ],
 "metadata": {
  "kernelspec": {
   "display_name": "Python 3",
   "language": "python",
   "name": "python3"
  },
  "language_info": {
   "codemirror_mode": {
    "name": "ipython",
    "version": 3
   },
   "file_extension": ".py",
   "mimetype": "text/x-python",
   "name": "python",
   "nbconvert_exporter": "python",
   "pygments_lexer": "ipython3",
   "version": "3.7.0"
  }
 },
 "nbformat": 4,
 "nbformat_minor": 4
}
