{
 "cells": [
  {
   "cell_type": "markdown",
   "metadata": {},
   "source": [
    "## Whenever we can't predict outcomes with certainty we're dealing with a random experiment.\n",
    "## A random experiment is any process for which we can't predict outcomes with certainty.\n",
    "\\begin{equation}\n",
    "\\text{Probability(coin lands heads up)} = 0.56\n",
    "\\end{equation}\n",
    "\\begin{equation}\n",
    "P(H) = 0.56\n",
    "\\end{equation}\n",
    "\n",
    "## For any event E (like a coin landing heads up), probability\n",
    "\\begin{equation}\n",
    "P(E) = \\frac{\\text{number of times event E happened}}{\\text{number of times we repeated the experiment}}\n",
    "\\end{equation}\n",
    "\n",
    "When we calculate the probability of an event by performing an experiment one or more times, we calculate the **experimental** - or **empirical probability** - of the event."
   ]
  },
  {
   "cell_type": "code",
   "execution_count": 1,
   "metadata": {},
   "outputs": [],
   "source": [
    "import pandas as pd\n",
    "import numpy as np\n",
    "import matplotlib.pyplot as plt\n",
    "%matplotlib inline"
   ]
  },
  {
   "cell_type": "code",
   "execution_count": 2,
   "metadata": {},
   "outputs": [
    {
     "data": {
      "text/plain": [
       "'HEAD'"
      ]
     },
     "execution_count": 2,
     "metadata": {},
     "output_type": "execute_result"
    }
   ],
   "source": [
    " np.random.seed(1)\n",
    "def coin_toss():\n",
    "    if np.random.randint(0,2) == 1:\n",
    "        return 'HEAD'\n",
    "    return 'TAIL'\n",
    "coin_toss()"
   ]
  },
  {
   "cell_type": "code",
   "execution_count": 3,
   "metadata": {},
   "outputs": [
    {
     "name": "stdout",
     "output_type": "stream",
     "text": [
      "1.0\n",
      "[0.4993494144730257, 0.49939951961569257, 0.4993495446812769, 0.4993996397838703, 0.4993496748374187, 0.4992997198879552, 0.49934980494148246, 0.4993998799759952, 0.49934993499349933, 0.4994]\n"
     ]
    }
   ],
   "source": [
    "np.random.seed(1)\n",
    "probabilities = []\n",
    "heads = 0\n",
    "for n in range(1,10001):\n",
    "    outcome = coin_toss()\n",
    "    if outcome == 'HEAD':\n",
    "        heads += 1\n",
    "    current_probability = heads / n\n",
    "    probabilities.append(current_probability)\n",
    "print(probabilities[0])\n",
    "print(probabilities[-10:])"
   ]
  },
  {
   "cell_type": "code",
   "execution_count": 4,
   "metadata": {},
   "outputs": [
    {
     "data": {
      "image/png": "[encoded data removed]",
      "text/plain": [
       "<Figure size 432x288 with 1 Axes>"
      ]
     },
     "metadata": {
      "needs_background": "light"
     },
     "output_type": "display_data"
    }
   ],
   "source": [
    "plt.plot(probabilities, label = 'P(H)')\n",
    "plt.title('P(H) Tends to Approach the True Value', fontsize = 16, y = 1.02)\n",
    "plt.ylabel('P(H)', fontsize = 14)\n",
    "plt.xlabel('Number of Coin Tosses', fontsize = 12)\n",
    "plt.axhline(0.5, color = 'Green', label = 'True P(H)')\n",
    "plt.legend()\n",
    "plt.show()"
   ]
  },
  {
   "cell_type": "markdown",
   "metadata": {},
   "source": [
    "## With assumption that outcomes of a random experiment have equal chances of occuring :\n",
    "\\begin{equation}\n",
    "P(E) = \\frac{1}{\\text{total number of possible outcomes}}\n",
    "\\end{equation}\n",
    "\n",
    "When we calculate the probability of an event under the assumption that the outcomes have equal chances of occuring, we say that we're calculating the **theoretical probability** of and event."
   ]
  },
  {
   "cell_type": "markdown",
   "metadata": {},
   "source": [
    "# Event vs. outcome\n",
    "* An outcome is any result that a random experiment may terminate in. Like all the possible outcomes of rolling a six-sided die are 1,2,3,4,5, and 6.\n",
    "* An event, has a richer meaning and can include more than one outcome (or even zero outcomes):\n",
    "   * the event that we'll get an odd number when we roll a six-sided die - this event includes the outcome 1,3,5\n",
    "   * The event that we'll get a number less than 5 but greater than 1, event includes outcomes 2,3,4\n",
    "   * The event that we'll get a number greater than 20, event doesn't include any of the possible outcomes\n",
    "   \n",
    "## We always assign probabilities to events, not outcomes, even if the event includes only one outcome. \n",
    "## Updated formula for theoretical probabilities:\n",
    "\\begin{equation}\n",
    "P(E) = \\frac{\\text{number of successful outcomes}}{\\text{total number of possible outcomes}}\n",
    "\\end{equation}\n",
    "***\n",
    "Example:\n",
    "\\begin{equation}\n",
    "P(\\text{odd number}) = \\frac{\\text{number of successful outcomes}}{\\text{total number of possible outcomes}} = \\frac{3}{6} = 0.5\n",
    "\\end{equation}"
   ]
  },
  {
   "cell_type": "code",
   "execution_count": 5,
   "metadata": {},
   "outputs": [
    {
     "data": {
      "text/plain": [
       "Counter({1: 3, 2: 3, 3: 3, 4: 1, 5: 1})"
      ]
     },
     "execution_count": 5,
     "metadata": {},
     "output_type": "execute_result"
    }
   ],
   "source": [
    "from collections import Counter\n",
    "Counter([1,2,3,4,5,1,1,2,2,3,3])"
   ]
  },
  {
   "cell_type": "markdown",
   "metadata": {},
   "source": [
    "# Probability Rules"
   ]
  },
  {
   "cell_type": "markdown",
   "metadata": {},
   "source": [
    "* A random experiment is any process for which we can't predict outcomes with certainty.\n",
    "* An outcome is a possible result of a random experiment.\n",
    "* An event can include more than one outcomes, or zero outcome.\n",
    "***\n",
    "* The outcomes of a random experiment are usually represented as a **set**. A set is a collection of distinct objects.\n",
    "* In probability theory, the set of all possible outcomes is called a **sample space**. \n",
    "* Sample space of a die roll:\n",
    "\\begin{equation}\n",
    "\\Omega = \\{1,2,3,4,5,6\\}\n",
    "\\end{equation}\n",
    "* Event of getting an even number\n",
    "\\begin{equation}\n",
    "E = \\{2,4,6\\}\n",
    "\\end{equation}\n",
    "## For event E (got even number)\n",
    "\\begin{equation}\n",
    "P(E) = P(\\{2,4,6\\}) = \\frac{\\text{number of successful outcomes}}{\\text{total number of possible outcomes}} = \\frac{3}{6} = 0.5\n",
    "\\end{equation}"
   ]
  },
  {
   "cell_type": "markdown",
   "metadata": {},
   "source": [
    "## If event A corresponds to an empty set, denote by the symol \\emptyset\n",
    "\\begin{equation}\n",
    "A = \\{\\} = \\emptyset\n",
    "\\end{equation}\n",
    "\\begin{equation}\n",
    "P(A) = P(\\emptyset) = \\frac{\\text{number of successful outcomes}}{\\text{total number of possible outcomes}} = \\frac{0}{36} = 0\n",
    "\\end{equation}\n",
    "## If event B is certain to happen and contains all the elements of the sample space \\Omega:\n",
    "\\begin{equation}\n",
    "P(B) = P(\\Omega) = \\frac{\\text{number of successful outcomes}}{\\text{total number of possible outcomes}} = \\frac{36}{36} = 1\n",
    "\\end{equation}\n",
    "***\n",
    "## 1. The probability of an impossible event is 0:\n",
    "\\begin{equation}\n",
    "P(\\emptyset) = 0\n",
    "\\end{equation}\n",
    "## 2. The probability of a certain event is 1:\n",
    "\\begin{equation}\n",
    "P(\\Omega) = 1\n",
    "\\end{equation}\n",
    "## 3. The probability of any evetn ranges between 0 and 1:\n",
    "\\begin{equation}\n",
    "0 \\leq P(Event) \\leq 1\n",
    "\\end{equation}\n",
    "***\n",
    "## Addition rule\n",
    "\\begin{equation}\n",
    "P(A or B) = P(A) + P(B)\n",
    "\\end{equation}\n",
    "\n",
    "## Venn diagram to visualize events\n",
    "## 1. Events that don't intersect are called mutually exclusive. If two events are mutually exclusive, it means they can't happen both at the same time.\n",
    "## 2. Events that intersect are called mutually non-exclusive. Mutually non-exclusive events can happen at the same time.\n",
    "\\begin{equation}\n",
    "P(\\text{A or B}) = P(A) + P(B) - P(\\text{A and B})\n",
    "\\end{equation}\n",
    "***\n",
    "\\begin{aligned}\n",
    "A &= {1,2,5} \\\\\n",
    "B &= {1,4,5,6} \\\\\n",
    "A &\\cup B = \\{1,2,4,5,6\\} \\\\\n",
    "A &\\cap B = \\{1,5\\} \\\\\n",
    "\\end{aligned}\n",
    "## Addition rule:\n",
    "\\begin{equation}\n",
    "P(A \\cup B) = P(A) + P(B) - P(A \\cap B)\n",
    "\\end{equation}\n",
    "## In set theory, the opposite of a set  is called its complement.\n",
    "\\begin{equation}\n",
    "P(E \\cup non\\text{-}E) = P(E) + P(non\\text{-}E) = 1\n",
    "\\end{equation}\n",
    "\\begin{aligned}\n",
    "B &= \\{2\\} \\\\\n",
    "B^C &= non\\text{-}B = \\{1,3,4,5,6\\} \\\\\n",
    "P(E \\cup E^C) &= P(E) + P(E^C) = 1\n",
    "\\end{aligned}\n",
    "***\n",
    "## Multiplication rule of probability\n",
    "\\begin{equation}\n",
    "P(E_1 \\cap E_2) = P(E_1) \\times P(E_2)\n",
    "\\end{equation}\n",
    "## Events that don't influence each other's probability are called independent events. The multiplication rule we learned only works for independent events.\n",
    "## When we replace the cards after drawing, sampling with replacement, when we don't put the cards back, we're sampling without replacement."
   ]
  },
  {
   "cell_type": "markdown",
   "metadata": {},
   "source": [
    "***\n",
    "# Permutations and Combinations\n",
    "* A certain arrangement where the order of the individual elements matters is called a **permutation**.\n",
    "\\begin{equation}\n",
    "\\text{Permutations} = n \\cdot (n-1) \\cdot (n-2) \\cdot \\ldots \\cdot 2 \\cdot 1 = n!\n",
    "\\end{equation}\n",
    "* n! is called a **factorial**"
   ]
  },
  {
   "cell_type": "code",
   "execution_count": 6,
   "metadata": {},
   "outputs": [],
   "source": [
    "def factorial(n):\n",
    "    total = 1\n",
    "    for i in range(1,n+1):\n",
    "        total *= i\n",
    "    return total"
   ]
  },
  {
   "cell_type": "markdown",
   "metadata": {},
   "source": [
    "* When we have a group of n objects, but we're taking only k objects, the number of permutations is:\n",
    "\\begin{equation}\n",
    "_nP_k = n \\cdot (n-1) \\cdot (n-2) \\cdot \\ldots \\cdot (n-k+1)\n",
    "\\end{equation}\n",
    "## To make calculations neater\n",
    "\\begin{equation}\n",
    "_nP_k = \\frac{n!}{(n-k)!}\n",
    "\\end{equation}"
   ]
  },
  {
   "cell_type": "code",
   "execution_count": 7,
   "metadata": {},
   "outputs": [],
   "source": [
    "def permutation(n, k):\n",
    "    return factorial(n) / factorial(n-k)"
   ]
  },
  {
   "cell_type": "markdown",
   "metadata": {},
   "source": [
    "* If the order of the elements in an arrangement doesn't matter, the arrangement is called a **combination**. Combinations are the opposite of the permutation.\n",
    "\\begin{aligned}\n",
    "C &= \\frac{_nP_k}{k!} = \\frac{\\frac{n!}{(n-k)!}}{k!} = \\frac{n!}{k!(n-k)!} \\\\\n",
    "_nC_k &= {n \\choose k} = \\frac{n!}{k!(n-k)!}\n",
    "\\end{aligned}"
   ]
  },
  {
   "cell_type": "code",
   "execution_count": 8,
   "metadata": {},
   "outputs": [],
   "source": [
    "def combinations(n, k):\n",
    "    return factorial(n) / (factorial(k) * factorial(n-k))"
   ]
  },
  {
   "cell_type": "code",
   "execution_count": null,
   "metadata": {},
   "outputs": [],
   "source": []
  }
 ],
 "metadata": {
  "kernelspec": {
   "display_name": "Python 3",
   "language": "python",
   "name": "python3"
  },
  "language_info": {
   "codemirror_mode": {
    "name": "ipython",
    "version": 3
   },
   "file_extension": ".py",
   "mimetype": "text/x-python",
   "name": "python",
   "nbconvert_exporter": "python",
   "pygments_lexer": "ipython3",
   "version": "3.7.0"
  }
 },
 "nbformat": 4,
 "nbformat_minor": 4
}
