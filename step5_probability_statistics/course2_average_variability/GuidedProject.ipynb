{
 "cells": [
  {
   "cell_type": "markdown",
   "metadata": {},
   "source": [
    "# Title: Findind the Best Markets to Advertise In\n",
    "## As an employee of an e-learning company the offers courses on programming on different domains. We want to promote our product and we'd like to invest some money in advertisement.\n",
    "## Goal is to find out the two best markets to advertise our product in."
   ]
  },
  {
   "cell_type": "code",
   "execution_count": 1,
   "metadata": {},
   "outputs": [],
   "source": [
    "import pandas as pd\n",
    "pd.options.display.max_columns = 100\n",
    "import numpy as np\n",
    "import matplotlib.pyplot as plt\n",
    "import seaborn as sns\n",
    "%matplotlib inline"
   ]
  },
  {
   "cell_type": "code",
   "execution_count": 2,
   "metadata": {},
   "outputs": [
    {
     "data": {
      "text/plain": [
       "(18175, 136)"
      ]
     },
     "execution_count": 2,
     "metadata": {},
     "output_type": "execute_result"
    }
   ],
   "source": [
    "survey_df = pd.read_csv('2017-fCC-New-Coders-Survey-Data.csv', dtype={'CodeEventOther':str, 'JobInterestOther':str})\n",
    "survey_df.shape"
   ]
  },
  {
   "cell_type": "markdown",
   "metadata": {},
   "source": [
    "* The data set is about the survey from freeCodeCamp's 2017 New Coder from more than 20000 developers.\n",
    "* The data can be downloaded from https://github.com/freeCodeCamp/2017-new-coder-survey/tree/master/clean-data\n",
    "***\n",
    "* Where are these new colders located\n",
    "* What are the locations with the greatest number of new coders\n",
    "* How much money new coders are willing to spend on learning.\n",
    "## Whether it's representative for the population of interest and it has the right categories of people for the purpose."
   ]
  },
  {
   "cell_type": "code",
   "execution_count": 3,
   "metadata": {},
   "outputs": [
    {
     "name": "stdout",
     "output_type": "stream",
     "text": [
      "<class 'pandas.core.frame.DataFrame'>\n",
      "RangeIndex: 18175 entries, 0 to 18174\n",
      "Columns: 136 entries, Age to YouTubeTheNewBoston\n",
      "dtypes: float64(105), object(31)\n",
      "memory usage: 18.9+ MB\n"
     ]
    }
   ],
   "source": [
    "survey_df.info()"
   ]
  },
  {
   "cell_type": "code",
   "execution_count": 4,
   "metadata": {},
   "outputs": [
    {
     "data": {
      "text/plain": [
       "Full-Stack Web Developer                                                                                                                                                11.770595\n",
       "  Front-End Web Developer                                                                                                                                                6.435927\n",
       "  Data Scientist                                                                                                                                                         2.173913\n",
       "Back-End Web Developer                                                                                                                                                   2.030892\n",
       "  Mobile Developer                                                                                                                                                       1.673341\n",
       "                                                                                                                                                                          ...    \n",
       "  Quality Assurance Engineer, Game Developer,   Product Manager, Data Engineer                                                                                           0.014302\n",
       "  Mobile Developer, Game Developer, Full-Stack Web Developer,   User Experience Designer                                                                                 0.014302\n",
       "  Front-End Web Developer, Full-Stack Web Developer, Information Security,   User Experience Designer, Back-End Web Developer,   Mobile Developer,   Product Manager     0.014302\n",
       "Back-End Web Developer,   Front-End Web Developer,   Mobile Developer, Full-Stack Web Developer,   User Experience Designer, Game Developer,   Product Manager           0.014302\n",
       "  User Experience Designer, Full-Stack Web Developer, Project Management                                                                                                 0.014302\n",
       "Name: JobRoleInterest, Length: 3213, dtype: float64"
      ]
     },
     "execution_count": 4,
     "metadata": {},
     "output_type": "execute_result"
    }
   ],
   "source": [
    "# Percentage frequency distribution table for the JobRoleInterest\n",
    "survey_df.JobRoleInterest.value_counts(normalize=True) * 100"
   ]
  },
  {
   "cell_type": "markdown",
   "metadata": {},
   "source": [
    "* 1. Most of the people are interested in more than one subject\n",
    "* 2. Although most people are interested in more than one subject, this sample is still representative \n",
    "* 6032 people are interested in web or mobile development."
   ]
  },
  {
   "cell_type": "code",
   "execution_count": 5,
   "metadata": {},
   "outputs": [
    {
     "data": {
      "text/plain": [
       "No answer                         11183\n",
       "Interest more than one subject     4779\n",
       "Interest one subject               2213\n",
       "Name: SubjectsNumberInterest, dtype: int64"
      ]
     },
     "execution_count": 5,
     "metadata": {},
     "output_type": "execute_result"
    }
   ],
   "source": [
    "def number_interest(s):\n",
    "    if isinstance(s, float) and np.isnan(s):\n",
    "        return \"No answer\"\n",
    "    if len(s.split(',')) == 1:\n",
    "        return \"Interest one subject\"\n",
    "    return \"Interest more than one subject\"\n",
    "survey_df['SubjectsNumberInterest'] = survey_df.JobRoleInterest.apply(number_interest)\n",
    "survey_df['SubjectsNumberInterest'].value_counts()"
   ]
  },
  {
   "cell_type": "code",
   "execution_count": 6,
   "metadata": {},
   "outputs": [
    {
     "data": {
      "text/plain": [
       "No answer    11183\n",
       "Yes           6032\n",
       "No             960\n",
       "Name: WhetherInterestWebMobileDeveloper, dtype: int64"
      ]
     },
     "execution_count": 6,
     "metadata": {},
     "output_type": "execute_result"
    }
   ],
   "source": [
    "def web_mobile_interest(s):\n",
    "    if isinstance(s, float) and np.isnan(s):\n",
    "        return \"No answer\"\n",
    "    if 'mobile developer' in s.lower() or 'web developer' in s.lower():\n",
    "        return 'Yes'\n",
    "    return 'No'\n",
    "survey_df['WhetherInterestWebMobileDeveloper'] = survey_df.JobRoleInterest.apply(web_mobile_interest)\n",
    "survey_df['WhetherInterestWebMobileDeveloper'].value_counts()"
   ]
  },
  {
   "cell_type": "code",
   "execution_count": 7,
   "metadata": {},
   "outputs": [
    {
     "data": {
      "text/html": [
       "<div>\n",
       "<style scoped>\n",
       "    .dataframe tbody tr th:only-of-type {\n",
       "        vertical-align: middle;\n",
       "    }\n",
       "\n",
       "    .dataframe tbody tr th {\n",
       "        vertical-align: top;\n",
       "    }\n",
       "\n",
       "    .dataframe thead th {\n",
       "        text-align: right;\n",
       "    }\n",
       "</style>\n",
       "<table border=\"1\" class=\"dataframe\">\n",
       "  <thead>\n",
       "    <tr style=\"text-align: right;\">\n",
       "      <th></th>\n",
       "      <th>WhetherInterestWebMobileDeveloper</th>\n",
       "    </tr>\n",
       "    <tr>\n",
       "      <th>SubjectsNumberInterest</th>\n",
       "      <th></th>\n",
       "    </tr>\n",
       "  </thead>\n",
       "  <tbody>\n",
       "    <tr>\n",
       "      <th>Interest more than one subject</th>\n",
       "      <td>4779</td>\n",
       "    </tr>\n",
       "    <tr>\n",
       "      <th>Interest one subject</th>\n",
       "      <td>2213</td>\n",
       "    </tr>\n",
       "    <tr>\n",
       "      <th>No answer</th>\n",
       "      <td>11183</td>\n",
       "    </tr>\n",
       "  </tbody>\n",
       "</table>\n",
       "</div>"
      ],
      "text/plain": [
       "                                WhetherInterestWebMobileDeveloper\n",
       "SubjectsNumberInterest                                           \n",
       "Interest more than one subject                               4779\n",
       "Interest one subject                                         2213\n",
       "No answer                                                   11183"
      ]
     },
     "execution_count": 7,
     "metadata": {},
     "output_type": "execute_result"
    }
   ],
   "source": [
    "survey_df.pivot_table(index = 'SubjectsNumberInterest', values = ['WhetherInterestWebMobileDeveloper'],\n",
    "                     aggfunc = 'count')"
   ]
  },
  {
   "cell_type": "code",
   "execution_count": 8,
   "metadata": {},
   "outputs": [
    {
     "data": {
      "text/html": [
       "<div>\n",
       "<style scoped>\n",
       "    .dataframe tbody tr th:only-of-type {\n",
       "        vertical-align: middle;\n",
       "    }\n",
       "\n",
       "    .dataframe tbody tr th {\n",
       "        vertical-align: top;\n",
       "    }\n",
       "\n",
       "    .dataframe thead th {\n",
       "        text-align: right;\n",
       "    }\n",
       "</style>\n",
       "<table border=\"1\" class=\"dataframe\">\n",
       "  <thead>\n",
       "    <tr style=\"text-align: right;\">\n",
       "      <th></th>\n",
       "      <th>SubjectsNumberInterest</th>\n",
       "      <th>WhetherInterestWebMobileDeveloper</th>\n",
       "    </tr>\n",
       "  </thead>\n",
       "  <tbody>\n",
       "    <tr>\n",
       "      <th>0</th>\n",
       "      <td>No answer</td>\n",
       "      <td>No answer</td>\n",
       "    </tr>\n",
       "    <tr>\n",
       "      <th>1</th>\n",
       "      <td>Interest one subject</td>\n",
       "      <td>Yes</td>\n",
       "    </tr>\n",
       "    <tr>\n",
       "      <th>2</th>\n",
       "      <td>Interest more than one subject</td>\n",
       "      <td>Yes</td>\n",
       "    </tr>\n",
       "    <tr>\n",
       "      <th>3</th>\n",
       "      <td>Interest more than one subject</td>\n",
       "      <td>Yes</td>\n",
       "    </tr>\n",
       "    <tr>\n",
       "      <th>4</th>\n",
       "      <td>Interest more than one subject</td>\n",
       "      <td>Yes</td>\n",
       "    </tr>\n",
       "    <tr>\n",
       "      <th>...</th>\n",
       "      <td>...</td>\n",
       "      <td>...</td>\n",
       "    </tr>\n",
       "    <tr>\n",
       "      <th>18170</th>\n",
       "      <td>No answer</td>\n",
       "      <td>No answer</td>\n",
       "    </tr>\n",
       "    <tr>\n",
       "      <th>18171</th>\n",
       "      <td>Interest more than one subject</td>\n",
       "      <td>Yes</td>\n",
       "    </tr>\n",
       "    <tr>\n",
       "      <th>18172</th>\n",
       "      <td>No answer</td>\n",
       "      <td>No answer</td>\n",
       "    </tr>\n",
       "    <tr>\n",
       "      <th>18173</th>\n",
       "      <td>No answer</td>\n",
       "      <td>No answer</td>\n",
       "    </tr>\n",
       "    <tr>\n",
       "      <th>18174</th>\n",
       "      <td>Interest more than one subject</td>\n",
       "      <td>Yes</td>\n",
       "    </tr>\n",
       "  </tbody>\n",
       "</table>\n",
       "<p>18175 rows × 2 columns</p>\n",
       "</div>"
      ],
      "text/plain": [
       "               SubjectsNumberInterest WhetherInterestWebMobileDeveloper\n",
       "0                           No answer                         No answer\n",
       "1                Interest one subject                               Yes\n",
       "2      Interest more than one subject                               Yes\n",
       "3      Interest more than one subject                               Yes\n",
       "4      Interest more than one subject                               Yes\n",
       "...                               ...                               ...\n",
       "18170                       No answer                         No answer\n",
       "18171  Interest more than one subject                               Yes\n",
       "18172                       No answer                         No answer\n",
       "18173                       No answer                         No answer\n",
       "18174  Interest more than one subject                               Yes\n",
       "\n",
       "[18175 rows x 2 columns]"
      ]
     },
     "execution_count": 8,
     "metadata": {},
     "output_type": "execute_result"
    }
   ],
   "source": [
    "interest = survey_df[['SubjectsNumberInterest','WhetherInterestWebMobileDeveloper']].copy()\n",
    "interest"
   ]
  },
  {
   "cell_type": "code",
   "execution_count": 9,
   "metadata": {},
   "outputs": [
    {
     "data": {
      "text/html": [
       "<div>\n",
       "<style scoped>\n",
       "    .dataframe tbody tr th:only-of-type {\n",
       "        vertical-align: middle;\n",
       "    }\n",
       "\n",
       "    .dataframe tbody tr th {\n",
       "        vertical-align: top;\n",
       "    }\n",
       "\n",
       "    .dataframe thead th {\n",
       "        text-align: right;\n",
       "    }\n",
       "</style>\n",
       "<table border=\"1\" class=\"dataframe\">\n",
       "  <thead>\n",
       "    <tr style=\"text-align: right;\">\n",
       "      <th></th>\n",
       "      <th></th>\n",
       "      <th>0</th>\n",
       "    </tr>\n",
       "    <tr>\n",
       "      <th>SubjectsNumberInterest</th>\n",
       "      <th>WhetherInterestWebMobileDeveloper</th>\n",
       "      <th></th>\n",
       "    </tr>\n",
       "  </thead>\n",
       "  <tbody>\n",
       "    <tr>\n",
       "      <th rowspan=\"2\" valign=\"top\">Interest more than one subject</th>\n",
       "      <th>No</th>\n",
       "      <td>280</td>\n",
       "    </tr>\n",
       "    <tr>\n",
       "      <th>Yes</th>\n",
       "      <td>4499</td>\n",
       "    </tr>\n",
       "    <tr>\n",
       "      <th rowspan=\"2\" valign=\"top\">Interest one subject</th>\n",
       "      <th>No</th>\n",
       "      <td>680</td>\n",
       "    </tr>\n",
       "    <tr>\n",
       "      <th>Yes</th>\n",
       "      <td>1533</td>\n",
       "    </tr>\n",
       "    <tr>\n",
       "      <th>No answer</th>\n",
       "      <th>No answer</th>\n",
       "      <td>11183</td>\n",
       "    </tr>\n",
       "  </tbody>\n",
       "</table>\n",
       "</div>"
      ],
      "text/plain": [
       "                                                                      0\n",
       "SubjectsNumberInterest         WhetherInterestWebMobileDeveloper       \n",
       "Interest more than one subject No                                   280\n",
       "                               Yes                                 4499\n",
       "Interest one subject           No                                   680\n",
       "                               Yes                                 1533\n",
       "No answer                      No answer                          11183"
      ]
     },
     "execution_count": 9,
     "metadata": {},
     "output_type": "execute_result"
    }
   ],
   "source": [
    "interest_table = pd.DataFrame(interest.groupby(['SubjectsNumberInterest', \n",
    "                                                'WhetherInterestWebMobileDeveloper']).size())\n",
    "interest_table"
   ]
  },
  {
   "cell_type": "code",
   "execution_count": 10,
   "metadata": {},
   "outputs": [
    {
     "data": {
      "text/html": [
       "<div>\n",
       "<style scoped>\n",
       "    .dataframe tbody tr th:only-of-type {\n",
       "        vertical-align: middle;\n",
       "    }\n",
       "\n",
       "    .dataframe tbody tr th {\n",
       "        vertical-align: top;\n",
       "    }\n",
       "\n",
       "    .dataframe thead th {\n",
       "        text-align: right;\n",
       "    }\n",
       "</style>\n",
       "<table border=\"1\" class=\"dataframe\">\n",
       "  <thead>\n",
       "    <tr style=\"text-align: right;\">\n",
       "      <th></th>\n",
       "      <th>SubjectsNumberInterest</th>\n",
       "      <th>WhetherInterestWebMobileDeveloper</th>\n",
       "      <th>0</th>\n",
       "    </tr>\n",
       "  </thead>\n",
       "  <tbody>\n",
       "    <tr>\n",
       "      <th>0</th>\n",
       "      <td>Interest more than one subject</td>\n",
       "      <td>No</td>\n",
       "      <td>280</td>\n",
       "    </tr>\n",
       "    <tr>\n",
       "      <th>1</th>\n",
       "      <td>Interest more than one subject</td>\n",
       "      <td>Yes</td>\n",
       "      <td>4499</td>\n",
       "    </tr>\n",
       "    <tr>\n",
       "      <th>2</th>\n",
       "      <td>Interest one subject</td>\n",
       "      <td>No</td>\n",
       "      <td>680</td>\n",
       "    </tr>\n",
       "    <tr>\n",
       "      <th>3</th>\n",
       "      <td>Interest one subject</td>\n",
       "      <td>Yes</td>\n",
       "      <td>1533</td>\n",
       "    </tr>\n",
       "    <tr>\n",
       "      <th>4</th>\n",
       "      <td>No answer</td>\n",
       "      <td>No answer</td>\n",
       "      <td>11183</td>\n",
       "    </tr>\n",
       "  </tbody>\n",
       "</table>\n",
       "</div>"
      ],
      "text/plain": [
       "           SubjectsNumberInterest WhetherInterestWebMobileDeveloper      0\n",
       "0  Interest more than one subject                                No    280\n",
       "1  Interest more than one subject                               Yes   4499\n",
       "2            Interest one subject                                No    680\n",
       "3            Interest one subject                               Yes   1533\n",
       "4                       No answer                         No answer  11183"
      ]
     },
     "execution_count": 10,
     "metadata": {},
     "output_type": "execute_result"
    }
   ],
   "source": [
    "interest_table.reset_index()"
   ]
  },
  {
   "cell_type": "code",
   "execution_count": 11,
   "metadata": {},
   "outputs": [
    {
     "data": {
      "text/html": [
       "<div>\n",
       "<style scoped>\n",
       "    .dataframe tbody tr th:only-of-type {\n",
       "        vertical-align: middle;\n",
       "    }\n",
       "\n",
       "    .dataframe tbody tr th {\n",
       "        vertical-align: top;\n",
       "    }\n",
       "\n",
       "    .dataframe thead th {\n",
       "        text-align: right;\n",
       "    }\n",
       "</style>\n",
       "<table border=\"1\" class=\"dataframe\">\n",
       "  <thead>\n",
       "    <tr style=\"text-align: right;\">\n",
       "      <th></th>\n",
       "      <th></th>\n",
       "      <th>Number</th>\n",
       "    </tr>\n",
       "    <tr>\n",
       "      <th>SubjectsNumberInterest</th>\n",
       "      <th>WhetherInterestWebMobileDeveloper</th>\n",
       "      <th></th>\n",
       "    </tr>\n",
       "  </thead>\n",
       "  <tbody>\n",
       "    <tr>\n",
       "      <th rowspan=\"2\" valign=\"top\">Interest more than one subject</th>\n",
       "      <th>No</th>\n",
       "      <td>280</td>\n",
       "    </tr>\n",
       "    <tr>\n",
       "      <th>Yes</th>\n",
       "      <td>4499</td>\n",
       "    </tr>\n",
       "    <tr>\n",
       "      <th rowspan=\"2\" valign=\"top\">Interest one subject</th>\n",
       "      <th>No</th>\n",
       "      <td>680</td>\n",
       "    </tr>\n",
       "    <tr>\n",
       "      <th>Yes</th>\n",
       "      <td>1533</td>\n",
       "    </tr>\n",
       "    <tr>\n",
       "      <th>No answer</th>\n",
       "      <th>No answer</th>\n",
       "      <td>11183</td>\n",
       "    </tr>\n",
       "  </tbody>\n",
       "</table>\n",
       "</div>"
      ],
      "text/plain": [
       "                                                                  Number\n",
       "SubjectsNumberInterest         WhetherInterestWebMobileDeveloper        \n",
       "Interest more than one subject No                                    280\n",
       "                               Yes                                  4499\n",
       "Interest one subject           No                                    680\n",
       "                               Yes                                  1533\n",
       "No answer                      No answer                           11183"
      ]
     },
     "execution_count": 11,
     "metadata": {},
     "output_type": "execute_result"
    }
   ],
   "source": [
    "interest_table.columns = ['Number']\n",
    "interest_table"
   ]
  },
  {
   "cell_type": "code",
   "execution_count": 13,
   "metadata": {},
   "outputs": [
    {
     "data": {
      "text/plain": [
       "Text(0, 0.5, '')"
      ]
     },
     "execution_count": 13,
     "metadata": {},
     "output_type": "execute_result"
    },
    {
     "data": {
      "image/png": "[encoded data removed]",
      "text/plain": [
       "<Figure size 432x288 with 1 Axes>"
      ]
     },
     "metadata": {
      "needs_background": "light"
     },
     "output_type": "display_data"
    }
   ],
   "source": [
    "interest_table.plot.barh()\n",
    "plt.ylabel('')"
   ]
  },
  {
   "cell_type": "markdown",
   "metadata": {},
   "source": [
    "## Where these new coders are located, and what are the densities for each locations."
   ]
  },
  {
   "cell_type": "code",
   "execution_count": 14,
   "metadata": {},
   "outputs": [
    {
     "data": {
      "text/plain": [
       "United States of America    5480\n",
       "NaN                         2793\n",
       "India                       1594\n",
       "United Kingdom               640\n",
       "Canada                       564\n",
       "                            ... \n",
       "Bermuda                        1\n",
       "Madagascar                     1\n",
       "Falkland Islands               1\n",
       "Curacao                        1\n",
       "Congo                          1\n",
       "Name: CountryCitizen, Length: 182, dtype: int64"
      ]
     },
     "execution_count": 14,
     "metadata": {},
     "output_type": "execute_result"
    }
   ],
   "source": [
    "survey_df.CountryCitizen.value_counts(dropna=False)"
   ]
  },
  {
   "cell_type": "code",
   "execution_count": 15,
   "metadata": {},
   "outputs": [
    {
     "data": {
      "text/plain": [
       "United States of America    5791\n",
       "NaN                         2839\n",
       "India                       1400\n",
       "United Kingdom               757\n",
       "Canada                       616\n",
       "                            ... \n",
       "Madagascar                     1\n",
       "Korea North                    1\n",
       "Hawaii                         1\n",
       "Canary Islands                 1\n",
       "Kuwait                         1\n",
       "Name: CountryLive, Length: 173, dtype: int64"
      ]
     },
     "execution_count": 15,
     "metadata": {},
     "output_type": "execute_result"
    }
   ],
   "source": [
    "survey_df.CountryLive.value_counts(dropna=False)\n",
    "# Country where people actually live at the moment."
   ]
  },
  {
   "cell_type": "markdown",
   "metadata": {},
   "source": [
    "## Finding the two best countries to advertise in\n",
    "## Number of potential customers - the more potential customers in a market, the better.\n",
    "***\n",
    "## To make sure working with a representative  sample, drop all the rows where participants didn't answer what role they are interested in."
   ]
  },
  {
   "cell_type": "code",
   "execution_count": 19,
   "metadata": {},
   "outputs": [
    {
     "data": {
      "text/plain": [
       "Full-Stack Web Developer                                                                                                                                        823\n",
       "  Front-End Web Developer                                                                                                                                       450\n",
       "  Data Scientist                                                                                                                                                152\n",
       "Back-End Web Developer                                                                                                                                          142\n",
       "  Mobile Developer                                                                                                                                              117\n",
       "                                                                                                                                                               ... \n",
       "Back-End Web Developer, Full-Stack Web Developer,   Data Scientist, Game Developer,   Mobile Developer,   Product Manager,   User Experience Designer             1\n",
       "  Mobile Developer, Information Security,   Front-End Web Developer, Game Developer, Back-End Web Developer,   User Experience Designer                           1\n",
       "  Mobile Developer,   DevOps / SysAdmin, Full-Stack Web Developer,   Front-End Web Developer, Back-End Web Developer,   Data Scientist, Information Security      1\n",
       "  Quality Assurance Engineer,   DevOps / SysAdmin,   Front-End Web Developer, Full-Stack Web Developer                                                            1\n",
       "  Mobile Developer, Back-End Web Developer,   Front-End Web Developer, Full-Stack Web Developer,   Product Manager                                                1\n",
       "Name: JobRoleInterest, Length: 3213, dtype: int64"
      ]
     },
     "execution_count": 19,
     "metadata": {},
     "output_type": "execute_result"
    }
   ],
   "source": [
    "clean_df = survey_df[~survey_df.JobRoleInterest.isna()].copy()\n",
    "clean_df.JobRoleInterest.value_counts(dropna=False)"
   ]
  },
  {
   "cell_type": "code",
   "execution_count": 23,
   "metadata": {},
   "outputs": [],
   "source": [
    "country_frequency = clean_df.CountryLive.value_counts()\n",
    "country_percentage = clean_df.CountryLive.value_counts(normalize=True)"
   ]
  },
  {
   "cell_type": "code",
   "execution_count": 24,
   "metadata": {},
   "outputs": [
    {
     "data": {
      "text/plain": [
       "United States of America    3125\n",
       "India                        528\n",
       "United Kingdom               315\n",
       "Canada                       260\n",
       "Poland                       131\n",
       "                            ... \n",
       "Cayman Islands                 1\n",
       "Jordan                         1\n",
       "Sudan                          1\n",
       "Samoa                          1\n",
       "Nicaragua                      1\n",
       "Name: CountryLive, Length: 137, dtype: int64"
      ]
     },
     "execution_count": 24,
     "metadata": {},
     "output_type": "execute_result"
    }
   ],
   "source": [
    "country_frequency"
   ]
  },
  {
   "cell_type": "code",
   "execution_count": 27,
   "metadata": {},
   "outputs": [
    {
     "data": {
      "text/plain": [
       "United States of America    0.457005\n",
       "India                       0.077216\n",
       "United Kingdom              0.046066\n",
       "Canada                      0.038023\n",
       "Poland                      0.019158\n",
       "                              ...   \n",
       "Cayman Islands              0.000146\n",
       "Jordan                      0.000146\n",
       "Sudan                       0.000146\n",
       "Samoa                       0.000146\n",
       "Nicaragua                   0.000146\n",
       "Name: CountryLive, Length: 137, dtype: float64"
      ]
     },
     "execution_count": 27,
     "metadata": {},
     "output_type": "execute_result"
    }
   ],
   "source": [
    "country_percentage"
   ]
  },
  {
   "cell_type": "markdown",
   "metadata": {},
   "source": [
    "## Based on the frequency table for countries that people live, I will choose US and India for advertisement.\n",
    "***\n",
    "## How much money new coders are actually willing to spend on learning. Advertising within markets where most people are only willing to learn for free is extremely unlikely to be profitable."
   ]
  },
  {
   "cell_type": "markdown",
   "metadata": {},
   "source": [
    "### Narrow down the analysis to only four countries: the US, India, United Kingdom and Canada.\n",
    "   * These are the countries having the highest absolute frequency in the sample, which means we have a decent amount of data for each.\n",
    "   * Our course are written in English, and English is an official language in all these four countries. The more people that know English, the better our chances to target the right people with ads.\n",
    "***\n"
   ]
  },
  {
   "cell_type": "code",
   "execution_count": 35,
   "metadata": {},
   "outputs": [],
   "source": [
    "clean_four_countries = clean_df[clean_df.CountryLive.isin(['United States of America',\n",
    "                                                          'India','United Kingdom', 'Canada'])].copy()\n",
    "# People with job role interestedn and belong to one of the four countries"
   ]
  },
  {
   "cell_type": "code",
   "execution_count": 36,
   "metadata": {},
   "outputs": [
    {
     "data": {
      "text/plain": [
       "United States of America    3125\n",
       "India                        528\n",
       "United Kingdom               315\n",
       "Canada                       260\n",
       "Name: CountryLive, dtype: int64"
      ]
     },
     "execution_count": 36,
     "metadata": {},
     "output_type": "execute_result"
    }
   ],
   "source": [
    "clean_four_countries.CountryLive.value_counts(dropna=False)"
   ]
  },
  {
   "cell_type": "code",
   "execution_count": 37,
   "metadata": {},
   "outputs": [
    {
     "data": {
      "text/plain": [
       "0.0      150\n",
       "1.0      480\n",
       "2.0      401\n",
       "3.0      380\n",
       "4.0      209\n",
       "        ... \n",
       "300.0      1\n",
       "360.0      3\n",
       "408.0      1\n",
       "480.0      2\n",
       "744.0      3\n",
       "Name: MonthsProgramming, Length: 80, dtype: int64"
      ]
     },
     "execution_count": 37,
     "metadata": {},
     "output_type": "execute_result"
    }
   ],
   "source": [
    "clean_four_countries.MonthsProgramming.value_counts().sort_index()"
   ]
  },
  {
   "cell_type": "code",
   "execution_count": 40,
   "metadata": {},
   "outputs": [
    {
     "name": "stderr",
     "output_type": "stream",
     "text": [
      "/home/ning/anaconda3/lib/python3.7/site-packages/ipykernel_launcher.py:1: SettingWithCopyWarning: \n",
      "A value is trying to be set on a copy of a slice from a DataFrame\n",
      "\n",
      "See the caveats in the documentation: https://pandas.pydata.org/pandas-docs/stable/user_guide/indexing.html#returning-a-view-versus-a-copy\n",
      "  \"\"\"Entry point for launching an IPython kernel.\n"
     ]
    },
    {
     "data": {
      "text/plain": [
       "1.0      630\n",
       "2.0      401\n",
       "3.0      380\n",
       "4.0      209\n",
       "5.0      156\n",
       "        ... \n",
       "300.0      1\n",
       "360.0      3\n",
       "408.0      1\n",
       "480.0      2\n",
       "744.0      3\n",
       "Name: MonthsProgramming, Length: 79, dtype: int64"
      ]
     },
     "execution_count": 40,
     "metadata": {},
     "output_type": "execute_result"
    }
   ],
   "source": [
    "clean_four_countries.MonthsProgramming[clean_four_countries.MonthsProgramming == 0] = 1\n",
    "clean_four_countries.MonthsProgramming.value_counts().sort_index()"
   ]
  },
  {
   "cell_type": "code",
   "execution_count": 43,
   "metadata": {},
   "outputs": [],
   "source": [
    "clean_four_countries['MoneyPerMonth'] = clean_four_countries.MoneyForLearning / clean_four_countries.MonthsProgramming"
   ]
  },
  {
   "cell_type": "code",
   "execution_count": 45,
   "metadata": {},
   "outputs": [
    {
     "data": {
      "text/plain": [
       "0.000000        1844\n",
       "0.033333           1\n",
       "0.050000           1\n",
       "0.066667           1\n",
       "0.138889           1\n",
       "                ... \n",
       "15000.000000       2\n",
       "16666.666667       1\n",
       "50000.000000       1\n",
       "80000.000000       1\n",
       "NaN              313\n",
       "Name: MoneyPerMonth, Length: 388, dtype: int64"
      ]
     },
     "execution_count": 45,
     "metadata": {},
     "output_type": "execute_result"
    }
   ],
   "source": [
    "clean_four_countries['MoneyPerMonth'].value_counts(dropna=False).sort_index()"
   ]
  },
  {
   "cell_type": "markdown",
   "metadata": {},
   "source": [
    "* 313 null values in the new column (the column describing the amount of money students spend per month)"
   ]
  },
  {
   "cell_type": "code",
   "execution_count": 46,
   "metadata": {},
   "outputs": [
    {
     "data": {
      "text/plain": [
       "0.000000        1844\n",
       "0.033333           1\n",
       "0.050000           1\n",
       "0.066667           1\n",
       "0.138889           1\n",
       "                ... \n",
       "14000.000000       1\n",
       "15000.000000       2\n",
       "16666.666667       1\n",
       "50000.000000       1\n",
       "80000.000000       1\n",
       "Name: MoneyPerMonth, Length: 387, dtype: int64"
      ]
     },
     "execution_count": 46,
     "metadata": {},
     "output_type": "execute_result"
    }
   ],
   "source": [
    "clean_four_countries = clean_four_countries[~clean_four_countries['MoneyPerMonth'].isna()].copy()\n",
    "clean_four_countries['MoneyPerMonth'].value_counts(dropna=False).sort_index()"
   ]
  },
  {
   "cell_type": "code",
   "execution_count": 52,
   "metadata": {},
   "outputs": [
    {
     "data": {
      "text/html": [
       "<div>\n",
       "<style scoped>\n",
       "    .dataframe tbody tr th:only-of-type {\n",
       "        vertical-align: middle;\n",
       "    }\n",
       "\n",
       "    .dataframe tbody tr th {\n",
       "        vertical-align: top;\n",
       "    }\n",
       "\n",
       "    .dataframe thead tr th {\n",
       "        text-align: left;\n",
       "    }\n",
       "\n",
       "    .dataframe thead tr:last-of-type th {\n",
       "        text-align: right;\n",
       "    }\n",
       "</style>\n",
       "<table border=\"1\" class=\"dataframe\">\n",
       "  <thead>\n",
       "    <tr>\n",
       "      <th></th>\n",
       "      <th>mean</th>\n",
       "      <th>median</th>\n",
       "      <th>count</th>\n",
       "    </tr>\n",
       "    <tr>\n",
       "      <th></th>\n",
       "      <th>MoneyPerMonth</th>\n",
       "      <th>MoneyPerMonth</th>\n",
       "      <th>MoneyPerMonth</th>\n",
       "    </tr>\n",
       "    <tr>\n",
       "      <th>CountryLive</th>\n",
       "      <th></th>\n",
       "      <th></th>\n",
       "      <th></th>\n",
       "    </tr>\n",
       "  </thead>\n",
       "  <tbody>\n",
       "    <tr>\n",
       "      <th>Canada</th>\n",
       "      <td>113.510961</td>\n",
       "      <td>0.000000</td>\n",
       "      <td>240</td>\n",
       "    </tr>\n",
       "    <tr>\n",
       "      <th>India</th>\n",
       "      <td>135.100982</td>\n",
       "      <td>0.000000</td>\n",
       "      <td>463</td>\n",
       "    </tr>\n",
       "    <tr>\n",
       "      <th>United Kingdom</th>\n",
       "      <td>45.534443</td>\n",
       "      <td>0.000000</td>\n",
       "      <td>279</td>\n",
       "    </tr>\n",
       "    <tr>\n",
       "      <th>United States of America</th>\n",
       "      <td>227.997996</td>\n",
       "      <td>3.333333</td>\n",
       "      <td>2933</td>\n",
       "    </tr>\n",
       "  </tbody>\n",
       "</table>\n",
       "</div>"
      ],
      "text/plain": [
       "                                  mean        median         count\n",
       "                         MoneyPerMonth MoneyPerMonth MoneyPerMonth\n",
       "CountryLive                                                       \n",
       "Canada                      113.510961      0.000000           240\n",
       "India                       135.100982      0.000000           463\n",
       "United Kingdom               45.534443      0.000000           279\n",
       "United States of America    227.997996      3.333333          2933"
      ]
     },
     "execution_count": 52,
     "metadata": {},
     "output_type": "execute_result"
    }
   ],
   "source": [
    "clean_four_countries.pivot_table(index = 'CountryLive', values = ['MoneyPerMonth'], \n",
    "                                aggfunc=[np.mean,np.median, 'count'])"
   ]
  },
  {
   "cell_type": "code",
   "execution_count": 51,
   "metadata": {},
   "outputs": [
    {
     "data": {
      "text/plain": [
       "CountryLive\n",
       "Canada                       240\n",
       "India                        463\n",
       "United Kingdom               279\n",
       "United States of America    2933\n",
       "dtype: int64"
      ]
     },
     "execution_count": 51,
     "metadata": {},
     "output_type": "execute_result"
    }
   ],
   "source": [
    "clean_four_countries.groupby('CountryLive').size()"
   ]
  },
  {
   "cell_type": "code",
   "execution_count": 54,
   "metadata": {},
   "outputs": [
    {
     "data": {
      "text/plain": [
       "CountryLive\n",
       "Canada                      113.510961\n",
       "India                       135.100982\n",
       "United Kingdom               45.534443\n",
       "United States of America    227.997996\n",
       "Name: MoneyPerMonth, dtype: float64"
      ]
     },
     "execution_count": 54,
     "metadata": {},
     "output_type": "execute_result"
    }
   ],
   "source": [
    "clean_four_countries.groupby('CountryLive')['MoneyPerMonth'].mean()"
   ]
  },
  {
   "cell_type": "markdown",
   "metadata": {},
   "source": [
    "## The US and India are still the two countries most worthable for invest since people spend more money on program learning in these two countries.\n",
    "* The results for the United Kingdom and Canada are suprisingly low relative to the values for India. If considered a few socio-economical metrics (like GDP per capita), we'd intuitively expect people in the UK and Canada to spend more on learning than people in India.\n",
    "* It might be that we don't have enough representative data for the UK, Canada and India, or we have some outliers (maybe coming from wrong survey answers) making the mean too big for India, or too low for the UK and Canada. **Or** it might be that the results are correct."
   ]
  },
  {
   "cell_type": "code",
   "execution_count": 60,
   "metadata": {},
   "outputs": [
    {
     "data": {
      "text/plain": [
       "<matplotlib.axes._subplots.AxesSubplot at 0x7f311aa349e8>"
      ]
     },
     "execution_count": 60,
     "metadata": {},
     "output_type": "execute_result"
    },
    {
     "data": {
      "image/png": "[encoded data removed]",
      "text/plain": [
       "<Figure size 432x288 with 1 Axes>"
      ]
     },
     "metadata": {
      "needs_background": "light"
     },
     "output_type": "display_data"
    }
   ],
   "source": [
    "sns.boxplot(x = 'CountryLive',y = 'MoneyPerMonth',data = clean_four_countries, linewidth=2.5)"
   ]
  },
  {
   "cell_type": "code",
   "execution_count": 63,
   "metadata": {},
   "outputs": [
    {
     "data": {
      "text/plain": [
       "<matplotlib.axes._subplots.AxesSubplot at 0x7f311ab60940>"
      ]
     },
     "execution_count": 63,
     "metadata": {},
     "output_type": "execute_result"
    },
    {
     "data": {
      "image/png": "[encoded data removed]",
      "text/plain": [
       "<Figure size 432x288 with 1 Axes>"
      ]
     },
     "metadata": {
      "needs_background": "light"
     },
     "output_type": "display_data"
    }
   ],
   "source": [
    "clean_four_countries[clean_four_countries.CountryLive == 'United States of America'].MoneyPerMonth.plot.box()"
   ]
  },
  {
   "cell_type": "code",
   "execution_count": 65,
   "metadata": {},
   "outputs": [
    {
     "data": {
      "text/plain": [
       "<matplotlib.axes._subplots.AxesSubplot at 0x7f311a08d278>"
      ]
     },
     "execution_count": 65,
     "metadata": {},
     "output_type": "execute_result"
    },
    {
     "data": {
      "image/png": "[encoded data removed]",
      "text/plain": [
       "<Figure size 432x288 with 1 Axes>"
      ]
     },
     "metadata": {
      "needs_background": "light"
     },
     "output_type": "display_data"
    }
   ],
   "source": [
    "clean_four_countries[clean_four_countries.CountryLive == 'Canada'].MoneyPerMonth.plot.box()"
   ]
  },
  {
   "cell_type": "code",
   "execution_count": 66,
   "metadata": {},
   "outputs": [
    {
     "data": {
      "text/plain": [
       "count     240.000000\n",
       "mean      113.510961\n",
       "std       441.014158\n",
       "min         0.000000\n",
       "25%         0.000000\n",
       "50%         0.000000\n",
       "75%        25.000000\n",
       "max      5000.000000\n",
       "Name: MoneyPerMonth, dtype: float64"
      ]
     },
     "execution_count": 66,
     "metadata": {},
     "output_type": "execute_result"
    }
   ],
   "source": [
    "clean_four_countries[clean_four_countries.CountryLive == 'Canada'].MoneyPerMonth.describe()"
   ]
  },
  {
   "cell_type": "code",
   "execution_count": 109,
   "metadata": {
    "scrolled": true
   },
   "outputs": [
    {
     "data": {
      "text/plain": [
       "count      463.000000\n",
       "mean       135.100982\n",
       "std        692.960378\n",
       "min          0.000000\n",
       "25%          0.000000\n",
       "50%          0.000000\n",
       "75%         13.250000\n",
       "max      10000.000000\n",
       "Name: MoneyPerMonth, dtype: float64"
      ]
     },
     "execution_count": 109,
     "metadata": {},
     "output_type": "execute_result"
    }
   ],
   "source": [
    "clean_four_countries[clean_four_countries.CountryLive == 'India'].MoneyPerMonth.describe()"
   ]
  },
  {
   "cell_type": "code",
   "execution_count": 110,
   "metadata": {},
   "outputs": [
    {
     "data": {
      "text/plain": [
       "0.000000        262\n",
       "0.138889          1\n",
       "0.416667          3\n",
       "0.431034          1\n",
       "0.555556          1\n",
       "               ... \n",
       "2000.000000       2\n",
       "3333.333333       1\n",
       "4166.666667       1\n",
       "5000.000000       3\n",
       "10000.000000      1\n",
       "Name: MoneyPerMonth, Length: 102, dtype: int64"
      ]
     },
     "execution_count": 110,
     "metadata": {},
     "output_type": "execute_result"
    }
   ],
   "source": [
    "clean_four_countries[clean_four_countries.CountryLive == 'India'].MoneyPerMonth.value_counts().sort_index()"
   ]
  },
  {
   "cell_type": "code",
   "execution_count": 111,
   "metadata": {},
   "outputs": [],
   "source": [
    "cutoff_india = 3000\n",
    "india = clean_four_countries[(clean_four_countries.CountryLive=='India') & (\n",
    "clean_four_countries.MoneyPerMonth < cutoff_india)].MoneyPerMonth"
   ]
  },
  {
   "cell_type": "code",
   "execution_count": 112,
   "metadata": {},
   "outputs": [
    {
     "data": {
      "text/plain": [
       "count     457.000000\n",
       "mean       65.758763\n",
       "std       233.452738\n",
       "min         0.000000\n",
       "25%         0.000000\n",
       "50%         0.000000\n",
       "75%        12.500000\n",
       "max      2000.000000\n",
       "Name: MoneyPerMonth, dtype: float64"
      ]
     },
     "execution_count": 112,
     "metadata": {},
     "output_type": "execute_result"
    }
   ],
   "source": [
    "india.describe()"
   ]
  },
  {
   "cell_type": "code",
   "execution_count": 113,
   "metadata": {},
   "outputs": [
    {
     "data": {
      "text/plain": [
       "<matplotlib.axes._subplots.AxesSubplot at 0x7f3118cc06a0>"
      ]
     },
     "execution_count": 113,
     "metadata": {},
     "output_type": "execute_result"
    },
    {
     "data": {
      "image/png": "[encoded data removed]",
      "text/plain": [
       "<Figure size 432x288 with 1 Axes>"
      ]
     },
     "metadata": {
      "needs_background": "light"
     },
     "output_type": "display_data"
    }
   ],
   "source": [
    "india.plot.box()"
   ]
  },
  {
   "cell_type": "code",
   "execution_count": 68,
   "metadata": {},
   "outputs": [
    {
     "data": {
      "text/plain": [
       "count     279.000000\n",
       "mean       45.534443\n",
       "std       162.311836\n",
       "min         0.000000\n",
       "25%         0.000000\n",
       "50%         0.000000\n",
       "75%        20.416667\n",
       "max      1400.000000\n",
       "Name: MoneyPerMonth, dtype: float64"
      ]
     },
     "execution_count": 68,
     "metadata": {},
     "output_type": "execute_result"
    }
   ],
   "source": [
    "clean_four_countries[clean_four_countries.CountryLive == 'United Kingdom'].MoneyPerMonth.describe()"
   ]
  },
  {
   "cell_type": "code",
   "execution_count": 114,
   "metadata": {},
   "outputs": [
    {
     "data": {
      "text/plain": [
       "0.000000       142\n",
       "0.050000         1\n",
       "0.250000         1\n",
       "0.333333         1\n",
       "0.416667         1\n",
       "              ... \n",
       "936.750000       1\n",
       "1000.000000      1\n",
       "1200.000000      1\n",
       "1250.000000      1\n",
       "1400.000000      1\n",
       "Name: MoneyPerMonth, Length: 71, dtype: int64"
      ]
     },
     "execution_count": 114,
     "metadata": {},
     "output_type": "execute_result"
    }
   ],
   "source": [
    "clean_four_countries[clean_four_countries.CountryLive == 'United Kingdom'].MoneyPerMonth.value_counts().sort_index()"
   ]
  },
  {
   "cell_type": "code",
   "execution_count": 116,
   "metadata": {},
   "outputs": [],
   "source": [
    "uk = clean_four_countries[(clean_four_countries.CountryLive == 'United Kingdom') & (\n",
    "clean_four_countries.MoneyPerMonth <= 1400)].MoneyPerMonth"
   ]
  },
  {
   "cell_type": "code",
   "execution_count": 117,
   "metadata": {},
   "outputs": [
    {
     "data": {
      "text/plain": [
       "count     279.000000\n",
       "mean       45.534443\n",
       "std       162.311836\n",
       "min         0.000000\n",
       "25%         0.000000\n",
       "50%         0.000000\n",
       "75%        20.416667\n",
       "max      1400.000000\n",
       "Name: MoneyPerMonth, dtype: float64"
      ]
     },
     "execution_count": 117,
     "metadata": {},
     "output_type": "execute_result"
    }
   ],
   "source": [
    "uk.describe()"
   ]
  },
  {
   "cell_type": "code",
   "execution_count": 118,
   "metadata": {},
   "outputs": [
    {
     "data": {
      "text/plain": [
       "<matplotlib.axes._subplots.AxesSubplot at 0x7f3118c96668>"
      ]
     },
     "execution_count": 118,
     "metadata": {},
     "output_type": "execute_result"
    },
    {
     "data": {
      "image/png": "[encoded data removed]",
      "text/plain": [
       "<Figure size 432x288 with 1 Axes>"
      ]
     },
     "metadata": {
      "needs_background": "light"
     },
     "output_type": "display_data"
    }
   ],
   "source": [
    "uk.plot.box()"
   ]
  },
  {
   "cell_type": "code",
   "execution_count": 84,
   "metadata": {
    "scrolled": true
   },
   "outputs": [
    {
     "data": {
      "text/plain": [
       "count     240.000000\n",
       "mean      113.510961\n",
       "std       441.014158\n",
       "min         0.000000\n",
       "25%         0.000000\n",
       "50%         0.000000\n",
       "75%        25.000000\n",
       "max      5000.000000\n",
       "Name: MoneyPerMonth, dtype: float64"
      ]
     },
     "execution_count": 84,
     "metadata": {},
     "output_type": "execute_result"
    }
   ],
   "source": [
    "clean_four_countries[clean_four_countries.CountryLive == 'Canada'].MoneyPerMonth.describe()"
   ]
  },
  {
   "cell_type": "code",
   "execution_count": 119,
   "metadata": {},
   "outputs": [
    {
     "data": {
      "text/plain": [
       "0.000000       126\n",
       "0.416667         1\n",
       "0.833333         1\n",
       "1.052632         1\n",
       "1.388889         1\n",
       "              ... \n",
       "1500.000000      1\n",
       "1750.000000      1\n",
       "2000.000000      1\n",
       "2337.166667      1\n",
       "5000.000000      1\n",
       "Name: MoneyPerMonth, Length: 71, dtype: int64"
      ]
     },
     "execution_count": 119,
     "metadata": {},
     "output_type": "execute_result"
    }
   ],
   "source": [
    "clean_four_countries[clean_four_countries.CountryLive == 'Canada'].MoneyPerMonth.value_counts().sort_index()"
   ]
  },
  {
   "cell_type": "code",
   "execution_count": 121,
   "metadata": {},
   "outputs": [
    {
     "data": {
      "text/plain": [
       "count     239.000000\n",
       "mean       93.065400\n",
       "std       307.512802\n",
       "min         0.000000\n",
       "25%         0.000000\n",
       "50%         0.000000\n",
       "75%        25.000000\n",
       "max      2337.166667\n",
       "Name: MoneyPerMonth, dtype: float64"
      ]
     },
     "execution_count": 121,
     "metadata": {},
     "output_type": "execute_result"
    }
   ],
   "source": [
    "canada = clean_four_countries[(clean_four_countries.CountryLive == 'Canada') & (\n",
    "clean_four_countries.MoneyPerMonth < 5000)].MoneyPerMonth\n",
    "canada.describe()"
   ]
  },
  {
   "cell_type": "code",
   "execution_count": 122,
   "metadata": {},
   "outputs": [
    {
     "data": {
      "text/plain": [
       "<matplotlib.axes._subplots.AxesSubplot at 0x7f3118bf8080>"
      ]
     },
     "execution_count": 122,
     "metadata": {},
     "output_type": "execute_result"
    },
    {
     "data": {
      "image/png": "[encoded data removed]",
      "text/plain": [
       "<Figure size 432x288 with 1 Axes>"
      ]
     },
     "metadata": {
      "needs_background": "light"
     },
     "output_type": "display_data"
    }
   ],
   "source": [
    "canada.plot.box()"
   ]
  },
  {
   "cell_type": "code",
   "execution_count": 124,
   "metadata": {},
   "outputs": [
    {
     "data": {
      "text/plain": [
       "<matplotlib.legend.Legend at 0x7f3118a95da0>"
      ]
     },
     "execution_count": 124,
     "metadata": {},
     "output_type": "execute_result"
    },
    {
     "data": {
      "image/png": "[encoded data removed]",
      "text/plain": [
       "<Figure size 432x288 with 1 Axes>"
      ]
     },
     "metadata": {
      "needs_background": "light"
     },
     "output_type": "display_data"
    }
   ],
   "source": [
    "india.plot.hist(alpha = 0.3, label = 'India')\n",
    "plt.axvline(india.mean(), color = 'Blue')\n",
    "uk.plot.hist(alpha = 0.3, label = 'UK')\n",
    "plt.axvline(uk.mean(), color = 'Orange')\n",
    "canada.plot.hist(alpha = 0.3, label = 'Canada')\n",
    "plt.axvline(canada.mean(), color = 'Green')\n",
    "plt.xlim(0, 500)\n",
    "plt.legend()"
   ]
  },
  {
   "cell_type": "markdown",
   "metadata": {},
   "source": [
    "## After eliminate extreme ourliers, mean of UK and Canada are higher than India as expected."
   ]
  },
  {
   "cell_type": "code",
   "execution_count": 127,
   "metadata": {},
   "outputs": [
    {
     "name": "stdout",
     "output_type": "stream",
     "text": [
      "count     457.000000\n",
      "mean       65.758763\n",
      "std       233.452738\n",
      "min         0.000000\n",
      "25%         0.000000\n",
      "50%         0.000000\n",
      "75%        12.500000\n",
      "max      2000.000000\n",
      "Name: MoneyPerMonth, dtype: float64\n",
      "************\n",
      "count     279.000000\n",
      "mean       45.534443\n",
      "std       162.311836\n",
      "min         0.000000\n",
      "25%         0.000000\n",
      "50%         0.000000\n",
      "75%        20.416667\n",
      "max      1400.000000\n",
      "Name: MoneyPerMonth, dtype: float64\n",
      "************\n",
      "count     239.000000\n",
      "mean       93.065400\n",
      "std       307.512802\n",
      "min         0.000000\n",
      "25%         0.000000\n",
      "50%         0.000000\n",
      "75%        25.000000\n",
      "max      2337.166667\n",
      "Name: MoneyPerMonth, dtype: float64\n"
     ]
    }
   ],
   "source": [
    "print(india.describe())\n",
    "print('*' * 12)\n",
    "print(uk.describe())\n",
    "print('*' * 12)\n",
    "print(canada.describe())"
   ]
  },
  {
   "cell_type": "markdown",
   "metadata": {},
   "source": [
    "\n",
    "***\n",
    "In this project, we analyzed survey data from new coders to find the best two markets to advertise in. The only solid conclusion we reached is that the US would be a good market to advertise in.\n",
    "\n",
    "For the second best market, it wasn't clear-cut what to choose between India and Canada. We decided to send the results to the marketing team so they can use their domain knowledge to take the best decision.\n",
    "\n",
    "You might have reached different conclusions, which is totally fine, as long as you constructed a sound reasoning for those conclusions. Try to wrap up your work by writing a conclusion section that has no more than two paragraphs.\n",
    "\n",
    "You can also continue working on this project. Next steps include:\n",
    "\n",
    "    Finding other criteria for choosing the best market.\n",
    "    Analyzing other data sets:\n",
    "        freeCodeCamp's 2016 New Coders Survey.\n",
    "        Stack Overflow 2018 Developer Survey.\n",
    "    Improving your project from a stylistical point of view by following the guidelines discussed in this style guide.\n"
   ]
  },
  {
   "cell_type": "code",
   "execution_count": null,
   "metadata": {},
   "outputs": [],
   "source": []
  }
 ],
 "metadata": {
  "kernelspec": {
   "display_name": "Python 3",
   "language": "python",
   "name": "python3"
  },
  "language_info": {
   "codemirror_mode": {
    "name": "ipython",
    "version": 3
   },
   "file_extension": ".py",
   "mimetype": "text/x-python",
   "name": "python",
   "nbconvert_exporter": "python",
   "pygments_lexer": "ipython3",
   "version": "3.7.0"
  }
 },
 "nbformat": 4,
 "nbformat_minor": 4
}
