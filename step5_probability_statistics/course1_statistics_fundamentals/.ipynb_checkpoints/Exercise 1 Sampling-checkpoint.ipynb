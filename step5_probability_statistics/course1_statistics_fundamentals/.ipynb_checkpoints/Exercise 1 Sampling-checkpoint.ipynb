{
 "cells": [
  {
   "cell_type": "markdown",
   "metadata": {},
   "source": [
    "## Population: The set of all individuals relevant to a particular statistical question\n",
    "## Sample: A smaller group selected from a population. When we do select a smaller group from a population we do sampling. \n",
    "* Sampling error: There's almost always some difference between the metrics of a population and the metrics of a sample. It's the result of sampling.\n",
    "* A metric specific to a population is called a paramter, while one specific to a sample is called a statistic.\n",
    "* sampling error = parameter - statistic"
   ]
  },
  {
   "cell_type": "code",
   "execution_count": null,
   "metadata": {},
   "outputs": [],
   "source": []
  }
 ],
 "metadata": {
  "kernelspec": {
   "display_name": "Python 3",
   "language": "python",
   "name": "python3"
  },
  "language_info": {
   "codemirror_mode": {
    "name": "ipython",
    "version": 3
   },
   "file_extension": ".py",
   "mimetype": "text/x-python",
   "name": "python",
   "nbconvert_exporter": "python",
   "pygments_lexer": "ipython3",
   "version": "3.7.0"
  }
 },
 "nbformat": 4,
 "nbformat_minor": 4
}
